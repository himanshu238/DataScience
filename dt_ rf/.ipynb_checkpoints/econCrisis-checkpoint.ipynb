{
 "cells": [
  {
   "cell_type": "code",
   "execution_count": 1,
   "metadata": {},
   "outputs": [],
   "source": [
    "import numpy as np\n",
    "import pandas as pd\n",
    "import matplotlib.pyplot as plt\n",
    "import seaborn as sns\n",
    "%matplotlib inline"
   ]
  },
  {
   "cell_type": "code",
   "execution_count": 2,
   "metadata": {},
   "outputs": [],
   "source": [
    "data = pd.read_csv('african_econ_crises.csv')"
   ]
  },
  {
   "cell_type": "code",
   "execution_count": 3,
   "metadata": {},
   "outputs": [
    {
     "data": {
      "text/html": [
       "<div>\n",
       "<style scoped>\n",
       "    .dataframe tbody tr th:only-of-type {\n",
       "        vertical-align: middle;\n",
       "    }\n",
       "\n",
       "    .dataframe tbody tr th {\n",
       "        vertical-align: top;\n",
       "    }\n",
       "\n",
       "    .dataframe thead th {\n",
       "        text-align: right;\n",
       "    }\n",
       "</style>\n",
       "<table border=\"1\" class=\"dataframe\">\n",
       "  <thead>\n",
       "    <tr style=\"text-align: right;\">\n",
       "      <th></th>\n",
       "      <th>case</th>\n",
       "      <th>cc3</th>\n",
       "      <th>country</th>\n",
       "      <th>year</th>\n",
       "      <th>systemic_crisis</th>\n",
       "      <th>exch_usd</th>\n",
       "      <th>domestic_debt_in_default</th>\n",
       "      <th>sovereign_external_debt_default</th>\n",
       "      <th>gdp_weighted_default</th>\n",
       "      <th>inflation_annual_cpi</th>\n",
       "      <th>independence</th>\n",
       "      <th>currency_crises</th>\n",
       "      <th>inflation_crises</th>\n",
       "      <th>banking_crisis</th>\n",
       "    </tr>\n",
       "  </thead>\n",
       "  <tbody>\n",
       "    <tr>\n",
       "      <th>0</th>\n",
       "      <td>1</td>\n",
       "      <td>DZA</td>\n",
       "      <td>Algeria</td>\n",
       "      <td>1870</td>\n",
       "      <td>1</td>\n",
       "      <td>0.052264</td>\n",
       "      <td>0</td>\n",
       "      <td>0</td>\n",
       "      <td>0.0</td>\n",
       "      <td>3.441456</td>\n",
       "      <td>0</td>\n",
       "      <td>0</td>\n",
       "      <td>0</td>\n",
       "      <td>crisis</td>\n",
       "    </tr>\n",
       "    <tr>\n",
       "      <th>1</th>\n",
       "      <td>1</td>\n",
       "      <td>DZA</td>\n",
       "      <td>Algeria</td>\n",
       "      <td>1871</td>\n",
       "      <td>0</td>\n",
       "      <td>0.052798</td>\n",
       "      <td>0</td>\n",
       "      <td>0</td>\n",
       "      <td>0.0</td>\n",
       "      <td>14.149140</td>\n",
       "      <td>0</td>\n",
       "      <td>0</td>\n",
       "      <td>0</td>\n",
       "      <td>no_crisis</td>\n",
       "    </tr>\n",
       "    <tr>\n",
       "      <th>2</th>\n",
       "      <td>1</td>\n",
       "      <td>DZA</td>\n",
       "      <td>Algeria</td>\n",
       "      <td>1872</td>\n",
       "      <td>0</td>\n",
       "      <td>0.052274</td>\n",
       "      <td>0</td>\n",
       "      <td>0</td>\n",
       "      <td>0.0</td>\n",
       "      <td>-3.718593</td>\n",
       "      <td>0</td>\n",
       "      <td>0</td>\n",
       "      <td>0</td>\n",
       "      <td>no_crisis</td>\n",
       "    </tr>\n",
       "    <tr>\n",
       "      <th>3</th>\n",
       "      <td>1</td>\n",
       "      <td>DZA</td>\n",
       "      <td>Algeria</td>\n",
       "      <td>1873</td>\n",
       "      <td>0</td>\n",
       "      <td>0.051680</td>\n",
       "      <td>0</td>\n",
       "      <td>0</td>\n",
       "      <td>0.0</td>\n",
       "      <td>11.203897</td>\n",
       "      <td>0</td>\n",
       "      <td>0</td>\n",
       "      <td>0</td>\n",
       "      <td>no_crisis</td>\n",
       "    </tr>\n",
       "    <tr>\n",
       "      <th>4</th>\n",
       "      <td>1</td>\n",
       "      <td>DZA</td>\n",
       "      <td>Algeria</td>\n",
       "      <td>1874</td>\n",
       "      <td>0</td>\n",
       "      <td>0.051308</td>\n",
       "      <td>0</td>\n",
       "      <td>0</td>\n",
       "      <td>0.0</td>\n",
       "      <td>-3.848561</td>\n",
       "      <td>0</td>\n",
       "      <td>0</td>\n",
       "      <td>0</td>\n",
       "      <td>no_crisis</td>\n",
       "    </tr>\n",
       "  </tbody>\n",
       "</table>\n",
       "</div>"
      ],
      "text/plain": [
       "   case  cc3  country  year  systemic_crisis  exch_usd  \\\n",
       "0     1  DZA  Algeria  1870                1  0.052264   \n",
       "1     1  DZA  Algeria  1871                0  0.052798   \n",
       "2     1  DZA  Algeria  1872                0  0.052274   \n",
       "3     1  DZA  Algeria  1873                0  0.051680   \n",
       "4     1  DZA  Algeria  1874                0  0.051308   \n",
       "\n",
       "   domestic_debt_in_default  sovereign_external_debt_default  \\\n",
       "0                         0                                0   \n",
       "1                         0                                0   \n",
       "2                         0                                0   \n",
       "3                         0                                0   \n",
       "4                         0                                0   \n",
       "\n",
       "   gdp_weighted_default  inflation_annual_cpi  independence  currency_crises  \\\n",
       "0                   0.0              3.441456             0                0   \n",
       "1                   0.0             14.149140             0                0   \n",
       "2                   0.0             -3.718593             0                0   \n",
       "3                   0.0             11.203897             0                0   \n",
       "4                   0.0             -3.848561             0                0   \n",
       "\n",
       "   inflation_crises banking_crisis  \n",
       "0                 0         crisis  \n",
       "1                 0      no_crisis  \n",
       "2                 0      no_crisis  \n",
       "3                 0      no_crisis  \n",
       "4                 0      no_crisis  "
      ]
     },
     "execution_count": 3,
     "metadata": {},
     "output_type": "execute_result"
    }
   ],
   "source": [
    "data.head()"
   ]
  },
  {
   "cell_type": "code",
   "execution_count": 4,
   "metadata": {},
   "outputs": [
    {
     "data": {
      "text/plain": [
       "(1059, 14)"
      ]
     },
     "execution_count": 4,
     "metadata": {},
     "output_type": "execute_result"
    }
   ],
   "source": [
    "data.shape"
   ]
  },
  {
   "cell_type": "code",
   "execution_count": 5,
   "metadata": {},
   "outputs": [
    {
     "name": "stdout",
     "output_type": "stream",
     "text": [
      "<class 'pandas.core.frame.DataFrame'>\n",
      "RangeIndex: 1059 entries, 0 to 1058\n",
      "Data columns (total 14 columns):\n",
      " #   Column                           Non-Null Count  Dtype  \n",
      "---  ------                           --------------  -----  \n",
      " 0   case                             1059 non-null   int64  \n",
      " 1   cc3                              1059 non-null   object \n",
      " 2   country                          1059 non-null   object \n",
      " 3   year                             1059 non-null   int64  \n",
      " 4   systemic_crisis                  1059 non-null   int64  \n",
      " 5   exch_usd                         1059 non-null   float64\n",
      " 6   domestic_debt_in_default         1059 non-null   int64  \n",
      " 7   sovereign_external_debt_default  1059 non-null   int64  \n",
      " 8   gdp_weighted_default             1059 non-null   float64\n",
      " 9   inflation_annual_cpi             1059 non-null   float64\n",
      " 10  independence                     1059 non-null   int64  \n",
      " 11  currency_crises                  1059 non-null   int64  \n",
      " 12  inflation_crises                 1059 non-null   int64  \n",
      " 13  banking_crisis                   1059 non-null   object \n",
      "dtypes: float64(3), int64(8), object(3)\n",
      "memory usage: 116.0+ KB\n"
     ]
    }
   ],
   "source": [
    "data.info()"
   ]
  },
  {
   "cell_type": "code",
   "execution_count": 6,
   "metadata": {},
   "outputs": [],
   "source": [
    "# plt.figure(figsize=(12,6),dpi=120)\n",
    "# sns.heatmap(data.isnull(),yticklabels=False,cbar=False)\n",
    "# plt.show()"
   ]
  },
  {
   "cell_type": "code",
   "execution_count": 7,
   "metadata": {},
   "outputs": [
    {
     "name": "stdout",
     "output_type": "stream",
     "text": [
      " In cc3 column:\n",
      "['DZA' 'AGO' 'CAF' 'CIV' 'EGY' 'KEN' 'MUS' 'MAR' 'NGA' 'ZAF' 'TUN' 'ZMB'\n",
      " 'ZWE']\n",
      "\n",
      " In country column:\n",
      "['Algeria' 'Angola' 'Central African Republic' 'Ivory Coast' 'Egypt'\n",
      " 'Kenya' 'Mauritius' 'Morocco' 'Nigeria' 'South Africa' 'Tunisia' 'Zambia'\n",
      " 'Zimbabwe']\n",
      "\n",
      " In systemic_crisis column:\n",
      "[1 0]\n",
      "\n",
      " In domestic_debt_in_default column:\n",
      "[0 1]\n",
      "\n",
      " In sovereign_external_debt_default column:\n",
      "[0 1]\n",
      "\n",
      " In independence column:\n",
      "[0 1]\n",
      "\n",
      " In currency_crises column:\n",
      "[0 1 2]\n",
      "\n",
      " In inflation_crises column:\n",
      "[0 1]\n",
      "\n",
      " In banking_crisis column:\n",
      "['crisis' 'no_crisis']\n",
      "\n"
     ]
    }
   ],
   "source": [
    "arr =['cc3','country','systemic_crisis','domestic_debt_in_default','sovereign_external_debt_default',\n",
    "      'independence','currency_crises','inflation_crises','banking_crisis']\n",
    "\n",
    "for i in arr:\n",
    "    print(f' In {i} column:')\n",
    "    print(data[i].unique())\n",
    "    print()"
   ]
  },
  {
   "cell_type": "code",
   "execution_count": 8,
   "metadata": {},
   "outputs": [],
   "source": [
    "data.currency_crises.replace(2,1,inplace=True)"
   ]
  },
  {
   "cell_type": "code",
   "execution_count": 9,
   "metadata": {},
   "outputs": [],
   "source": [
    "b = data.banking_crisis.copy()"
   ]
  },
  {
   "cell_type": "code",
   "execution_count": 10,
   "metadata": {},
   "outputs": [],
   "source": [
    "a=[]\n",
    "ze=0\n",
    "be=0\n",
    "for i in b:\n",
    "    if i=='crisis':\n",
    "        a.append(1)\n",
    "        ze+=1\n",
    "    else:\n",
    "        a.append(0)\n",
    "        be+=1"
   ]
  },
  {
   "cell_type": "code",
   "execution_count": 11,
   "metadata": {},
   "outputs": [
    {
     "name": "stdout",
     "output_type": "stream",
     "text": [
      "Crisis count: 94\n",
      "No Crisis count: 965\n"
     ]
    }
   ],
   "source": [
    "print('Crisis count:',ze)\n",
    "print('No Crisis count:',be)"
   ]
  },
  {
   "cell_type": "code",
   "execution_count": 12,
   "metadata": {},
   "outputs": [],
   "source": [
    "a = np.array(a)"
   ]
  },
  {
   "cell_type": "code",
   "execution_count": 13,
   "metadata": {},
   "outputs": [],
   "source": [
    "a = pd.DataFrame(a,columns=['target_cpy'])"
   ]
  },
  {
   "cell_type": "code",
   "execution_count": 14,
   "metadata": {},
   "outputs": [],
   "source": [
    "data = pd.concat([data,a],axis =1)"
   ]
  },
  {
   "cell_type": "code",
   "execution_count": 15,
   "metadata": {},
   "outputs": [
    {
     "data": {
      "text/plain": [
       "Index(['case', 'cc3', 'country', 'year', 'systemic_crisis', 'exch_usd',\n",
       "       'domestic_debt_in_default', 'sovereign_external_debt_default',\n",
       "       'gdp_weighted_default', 'inflation_annual_cpi', 'independence',\n",
       "       'currency_crises', 'inflation_crises', 'banking_crisis', 'target_cpy'],\n",
       "      dtype='object')"
      ]
     },
     "execution_count": 15,
     "metadata": {},
     "output_type": "execute_result"
    }
   ],
   "source": [
    "data.columns"
   ]
  },
  {
   "cell_type": "code",
   "execution_count": 16,
   "metadata": {},
   "outputs": [
    {
     "data": {
      "image/png": "[encoded data removed]",
      "text/plain": [
       "<Figure size 1440x720 with 2 Axes>"
      ]
     },
     "metadata": {
      "needs_background": "light"
     },
     "output_type": "display_data"
    }
   ],
   "source": [
    "corr = data.corr()\n",
    "\n",
    "mask = np.triu(np.ones_like(corr,dtype=bool))\n",
    "\n",
    "plt.figure(figsize=(12,6),dpi = 120)\n",
    "sns.heatmap(data.corr(),annot=True,cmap='viridis',mask=mask)\n",
    "plt.show()"
   ]
  },
  {
   "cell_type": "code",
   "execution_count": 17,
   "metadata": {},
   "outputs": [],
   "source": [
    "data.drop(['case','gdp_weighted_default','inflation_annual_cpi'],axis=1,inplace=True)\n",
    "#These feature are not that important"
   ]
  },
  {
   "cell_type": "code",
   "execution_count": 18,
   "metadata": {},
   "outputs": [
    {
     "data": {
      "text/html": [
       "<div>\n",
       "<style scoped>\n",
       "    .dataframe tbody tr th:only-of-type {\n",
       "        vertical-align: middle;\n",
       "    }\n",
       "\n",
       "    .dataframe tbody tr th {\n",
       "        vertical-align: top;\n",
       "    }\n",
       "\n",
       "    .dataframe thead th {\n",
       "        text-align: right;\n",
       "    }\n",
       "</style>\n",
       "<table border=\"1\" class=\"dataframe\">\n",
       "  <thead>\n",
       "    <tr style=\"text-align: right;\">\n",
       "      <th></th>\n",
       "      <th>cc3</th>\n",
       "      <th>country</th>\n",
       "      <th>year</th>\n",
       "      <th>systemic_crisis</th>\n",
       "      <th>exch_usd</th>\n",
       "      <th>domestic_debt_in_default</th>\n",
       "      <th>sovereign_external_debt_default</th>\n",
       "      <th>independence</th>\n",
       "      <th>currency_crises</th>\n",
       "      <th>inflation_crises</th>\n",
       "      <th>banking_crisis</th>\n",
       "      <th>target_cpy</th>\n",
       "    </tr>\n",
       "  </thead>\n",
       "  <tbody>\n",
       "    <tr>\n",
       "      <th>0</th>\n",
       "      <td>DZA</td>\n",
       "      <td>Algeria</td>\n",
       "      <td>1870</td>\n",
       "      <td>1</td>\n",
       "      <td>0.052264</td>\n",
       "      <td>0</td>\n",
       "      <td>0</td>\n",
       "      <td>0</td>\n",
       "      <td>0</td>\n",
       "      <td>0</td>\n",
       "      <td>crisis</td>\n",
       "      <td>1</td>\n",
       "    </tr>\n",
       "    <tr>\n",
       "      <th>1</th>\n",
       "      <td>DZA</td>\n",
       "      <td>Algeria</td>\n",
       "      <td>1871</td>\n",
       "      <td>0</td>\n",
       "      <td>0.052798</td>\n",
       "      <td>0</td>\n",
       "      <td>0</td>\n",
       "      <td>0</td>\n",
       "      <td>0</td>\n",
       "      <td>0</td>\n",
       "      <td>no_crisis</td>\n",
       "      <td>0</td>\n",
       "    </tr>\n",
       "    <tr>\n",
       "      <th>2</th>\n",
       "      <td>DZA</td>\n",
       "      <td>Algeria</td>\n",
       "      <td>1872</td>\n",
       "      <td>0</td>\n",
       "      <td>0.052274</td>\n",
       "      <td>0</td>\n",
       "      <td>0</td>\n",
       "      <td>0</td>\n",
       "      <td>0</td>\n",
       "      <td>0</td>\n",
       "      <td>no_crisis</td>\n",
       "      <td>0</td>\n",
       "    </tr>\n",
       "    <tr>\n",
       "      <th>3</th>\n",
       "      <td>DZA</td>\n",
       "      <td>Algeria</td>\n",
       "      <td>1873</td>\n",
       "      <td>0</td>\n",
       "      <td>0.051680</td>\n",
       "      <td>0</td>\n",
       "      <td>0</td>\n",
       "      <td>0</td>\n",
       "      <td>0</td>\n",
       "      <td>0</td>\n",
       "      <td>no_crisis</td>\n",
       "      <td>0</td>\n",
       "    </tr>\n",
       "    <tr>\n",
       "      <th>4</th>\n",
       "      <td>DZA</td>\n",
       "      <td>Algeria</td>\n",
       "      <td>1874</td>\n",
       "      <td>0</td>\n",
       "      <td>0.051308</td>\n",
       "      <td>0</td>\n",
       "      <td>0</td>\n",
       "      <td>0</td>\n",
       "      <td>0</td>\n",
       "      <td>0</td>\n",
       "      <td>no_crisis</td>\n",
       "      <td>0</td>\n",
       "    </tr>\n",
       "  </tbody>\n",
       "</table>\n",
       "</div>"
      ],
      "text/plain": [
       "   cc3  country  year  systemic_crisis  exch_usd  domestic_debt_in_default  \\\n",
       "0  DZA  Algeria  1870                1  0.052264                         0   \n",
       "1  DZA  Algeria  1871                0  0.052798                         0   \n",
       "2  DZA  Algeria  1872                0  0.052274                         0   \n",
       "3  DZA  Algeria  1873                0  0.051680                         0   \n",
       "4  DZA  Algeria  1874                0  0.051308                         0   \n",
       "\n",
       "   sovereign_external_debt_default  independence  currency_crises  \\\n",
       "0                                0             0                0   \n",
       "1                                0             0                0   \n",
       "2                                0             0                0   \n",
       "3                                0             0                0   \n",
       "4                                0             0                0   \n",
       "\n",
       "   inflation_crises banking_crisis  target_cpy  \n",
       "0                 0         crisis           1  \n",
       "1                 0      no_crisis           0  \n",
       "2                 0      no_crisis           0  \n",
       "3                 0      no_crisis           0  \n",
       "4                 0      no_crisis           0  "
      ]
     },
     "execution_count": 18,
     "metadata": {},
     "output_type": "execute_result"
    }
   ],
   "source": [
    "data.head()"
   ]
  },
  {
   "cell_type": "code",
   "execution_count": 19,
   "metadata": {},
   "outputs": [
    {
     "data": {
      "image/png": "[encoded data removed]",
      "text/plain": [
       "<Figure size 1519.25x1440 with 72 Axes>"
      ]
     },
     "metadata": {
      "needs_background": "light"
     },
     "output_type": "display_data"
    }
   ],
   "source": [
    "sns.pairplot(data.drop(['target_cpy'],axis=1),hue='banking_crisis',palette='coolwarm')\n",
    "plt.show()"
   ]
  },
  {
   "cell_type": "code",
   "execution_count": 20,
   "metadata": {},
   "outputs": [],
   "source": [
    "X = data.drop(['banking_crisis','target_cpy'],axis=1)"
   ]
  },
  {
   "cell_type": "code",
   "execution_count": 33,
   "metadata": {},
   "outputs": [],
   "source": [
    "from sklearn.preprocessing import LabelEncoder\n",
    "le = LabelEncoder()"
   ]
  },
  {
   "cell_type": "code",
   "execution_count": 36,
   "metadata": {},
   "outputs": [],
   "source": [
    "X.cc3 = le.fit_transform(X.cc3)"
   ]
  },
  {
   "cell_type": "code",
   "execution_count": 38,
   "metadata": {},
   "outputs": [],
   "source": [
    "X.country = le.fit_transform(X.country)"
   ]
  },
  {
   "cell_type": "code",
   "execution_count": 39,
   "metadata": {},
   "outputs": [],
   "source": [
    "y = data['banking_crisis']"
   ]
  },
  {
   "cell_type": "code",
   "execution_count": 40,
   "metadata": {},
   "outputs": [],
   "source": [
    "from sklearn.model_selection import train_test_split"
   ]
  },
  {
   "cell_type": "code",
   "execution_count": 41,
   "metadata": {},
   "outputs": [],
   "source": [
    "from sklearn.ensemble import RandomForestClassifier"
   ]
  },
  {
   "cell_type": "code",
   "execution_count": 42,
   "metadata": {},
   "outputs": [],
   "source": [
    " X_train, X_test, y_train, y_test = train_test_split(X, y, test_size=0.33, random_state=101)"
   ]
  },
  {
   "cell_type": "code",
   "execution_count": 43,
   "metadata": {},
   "outputs": [],
   "source": [
    "rfc = RandomForestClassifier()"
   ]
  },
  {
   "cell_type": "code",
   "execution_count": 44,
   "metadata": {},
   "outputs": [
    {
     "data": {
      "text/plain": [
       "RandomForestClassifier()"
      ]
     },
     "execution_count": 44,
     "metadata": {},
     "output_type": "execute_result"
    }
   ],
   "source": [
    "rfc.fit(X_train,y_train)"
   ]
  },
  {
   "cell_type": "code",
   "execution_count": 45,
   "metadata": {},
   "outputs": [],
   "source": [
    "y_pred = rfc.predict(X_test)"
   ]
  },
  {
   "cell_type": "code",
   "execution_count": 46,
   "metadata": {},
   "outputs": [],
   "source": [
    "from sklearn.metrics import classification_report,confusion_matrix"
   ]
  },
  {
   "cell_type": "code",
   "execution_count": 48,
   "metadata": {},
   "outputs": [
    {
     "name": "stdout",
     "output_type": "stream",
     "text": [
      "[[ 36   1]\n",
      " [  3 310]]\n",
      "              precision    recall  f1-score   support\n",
      "\n",
      "      crisis       0.92      0.97      0.95        37\n",
      "   no_crisis       1.00      0.99      0.99       313\n",
      "\n",
      "    accuracy                           0.99       350\n",
      "   macro avg       0.96      0.98      0.97       350\n",
      "weighted avg       0.99      0.99      0.99       350\n",
      "\n"
     ]
    }
   ],
   "source": [
    "print(confusion_matrix(y_test,y_pred))\n",
    "print(classification_report(y_test,y_pred))"
   ]
  },
  {
   "cell_type": "markdown",
   "metadata": {},
   "source": [
    "## Geographical Plot"
   ]
  },
  {
   "cell_type": "code",
   "execution_count": 49,
   "metadata": {},
   "outputs": [],
   "source": [
    "import plotly.express as px\n",
    "from plotly.offline import download_plotlyjs,init_notebook_mode,iplot"
   ]
  },
  {
   "cell_type": "code",
   "execution_count": 50,
   "metadata": {},
   "outputs": [
    {
     "data": {
      "text/html": [
       "        <script type=\"text/javascript\">\n",
       "        window.PlotlyConfig = {MathJaxConfig: 'local'};\n",
       "        if (window.MathJax) {MathJax.Hub.Config({SVG: {font: \"STIX-Web\"}});}\n",
       "        if (typeof require !== 'undefined') {\n",
       "        require.undef(\"plotly\");\n",
       "        requirejs.config({\n",
       "            paths: {\n",
       "                'plotly': ['https://cdn.plot.ly/plotly-2.1.0.min']\n",
       "            }\n",
       "        });\n",
       "        require(['plotly'], function(Plotly) {\n",
       "            window._Plotly = Plotly;\n",
       "        });\n",
       "        }\n",
       "        </script>\n",
       "        "
      ]
     },
     "metadata": {},
     "output_type": "display_data"
    }
   ],
   "source": [
    "init_notebook_mode(connected=True)"
   ]
  },
  {
   "cell_type": "code",
   "execution_count": 57,
   "metadata": {},
   "outputs": [
    {
     "data": {
      "text/html": [
       "<div>\n",
       "<style scoped>\n",
       "    .dataframe tbody tr th:only-of-type {\n",
       "        vertical-align: middle;\n",
       "    }\n",
       "\n",
       "    .dataframe tbody tr th {\n",
       "        vertical-align: top;\n",
       "    }\n",
       "\n",
       "    .dataframe thead th {\n",
       "        text-align: right;\n",
       "    }\n",
       "</style>\n",
       "<table border=\"1\" class=\"dataframe\">\n",
       "  <thead>\n",
       "    <tr style=\"text-align: right;\">\n",
       "      <th></th>\n",
       "      <th>cc3</th>\n",
       "      <th>country</th>\n",
       "      <th>year</th>\n",
       "      <th>systemic_crisis</th>\n",
       "      <th>exch_usd</th>\n",
       "      <th>domestic_debt_in_default</th>\n",
       "      <th>sovereign_external_debt_default</th>\n",
       "      <th>independence</th>\n",
       "      <th>currency_crises</th>\n",
       "      <th>inflation_crises</th>\n",
       "      <th>banking_crisis</th>\n",
       "    </tr>\n",
       "  </thead>\n",
       "  <tbody>\n",
       "    <tr>\n",
       "      <th>0</th>\n",
       "      <td>DZA</td>\n",
       "      <td>Algeria</td>\n",
       "      <td>1870</td>\n",
       "      <td>1</td>\n",
       "      <td>0.052264</td>\n",
       "      <td>0</td>\n",
       "      <td>0</td>\n",
       "      <td>0</td>\n",
       "      <td>0</td>\n",
       "      <td>0</td>\n",
       "      <td>crisis</td>\n",
       "    </tr>\n",
       "    <tr>\n",
       "      <th>1</th>\n",
       "      <td>DZA</td>\n",
       "      <td>Algeria</td>\n",
       "      <td>1871</td>\n",
       "      <td>0</td>\n",
       "      <td>0.052798</td>\n",
       "      <td>0</td>\n",
       "      <td>0</td>\n",
       "      <td>0</td>\n",
       "      <td>0</td>\n",
       "      <td>0</td>\n",
       "      <td>no_crisis</td>\n",
       "    </tr>\n",
       "    <tr>\n",
       "      <th>2</th>\n",
       "      <td>DZA</td>\n",
       "      <td>Algeria</td>\n",
       "      <td>1872</td>\n",
       "      <td>0</td>\n",
       "      <td>0.052274</td>\n",
       "      <td>0</td>\n",
       "      <td>0</td>\n",
       "      <td>0</td>\n",
       "      <td>0</td>\n",
       "      <td>0</td>\n",
       "      <td>no_crisis</td>\n",
       "    </tr>\n",
       "    <tr>\n",
       "      <th>3</th>\n",
       "      <td>DZA</td>\n",
       "      <td>Algeria</td>\n",
       "      <td>1873</td>\n",
       "      <td>0</td>\n",
       "      <td>0.051680</td>\n",
       "      <td>0</td>\n",
       "      <td>0</td>\n",
       "      <td>0</td>\n",
       "      <td>0</td>\n",
       "      <td>0</td>\n",
       "      <td>no_crisis</td>\n",
       "    </tr>\n",
       "    <tr>\n",
       "      <th>4</th>\n",
       "      <td>DZA</td>\n",
       "      <td>Algeria</td>\n",
       "      <td>1874</td>\n",
       "      <td>0</td>\n",
       "      <td>0.051308</td>\n",
       "      <td>0</td>\n",
       "      <td>0</td>\n",
       "      <td>0</td>\n",
       "      <td>0</td>\n",
       "      <td>0</td>\n",
       "      <td>no_crisis</td>\n",
       "    </tr>\n",
       "    <tr>\n",
       "      <th>...</th>\n",
       "      <td>...</td>\n",
       "      <td>...</td>\n",
       "      <td>...</td>\n",
       "      <td>...</td>\n",
       "      <td>...</td>\n",
       "      <td>...</td>\n",
       "      <td>...</td>\n",
       "      <td>...</td>\n",
       "      <td>...</td>\n",
       "      <td>...</td>\n",
       "      <td>...</td>\n",
       "    </tr>\n",
       "    <tr>\n",
       "      <th>1054</th>\n",
       "      <td>ZWE</td>\n",
       "      <td>Zimbabwe</td>\n",
       "      <td>2009</td>\n",
       "      <td>1</td>\n",
       "      <td>354.800000</td>\n",
       "      <td>1</td>\n",
       "      <td>1</td>\n",
       "      <td>1</td>\n",
       "      <td>1</td>\n",
       "      <td>0</td>\n",
       "      <td>crisis</td>\n",
       "    </tr>\n",
       "    <tr>\n",
       "      <th>1055</th>\n",
       "      <td>ZWE</td>\n",
       "      <td>Zimbabwe</td>\n",
       "      <td>2010</td>\n",
       "      <td>0</td>\n",
       "      <td>378.200000</td>\n",
       "      <td>1</td>\n",
       "      <td>1</td>\n",
       "      <td>1</td>\n",
       "      <td>0</td>\n",
       "      <td>0</td>\n",
       "      <td>no_crisis</td>\n",
       "    </tr>\n",
       "    <tr>\n",
       "      <th>1056</th>\n",
       "      <td>ZWE</td>\n",
       "      <td>Zimbabwe</td>\n",
       "      <td>2011</td>\n",
       "      <td>0</td>\n",
       "      <td>361.900000</td>\n",
       "      <td>1</td>\n",
       "      <td>1</td>\n",
       "      <td>1</td>\n",
       "      <td>0</td>\n",
       "      <td>0</td>\n",
       "      <td>no_crisis</td>\n",
       "    </tr>\n",
       "    <tr>\n",
       "      <th>1057</th>\n",
       "      <td>ZWE</td>\n",
       "      <td>Zimbabwe</td>\n",
       "      <td>2012</td>\n",
       "      <td>0</td>\n",
       "      <td>361.900000</td>\n",
       "      <td>1</td>\n",
       "      <td>1</td>\n",
       "      <td>1</td>\n",
       "      <td>0</td>\n",
       "      <td>0</td>\n",
       "      <td>no_crisis</td>\n",
       "    </tr>\n",
       "    <tr>\n",
       "      <th>1058</th>\n",
       "      <td>ZWE</td>\n",
       "      <td>Zimbabwe</td>\n",
       "      <td>2013</td>\n",
       "      <td>0</td>\n",
       "      <td>361.900000</td>\n",
       "      <td>1</td>\n",
       "      <td>1</td>\n",
       "      <td>1</td>\n",
       "      <td>0</td>\n",
       "      <td>0</td>\n",
       "      <td>no_crisis</td>\n",
       "    </tr>\n",
       "  </tbody>\n",
       "</table>\n",
       "<p>1059 rows × 11 columns</p>\n",
       "</div>"
      ],
      "text/plain": [
       "      cc3   country  year  systemic_crisis    exch_usd  \\\n",
       "0     DZA   Algeria  1870                1    0.052264   \n",
       "1     DZA   Algeria  1871                0    0.052798   \n",
       "2     DZA   Algeria  1872                0    0.052274   \n",
       "3     DZA   Algeria  1873                0    0.051680   \n",
       "4     DZA   Algeria  1874                0    0.051308   \n",
       "...   ...       ...   ...              ...         ...   \n",
       "1054  ZWE  Zimbabwe  2009                1  354.800000   \n",
       "1055  ZWE  Zimbabwe  2010                0  378.200000   \n",
       "1056  ZWE  Zimbabwe  2011                0  361.900000   \n",
       "1057  ZWE  Zimbabwe  2012                0  361.900000   \n",
       "1058  ZWE  Zimbabwe  2013                0  361.900000   \n",
       "\n",
       "      domestic_debt_in_default  sovereign_external_debt_default  independence  \\\n",
       "0                            0                                0             0   \n",
       "1                            0                                0             0   \n",
       "2                            0                                0             0   \n",
       "3                            0                                0             0   \n",
       "4                            0                                0             0   \n",
       "...                        ...                              ...           ...   \n",
       "1054                         1                                1             1   \n",
       "1055                         1                                1             1   \n",
       "1056                         1                                1             1   \n",
       "1057                         1                                1             1   \n",
       "1058                         1                                1             1   \n",
       "\n",
       "      currency_crises  inflation_crises banking_crisis  \n",
       "0                   0                 0         crisis  \n",
       "1                   0                 0      no_crisis  \n",
       "2                   0                 0      no_crisis  \n",
       "3                   0                 0      no_crisis  \n",
       "4                   0                 0      no_crisis  \n",
       "...               ...               ...            ...  \n",
       "1054                1                 0         crisis  \n",
       "1055                0                 0      no_crisis  \n",
       "1056                0                 0      no_crisis  \n",
       "1057                0                 0      no_crisis  \n",
       "1058                0                 0      no_crisis  \n",
       "\n",
       "[1059 rows x 11 columns]"
      ]
     },
     "execution_count": 57,
     "metadata": {},
     "output_type": "execute_result"
    }
   ],
   "source": [
    "dat1 = data.copy()\n",
    "dat1.drop(['target_cpy'],axis=1,inplace=True)\n",
    "dat1"
   ]
  },
  {
   "cell_type": "code",
   "execution_count": 63,
   "metadata": {},
   "outputs": [
    {
     "data": {
      "application/vnd.plotly.v1+json": {
       "config": {
        "plotlyServerURL": "https://plot.ly"
       },
       "data": [
        {
         "coloraxis": "coloraxis",
         "customdata": [
          [
           0,
           0,
           "crisis"
          ],
          [
           0,
           0,
           "no_crisis"
          ]
         ],
         "geo": "geo",
         "hovertemplate": "<b>%{hovertext}</b><br><br>year=1870<br>country=%{location}<br>currency_crises=%{customdata[0]}<br>inflation_crises=%{customdata[1]}<br>banking_crisis=%{customdata[2]}<br>systemic_crisis=%{z}<extra></extra>",
         "hovertext": [
          "Algeria",
          "Egypt"
         ],
         "locationmode": "country names",
         "locations": [
          "Algeria",
          "Egypt"
         ],
         "name": "",
         "type": "choropleth",
         "z": [
          1,
          0
         ]
        }
       ],
       "frames": [
        {
         "data": [
          {
           "coloraxis": "coloraxis",
           "customdata": [
            [
             0,
             0,
             "crisis"
            ],
            [
             0,
             0,
             "no_crisis"
            ]
           ],
           "geo": "geo",
           "hovertemplate": "<b>%{hovertext}</b><br><br>year=1870<br>country=%{location}<br>currency_crises=%{customdata[0]}<br>inflation_crises=%{customdata[1]}<br>banking_crisis=%{customdata[2]}<br>systemic_crisis=%{z}<extra></extra>",
           "hovertext": [
            "Algeria",
            "Egypt"
           ],
           "locationmode": "country names",
           "locations": [
            "Algeria",
            "Egypt"
           ],
           "name": "",
           "type": "choropleth",
           "z": [
            1,
            0
           ]
          }
         ],
         "name": "1870"
        },
        {
         "data": [
          {
           "coloraxis": "coloraxis",
           "customdata": [
            [
             0,
             0,
             "no_crisis"
            ],
            [
             0,
             0,
             "no_crisis"
            ]
           ],
           "geo": "geo",
           "hovertemplate": "<b>%{hovertext}</b><br><br>year=1871<br>country=%{location}<br>currency_crises=%{customdata[0]}<br>inflation_crises=%{customdata[1]}<br>banking_crisis=%{customdata[2]}<br>systemic_crisis=%{z}<extra></extra>",
           "hovertext": [
            "Algeria",
            "Egypt"
           ],
           "locationmode": "country names",
           "locations": [
            "Algeria",
            "Egypt"
           ],
           "name": "",
           "type": "choropleth",
           "z": [
            0,
            0
           ]
          }
         ],
         "name": "1871"
        },
        {
         "data": [
          {
           "coloraxis": "coloraxis",
           "customdata": [
            [
             0,
             0,
             "no_crisis"
            ],
            [
             0,
             0,
             "no_crisis"
            ]
           ],
           "geo": "geo",
           "hovertemplate": "<b>%{hovertext}</b><br><br>year=1872<br>country=%{location}<br>currency_crises=%{customdata[0]}<br>inflation_crises=%{customdata[1]}<br>banking_crisis=%{customdata[2]}<br>systemic_crisis=%{z}<extra></extra>",
           "hovertext": [
            "Algeria",
            "Egypt"
           ],
           "locationmode": "country names",
           "locations": [
            "Algeria",
            "Egypt"
           ],
           "name": "",
           "type": "choropleth",
           "z": [
            0,
            0
           ]
          }
         ],
         "name": "1872"
        },
        {
         "data": [
          {
           "coloraxis": "coloraxis",
           "customdata": [
            [
             0,
             0,
             "no_crisis"
            ],
            [
             0,
             0,
             "no_crisis"
            ]
           ],
           "geo": "geo",
           "hovertemplate": "<b>%{hovertext}</b><br><br>year=1873<br>country=%{location}<br>currency_crises=%{customdata[0]}<br>inflation_crises=%{customdata[1]}<br>banking_crisis=%{customdata[2]}<br>systemic_crisis=%{z}<extra></extra>",
           "hovertext": [
            "Algeria",
            "Egypt"
           ],
           "locationmode": "country names",
           "locations": [
            "Algeria",
            "Egypt"
           ],
           "name": "",
           "type": "choropleth",
           "z": [
            0,
            0
           ]
          }
         ],
         "name": "1873"
        },
        {
         "data": [
          {
           "coloraxis": "coloraxis",
           "customdata": [
            [
             0,
             0,
             "no_crisis"
            ],
            [
             0,
             0,
             "no_crisis"
            ]
           ],
           "geo": "geo",
           "hovertemplate": "<b>%{hovertext}</b><br><br>year=1874<br>country=%{location}<br>currency_crises=%{customdata[0]}<br>inflation_crises=%{customdata[1]}<br>banking_crisis=%{customdata[2]}<br>systemic_crisis=%{z}<extra></extra>",
           "hovertext": [
            "Algeria",
            "Egypt"
           ],
           "locationmode": "country names",
           "locations": [
            "Algeria",
            "Egypt"
           ],
           "name": "",
           "type": "choropleth",
           "z": [
            0,
            0
           ]
          }
         ],
         "name": "1874"
        },
        {
         "data": [
          {
           "coloraxis": "coloraxis",
           "customdata": [
            [
             0,
             0,
             "no_crisis"
            ],
            [
             0,
             0,
             "no_crisis"
            ]
           ],
           "geo": "geo",
           "hovertemplate": "<b>%{hovertext}</b><br><br>year=1875<br>country=%{location}<br>currency_crises=%{customdata[0]}<br>inflation_crises=%{customdata[1]}<br>banking_crisis=%{customdata[2]}<br>systemic_crisis=%{z}<extra></extra>",
           "hovertext": [
            "Algeria",
            "Egypt"
           ],
           "locationmode": "country names",
           "locations": [
            "Algeria",
            "Egypt"
           ],
           "name": "",
           "type": "choropleth",
           "z": [
            0,
            0
           ]
          }
         ],
         "name": "1875"
        },
        {
         "data": [
          {
           "coloraxis": "coloraxis",
           "customdata": [
            [
             0,
             0,
             "no_crisis"
            ],
            [
             0,
             0,
             "no_crisis"
            ]
           ],
           "geo": "geo",
           "hovertemplate": "<b>%{hovertext}</b><br><br>year=1876<br>country=%{location}<br>currency_crises=%{customdata[0]}<br>inflation_crises=%{customdata[1]}<br>banking_crisis=%{customdata[2]}<br>systemic_crisis=%{z}<extra></extra>",
           "hovertext": [
            "Algeria",
            "Egypt"
           ],
           "locationmode": "country names",
           "locations": [
            "Algeria",
            "Egypt"
           ],
           "name": "",
           "type": "choropleth",
           "z": [
            0,
            0
           ]
          }
         ],
         "name": "1876"
        },
        {
         "data": [
          {
           "coloraxis": "coloraxis",
           "customdata": [
            [
             0,
             1,
             "no_crisis"
            ],
            [
             0,
             0,
             "no_crisis"
            ]
           ],
           "geo": "geo",
           "hovertemplate": "<b>%{hovertext}</b><br><br>year=1877<br>country=%{location}<br>currency_crises=%{customdata[0]}<br>inflation_crises=%{customdata[1]}<br>banking_crisis=%{customdata[2]}<br>systemic_crisis=%{z}<extra></extra>",
           "hovertext": [
            "Algeria",
            "Egypt"
           ],
           "locationmode": "country names",
           "locations": [
            "Algeria",
            "Egypt"
           ],
           "name": "",
           "type": "choropleth",
           "z": [
            0,
            0
           ]
          }
         ],
         "name": "1877"
        },
        {
         "data": [
          {
           "coloraxis": "coloraxis",
           "customdata": [
            [
             0,
             0,
             "no_crisis"
            ],
            [
             0,
             0,
             "no_crisis"
            ]
           ],
           "geo": "geo",
           "hovertemplate": "<b>%{hovertext}</b><br><br>year=1878<br>country=%{location}<br>currency_crises=%{customdata[0]}<br>inflation_crises=%{customdata[1]}<br>banking_crisis=%{customdata[2]}<br>systemic_crisis=%{z}<extra></extra>",
           "hovertext": [
            "Algeria",
            "Egypt"
           ],
           "locationmode": "country names",
           "locations": [
            "Algeria",
            "Egypt"
           ],
           "name": "",
           "type": "choropleth",
           "z": [
            0,
            0
           ]
          }
         ],
         "name": "1878"
        },
        {
         "data": [
          {
           "coloraxis": "coloraxis",
           "customdata": [
            [
             0,
             0,
             "no_crisis"
            ],
            [
             0,
             0,
             "no_crisis"
            ]
           ],
           "geo": "geo",
           "hovertemplate": "<b>%{hovertext}</b><br><br>year=1879<br>country=%{location}<br>currency_crises=%{customdata[0]}<br>inflation_crises=%{customdata[1]}<br>banking_crisis=%{customdata[2]}<br>systemic_crisis=%{z}<extra></extra>",
           "hovertext": [
            "Algeria",
            "Egypt"
           ],
           "locationmode": "country names",
           "locations": [
            "Algeria",
            "Egypt"
           ],
           "name": "",
           "type": "choropleth",
           "z": [
            0,
            0
           ]
          }
         ],
         "name": "1879"
        },
        {
         "data": [
          {
           "coloraxis": "coloraxis",
           "customdata": [
            [
             0,
             0,
             "no_crisis"
            ],
            [
             0,
             0,
             "no_crisis"
            ]
           ],
           "geo": "geo",
           "hovertemplate": "<b>%{hovertext}</b><br><br>year=1880<br>country=%{location}<br>currency_crises=%{customdata[0]}<br>inflation_crises=%{customdata[1]}<br>banking_crisis=%{customdata[2]}<br>systemic_crisis=%{z}<extra></extra>",
           "hovertext": [
            "Algeria",
            "Egypt"
           ],
           "locationmode": "country names",
           "locations": [
            "Algeria",
            "Egypt"
           ],
           "name": "",
           "type": "choropleth",
           "z": [
            0,
            0
           ]
          }
         ],
         "name": "1880"
        },
        {
         "data": [
          {
           "coloraxis": "coloraxis",
           "customdata": [
            [
             0,
             0,
             "no_crisis"
            ],
            [
             0,
             0,
             "no_crisis"
            ]
           ],
           "geo": "geo",
           "hovertemplate": "<b>%{hovertext}</b><br><br>year=1881<br>country=%{location}<br>currency_crises=%{customdata[0]}<br>inflation_crises=%{customdata[1]}<br>banking_crisis=%{customdata[2]}<br>systemic_crisis=%{z}<extra></extra>",
           "hovertext": [
            "Algeria",
            "Egypt"
           ],
           "locationmode": "country names",
           "locations": [
            "Algeria",
            "Egypt"
           ],
           "name": "",
           "type": "choropleth",
           "z": [
            0,
            0
           ]
          }
         ],
         "name": "1881"
        },
        {
         "data": [
          {
           "coloraxis": "coloraxis",
           "customdata": [
            [
             0,
             0,
             "no_crisis"
            ],
            [
             0,
             0,
             "no_crisis"
            ]
           ],
           "geo": "geo",
           "hovertemplate": "<b>%{hovertext}</b><br><br>year=1882<br>country=%{location}<br>currency_crises=%{customdata[0]}<br>inflation_crises=%{customdata[1]}<br>banking_crisis=%{customdata[2]}<br>systemic_crisis=%{z}<extra></extra>",
           "hovertext": [
            "Algeria",
            "Egypt"
           ],
           "locationmode": "country names",
           "locations": [
            "Algeria",
            "Egypt"
           ],
           "name": "",
           "type": "choropleth",
           "z": [
            0,
            0
           ]
          }
         ],
         "name": "1882"
        },
        {
         "data": [
          {
           "coloraxis": "coloraxis",
           "customdata": [
            [
             0,
             0,
             "no_crisis"
            ],
            [
             0,
             0,
             "no_crisis"
            ]
           ],
           "geo": "geo",
           "hovertemplate": "<b>%{hovertext}</b><br><br>year=1883<br>country=%{location}<br>currency_crises=%{customdata[0]}<br>inflation_crises=%{customdata[1]}<br>banking_crisis=%{customdata[2]}<br>systemic_crisis=%{z}<extra></extra>",
           "hovertext": [
            "Algeria",
            "Egypt"
           ],
           "locationmode": "country names",
           "locations": [
            "Algeria",
            "Egypt"
           ],
           "name": "",
           "type": "choropleth",
           "z": [
            0,
            0
           ]
          }
         ],
         "name": "1883"
        },
        {
         "data": [
          {
           "coloraxis": "coloraxis",
           "customdata": [
            [
             0,
             0,
             "no_crisis"
            ],
            [
             0,
             0,
             "no_crisis"
            ]
           ],
           "geo": "geo",
           "hovertemplate": "<b>%{hovertext}</b><br><br>year=1884<br>country=%{location}<br>currency_crises=%{customdata[0]}<br>inflation_crises=%{customdata[1]}<br>banking_crisis=%{customdata[2]}<br>systemic_crisis=%{z}<extra></extra>",
           "hovertext": [
            "Algeria",
            "Egypt"
           ],
           "locationmode": "country names",
           "locations": [
            "Algeria",
            "Egypt"
           ],
           "name": "",
           "type": "choropleth",
           "z": [
            0,
            0
           ]
          }
         ],
         "name": "1884"
        },
        {
         "data": [
          {
           "coloraxis": "coloraxis",
           "customdata": [
            [
             0,
             0,
             "no_crisis"
            ],
            [
             0,
             0,
             "no_crisis"
            ],
            [
             0,
             0,
             "no_crisis"
            ],
            [
             0,
             0,
             "no_crisis"
            ],
            [
             0,
             0,
             "no_crisis"
            ]
           ],
           "geo": "geo",
           "hovertemplate": "<b>%{hovertext}</b><br><br>year=1939<br>country=%{location}<br>currency_crises=%{customdata[0]}<br>inflation_crises=%{customdata[1]}<br>banking_crisis=%{customdata[2]}<br>systemic_crisis=%{z}<extra></extra>",
           "hovertext": [
            "Algeria",
            "Angola",
            "Egypt",
            "South Africa",
            "Zimbabwe"
           ],
           "locationmode": "country names",
           "locations": [
            "Algeria",
            "Angola",
            "Egypt",
            "South Africa",
            "Zimbabwe"
           ],
           "name": "",
           "type": "choropleth",
           "z": [
            0,
            0,
            0,
            0,
            0
           ]
          }
         ],
         "name": "1939"
        },
        {
         "data": [
          {
           "coloraxis": "coloraxis",
           "customdata": [
            [
             0,
             1,
             "no_crisis"
            ],
            [
             0,
             0,
             "no_crisis"
            ],
            [
             0,
             0,
             "no_crisis"
            ],
            [
             0,
             1,
             "no_crisis"
            ],
            [
             1,
             0,
             "no_crisis"
            ],
            [
             0,
             1,
             "no_crisis"
            ],
            [
             0,
             0,
             "no_crisis"
            ]
           ],
           "geo": "geo",
           "hovertemplate": "<b>%{hovertext}</b><br><br>year=1940<br>country=%{location}<br>currency_crises=%{customdata[0]}<br>inflation_crises=%{customdata[1]}<br>banking_crisis=%{customdata[2]}<br>systemic_crisis=%{z}<extra></extra>",
           "hovertext": [
            "Algeria",
            "Angola",
            "Egypt",
            "Morocco",
            "South Africa",
            "Tunisia",
            "Zimbabwe"
           ],
           "locationmode": "country names",
           "locations": [
            "Algeria",
            "Angola",
            "Egypt",
            "Morocco",
            "South Africa",
            "Tunisia",
            "Zimbabwe"
           ],
           "name": "",
           "type": "choropleth",
           "z": [
            0,
            0,
            0,
            0,
            0,
            0,
            0
           ]
          }
         ],
         "name": "1940"
        },
        {
         "data": [
          {
           "coloraxis": "coloraxis",
           "customdata": [
            [
             0,
             0,
             "no_crisis"
            ],
            [
             0,
             0,
             "no_crisis"
            ],
            [
             0,
             1,
             "no_crisis"
            ],
            [
             0,
             1,
             "no_crisis"
            ],
            [
             0,
             0,
             "no_crisis"
            ],
            [
             0,
             1,
             "no_crisis"
            ],
            [
             0,
             0,
             "no_crisis"
            ]
           ],
           "geo": "geo",
           "hovertemplate": "<b>%{hovertext}</b><br><br>year=1941<br>country=%{location}<br>currency_crises=%{customdata[0]}<br>inflation_crises=%{customdata[1]}<br>banking_crisis=%{customdata[2]}<br>systemic_crisis=%{z}<extra></extra>",
           "hovertext": [
            "Algeria",
            "Angola",
            "Egypt",
            "Morocco",
            "South Africa",
            "Tunisia",
            "Zimbabwe"
           ],
           "locationmode": "country names",
           "locations": [
            "Algeria",
            "Angola",
            "Egypt",
            "Morocco",
            "South Africa",
            "Tunisia",
            "Zimbabwe"
           ],
           "name": "",
           "type": "choropleth",
           "z": [
            0,
            0,
            0,
            0,
            0,
            0,
            0
           ]
          }
         ],
         "name": "1941"
        },
        {
         "data": [
          {
           "coloraxis": "coloraxis",
           "customdata": [
            [
             0,
             1,
             "no_crisis"
            ],
            [
             0,
             0,
             "no_crisis"
            ],
            [
             0,
             1,
             "no_crisis"
            ],
            [
             0,
             1,
             "no_crisis"
            ],
            [
             0,
             0,
             "no_crisis"
            ],
            [
             0,
             1,
             "no_crisis"
            ],
            [
             0,
             0,
             "no_crisis"
            ]
           ],
           "geo": "geo",
           "hovertemplate": "<b>%{hovertext}</b><br><br>year=1942<br>country=%{location}<br>currency_crises=%{customdata[0]}<br>inflation_crises=%{customdata[1]}<br>banking_crisis=%{customdata[2]}<br>systemic_crisis=%{z}<extra></extra>",
           "hovertext": [
            "Algeria",
            "Angola",
            "Egypt",
            "Morocco",
            "South Africa",
            "Tunisia",
            "Zimbabwe"
           ],
           "locationmode": "country names",
           "locations": [
            "Algeria",
            "Angola",
            "Egypt",
            "Morocco",
            "South Africa",
            "Tunisia",
            "Zimbabwe"
           ],
           "name": "",
           "type": "choropleth",
           "z": [
            0,
            0,
            0,
            0,
            0,
            0,
            0
           ]
          }
         ],
         "name": "1942"
        },
        {
         "data": [
          {
           "coloraxis": "coloraxis",
           "customdata": [
            [
             1,
             1,
             "no_crisis"
            ],
            [
             0,
             0,
             "no_crisis"
            ],
            [
             0,
             0,
             "no_crisis"
            ],
            [
             1,
             1,
             "no_crisis"
            ],
            [
             0,
             0,
             "no_crisis"
            ],
            [
             0,
             1,
             "no_crisis"
            ],
            [
             0,
             0,
             "no_crisis"
            ],
            [
             0,
             0,
             "no_crisis"
            ]
           ],
           "geo": "geo",
           "hovertemplate": "<b>%{hovertext}</b><br><br>year=1943<br>country=%{location}<br>currency_crises=%{customdata[0]}<br>inflation_crises=%{customdata[1]}<br>banking_crisis=%{customdata[2]}<br>systemic_crisis=%{z}<extra></extra>",
           "hovertext": [
            "Algeria",
            "Angola",
            "Egypt",
            "Morocco",
            "South Africa",
            "Tunisia",
            "Zambia",
            "Zimbabwe"
           ],
           "locationmode": "country names",
           "locations": [
            "Algeria",
            "Angola",
            "Egypt",
            "Morocco",
            "South Africa",
            "Tunisia",
            "Zambia",
            "Zimbabwe"
           ],
           "name": "",
           "type": "choropleth",
           "z": [
            0,
            0,
            0,
            0,
            0,
            0,
            0,
            0
           ]
          }
         ],
         "name": "1943"
        },
        {
         "data": [
          {
           "coloraxis": "coloraxis",
           "customdata": [
            [
             1,
             1,
             "no_crisis"
            ],
            [
             0,
             0,
             "no_crisis"
            ],
            [
             0,
             0,
             "no_crisis"
            ],
            [
             1,
             1,
             "no_crisis"
            ],
            [
             0,
             0,
             "no_crisis"
            ],
            [
             1,
             1,
             "no_crisis"
            ],
            [
             0,
             0,
             "no_crisis"
            ],
            [
             0,
             0,
             "no_crisis"
            ]
           ],
           "geo": "geo",
           "hovertemplate": "<b>%{hovertext}</b><br><br>year=1944<br>country=%{location}<br>currency_crises=%{customdata[0]}<br>inflation_crises=%{customdata[1]}<br>banking_crisis=%{customdata[2]}<br>systemic_crisis=%{z}<extra></extra>",
           "hovertext": [
            "Algeria",
            "Angola",
            "Egypt",
            "Morocco",
            "South Africa",
            "Tunisia",
            "Zambia",
            "Zimbabwe"
           ],
           "locationmode": "country names",
           "locations": [
            "Algeria",
            "Angola",
            "Egypt",
            "Morocco",
            "South Africa",
            "Tunisia",
            "Zambia",
            "Zimbabwe"
           ],
           "name": "",
           "type": "choropleth",
           "z": [
            0,
            0,
            0,
            0,
            0,
            0,
            0,
            0
           ]
          }
         ],
         "name": "1944"
        },
        {
         "data": [
          {
           "coloraxis": "coloraxis",
           "customdata": [
            [
             0,
             1,
             "no_crisis"
            ],
            [
             0,
             0,
             "no_crisis"
            ],
            [
             0,
             0,
             "no_crisis"
            ],
            [
             0,
             0,
             "no_crisis"
            ],
            [
             0,
             0,
             "no_crisis"
            ],
            [
             0,
             0,
             "no_crisis"
            ],
            [
             0,
             0,
             "no_crisis"
            ],
            [
             0,
             0,
             "no_crisis"
            ]
           ],
           "geo": "geo",
           "hovertemplate": "<b>%{hovertext}</b><br><br>year=1945<br>country=%{location}<br>currency_crises=%{customdata[0]}<br>inflation_crises=%{customdata[1]}<br>banking_crisis=%{customdata[2]}<br>systemic_crisis=%{z}<extra></extra>",
           "hovertext": [
            "Algeria",
            "Angola",
            "Egypt",
            "Morocco",
            "South Africa",
            "Tunisia",
            "Zambia",
            "Zimbabwe"
           ],
           "locationmode": "country names",
           "locations": [
            "Algeria",
            "Angola",
            "Egypt",
            "Morocco",
            "South Africa",
            "Tunisia",
            "Zambia",
            "Zimbabwe"
           ],
           "name": "",
           "type": "choropleth",
           "z": [
            0,
            0,
            0,
            0,
            0,
            0,
            0,
            0
           ]
          }
         ],
         "name": "1945"
        },
        {
         "data": [
          {
           "coloraxis": "coloraxis",
           "customdata": [
            [
             0,
             0,
             "no_crisis"
            ],
            [
             0,
             0,
             "no_crisis"
            ],
            [
             0,
             0,
             "no_crisis"
            ],
            [
             0,
             1,
             "no_crisis"
            ],
            [
             0,
             0,
             "no_crisis"
            ],
            [
             1,
             1,
             "no_crisis"
            ],
            [
             0,
             0,
             "no_crisis"
            ],
            [
             0,
             0,
             "no_crisis"
            ]
           ],
           "geo": "geo",
           "hovertemplate": "<b>%{hovertext}</b><br><br>year=1946<br>country=%{location}<br>currency_crises=%{customdata[0]}<br>inflation_crises=%{customdata[1]}<br>banking_crisis=%{customdata[2]}<br>systemic_crisis=%{z}<extra></extra>",
           "hovertext": [
            "Algeria",
            "Angola",
            "Egypt",
            "Morocco",
            "South Africa",
            "Tunisia",
            "Zambia",
            "Zimbabwe"
           ],
           "locationmode": "country names",
           "locations": [
            "Algeria",
            "Angola",
            "Egypt",
            "Morocco",
            "South Africa",
            "Tunisia",
            "Zambia",
            "Zimbabwe"
           ],
           "name": "",
           "type": "choropleth",
           "z": [
            0,
            0,
            0,
            0,
            0,
            0,
            0,
            0
           ]
          }
         ],
         "name": "1946"
        },
        {
         "data": [
          {
           "coloraxis": "coloraxis",
           "customdata": [
            [
             0,
             1,
             "no_crisis"
            ],
            [
             0,
             0,
             "no_crisis"
            ],
            [
             0,
             0,
             "no_crisis"
            ],
            [
             0,
             0,
             "no_crisis"
            ],
            [
             1,
             1,
             "no_crisis"
            ],
            [
             0,
             0,
             "no_crisis"
            ],
            [
             0,
             1,
             "no_crisis"
            ],
            [
             0,
             0,
             "no_crisis"
            ],
            [
             0,
             0,
             "no_crisis"
            ]
           ],
           "geo": "geo",
           "hovertemplate": "<b>%{hovertext}</b><br><br>year=1947<br>country=%{location}<br>currency_crises=%{customdata[0]}<br>inflation_crises=%{customdata[1]}<br>banking_crisis=%{customdata[2]}<br>systemic_crisis=%{z}<extra></extra>",
           "hovertext": [
            "Algeria",
            "Angola",
            "Egypt",
            "Mauritius",
            "Morocco",
            "South Africa",
            "Tunisia",
            "Zambia",
            "Zimbabwe"
           ],
           "locationmode": "country names",
           "locations": [
            "Algeria",
            "Angola",
            "Egypt",
            "Mauritius",
            "Morocco",
            "South Africa",
            "Tunisia",
            "Zambia",
            "Zimbabwe"
           ],
           "name": "",
           "type": "choropleth",
           "z": [
            0,
            0,
            0,
            0,
            0,
            0,
            0,
            0,
            0
           ]
          }
         ],
         "name": "1947"
        },
        {
         "data": [
          {
           "coloraxis": "coloraxis",
           "customdata": [
            [
             0,
             1,
             "no_crisis"
            ],
            [
             0,
             0,
             "no_crisis"
            ],
            [
             0,
             0,
             "no_crisis"
            ],
            [
             0,
             0,
             "no_crisis"
            ],
            [
             0,
             1,
             "no_crisis"
            ],
            [
             0,
             1,
             "no_crisis"
            ],
            [
             0,
             0,
             "no_crisis"
            ],
            [
             0,
             1,
             "no_crisis"
            ],
            [
             0,
             0,
             "no_crisis"
            ],
            [
             0,
             0,
             "no_crisis"
            ]
           ],
           "geo": "geo",
           "hovertemplate": "<b>%{hovertext}</b><br><br>year=1948<br>country=%{location}<br>currency_crises=%{customdata[0]}<br>inflation_crises=%{customdata[1]}<br>banking_crisis=%{customdata[2]}<br>systemic_crisis=%{z}<extra></extra>",
           "hovertext": [
            "Algeria",
            "Angola",
            "Egypt",
            "Kenya",
            "Mauritius",
            "Morocco",
            "South Africa",
            "Tunisia",
            "Zambia",
            "Zimbabwe"
           ],
           "locationmode": "country names",
           "locations": [
            "Algeria",
            "Angola",
            "Egypt",
            "Kenya",
            "Mauritius",
            "Morocco",
            "South Africa",
            "Tunisia",
            "Zambia",
            "Zimbabwe"
           ],
           "name": "",
           "type": "choropleth",
           "z": [
            0,
            0,
            0,
            0,
            0,
            0,
            0,
            0,
            0,
            0
           ]
          }
         ],
         "name": "1948"
        },
        {
         "data": [
          {
           "coloraxis": "coloraxis",
           "customdata": [
            [
             0,
             1,
             "no_crisis"
            ],
            [
             0,
             0,
             "no_crisis"
            ],
            [
             1,
             0,
             "no_crisis"
            ],
            [
             0,
             0,
             "no_crisis"
            ],
            [
             0,
             0,
             "no_crisis"
            ],
            [
             1,
             1,
             "no_crisis"
            ],
            [
             0,
             0,
             "no_crisis"
            ],
            [
             1,
             0,
             "no_crisis"
            ],
            [
             0,
             0,
             "no_crisis"
            ],
            [
             0,
             0,
             "no_crisis"
            ]
           ],
           "geo": "geo",
           "hovertemplate": "<b>%{hovertext}</b><br><br>year=1949<br>country=%{location}<br>currency_crises=%{customdata[0]}<br>inflation_crises=%{customdata[1]}<br>banking_crisis=%{customdata[2]}<br>systemic_crisis=%{z}<extra></extra>",
           "hovertext": [
            "Algeria",
            "Angola",
            "Egypt",
            "Kenya",
            "Mauritius",
            "Morocco",
            "South Africa",
            "Tunisia",
            "Zambia",
            "Zimbabwe"
           ],
           "locationmode": "country names",
           "locations": [
            "Algeria",
            "Angola",
            "Egypt",
            "Kenya",
            "Mauritius",
            "Morocco",
            "South Africa",
            "Tunisia",
            "Zambia",
            "Zimbabwe"
           ],
           "name": "",
           "type": "choropleth",
           "z": [
            0,
            0,
            0,
            0,
            0,
            0,
            0,
            0,
            0,
            0
           ]
          }
         ],
         "name": "1949"
        },
        {
         "data": [
          {
           "coloraxis": "coloraxis",
           "customdata": [
            [
             0,
             0,
             "no_crisis"
            ],
            [
             0,
             0,
             "no_crisis"
            ],
            [
             0,
             0,
             "no_crisis"
            ],
            [
             0,
             0,
             "no_crisis"
            ],
            [
             0,
             0,
             "no_crisis"
            ],
            [
             1,
             0,
             "no_crisis"
            ],
            [
             1,
             0,
             "no_crisis"
            ],
            [
             1,
             0,
             "no_crisis"
            ],
            [
             1,
             0,
             "no_crisis"
            ],
            [
             0,
             0,
             "no_crisis"
            ]
           ],
           "geo": "geo",
           "hovertemplate": "<b>%{hovertext}</b><br><br>year=1950<br>country=%{location}<br>currency_crises=%{customdata[0]}<br>inflation_crises=%{customdata[1]}<br>banking_crisis=%{customdata[2]}<br>systemic_crisis=%{z}<extra></extra>",
           "hovertext": [
            "Algeria",
            "Angola",
            "Egypt",
            "Kenya",
            "Mauritius",
            "Morocco",
            "South Africa",
            "Tunisia",
            "Zambia",
            "Zimbabwe"
           ],
           "locationmode": "country names",
           "locations": [
            "Algeria",
            "Angola",
            "Egypt",
            "Kenya",
            "Mauritius",
            "Morocco",
            "South Africa",
            "Tunisia",
            "Zambia",
            "Zimbabwe"
           ],
           "name": "",
           "type": "choropleth",
           "z": [
            0,
            0,
            0,
            0,
            0,
            0,
            0,
            0,
            0,
            0
           ]
          }
         ],
         "name": "1950"
        },
        {
         "data": [
          {
           "coloraxis": "coloraxis",
           "customdata": [
            [
             0,
             0,
             "no_crisis"
            ],
            [
             0,
             0,
             "no_crisis"
            ],
            [
             0,
             0,
             "no_crisis"
            ],
            [
             0,
             0,
             "no_crisis"
            ],
            [
             0,
             0,
             "no_crisis"
            ],
            [
             0,
             1,
             "no_crisis"
            ],
            [
             0,
             0,
             "no_crisis"
            ],
            [
             0,
             0,
             "no_crisis"
            ],
            [
             0,
             0,
             "no_crisis"
            ],
            [
             0,
             0,
             "no_crisis"
            ]
           ],
           "geo": "geo",
           "hovertemplate": "<b>%{hovertext}</b><br><br>year=1951<br>country=%{location}<br>currency_crises=%{customdata[0]}<br>inflation_crises=%{customdata[1]}<br>banking_crisis=%{customdata[2]}<br>systemic_crisis=%{z}<extra></extra>",
           "hovertext": [
            "Algeria",
            "Angola",
            "Egypt",
            "Kenya",
            "Mauritius",
            "Morocco",
            "South Africa",
            "Tunisia",
            "Zambia",
            "Zimbabwe"
           ],
           "locationmode": "country names",
           "locations": [
            "Algeria",
            "Angola",
            "Egypt",
            "Kenya",
            "Mauritius",
            "Morocco",
            "South Africa",
            "Tunisia",
            "Zambia",
            "Zimbabwe"
           ],
           "name": "",
           "type": "choropleth",
           "z": [
            0,
            0,
            0,
            0,
            0,
            0,
            0,
            0,
            0,
            0
           ]
          }
         ],
         "name": "1951"
        },
        {
         "data": [
          {
           "coloraxis": "coloraxis",
           "customdata": [
            [
             0,
             0,
             "no_crisis"
            ],
            [
             0,
             0,
             "no_crisis"
            ],
            [
             0,
             0,
             "no_crisis"
            ],
            [
             0,
             0,
             "no_crisis"
            ],
            [
             0,
             0,
             "no_crisis"
            ],
            [
             0,
             0,
             "no_crisis"
            ],
            [
             0,
             0,
             "no_crisis"
            ],
            [
             0,
             0,
             "no_crisis"
            ],
            [
             0,
             0,
             "no_crisis"
            ],
            [
             0,
             0,
             "no_crisis"
            ],
            [
             0,
             0,
             "no_crisis"
            ]
           ],
           "geo": "geo",
           "hovertemplate": "<b>%{hovertext}</b><br><br>year=1952<br>country=%{location}<br>currency_crises=%{customdata[0]}<br>inflation_crises=%{customdata[1]}<br>banking_crisis=%{customdata[2]}<br>systemic_crisis=%{z}<extra></extra>",
           "hovertext": [
            "Algeria",
            "Angola",
            "Ivory Coast",
            "Egypt",
            "Kenya",
            "Mauritius",
            "Morocco",
            "South Africa",
            "Tunisia",
            "Zambia",
            "Zimbabwe"
           ],
           "locationmode": "country names",
           "locations": [
            "Algeria",
            "Angola",
            "Ivory Coast",
            "Egypt",
            "Kenya",
            "Mauritius",
            "Morocco",
            "South Africa",
            "Tunisia",
            "Zambia",
            "Zimbabwe"
           ],
           "name": "",
           "type": "choropleth",
           "z": [
            0,
            0,
            0,
            0,
            0,
            0,
            0,
            0,
            0,
            0,
            0
           ]
          }
         ],
         "name": "1952"
        },
        {
         "data": [
          {
           "coloraxis": "coloraxis",
           "customdata": [
            [
             0,
             0,
             "no_crisis"
            ],
            [
             0,
             0,
             "no_crisis"
            ],
            [
             0,
             0,
             "no_crisis"
            ],
            [
             0,
             0,
             "no_crisis"
            ],
            [
             0,
             0,
             "no_crisis"
            ],
            [
             0,
             0,
             "no_crisis"
            ],
            [
             0,
             0,
             "no_crisis"
            ],
            [
             0,
             0,
             "no_crisis"
            ],
            [
             0,
             0,
             "no_crisis"
            ],
            [
             0,
             0,
             "no_crisis"
            ],
            [
             0,
             0,
             "no_crisis"
            ]
           ],
           "geo": "geo",
           "hovertemplate": "<b>%{hovertext}</b><br><br>year=1953<br>country=%{location}<br>currency_crises=%{customdata[0]}<br>inflation_crises=%{customdata[1]}<br>banking_crisis=%{customdata[2]}<br>systemic_crisis=%{z}<extra></extra>",
           "hovertext": [
            "Algeria",
            "Angola",
            "Ivory Coast",
            "Egypt",
            "Kenya",
            "Mauritius",
            "Morocco",
            "South Africa",
            "Tunisia",
            "Zambia",
            "Zimbabwe"
           ],
           "locationmode": "country names",
           "locations": [
            "Algeria",
            "Angola",
            "Ivory Coast",
            "Egypt",
            "Kenya",
            "Mauritius",
            "Morocco",
            "South Africa",
            "Tunisia",
            "Zambia",
            "Zimbabwe"
           ],
           "name": "",
           "type": "choropleth",
           "z": [
            0,
            0,
            0,
            0,
            0,
            0,
            0,
            0,
            0,
            0,
            0
           ]
          }
         ],
         "name": "1953"
        },
        {
         "data": [
          {
           "coloraxis": "coloraxis",
           "customdata": [
            [
             0,
             0,
             "no_crisis"
            ],
            [
             0,
             0,
             "no_crisis"
            ],
            [
             0,
             0,
             "no_crisis"
            ],
            [
             0,
             0,
             "no_crisis"
            ],
            [
             0,
             0,
             "no_crisis"
            ],
            [
             0,
             0,
             "no_crisis"
            ],
            [
             0,
             0,
             "no_crisis"
            ],
            [
             0,
             0,
             "no_crisis"
            ],
            [
             0,
             0,
             "no_crisis"
            ],
            [
             0,
             0,
             "no_crisis"
            ],
            [
             0,
             0,
             "no_crisis"
            ],
            [
             0,
             0,
             "no_crisis"
            ]
           ],
           "geo": "geo",
           "hovertemplate": "<b>%{hovertext}</b><br><br>year=1954<br>country=%{location}<br>currency_crises=%{customdata[0]}<br>inflation_crises=%{customdata[1]}<br>banking_crisis=%{customdata[2]}<br>systemic_crisis=%{z}<extra></extra>",
           "hovertext": [
            "Algeria",
            "Angola",
            "Ivory Coast",
            "Egypt",
            "Kenya",
            "Mauritius",
            "Morocco",
            "Nigeria",
            "South Africa",
            "Tunisia",
            "Zambia",
            "Zimbabwe"
           ],
           "locationmode": "country names",
           "locations": [
            "Algeria",
            "Angola",
            "Ivory Coast",
            "Egypt",
            "Kenya",
            "Mauritius",
            "Morocco",
            "Nigeria",
            "South Africa",
            "Tunisia",
            "Zambia",
            "Zimbabwe"
           ],
           "name": "",
           "type": "choropleth",
           "z": [
            0,
            0,
            0,
            0,
            0,
            0,
            0,
            0,
            0,
            0,
            0,
            0
           ]
          }
         ],
         "name": "1954"
        },
        {
         "data": [
          {
           "coloraxis": "coloraxis",
           "customdata": [
            [
             0,
             0,
             "no_crisis"
            ],
            [
             0,
             0,
             "no_crisis"
            ],
            [
             0,
             0,
             "no_crisis"
            ],
            [
             0,
             0,
             "no_crisis"
            ],
            [
             0,
             0,
             "no_crisis"
            ],
            [
             0,
             0,
             "no_crisis"
            ],
            [
             0,
             0,
             "no_crisis"
            ],
            [
             0,
             0,
             "no_crisis"
            ],
            [
             0,
             0,
             "no_crisis"
            ],
            [
             0,
             0,
             "no_crisis"
            ],
            [
             0,
             0,
             "no_crisis"
            ],
            [
             0,
             0,
             "no_crisis"
            ]
           ],
           "geo": "geo",
           "hovertemplate": "<b>%{hovertext}</b><br><br>year=1955<br>country=%{location}<br>currency_crises=%{customdata[0]}<br>inflation_crises=%{customdata[1]}<br>banking_crisis=%{customdata[2]}<br>systemic_crisis=%{z}<extra></extra>",
           "hovertext": [
            "Algeria",
            "Angola",
            "Ivory Coast",
            "Egypt",
            "Kenya",
            "Mauritius",
            "Morocco",
            "Nigeria",
            "South Africa",
            "Tunisia",
            "Zambia",
            "Zimbabwe"
           ],
           "locationmode": "country names",
           "locations": [
            "Algeria",
            "Angola",
            "Ivory Coast",
            "Egypt",
            "Kenya",
            "Mauritius",
            "Morocco",
            "Nigeria",
            "South Africa",
            "Tunisia",
            "Zambia",
            "Zimbabwe"
           ],
           "name": "",
           "type": "choropleth",
           "z": [
            0,
            0,
            0,
            0,
            0,
            0,
            0,
            0,
            0,
            0,
            0,
            0
           ]
          }
         ],
         "name": "1955"
        },
        {
         "data": [
          {
           "coloraxis": "coloraxis",
           "customdata": [
            [
             0,
             0,
             "no_crisis"
            ],
            [
             0,
             0,
             "no_crisis"
            ],
            [
             0,
             0,
             "no_crisis"
            ],
            [
             0,
             0,
             "no_crisis"
            ],
            [
             0,
             0,
             "no_crisis"
            ],
            [
             0,
             0,
             "no_crisis"
            ],
            [
             0,
             0,
             "no_crisis"
            ],
            [
             0,
             0,
             "no_crisis"
            ],
            [
             0,
             0,
             "no_crisis"
            ],
            [
             0,
             0,
             "no_crisis"
            ],
            [
             0,
             0,
             "no_crisis"
            ],
            [
             0,
             0,
             "no_crisis"
            ]
           ],
           "geo": "geo",
           "hovertemplate": "<b>%{hovertext}</b><br><br>year=1956<br>country=%{location}<br>currency_crises=%{customdata[0]}<br>inflation_crises=%{customdata[1]}<br>banking_crisis=%{customdata[2]}<br>systemic_crisis=%{z}<extra></extra>",
           "hovertext": [
            "Algeria",
            "Angola",
            "Ivory Coast",
            "Egypt",
            "Kenya",
            "Mauritius",
            "Morocco",
            "Nigeria",
            "South Africa",
            "Tunisia",
            "Zambia",
            "Zimbabwe"
           ],
           "locationmode": "country names",
           "locations": [
            "Algeria",
            "Angola",
            "Ivory Coast",
            "Egypt",
            "Kenya",
            "Mauritius",
            "Morocco",
            "Nigeria",
            "South Africa",
            "Tunisia",
            "Zambia",
            "Zimbabwe"
           ],
           "name": "",
           "type": "choropleth",
           "z": [
            0,
            0,
            0,
            0,
            0,
            0,
            0,
            0,
            0,
            0,
            0,
            0
           ]
          }
         ],
         "name": "1956"
        },
        {
         "data": [
          {
           "coloraxis": "coloraxis",
           "customdata": [
            [
             0,
             0,
             "no_crisis"
            ],
            [
             0,
             0,
             "no_crisis"
            ],
            [
             0,
             0,
             "no_crisis"
            ],
            [
             0,
             0,
             "no_crisis"
            ],
            [
             0,
             0,
             "no_crisis"
            ],
            [
             0,
             0,
             "no_crisis"
            ],
            [
             0,
             0,
             "no_crisis"
            ],
            [
             0,
             0,
             "no_crisis"
            ],
            [
             0,
             0,
             "no_crisis"
            ],
            [
             0,
             0,
             "no_crisis"
            ],
            [
             0,
             0,
             "no_crisis"
            ],
            [
             0,
             0,
             "no_crisis"
            ],
            [
             0,
             0,
             "no_crisis"
            ]
           ],
           "geo": "geo",
           "hovertemplate": "<b>%{hovertext}</b><br><br>year=1957<br>country=%{location}<br>currency_crises=%{customdata[0]}<br>inflation_crises=%{customdata[1]}<br>banking_crisis=%{customdata[2]}<br>systemic_crisis=%{z}<extra></extra>",
           "hovertext": [
            "Algeria",
            "Angola",
            "Central African Republic",
            "Ivory Coast",
            "Egypt",
            "Kenya",
            "Mauritius",
            "Morocco",
            "Nigeria",
            "South Africa",
            "Tunisia",
            "Zambia",
            "Zimbabwe"
           ],
           "locationmode": "country names",
           "locations": [
            "Algeria",
            "Angola",
            "Central African Republic",
            "Ivory Coast",
            "Egypt",
            "Kenya",
            "Mauritius",
            "Morocco",
            "Nigeria",
            "South Africa",
            "Tunisia",
            "Zambia",
            "Zimbabwe"
           ],
           "name": "",
           "type": "choropleth",
           "z": [
            0,
            0,
            0,
            0,
            0,
            0,
            0,
            0,
            0,
            0,
            0,
            0,
            0
           ]
          }
         ],
         "name": "1957"
        },
        {
         "data": [
          {
           "coloraxis": "coloraxis",
           "customdata": [
            [
             0,
             0,
             "no_crisis"
            ],
            [
             0,
             0,
             "no_crisis"
            ],
            [
             0,
             0,
             "no_crisis"
            ],
            [
             0,
             1,
             "no_crisis"
            ],
            [
             0,
             0,
             "no_crisis"
            ],
            [
             0,
             0,
             "no_crisis"
            ],
            [
             0,
             0,
             "no_crisis"
            ],
            [
             1,
             0,
             "no_crisis"
            ],
            [
             0,
             0,
             "no_crisis"
            ],
            [
             0,
             0,
             "no_crisis"
            ],
            [
             1,
             0,
             "no_crisis"
            ],
            [
             0,
             0,
             "no_crisis"
            ],
            [
             0,
             0,
             "no_crisis"
            ]
           ],
           "geo": "geo",
           "hovertemplate": "<b>%{hovertext}</b><br><br>year=1958<br>country=%{location}<br>currency_crises=%{customdata[0]}<br>inflation_crises=%{customdata[1]}<br>banking_crisis=%{customdata[2]}<br>systemic_crisis=%{z}<extra></extra>",
           "hovertext": [
            "Algeria",
            "Angola",
            "Central African Republic",
            "Ivory Coast",
            "Egypt",
            "Kenya",
            "Mauritius",
            "Morocco",
            "Nigeria",
            "South Africa",
            "Tunisia",
            "Zambia",
            "Zimbabwe"
           ],
           "locationmode": "country names",
           "locations": [
            "Algeria",
            "Angola",
            "Central African Republic",
            "Ivory Coast",
            "Egypt",
            "Kenya",
            "Mauritius",
            "Morocco",
            "Nigeria",
            "South Africa",
            "Tunisia",
            "Zambia",
            "Zimbabwe"
           ],
           "name": "",
           "type": "choropleth",
           "z": [
            0,
            0,
            0,
            0,
            0,
            0,
            0,
            0,
            0,
            0,
            0,
            0,
            0
           ]
          }
         ],
         "name": "1958"
        },
        {
         "data": [
          {
           "coloraxis": "coloraxis",
           "customdata": [
            [
             0,
             0,
             "no_crisis"
            ],
            [
             1,
             0,
             "no_crisis"
            ],
            [
             1,
             0,
             "no_crisis"
            ],
            [
             0,
             0,
             "no_crisis"
            ],
            [
             0,
             0,
             "no_crisis"
            ],
            [
             0,
             0,
             "no_crisis"
            ],
            [
             0,
             0,
             "no_crisis"
            ],
            [
             1,
             0,
             "no_crisis"
            ],
            [
             0,
             0,
             "no_crisis"
            ],
            [
             0,
             0,
             "no_crisis"
            ],
            [
             0,
             0,
             "no_crisis"
            ],
            [
             0,
             0,
             "no_crisis"
            ],
            [
             0,
             0,
             "no_crisis"
            ]
           ],
           "geo": "geo",
           "hovertemplate": "<b>%{hovertext}</b><br><br>year=1959<br>country=%{location}<br>currency_crises=%{customdata[0]}<br>inflation_crises=%{customdata[1]}<br>banking_crisis=%{customdata[2]}<br>systemic_crisis=%{z}<extra></extra>",
           "hovertext": [
            "Algeria",
            "Angola",
            "Central African Republic",
            "Ivory Coast",
            "Egypt",
            "Kenya",
            "Mauritius",
            "Morocco",
            "Nigeria",
            "South Africa",
            "Tunisia",
            "Zambia",
            "Zimbabwe"
           ],
           "locationmode": "country names",
           "locations": [
            "Algeria",
            "Angola",
            "Central African Republic",
            "Ivory Coast",
            "Egypt",
            "Kenya",
            "Mauritius",
            "Morocco",
            "Nigeria",
            "South Africa",
            "Tunisia",
            "Zambia",
            "Zimbabwe"
           ],
           "name": "",
           "type": "choropleth",
           "z": [
            0,
            0,
            0,
            0,
            0,
            0,
            0,
            0,
            0,
            0,
            0,
            0,
            0
           ]
          }
         ],
         "name": "1959"
        },
        {
         "data": [
          {
           "coloraxis": "coloraxis",
           "customdata": [
            [
             1,
             0,
             "no_crisis"
            ],
            [
             0,
             0,
             "no_crisis"
            ],
            [
             0,
             0,
             "no_crisis"
            ],
            [
             0,
             0,
             "no_crisis"
            ],
            [
             0,
             0,
             "no_crisis"
            ],
            [
             0,
             0,
             "no_crisis"
            ],
            [
             0,
             0,
             "no_crisis"
            ],
            [
             0,
             0,
             "no_crisis"
            ],
            [
             0,
             0,
             "no_crisis"
            ],
            [
             0,
             0,
             "no_crisis"
            ],
            [
             0,
             0,
             "no_crisis"
            ],
            [
             0,
             0,
             "no_crisis"
            ],
            [
             0,
             0,
             "no_crisis"
            ]
           ],
           "geo": "geo",
           "hovertemplate": "<b>%{hovertext}</b><br><br>year=1960<br>country=%{location}<br>currency_crises=%{customdata[0]}<br>inflation_crises=%{customdata[1]}<br>banking_crisis=%{customdata[2]}<br>systemic_crisis=%{z}<extra></extra>",
           "hovertext": [
            "Algeria",
            "Angola",
            "Central African Republic",
            "Ivory Coast",
            "Egypt",
            "Kenya",
            "Mauritius",
            "Morocco",
            "Nigeria",
            "South Africa",
            "Tunisia",
            "Zambia",
            "Zimbabwe"
           ],
           "locationmode": "country names",
           "locations": [
            "Algeria",
            "Angola",
            "Central African Republic",
            "Ivory Coast",
            "Egypt",
            "Kenya",
            "Mauritius",
            "Morocco",
            "Nigeria",
            "South Africa",
            "Tunisia",
            "Zambia",
            "Zimbabwe"
           ],
           "name": "",
           "type": "choropleth",
           "z": [
            0,
            0,
            0,
            0,
            0,
            0,
            0,
            0,
            0,
            0,
            0,
            0,
            0
           ]
          }
         ],
         "name": "1960"
        },
        {
         "data": [
          {
           "coloraxis": "coloraxis",
           "customdata": [
            [
             0,
             0,
             "no_crisis"
            ],
            [
             0,
             0,
             "no_crisis"
            ],
            [
             0,
             0,
             "no_crisis"
            ],
            [
             0,
             0,
             "no_crisis"
            ],
            [
             0,
             0,
             "no_crisis"
            ],
            [
             0,
             0,
             "no_crisis"
            ],
            [
             0,
             0,
             "no_crisis"
            ],
            [
             0,
             0,
             "no_crisis"
            ],
            [
             0,
             0,
             "no_crisis"
            ],
            [
             0,
             0,
             "no_crisis"
            ],
            [
             0,
             0,
             "no_crisis"
            ],
            [
             0,
             0,
             "no_crisis"
            ],
            [
             0,
             0,
             "no_crisis"
            ]
           ],
           "geo": "geo",
           "hovertemplate": "<b>%{hovertext}</b><br><br>year=1961<br>country=%{location}<br>currency_crises=%{customdata[0]}<br>inflation_crises=%{customdata[1]}<br>banking_crisis=%{customdata[2]}<br>systemic_crisis=%{z}<extra></extra>",
           "hovertext": [
            "Algeria",
            "Angola",
            "Central African Republic",
            "Ivory Coast",
            "Egypt",
            "Kenya",
            "Mauritius",
            "Morocco",
            "Nigeria",
            "South Africa",
            "Tunisia",
            "Zambia",
            "Zimbabwe"
           ],
           "locationmode": "country names",
           "locations": [
            "Algeria",
            "Angola",
            "Central African Republic",
            "Ivory Coast",
            "Egypt",
            "Kenya",
            "Mauritius",
            "Morocco",
            "Nigeria",
            "South Africa",
            "Tunisia",
            "Zambia",
            "Zimbabwe"
           ],
           "name": "",
           "type": "choropleth",
           "z": [
            0,
            0,
            0,
            0,
            0,
            0,
            0,
            0,
            0,
            0,
            0,
            0,
            0
           ]
          }
         ],
         "name": "1961"
        },
        {
         "data": [
          {
           "coloraxis": "coloraxis",
           "customdata": [
            [
             0,
             0,
             "no_crisis"
            ],
            [
             0,
             0,
             "no_crisis"
            ],
            [
             0,
             0,
             "no_crisis"
            ],
            [
             0,
             0,
             "no_crisis"
            ],
            [
             0,
             0,
             "no_crisis"
            ],
            [
             0,
             0,
             "no_crisis"
            ],
            [
             0,
             0,
             "no_crisis"
            ],
            [
             0,
             0,
             "no_crisis"
            ],
            [
             0,
             0,
             "no_crisis"
            ],
            [
             0,
             0,
             "no_crisis"
            ],
            [
             0,
             0,
             "no_crisis"
            ],
            [
             0,
             0,
             "no_crisis"
            ]
           ],
           "geo": "geo",
           "hovertemplate": "<b>%{hovertext}</b><br><br>year=1968<br>country=%{location}<br>currency_crises=%{customdata[0]}<br>inflation_crises=%{customdata[1]}<br>banking_crisis=%{customdata[2]}<br>systemic_crisis=%{z}<extra></extra>",
           "hovertext": [
            "Algeria",
            "Central African Republic",
            "Ivory Coast",
            "Egypt",
            "Kenya",
            "Mauritius",
            "Morocco",
            "Nigeria",
            "South Africa",
            "Tunisia",
            "Zambia",
            "Zimbabwe"
           ],
           "locationmode": "country names",
           "locations": [
            "Algeria",
            "Central African Republic",
            "Ivory Coast",
            "Egypt",
            "Kenya",
            "Mauritius",
            "Morocco",
            "Nigeria",
            "South Africa",
            "Tunisia",
            "Zambia",
            "Zimbabwe"
           ],
           "name": "",
           "type": "choropleth",
           "z": [
            0,
            0,
            0,
            0,
            0,
            0,
            0,
            0,
            0,
            0,
            0,
            0
           ]
          }
         ],
         "name": "1968"
        },
        {
         "data": [
          {
           "coloraxis": "coloraxis",
           "customdata": [
            [
             0,
             0,
             "no_crisis"
            ],
            [
             0,
             0,
             "no_crisis"
            ],
            [
             0,
             0,
             "no_crisis"
            ],
            [
             0,
             0,
             "no_crisis"
            ],
            [
             0,
             0,
             "no_crisis"
            ],
            [
             0,
             0,
             "no_crisis"
            ],
            [
             0,
             0,
             "no_crisis"
            ],
            [
             0,
             0,
             "no_crisis"
            ],
            [
             0,
             0,
             "no_crisis"
            ],
            [
             0,
             0,
             "no_crisis"
            ],
            [
             0,
             0,
             "no_crisis"
            ],
            [
             0,
             0,
             "no_crisis"
            ]
           ],
           "geo": "geo",
           "hovertemplate": "<b>%{hovertext}</b><br><br>year=1969<br>country=%{location}<br>currency_crises=%{customdata[0]}<br>inflation_crises=%{customdata[1]}<br>banking_crisis=%{customdata[2]}<br>systemic_crisis=%{z}<extra></extra>",
           "hovertext": [
            "Algeria",
            "Central African Republic",
            "Ivory Coast",
            "Egypt",
            "Kenya",
            "Mauritius",
            "Morocco",
            "Nigeria",
            "South Africa",
            "Tunisia",
            "Zambia",
            "Zimbabwe"
           ],
           "locationmode": "country names",
           "locations": [
            "Algeria",
            "Central African Republic",
            "Ivory Coast",
            "Egypt",
            "Kenya",
            "Mauritius",
            "Morocco",
            "Nigeria",
            "South Africa",
            "Tunisia",
            "Zambia",
            "Zimbabwe"
           ],
           "name": "",
           "type": "choropleth",
           "z": [
            0,
            0,
            0,
            0,
            0,
            0,
            0,
            0,
            0,
            0,
            0,
            0
           ]
          }
         ],
         "name": "1969"
        },
        {
         "data": [
          {
           "coloraxis": "coloraxis",
           "customdata": [
            [
             0,
             0,
             "no_crisis"
            ],
            [
             1,
             0,
             "no_crisis"
            ],
            [
             0,
             0,
             "no_crisis"
            ],
            [
             0,
             0,
             "no_crisis"
            ],
            [
             0,
             0,
             "no_crisis"
            ],
            [
             0,
             0,
             "no_crisis"
            ],
            [
             0,
             0,
             "no_crisis"
            ],
            [
             0,
             0,
             "no_crisis"
            ],
            [
             0,
             0,
             "no_crisis"
            ],
            [
             0,
             0,
             "no_crisis"
            ],
            [
             0,
             0,
             "no_crisis"
            ],
            [
             0,
             0,
             "no_crisis"
            ],
            [
             0,
             0,
             "no_crisis"
            ]
           ],
           "geo": "geo",
           "hovertemplate": "<b>%{hovertext}</b><br><br>year=1970<br>country=%{location}<br>currency_crises=%{customdata[0]}<br>inflation_crises=%{customdata[1]}<br>banking_crisis=%{customdata[2]}<br>systemic_crisis=%{z}<extra></extra>",
           "hovertext": [
            "Algeria",
            "Angola",
            "Central African Republic",
            "Ivory Coast",
            "Egypt",
            "Kenya",
            "Mauritius",
            "Morocco",
            "Nigeria",
            "South Africa",
            "Tunisia",
            "Zambia",
            "Zimbabwe"
           ],
           "locationmode": "country names",
           "locations": [
            "Algeria",
            "Angola",
            "Central African Republic",
            "Ivory Coast",
            "Egypt",
            "Kenya",
            "Mauritius",
            "Morocco",
            "Nigeria",
            "South Africa",
            "Tunisia",
            "Zambia",
            "Zimbabwe"
           ],
           "name": "",
           "type": "choropleth",
           "z": [
            0,
            0,
            0,
            0,
            0,
            0,
            0,
            0,
            0,
            0,
            0,
            0,
            0
           ]
          }
         ],
         "name": "1970"
        },
        {
         "data": [
          {
           "coloraxis": "coloraxis",
           "customdata": [
            [
             0,
             0,
             "no_crisis"
            ],
            [
             0,
             0,
             "no_crisis"
            ],
            [
             0,
             1,
             "no_crisis"
            ],
            [
             0,
             0,
             "no_crisis"
            ],
            [
             0,
             0,
             "no_crisis"
            ],
            [
             0,
             0,
             "no_crisis"
            ],
            [
             0,
             0,
             "no_crisis"
            ],
            [
             0,
             0,
             "no_crisis"
            ],
            [
             0,
             0,
             "no_crisis"
            ],
            [
             0,
             0,
             "no_crisis"
            ],
            [
             0,
             0,
             "no_crisis"
            ],
            [
             0,
             0,
             "no_crisis"
            ],
            [
             0,
             0,
             "no_crisis"
            ]
           ],
           "geo": "geo",
           "hovertemplate": "<b>%{hovertext}</b><br><br>year=1971<br>country=%{location}<br>currency_crises=%{customdata[0]}<br>inflation_crises=%{customdata[1]}<br>banking_crisis=%{customdata[2]}<br>systemic_crisis=%{z}<extra></extra>",
           "hovertext": [
            "Algeria",
            "Angola",
            "Central African Republic",
            "Ivory Coast",
            "Egypt",
            "Kenya",
            "Mauritius",
            "Morocco",
            "Nigeria",
            "South Africa",
            "Tunisia",
            "Zambia",
            "Zimbabwe"
           ],
           "locationmode": "country names",
           "locations": [
            "Algeria",
            "Angola",
            "Central African Republic",
            "Ivory Coast",
            "Egypt",
            "Kenya",
            "Mauritius",
            "Morocco",
            "Nigeria",
            "South Africa",
            "Tunisia",
            "Zambia",
            "Zimbabwe"
           ],
           "name": "",
           "type": "choropleth",
           "z": [
            0,
            0,
            0,
            0,
            0,
            0,
            0,
            0,
            0,
            0,
            0,
            0,
            0
           ]
          }
         ],
         "name": "1971"
        },
        {
         "data": [
          {
           "coloraxis": "coloraxis",
           "customdata": [
            [
             0,
             0,
             "no_crisis"
            ],
            [
             1,
             0,
             "no_crisis"
            ],
            [
             0,
             0,
             "no_crisis"
            ],
            [
             0,
             0,
             "no_crisis"
            ],
            [
             0,
             0,
             "no_crisis"
            ],
            [
             0,
             0,
             "no_crisis"
            ],
            [
             0,
             0,
             "no_crisis"
            ],
            [
             0,
             0,
             "no_crisis"
            ],
            [
             0,
             0,
             "no_crisis"
            ],
            [
             0,
             0,
             "no_crisis"
            ],
            [
             0,
             0,
             "no_crisis"
            ],
            [
             0,
             0,
             "no_crisis"
            ],
            [
             0,
             0,
             "no_crisis"
            ]
           ],
           "geo": "geo",
           "hovertemplate": "<b>%{hovertext}</b><br><br>year=1972<br>country=%{location}<br>currency_crises=%{customdata[0]}<br>inflation_crises=%{customdata[1]}<br>banking_crisis=%{customdata[2]}<br>systemic_crisis=%{z}<extra></extra>",
           "hovertext": [
            "Algeria",
            "Angola",
            "Central African Republic",
            "Ivory Coast",
            "Egypt",
            "Kenya",
            "Mauritius",
            "Morocco",
            "Nigeria",
            "South Africa",
            "Tunisia",
            "Zambia",
            "Zimbabwe"
           ],
           "locationmode": "country names",
           "locations": [
            "Algeria",
            "Angola",
            "Central African Republic",
            "Ivory Coast",
            "Egypt",
            "Kenya",
            "Mauritius",
            "Morocco",
            "Nigeria",
            "South Africa",
            "Tunisia",
            "Zambia",
            "Zimbabwe"
           ],
           "name": "",
           "type": "choropleth",
           "z": [
            0,
            0,
            0,
            0,
            0,
            0,
            0,
            0,
            0,
            0,
            0,
            0,
            0
           ]
          }
         ],
         "name": "1972"
        },
        {
         "data": [
          {
           "coloraxis": "coloraxis",
           "customdata": [
            [
             0,
             0,
             "no_crisis"
            ],
            [
             1,
             0,
             "no_crisis"
            ],
            [
             0,
             0,
             "no_crisis"
            ],
            [
             0,
             0,
             "no_crisis"
            ],
            [
             0,
             0,
             "no_crisis"
            ],
            [
             0,
             0,
             "no_crisis"
            ],
            [
             0,
             1,
             "no_crisis"
            ],
            [
             0,
             0,
             "no_crisis"
            ],
            [
             1,
             0,
             "no_crisis"
            ],
            [
             0,
             0,
             "no_crisis"
            ],
            [
             0,
             0,
             "no_crisis"
            ],
            [
             0,
             0,
             "no_crisis"
            ],
            [
             0,
             0,
             "no_crisis"
            ]
           ],
           "geo": "geo",
           "hovertemplate": "<b>%{hovertext}</b><br><br>year=1973<br>country=%{location}<br>currency_crises=%{customdata[0]}<br>inflation_crises=%{customdata[1]}<br>banking_crisis=%{customdata[2]}<br>systemic_crisis=%{z}<extra></extra>",
           "hovertext": [
            "Algeria",
            "Angola",
            "Central African Republic",
            "Ivory Coast",
            "Egypt",
            "Kenya",
            "Mauritius",
            "Morocco",
            "Nigeria",
            "South Africa",
            "Tunisia",
            "Zambia",
            "Zimbabwe"
           ],
           "locationmode": "country names",
           "locations": [
            "Algeria",
            "Angola",
            "Central African Republic",
            "Ivory Coast",
            "Egypt",
            "Kenya",
            "Mauritius",
            "Morocco",
            "Nigeria",
            "South Africa",
            "Tunisia",
            "Zambia",
            "Zimbabwe"
           ],
           "name": "",
           "type": "choropleth",
           "z": [
            0,
            0,
            0,
            0,
            0,
            0,
            0,
            0,
            0,
            0,
            0,
            0,
            0
           ]
          }
         ],
         "name": "1973"
        },
        {
         "data": [
          {
           "coloraxis": "coloraxis",
           "customdata": [
            [
             0,
             0,
             "no_crisis"
            ],
            [
             0,
             1,
             "no_crisis"
            ],
            [
             0,
             0,
             "no_crisis"
            ],
            [
             0,
             0,
             "no_crisis"
            ],
            [
             0,
             0,
             "no_crisis"
            ],
            [
             0,
             0,
             "no_crisis"
            ],
            [
             0,
             1,
             "no_crisis"
            ],
            [
             0,
             0,
             "no_crisis"
            ],
            [
             0,
             0,
             "no_crisis"
            ],
            [
             0,
             0,
             "no_crisis"
            ],
            [
             1,
             0,
             "no_crisis"
            ],
            [
             0,
             0,
             "no_crisis"
            ],
            [
             0,
             0,
             "no_crisis"
            ]
           ],
           "geo": "geo",
           "hovertemplate": "<b>%{hovertext}</b><br><br>year=1974<br>country=%{location}<br>currency_crises=%{customdata[0]}<br>inflation_crises=%{customdata[1]}<br>banking_crisis=%{customdata[2]}<br>systemic_crisis=%{z}<extra></extra>",
           "hovertext": [
            "Algeria",
            "Angola",
            "Central African Republic",
            "Ivory Coast",
            "Egypt",
            "Kenya",
            "Mauritius",
            "Morocco",
            "Nigeria",
            "South Africa",
            "Tunisia",
            "Zambia",
            "Zimbabwe"
           ],
           "locationmode": "country names",
           "locations": [
            "Algeria",
            "Angola",
            "Central African Republic",
            "Ivory Coast",
            "Egypt",
            "Kenya",
            "Mauritius",
            "Morocco",
            "Nigeria",
            "South Africa",
            "Tunisia",
            "Zambia",
            "Zimbabwe"
           ],
           "name": "",
           "type": "choropleth",
           "z": [
            0,
            0,
            0,
            0,
            0,
            0,
            0,
            0,
            0,
            0,
            0,
            0,
            0
           ]
          }
         ],
         "name": "1974"
        },
        {
         "data": [
          {
           "coloraxis": "coloraxis",
           "customdata": [
            [
             0,
             0,
             "no_crisis"
            ],
            [
             0,
             1,
             "no_crisis"
            ],
            [
             0,
             0,
             "no_crisis"
            ],
            [
             0,
             0,
             "no_crisis"
            ],
            [
             0,
             0,
             "no_crisis"
            ],
            [
             0,
             0,
             "no_crisis"
            ],
            [
             0,
             0,
             "no_crisis"
            ],
            [
             0,
             0,
             "no_crisis"
            ],
            [
             0,
             1,
             "no_crisis"
            ],
            [
             0,
             0,
             "no_crisis"
            ],
            [
             0,
             0,
             "no_crisis"
            ],
            [
             0,
             0,
             "no_crisis"
            ],
            [
             0,
             0,
             "no_crisis"
            ]
           ],
           "geo": "geo",
           "hovertemplate": "<b>%{hovertext}</b><br><br>year=1975<br>country=%{location}<br>currency_crises=%{customdata[0]}<br>inflation_crises=%{customdata[1]}<br>banking_crisis=%{customdata[2]}<br>systemic_crisis=%{z}<extra></extra>",
           "hovertext": [
            "Algeria",
            "Angola",
            "Central African Republic",
            "Ivory Coast",
            "Egypt",
            "Kenya",
            "Mauritius",
            "Morocco",
            "Nigeria",
            "South Africa",
            "Tunisia",
            "Zambia",
            "Zimbabwe"
           ],
           "locationmode": "country names",
           "locations": [
            "Algeria",
            "Angola",
            "Central African Republic",
            "Ivory Coast",
            "Egypt",
            "Kenya",
            "Mauritius",
            "Morocco",
            "Nigeria",
            "South Africa",
            "Tunisia",
            "Zambia",
            "Zimbabwe"
           ],
           "name": "",
           "type": "choropleth",
           "z": [
            0,
            0,
            0,
            0,
            0,
            0,
            0,
            0,
            0,
            0,
            0,
            0,
            0
           ]
          }
         ],
         "name": "1975"
        },
        {
         "data": [
          {
           "coloraxis": "coloraxis",
           "customdata": [
            [
             0,
             0,
             "no_crisis"
            ],
            [
             0,
             1,
             "no_crisis"
            ],
            [
             0,
             0,
             "crisis"
            ],
            [
             0,
             0,
             "no_crisis"
            ],
            [
             0,
             0,
             "no_crisis"
            ],
            [
             1,
             0,
             "no_crisis"
            ],
            [
             0,
             0,
             "no_crisis"
            ],
            [
             0,
             0,
             "no_crisis"
            ],
            [
             0,
             0,
             "no_crisis"
            ],
            [
             0,
             0,
             "no_crisis"
            ],
            [
             0,
             0,
             "no_crisis"
            ],
            [
             0,
             0,
             "no_crisis"
            ],
            [
             0,
             0,
             "no_crisis"
            ]
           ],
           "geo": "geo",
           "hovertemplate": "<b>%{hovertext}</b><br><br>year=1976<br>country=%{location}<br>currency_crises=%{customdata[0]}<br>inflation_crises=%{customdata[1]}<br>banking_crisis=%{customdata[2]}<br>systemic_crisis=%{z}<extra></extra>",
           "hovertext": [
            "Algeria",
            "Angola",
            "Central African Republic",
            "Ivory Coast",
            "Egypt",
            "Kenya",
            "Mauritius",
            "Morocco",
            "Nigeria",
            "South Africa",
            "Tunisia",
            "Zambia",
            "Zimbabwe"
           ],
           "locationmode": "country names",
           "locations": [
            "Algeria",
            "Angola",
            "Central African Republic",
            "Ivory Coast",
            "Egypt",
            "Kenya",
            "Mauritius",
            "Morocco",
            "Nigeria",
            "South Africa",
            "Tunisia",
            "Zambia",
            "Zimbabwe"
           ],
           "name": "",
           "type": "choropleth",
           "z": [
            0,
            0,
            1,
            0,
            0,
            0,
            0,
            0,
            0,
            0,
            0,
            0,
            0
           ]
          }
         ],
         "name": "1976"
        },
        {
         "data": [
          {
           "coloraxis": "coloraxis",
           "customdata": [
            [
             0,
             0,
             "no_crisis"
            ],
            [
             0,
             1,
             "no_crisis"
            ],
            [
             0,
             0,
             "crisis"
            ],
            [
             0,
             1,
             "no_crisis"
            ],
            [
             0,
             0,
             "no_crisis"
            ],
            [
             0,
             0,
             "no_crisis"
            ],
            [
             0,
             0,
             "no_crisis"
            ],
            [
             0,
             0,
             "no_crisis"
            ],
            [
             0,
             1,
             "no_crisis"
            ],
            [
             0,
             0,
             "crisis"
            ],
            [
             0,
             0,
             "no_crisis"
            ],
            [
             1,
             0,
             "no_crisis"
            ],
            [
             1,
             0,
             "no_crisis"
            ]
           ],
           "geo": "geo",
           "hovertemplate": "<b>%{hovertext}</b><br><br>year=1977<br>country=%{location}<br>currency_crises=%{customdata[0]}<br>inflation_crises=%{customdata[1]}<br>banking_crisis=%{customdata[2]}<br>systemic_crisis=%{z}<extra></extra>",
           "hovertext": [
            "Algeria",
            "Angola",
            "Central African Republic",
            "Ivory Coast",
            "Egypt",
            "Kenya",
            "Mauritius",
            "Morocco",
            "Nigeria",
            "South Africa",
            "Tunisia",
            "Zambia",
            "Zimbabwe"
           ],
           "locationmode": "country names",
           "locations": [
            "Algeria",
            "Angola",
            "Central African Republic",
            "Ivory Coast",
            "Egypt",
            "Kenya",
            "Mauritius",
            "Morocco",
            "Nigeria",
            "South Africa",
            "Tunisia",
            "Zambia",
            "Zimbabwe"
           ],
           "name": "",
           "type": "choropleth",
           "z": [
            0,
            0,
            1,
            0,
            0,
            0,
            0,
            0,
            0,
            0,
            0,
            0,
            0
           ]
          }
         ],
         "name": "1977"
        },
        {
         "data": [
          {
           "coloraxis": "coloraxis",
           "customdata": [
            [
             0,
             0,
             "no_crisis"
            ],
            [
             0,
             1,
             "no_crisis"
            ],
            [
             0,
             0,
             "crisis"
            ],
            [
             0,
             0,
             "no_crisis"
            ],
            [
             0,
             0,
             "no_crisis"
            ],
            [
             0,
             0,
             "no_crisis"
            ],
            [
             0,
             0,
             "no_crisis"
            ],
            [
             0,
             0,
             "no_crisis"
            ],
            [
             0,
             0,
             "no_crisis"
            ],
            [
             0,
             0,
             "crisis"
            ],
            [
             1,
             0,
             "no_crisis"
            ],
            [
             0,
             0,
             "no_crisis"
            ],
            [
             0,
             0,
             "no_crisis"
            ]
           ],
           "geo": "geo",
           "hovertemplate": "<b>%{hovertext}</b><br><br>year=1978<br>country=%{location}<br>currency_crises=%{customdata[0]}<br>inflation_crises=%{customdata[1]}<br>banking_crisis=%{customdata[2]}<br>systemic_crisis=%{z}<extra></extra>",
           "hovertext": [
            "Algeria",
            "Angola",
            "Central African Republic",
            "Ivory Coast",
            "Egypt",
            "Kenya",
            "Mauritius",
            "Morocco",
            "Nigeria",
            "South Africa",
            "Tunisia",
            "Zambia",
            "Zimbabwe"
           ],
           "locationmode": "country names",
           "locations": [
            "Algeria",
            "Angola",
            "Central African Republic",
            "Ivory Coast",
            "Egypt",
            "Kenya",
            "Mauritius",
            "Morocco",
            "Nigeria",
            "South Africa",
            "Tunisia",
            "Zambia",
            "Zimbabwe"
           ],
           "name": "",
           "type": "choropleth",
           "z": [
            0,
            0,
            1,
            0,
            0,
            0,
            0,
            0,
            0,
            0,
            0,
            0,
            0
           ]
          }
         ],
         "name": "1978"
        },
        {
         "data": [
          {
           "coloraxis": "coloraxis",
           "customdata": [
            [
             0,
             0,
             "no_crisis"
            ],
            [
             0,
             1,
             "no_crisis"
            ],
            [
             0,
             0,
             "crisis"
            ],
            [
             0,
             1,
             "no_crisis"
            ],
            [
             1,
             0,
             "no_crisis"
            ],
            [
             0,
             0,
             "no_crisis"
            ],
            [
             1,
             1,
             "no_crisis"
            ],
            [
             0,
             0,
             "no_crisis"
            ],
            [
             0,
             0,
             "no_crisis"
            ],
            [
             0,
             0,
             "no_crisis"
            ],
            [
             0,
             0,
             "no_crisis"
            ],
            [
             0,
             0,
             "no_crisis"
            ],
            [
             0,
             0,
             "no_crisis"
            ]
           ],
           "geo": "geo",
           "hovertemplate": "<b>%{hovertext}</b><br><br>year=1979<br>country=%{location}<br>currency_crises=%{customdata[0]}<br>inflation_crises=%{customdata[1]}<br>banking_crisis=%{customdata[2]}<br>systemic_crisis=%{z}<extra></extra>",
           "hovertext": [
            "Algeria",
            "Angola",
            "Central African Republic",
            "Ivory Coast",
            "Egypt",
            "Kenya",
            "Mauritius",
            "Morocco",
            "Nigeria",
            "South Africa",
            "Tunisia",
            "Zambia",
            "Zimbabwe"
           ],
           "locationmode": "country names",
           "locations": [
            "Algeria",
            "Angola",
            "Central African Republic",
            "Ivory Coast",
            "Egypt",
            "Kenya",
            "Mauritius",
            "Morocco",
            "Nigeria",
            "South Africa",
            "Tunisia",
            "Zambia",
            "Zimbabwe"
           ],
           "name": "",
           "type": "choropleth",
           "z": [
            0,
            0,
            1,
            0,
            0,
            0,
            0,
            0,
            0,
            0,
            0,
            0,
            0
           ]
          }
         ],
         "name": "1979"
        },
        {
         "data": [
          {
           "coloraxis": "coloraxis",
           "customdata": [
            [
             0,
             0,
             "no_crisis"
            ],
            [
             0,
             1,
             "no_crisis"
            ],
            [
             0,
             0,
             "crisis"
            ],
            [
             0,
             0,
             "no_crisis"
            ],
            [
             0,
             1,
             "no_crisis"
            ],
            [
             0,
             0,
             "no_crisis"
            ],
            [
             0,
             1,
             "no_crisis"
            ],
            [
             0,
             0,
             "no_crisis"
            ],
            [
             0,
             0,
             "no_crisis"
            ],
            [
             0,
             0,
             "no_crisis"
            ],
            [
             0,
             0,
             "no_crisis"
            ],
            [
             0,
             0,
             "no_crisis"
            ],
            [
             0,
             0,
             "no_crisis"
            ]
           ],
           "geo": "geo",
           "hovertemplate": "<b>%{hovertext}</b><br><br>year=1980<br>country=%{location}<br>currency_crises=%{customdata[0]}<br>inflation_crises=%{customdata[1]}<br>banking_crisis=%{customdata[2]}<br>systemic_crisis=%{z}<extra></extra>",
           "hovertext": [
            "Algeria",
            "Angola",
            "Central African Republic",
            "Ivory Coast",
            "Egypt",
            "Kenya",
            "Mauritius",
            "Morocco",
            "Nigeria",
            "South Africa",
            "Tunisia",
            "Zambia",
            "Zimbabwe"
           ],
           "locationmode": "country names",
           "locations": [
            "Algeria",
            "Angola",
            "Central African Republic",
            "Ivory Coast",
            "Egypt",
            "Kenya",
            "Mauritius",
            "Morocco",
            "Nigeria",
            "South Africa",
            "Tunisia",
            "Zambia",
            "Zimbabwe"
           ],
           "name": "",
           "type": "choropleth",
           "z": [
            0,
            0,
            1,
            0,
            1,
            0,
            0,
            0,
            0,
            0,
            0,
            0,
            0
           ]
          }
         ],
         "name": "1980"
        },
        {
         "data": [
          {
           "coloraxis": "coloraxis",
           "customdata": [
            [
             0,
             0,
             "no_crisis"
            ],
            [
             0,
             0,
             "crisis"
            ],
            [
             0,
             0,
             "no_crisis"
            ],
            [
             0,
             0,
             "crisis"
            ],
            [
             1,
             0,
             "no_crisis"
            ],
            [
             1,
             1,
             "no_crisis"
            ],
            [
             0,
             0,
             "no_crisis"
            ],
            [
             1,
             0,
             "no_crisis"
            ],
            [
             1,
             0,
             "no_crisis"
            ],
            [
             0,
             0,
             "no_crisis"
            ],
            [
             0,
             0,
             "no_crisis"
            ],
            [
             0,
             0,
             "no_crisis"
            ]
           ],
           "geo": "geo",
           "hovertemplate": "<b>%{hovertext}</b><br><br>year=1981<br>country=%{location}<br>currency_crises=%{customdata[0]}<br>inflation_crises=%{customdata[1]}<br>banking_crisis=%{customdata[2]}<br>systemic_crisis=%{z}<extra></extra>",
           "hovertext": [
            "Algeria",
            "Central African Republic",
            "Ivory Coast",
            "Egypt",
            "Kenya",
            "Mauritius",
            "Morocco",
            "Nigeria",
            "South Africa",
            "Tunisia",
            "Zambia",
            "Zimbabwe"
           ],
           "locationmode": "country names",
           "locations": [
            "Algeria",
            "Central African Republic",
            "Ivory Coast",
            "Egypt",
            "Kenya",
            "Mauritius",
            "Morocco",
            "Nigeria",
            "South Africa",
            "Tunisia",
            "Zambia",
            "Zimbabwe"
           ],
           "name": "",
           "type": "choropleth",
           "z": [
            0,
            1,
            0,
            1,
            0,
            0,
            0,
            0,
            0,
            0,
            0,
            0
           ]
          }
         ],
         "name": "1981"
        },
        {
         "data": [
          {
           "coloraxis": "coloraxis",
           "customdata": [
            [
             0,
             0,
             "no_crisis"
            ],
            [
             0,
             0,
             "crisis"
            ],
            [
             0,
             0,
             "no_crisis"
            ],
            [
             0,
             0,
             "crisis"
            ],
            [
             1,
             0,
             "no_crisis"
            ],
            [
             0,
             0,
             "no_crisis"
            ],
            [
             0,
             0,
             "no_crisis"
            ],
            [
             0,
             1,
             "no_crisis"
            ],
            [
             0,
             0,
             "no_crisis"
            ],
            [
             0,
             0,
             "no_crisis"
            ],
            [
             0,
             0,
             "no_crisis"
            ],
            [
             1,
             0,
             "no_crisis"
            ]
           ],
           "geo": "geo",
           "hovertemplate": "<b>%{hovertext}</b><br><br>year=1982<br>country=%{location}<br>currency_crises=%{customdata[0]}<br>inflation_crises=%{customdata[1]}<br>banking_crisis=%{customdata[2]}<br>systemic_crisis=%{z}<extra></extra>",
           "hovertext": [
            "Algeria",
            "Central African Republic",
            "Ivory Coast",
            "Egypt",
            "Kenya",
            "Mauritius",
            "Morocco",
            "Nigeria",
            "South Africa",
            "Tunisia",
            "Zambia",
            "Zimbabwe"
           ],
           "locationmode": "country names",
           "locations": [
            "Algeria",
            "Central African Republic",
            "Ivory Coast",
            "Egypt",
            "Kenya",
            "Mauritius",
            "Morocco",
            "Nigeria",
            "South Africa",
            "Tunisia",
            "Zambia",
            "Zimbabwe"
           ],
           "name": "",
           "type": "choropleth",
           "z": [
            0,
            1,
            0,
            1,
            0,
            0,
            0,
            0,
            0,
            0,
            0,
            0
           ]
          }
         ],
         "name": "1982"
        },
        {
         "data": [
          {
           "coloraxis": "coloraxis",
           "customdata": [
            [
             0,
             0,
             "no_crisis"
            ],
            [
             0,
             0,
             "no_crisis"
            ],
            [
             0,
             0,
             "no_crisis"
            ],
            [
             0,
             0,
             "crisis"
            ],
            [
             0,
             0,
             "no_crisis"
            ],
            [
             1,
             0,
             "no_crisis"
            ],
            [
             0,
             0,
             "crisis"
            ],
            [
             0,
             0,
             "no_crisis"
            ],
            [
             0,
             0,
             "no_crisis"
            ],
            [
             0,
             0,
             "no_crisis"
            ],
            [
             1,
             0,
             "no_crisis"
            ],
            [
             1,
             1,
             "no_crisis"
            ]
           ],
           "geo": "geo",
           "hovertemplate": "<b>%{hovertext}</b><br><br>year=1983<br>country=%{location}<br>currency_crises=%{customdata[0]}<br>inflation_crises=%{customdata[1]}<br>banking_crisis=%{customdata[2]}<br>systemic_crisis=%{z}<extra></extra>",
           "hovertext": [
            "Algeria",
            "Central African Republic",
            "Ivory Coast",
            "Egypt",
            "Kenya",
            "Mauritius",
            "Morocco",
            "Nigeria",
            "South Africa",
            "Tunisia",
            "Zambia",
            "Zimbabwe"
           ],
           "locationmode": "country names",
           "locations": [
            "Algeria",
            "Central African Republic",
            "Ivory Coast",
            "Egypt",
            "Kenya",
            "Mauritius",
            "Morocco",
            "Nigeria",
            "South Africa",
            "Tunisia",
            "Zambia",
            "Zimbabwe"
           ],
           "name": "",
           "type": "choropleth",
           "z": [
            0,
            0,
            0,
            1,
            0,
            0,
            1,
            0,
            0,
            0,
            0,
            0
           ]
          }
         ],
         "name": "1983"
        },
        {
         "data": [
          {
           "coloraxis": "coloraxis",
           "customdata": [
            [
             0,
             0,
             "no_crisis"
            ],
            [
             0,
             0,
             "no_crisis"
            ],
            [
             0,
             0,
             "no_crisis"
            ],
            [
             0,
             0,
             "no_crisis"
            ],
            [
             0,
             1,
             "no_crisis"
            ],
            [
             1,
             0,
             "no_crisis"
            ],
            [
             0,
             0,
             "crisis"
            ],
            [
             0,
             1,
             "no_crisis"
            ],
            [
             1,
             0,
             "no_crisis"
            ],
            [
             0,
             0,
             "no_crisis"
            ],
            [
             1,
             1,
             "no_crisis"
            ],
            [
             1,
             1,
             "no_crisis"
            ]
           ],
           "geo": "geo",
           "hovertemplate": "<b>%{hovertext}</b><br><br>year=1984<br>country=%{location}<br>currency_crises=%{customdata[0]}<br>inflation_crises=%{customdata[1]}<br>banking_crisis=%{customdata[2]}<br>systemic_crisis=%{z}<extra></extra>",
           "hovertext": [
            "Algeria",
            "Central African Republic",
            "Ivory Coast",
            "Egypt",
            "Kenya",
            "Mauritius",
            "Morocco",
            "Nigeria",
            "South Africa",
            "Tunisia",
            "Zambia",
            "Zimbabwe"
           ],
           "locationmode": "country names",
           "locations": [
            "Algeria",
            "Central African Republic",
            "Ivory Coast",
            "Egypt",
            "Kenya",
            "Mauritius",
            "Morocco",
            "Nigeria",
            "South Africa",
            "Tunisia",
            "Zambia",
            "Zimbabwe"
           ],
           "name": "",
           "type": "choropleth",
           "z": [
            0,
            0,
            0,
            0,
            0,
            0,
            1,
            0,
            0,
            0,
            0,
            0
           ]
          }
         ],
         "name": "1984"
        },
        {
         "data": [
          {
           "coloraxis": "coloraxis",
           "customdata": [
            [
             0,
             0,
             "no_crisis"
            ],
            [
             0,
             0,
             "no_crisis"
            ],
            [
             0,
             0,
             "no_crisis"
            ],
            [
             0,
             0,
             "no_crisis"
            ],
            [
             0,
             0,
             "crisis"
            ],
            [
             0,
             0,
             "no_crisis"
            ],
            [
             1,
             0,
             "no_crisis"
            ],
            [
             1,
             1,
             "no_crisis"
            ],
            [
             1,
             0,
             "no_crisis"
            ],
            [
             0,
             0,
             "no_crisis"
            ],
            [
             1,
             1,
             "no_crisis"
            ],
            [
             0,
             0,
             "no_crisis"
            ]
           ],
           "geo": "geo",
           "hovertemplate": "<b>%{hovertext}</b><br><br>year=1985<br>country=%{location}<br>currency_crises=%{customdata[0]}<br>inflation_crises=%{customdata[1]}<br>banking_crisis=%{customdata[2]}<br>systemic_crisis=%{z}<extra></extra>",
           "hovertext": [
            "Algeria",
            "Central African Republic",
            "Ivory Coast",
            "Egypt",
            "Kenya",
            "Mauritius",
            "Morocco",
            "Nigeria",
            "South Africa",
            "Tunisia",
            "Zambia",
            "Zimbabwe"
           ],
           "locationmode": "country names",
           "locations": [
            "Algeria",
            "Central African Republic",
            "Ivory Coast",
            "Egypt",
            "Kenya",
            "Mauritius",
            "Morocco",
            "Nigeria",
            "South Africa",
            "Tunisia",
            "Zambia",
            "Zimbabwe"
           ],
           "name": "",
           "type": "choropleth",
           "z": [
            0,
            0,
            0,
            0,
            1,
            0,
            0,
            0,
            0,
            0,
            0,
            0
           ]
          }
         ],
         "name": "1985"
        },
        {
         "data": [
          {
           "coloraxis": "coloraxis",
           "customdata": [
            [
             0,
             0,
             "no_crisis"
            ],
            [
             0,
             0,
             "no_crisis"
            ],
            [
             0,
             0,
             "no_crisis"
            ],
            [
             0,
             1,
             "no_crisis"
            ],
            [
             0,
             0,
             "crisis"
            ],
            [
             0,
             0,
             "no_crisis"
            ],
            [
             0,
             0,
             "no_crisis"
            ],
            [
             1,
             0,
             "no_crisis"
            ],
            [
             0,
             0,
             "no_crisis"
            ],
            [
             1,
             0,
             "no_crisis"
            ],
            [
             1,
             1,
             "no_crisis"
            ],
            [
             0,
             0,
             "no_crisis"
            ]
           ],
           "geo": "geo",
           "hovertemplate": "<b>%{hovertext}</b><br><br>year=1986<br>country=%{location}<br>currency_crises=%{customdata[0]}<br>inflation_crises=%{customdata[1]}<br>banking_crisis=%{customdata[2]}<br>systemic_crisis=%{z}<extra></extra>",
           "hovertext": [
            "Algeria",
            "Central African Republic",
            "Ivory Coast",
            "Egypt",
            "Kenya",
            "Mauritius",
            "Morocco",
            "Nigeria",
            "South Africa",
            "Tunisia",
            "Zambia",
            "Zimbabwe"
           ],
           "locationmode": "country names",
           "locations": [
            "Algeria",
            "Central African Republic",
            "Ivory Coast",
            "Egypt",
            "Kenya",
            "Mauritius",
            "Morocco",
            "Nigeria",
            "South Africa",
            "Tunisia",
            "Zambia",
            "Zimbabwe"
           ],
           "name": "",
           "type": "choropleth",
           "z": [
            0,
            0,
            0,
            0,
            1,
            0,
            0,
            0,
            0,
            0,
            0,
            0
           ]
          }
         ],
         "name": "1986"
        },
        {
         "data": [
          {
           "coloraxis": "coloraxis",
           "customdata": [
            [
             0,
             0,
             "no_crisis"
            ],
            [
             0,
             0,
             "no_crisis"
            ],
            [
             0,
             0,
             "no_crisis"
            ],
            [
             0,
             1,
             "no_crisis"
            ],
            [
             0,
             0,
             "crisis"
            ],
            [
             0,
             0,
             "no_crisis"
            ],
            [
             0,
             0,
             "no_crisis"
            ],
            [
             1,
             0,
             "no_crisis"
            ],
            [
             0,
             0,
             "no_crisis"
            ],
            [
             0,
             0,
             "no_crisis"
            ],
            [
             0,
             1,
             "no_crisis"
            ],
            [
             0,
             0,
             "no_crisis"
            ]
           ],
           "geo": "geo",
           "hovertemplate": "<b>%{hovertext}</b><br><br>year=1987<br>country=%{location}<br>currency_crises=%{customdata[0]}<br>inflation_crises=%{customdata[1]}<br>banking_crisis=%{customdata[2]}<br>systemic_crisis=%{z}<extra></extra>",
           "hovertext": [
            "Algeria",
            "Central African Republic",
            "Ivory Coast",
            "Egypt",
            "Kenya",
            "Mauritius",
            "Morocco",
            "Nigeria",
            "South Africa",
            "Tunisia",
            "Zambia",
            "Zimbabwe"
           ],
           "locationmode": "country names",
           "locations": [
            "Algeria",
            "Central African Republic",
            "Ivory Coast",
            "Egypt",
            "Kenya",
            "Mauritius",
            "Morocco",
            "Nigeria",
            "South Africa",
            "Tunisia",
            "Zambia",
            "Zimbabwe"
           ],
           "name": "",
           "type": "choropleth",
           "z": [
            0,
            0,
            0,
            0,
            1,
            0,
            0,
            0,
            0,
            0,
            0,
            0
           ]
          }
         ],
         "name": "1987"
        },
        {
         "data": [
          {
           "coloraxis": "coloraxis",
           "customdata": [
            [
             1,
             0,
             "no_crisis"
            ],
            [
             0,
             0,
             "crisis"
            ],
            [
             0,
             0,
             "crisis"
            ],
            [
             0,
             0,
             "no_crisis"
            ],
            [
             0,
             0,
             "crisis"
            ],
            [
             0,
             0,
             "no_crisis"
            ],
            [
             0,
             0,
             "no_crisis"
            ],
            [
             1,
             0,
             "no_crisis"
            ],
            [
             1,
             0,
             "no_crisis"
            ],
            [
             0,
             0,
             "no_crisis"
            ],
            [
             1,
             1,
             "no_crisis"
            ],
            [
             1,
             0,
             "no_crisis"
            ]
           ],
           "geo": "geo",
           "hovertemplate": "<b>%{hovertext}</b><br><br>year=1988<br>country=%{location}<br>currency_crises=%{customdata[0]}<br>inflation_crises=%{customdata[1]}<br>banking_crisis=%{customdata[2]}<br>systemic_crisis=%{z}<extra></extra>",
           "hovertext": [
            "Algeria",
            "Central African Republic",
            "Ivory Coast",
            "Egypt",
            "Kenya",
            "Mauritius",
            "Morocco",
            "Nigeria",
            "South Africa",
            "Tunisia",
            "Zambia",
            "Zimbabwe"
           ],
           "locationmode": "country names",
           "locations": [
            "Algeria",
            "Central African Republic",
            "Ivory Coast",
            "Egypt",
            "Kenya",
            "Mauritius",
            "Morocco",
            "Nigeria",
            "South Africa",
            "Tunisia",
            "Zambia",
            "Zimbabwe"
           ],
           "name": "",
           "type": "choropleth",
           "z": [
            0,
            1,
            1,
            0,
            1,
            0,
            0,
            0,
            0,
            0,
            0,
            0
           ]
          }
         ],
         "name": "1988"
        },
        {
         "data": [
          {
           "coloraxis": "coloraxis",
           "customdata": [
            [
             1,
             0,
             "no_crisis"
            ],
            [
             0,
             0,
             "crisis"
            ],
            [
             0,
             0,
             "crisis"
            ],
            [
             1,
             1,
             "no_crisis"
            ],
            [
             1,
             0,
             "no_crisis"
            ],
            [
             0,
             0,
             "no_crisis"
            ],
            [
             0,
             0,
             "no_crisis"
            ],
            [
             1,
             1,
             "no_crisis"
            ],
            [
             0,
             0,
             "crisis"
            ],
            [
             0,
             0,
             "no_crisis"
            ],
            [
             1,
             1,
             "no_crisis"
            ],
            [
             1,
             0,
             "no_crisis"
            ]
           ],
           "geo": "geo",
           "hovertemplate": "<b>%{hovertext}</b><br><br>year=1989<br>country=%{location}<br>currency_crises=%{customdata[0]}<br>inflation_crises=%{customdata[1]}<br>banking_crisis=%{customdata[2]}<br>systemic_crisis=%{z}<extra></extra>",
           "hovertext": [
            "Algeria",
            "Central African Republic",
            "Ivory Coast",
            "Egypt",
            "Kenya",
            "Mauritius",
            "Morocco",
            "Nigeria",
            "South Africa",
            "Tunisia",
            "Zambia",
            "Zimbabwe"
           ],
           "locationmode": "country names",
           "locations": [
            "Algeria",
            "Central African Republic",
            "Ivory Coast",
            "Egypt",
            "Kenya",
            "Mauritius",
            "Morocco",
            "Nigeria",
            "South Africa",
            "Tunisia",
            "Zambia",
            "Zimbabwe"
           ],
           "name": "",
           "type": "choropleth",
           "z": [
            0,
            1,
            1,
            0,
            1,
            0,
            0,
            0,
            0,
            0,
            0,
            0
           ]
          }
         ],
         "name": "1989"
        },
        {
         "data": [
          {
           "coloraxis": "coloraxis",
           "customdata": [
            [
             1,
             0,
             "crisis"
            ],
            [
             0,
             0,
             "crisis"
            ],
            [
             0,
             0,
             "crisis"
            ],
            [
             1,
             1,
             "crisis"
            ],
            [
             0,
             0,
             "no_crisis"
            ],
            [
             0,
             0,
             "no_crisis"
            ],
            [
             0,
             0,
             "no_crisis"
            ],
            [
             1,
             1,
             "no_crisis"
            ],
            [
             0,
             0,
             "no_crisis"
            ],
            [
             0,
             0,
             "no_crisis"
            ],
            [
             1,
             1,
             "no_crisis"
            ],
            [
             1,
             0,
             "no_crisis"
            ]
           ],
           "geo": "geo",
           "hovertemplate": "<b>%{hovertext}</b><br><br>year=1990<br>country=%{location}<br>currency_crises=%{customdata[0]}<br>inflation_crises=%{customdata[1]}<br>banking_crisis=%{customdata[2]}<br>systemic_crisis=%{z}<extra></extra>",
           "hovertext": [
            "Algeria",
            "Central African Republic",
            "Ivory Coast",
            "Egypt",
            "Kenya",
            "Mauritius",
            "Morocco",
            "Nigeria",
            "South Africa",
            "Tunisia",
            "Zambia",
            "Zimbabwe"
           ],
           "locationmode": "country names",
           "locations": [
            "Algeria",
            "Central African Republic",
            "Ivory Coast",
            "Egypt",
            "Kenya",
            "Mauritius",
            "Morocco",
            "Nigeria",
            "South Africa",
            "Tunisia",
            "Zambia",
            "Zimbabwe"
           ],
           "name": "",
           "type": "choropleth",
           "z": [
            1,
            1,
            1,
            0,
            0,
            0,
            0,
            0,
            0,
            0,
            0,
            0
           ]
          }
         ],
         "name": "1990"
        },
        {
         "data": [
          {
           "coloraxis": "coloraxis",
           "customdata": [
            [
             1,
             1,
             "crisis"
            ],
            [
             1,
             1,
             "no_crisis"
            ],
            [
             0,
             0,
             "crisis"
            ],
            [
             0,
             0,
             "crisis"
            ],
            [
             1,
             0,
             "crisis"
            ],
            [
             1,
             0,
             "no_crisis"
            ],
            [
             0,
             0,
             "no_crisis"
            ],
            [
             0,
             0,
             "no_crisis"
            ],
            [
             0,
             0,
             "no_crisis"
            ],
            [
             0,
             0,
             "crisis"
            ],
            [
             1,
             1,
             "no_crisis"
            ],
            [
             1,
             1,
             "no_crisis"
            ]
           ],
           "geo": "geo",
           "hovertemplate": "<b>%{hovertext}</b><br><br>year=1991<br>country=%{location}<br>currency_crises=%{customdata[0]}<br>inflation_crises=%{customdata[1]}<br>banking_crisis=%{customdata[2]}<br>systemic_crisis=%{z}<extra></extra>",
           "hovertext": [
            "Algeria",
            "Angola",
            "Central African Republic",
            "Ivory Coast",
            "Egypt",
            "Kenya",
            "Mauritius",
            "Morocco",
            "South Africa",
            "Tunisia",
            "Zambia",
            "Zimbabwe"
           ],
           "locationmode": "country names",
           "locations": [
            "Algeria",
            "Angola",
            "Central African Republic",
            "Ivory Coast",
            "Egypt",
            "Kenya",
            "Mauritius",
            "Morocco",
            "South Africa",
            "Tunisia",
            "Zambia",
            "Zimbabwe"
           ],
           "name": "",
           "type": "choropleth",
           "z": [
            1,
            0,
            1,
            1,
            0,
            0,
            0,
            0,
            0,
            1,
            0,
            0
           ]
          }
         ],
         "name": "1991"
        },
        {
         "data": [
          {
           "coloraxis": "coloraxis",
           "customdata": [
            [
             0,
             1,
             "crisis"
            ],
            [
             1,
             1,
             "crisis"
            ],
            [
             0,
             0,
             "crisis"
            ],
            [
             0,
             0,
             "no_crisis"
            ],
            [
             0,
             1,
             "crisis"
            ],
            [
             1,
             1,
             "crisis"
            ],
            [
             0,
             0,
             "no_crisis"
            ],
            [
             0,
             0,
             "no_crisis"
            ],
            [
             1,
             0,
             "crisis"
            ],
            [
             0,
             0,
             "no_crisis"
            ],
            [
             0,
             0,
             "crisis"
            ],
            [
             1,
             1,
             "no_crisis"
            ],
            [
             0,
             1,
             "no_crisis"
            ]
           ],
           "geo": "geo",
           "hovertemplate": "<b>%{hovertext}</b><br><br>year=1992<br>country=%{location}<br>currency_crises=%{customdata[0]}<br>inflation_crises=%{customdata[1]}<br>banking_crisis=%{customdata[2]}<br>systemic_crisis=%{z}<extra></extra>",
           "hovertext": [
            "Algeria",
            "Angola",
            "Central African Republic",
            "Ivory Coast",
            "Egypt",
            "Kenya",
            "Mauritius",
            "Morocco",
            "Nigeria",
            "South Africa",
            "Tunisia",
            "Zambia",
            "Zimbabwe"
           ],
           "locationmode": "country names",
           "locations": [
            "Algeria",
            "Angola",
            "Central African Republic",
            "Ivory Coast",
            "Egypt",
            "Kenya",
            "Mauritius",
            "Morocco",
            "Nigeria",
            "South Africa",
            "Tunisia",
            "Zambia",
            "Zimbabwe"
           ],
           "name": "",
           "type": "choropleth",
           "z": [
            1,
            0,
            1,
            0,
            0,
            1,
            0,
            0,
            1,
            0,
            1,
            0,
            0
           ]
          }
         ],
         "name": "1992"
        },
        {
         "data": [
          {
           "coloraxis": "coloraxis",
           "customdata": [
            [
             0,
             1,
             "no_crisis"
            ],
            [
             1,
             1,
             "crisis"
            ],
            [
             0,
             0,
             "crisis"
            ],
            [
             0,
             0,
             "no_crisis"
            ],
            [
             0,
             0,
             "crisis"
            ],
            [
             1,
             1,
             "crisis"
            ],
            [
             0,
             0,
             "no_crisis"
            ],
            [
             0,
             0,
             "no_crisis"
            ],
            [
             0,
             1,
             "crisis"
            ],
            [
             0,
             0,
             "no_crisis"
            ],
            [
             0,
             0,
             "crisis"
            ],
            [
             1,
             1,
             "no_crisis"
            ],
            [
             1,
             1,
             "no_crisis"
            ]
           ],
           "geo": "geo",
           "hovertemplate": "<b>%{hovertext}</b><br><br>year=1993<br>country=%{location}<br>currency_crises=%{customdata[0]}<br>inflation_crises=%{customdata[1]}<br>banking_crisis=%{customdata[2]}<br>systemic_crisis=%{z}<extra></extra>",
           "hovertext": [
            "Algeria",
            "Angola",
            "Central African Republic",
            "Ivory Coast",
            "Egypt",
            "Kenya",
            "Mauritius",
            "Morocco",
            "Nigeria",
            "South Africa",
            "Tunisia",
            "Zambia",
            "Zimbabwe"
           ],
           "locationmode": "country names",
           "locations": [
            "Algeria",
            "Angola",
            "Central African Republic",
            "Ivory Coast",
            "Egypt",
            "Kenya",
            "Mauritius",
            "Morocco",
            "Nigeria",
            "South Africa",
            "Tunisia",
            "Zambia",
            "Zimbabwe"
           ],
           "name": "",
           "type": "choropleth",
           "z": [
            0,
            0,
            1,
            0,
            0,
            1,
            0,
            0,
            1,
            0,
            1,
            0,
            0
           ]
          }
         ],
         "name": "1993"
        },
        {
         "data": [
          {
           "coloraxis": "coloraxis",
           "customdata": [
            [
             1,
             1,
             "no_crisis"
            ],
            [
             1,
             1,
             "crisis"
            ],
            [
             1,
             1,
             "crisis"
            ],
            [
             1,
             1,
             "no_crisis"
            ],
            [
             0,
             0,
             "crisis"
            ],
            [
             0,
             1,
             "crisis"
            ],
            [
             0,
             0,
             "no_crisis"
            ],
            [
             0,
             0,
             "no_crisis"
            ],
            [
             0,
             1,
             "crisis"
            ],
            [
             0,
             0,
             "no_crisis"
            ],
            [
             0,
             0,
             "crisis"
            ],
            [
             1,
             1,
             "no_crisis"
            ],
            [
             1,
             1,
             "no_crisis"
            ]
           ],
           "geo": "geo",
           "hovertemplate": "<b>%{hovertext}</b><br><br>year=1994<br>country=%{location}<br>currency_crises=%{customdata[0]}<br>inflation_crises=%{customdata[1]}<br>banking_crisis=%{customdata[2]}<br>systemic_crisis=%{z}<extra></extra>",
           "hovertext": [
            "Algeria",
            "Angola",
            "Central African Republic",
            "Ivory Coast",
            "Egypt",
            "Kenya",
            "Mauritius",
            "Morocco",
            "Nigeria",
            "South Africa",
            "Tunisia",
            "Zambia",
            "Zimbabwe"
           ],
           "locationmode": "country names",
           "locations": [
            "Algeria",
            "Angola",
            "Central African Republic",
            "Ivory Coast",
            "Egypt",
            "Kenya",
            "Mauritius",
            "Morocco",
            "Nigeria",
            "South Africa",
            "Tunisia",
            "Zambia",
            "Zimbabwe"
           ],
           "name": "",
           "type": "choropleth",
           "z": [
            0,
            0,
            1,
            0,
            0,
            1,
            0,
            0,
            1,
            0,
            1,
            0,
            0
           ]
          }
         ],
         "name": "1994"
        },
        {
         "data": [
          {
           "coloraxis": "coloraxis",
           "customdata": [
            [
             1,
             1,
             "no_crisis"
            ],
            [
             1,
             1,
             "crisis"
            ],
            [
             0,
             0,
             "crisis"
            ],
            [
             0,
             0,
             "no_crisis"
            ],
            [
             0,
             0,
             "crisis"
            ],
            [
             0,
             0,
             "crisis"
            ],
            [
             0,
             0,
             "no_crisis"
            ],
            [
             0,
             0,
             "no_crisis"
            ],
            [
             0,
             1,
             "crisis"
            ],
            [
             0,
             0,
             "no_crisis"
            ],
            [
             0,
             0,
             "crisis"
            ],
            [
             1,
             1,
             "crisis"
            ],
            [
             0,
             1,
             "crisis"
            ]
           ],
           "geo": "geo",
           "hovertemplate": "<b>%{hovertext}</b><br><br>year=1995<br>country=%{location}<br>currency_crises=%{customdata[0]}<br>inflation_crises=%{customdata[1]}<br>banking_crisis=%{customdata[2]}<br>systemic_crisis=%{z}<extra></extra>",
           "hovertext": [
            "Algeria",
            "Angola",
            "Central African Republic",
            "Ivory Coast",
            "Egypt",
            "Kenya",
            "Mauritius",
            "Morocco",
            "Nigeria",
            "South Africa",
            "Tunisia",
            "Zambia",
            "Zimbabwe"
           ],
           "locationmode": "country names",
           "locations": [
            "Algeria",
            "Angola",
            "Central African Republic",
            "Ivory Coast",
            "Egypt",
            "Kenya",
            "Mauritius",
            "Morocco",
            "Nigeria",
            "South Africa",
            "Tunisia",
            "Zambia",
            "Zimbabwe"
           ],
           "name": "",
           "type": "choropleth",
           "z": [
            0,
            0,
            1,
            0,
            0,
            1,
            0,
            0,
            1,
            0,
            1,
            1,
            1
           ]
          }
         ],
         "name": "1995"
        },
        {
         "data": [
          {
           "coloraxis": "coloraxis",
           "customdata": [
            [
             0,
             0,
             "no_crisis"
            ],
            [
             1,
             1,
             "crisis"
            ],
            [
             0,
             0,
             "crisis"
            ],
            [
             0,
             0,
             "no_crisis"
            ],
            [
             0,
             0,
             "no_crisis"
            ],
            [
             0,
             0,
             "no_crisis"
            ],
            [
             0,
             0,
             "crisis"
            ],
            [
             0,
             0,
             "no_crisis"
            ],
            [
             0,
             1,
             "no_crisis"
            ],
            [
             1,
             0,
             "no_crisis"
            ],
            [
             0,
             0,
             "no_crisis"
            ],
            [
             1,
             1,
             "crisis"
            ],
            [
             1,
             0,
             "crisis"
            ]
           ],
           "geo": "geo",
           "hovertemplate": "<b>%{hovertext}</b><br><br>year=1996<br>country=%{location}<br>currency_crises=%{customdata[0]}<br>inflation_crises=%{customdata[1]}<br>banking_crisis=%{customdata[2]}<br>systemic_crisis=%{z}<extra></extra>",
           "hovertext": [
            "Algeria",
            "Angola",
            "Central African Republic",
            "Ivory Coast",
            "Egypt",
            "Kenya",
            "Mauritius",
            "Morocco",
            "Nigeria",
            "South Africa",
            "Tunisia",
            "Zambia",
            "Zimbabwe"
           ],
           "locationmode": "country names",
           "locations": [
            "Algeria",
            "Angola",
            "Central African Republic",
            "Ivory Coast",
            "Egypt",
            "Kenya",
            "Mauritius",
            "Morocco",
            "Nigeria",
            "South Africa",
            "Tunisia",
            "Zambia",
            "Zimbabwe"
           ],
           "name": "",
           "type": "choropleth",
           "z": [
            0,
            0,
            1,
            0,
            0,
            1,
            0,
            0,
            0,
            0,
            0,
            1,
            1
           ]
          }
         ],
         "name": "1996"
        },
        {
         "data": [
          {
           "coloraxis": "coloraxis",
           "customdata": [
            [
             0,
             0,
             "no_crisis"
            ],
            [
             1,
             1,
             "crisis"
            ],
            [
             0,
             0,
             "crisis"
            ],
            [
             0,
             0,
             "no_crisis"
            ],
            [
             0,
             0,
             "no_crisis"
            ],
            [
             0,
             0,
             "no_crisis"
            ],
            [
             1,
             0,
             "no_crisis"
            ],
            [
             0,
             0,
             "no_crisis"
            ],
            [
             0,
             1,
             "crisis"
            ],
            [
             0,
             0,
             "no_crisis"
            ],
            [
             0,
             0,
             "no_crisis"
            ],
            [
             0,
             1,
             "crisis"
            ],
            [
             1,
             1,
             "crisis"
            ]
           ],
           "geo": "geo",
           "hovertemplate": "<b>%{hovertext}</b><br><br>year=1997<br>country=%{location}<br>currency_crises=%{customdata[0]}<br>inflation_crises=%{customdata[1]}<br>banking_crisis=%{customdata[2]}<br>systemic_crisis=%{z}<extra></extra>",
           "hovertext": [
            "Algeria",
            "Angola",
            "Central African Republic",
            "Ivory Coast",
            "Egypt",
            "Kenya",
            "Mauritius",
            "Morocco",
            "Nigeria",
            "South Africa",
            "Tunisia",
            "Zambia",
            "Zimbabwe"
           ],
           "locationmode": "country names",
           "locations": [
            "Algeria",
            "Angola",
            "Central African Republic",
            "Ivory Coast",
            "Egypt",
            "Kenya",
            "Mauritius",
            "Morocco",
            "Nigeria",
            "South Africa",
            "Tunisia",
            "Zambia",
            "Zimbabwe"
           ],
           "name": "",
           "type": "choropleth",
           "z": [
            0,
            0,
            1,
            0,
            0,
            1,
            0,
            0,
            0,
            0,
            0,
            1,
            1
           ]
          }
         ],
         "name": "1997"
        },
        {
         "data": [
          {
           "coloraxis": "coloraxis",
           "customdata": [
            [
             0,
             0,
             "no_crisis"
            ],
            [
             1,
             1,
             "crisis"
            ],
            [
             0,
             0,
             "crisis"
            ],
            [
             0,
             0,
             "no_crisis"
            ],
            [
             0,
             0,
             "no_crisis"
            ],
            [
             0,
             0,
             "no_crisis"
            ],
            [
             0,
             0,
             "no_crisis"
            ],
            [
             0,
             0,
             "no_crisis"
            ],
            [
             0,
             0,
             "no_crisis"
            ],
            [
             1,
             0,
             "no_crisis"
            ],
            [
             0,
             0,
             "no_crisis"
            ],
            [
             1,
             1,
             "crisis"
            ],
            [
             1,
             1,
             "crisis"
            ]
           ],
           "geo": "geo",
           "hovertemplate": "<b>%{hovertext}</b><br><br>year=1998<br>country=%{location}<br>currency_crises=%{customdata[0]}<br>inflation_crises=%{customdata[1]}<br>banking_crisis=%{customdata[2]}<br>systemic_crisis=%{z}<extra></extra>",
           "hovertext": [
            "Algeria",
            "Angola",
            "Central African Republic",
            "Ivory Coast",
            "Egypt",
            "Kenya",
            "Mauritius",
            "Morocco",
            "Nigeria",
            "South Africa",
            "Tunisia",
            "Zambia",
            "Zimbabwe"
           ],
           "locationmode": "country names",
           "locations": [
            "Algeria",
            "Angola",
            "Central African Republic",
            "Ivory Coast",
            "Egypt",
            "Kenya",
            "Mauritius",
            "Morocco",
            "Nigeria",
            "South Africa",
            "Tunisia",
            "Zambia",
            "Zimbabwe"
           ],
           "name": "",
           "type": "choropleth",
           "z": [
            0,
            0,
            1,
            0,
            0,
            1,
            0,
            0,
            0,
            0,
            0,
            1,
            1
           ]
          }
         ],
         "name": "1998"
        },
        {
         "data": [
          {
           "coloraxis": "coloraxis",
           "customdata": [
            [
             0,
             0,
             "no_crisis"
            ],
            [
             1,
             1,
             "no_crisis"
            ],
            [
             0,
             0,
             "crisis"
            ],
            [
             0,
             0,
             "no_crisis"
            ],
            [
             0,
             0,
             "no_crisis"
            ],
            [
             1,
             0,
             "no_crisis"
            ],
            [
             0,
             0,
             "no_crisis"
            ],
            [
             0,
             0,
             "no_crisis"
            ],
            [
             1,
             0,
             "no_crisis"
            ],
            [
             0,
             0,
             "no_crisis"
            ],
            [
             0,
             0,
             "no_crisis"
            ],
            [
             0,
             1,
             "no_crisis"
            ],
            [
             0,
             1,
             "crisis"
            ]
           ],
           "geo": "geo",
           "hovertemplate": "<b>%{hovertext}</b><br><br>year=1999<br>country=%{location}<br>currency_crises=%{customdata[0]}<br>inflation_crises=%{customdata[1]}<br>banking_crisis=%{customdata[2]}<br>systemic_crisis=%{z}<extra></extra>",
           "hovertext": [
            "Algeria",
            "Angola",
            "Central African Republic",
            "Ivory Coast",
            "Egypt",
            "Kenya",
            "Mauritius",
            "Morocco",
            "Nigeria",
            "South Africa",
            "Tunisia",
            "Zambia",
            "Zimbabwe"
           ],
           "locationmode": "country names",
           "locations": [
            "Algeria",
            "Angola",
            "Central African Republic",
            "Ivory Coast",
            "Egypt",
            "Kenya",
            "Mauritius",
            "Morocco",
            "Nigeria",
            "South Africa",
            "Tunisia",
            "Zambia",
            "Zimbabwe"
           ],
           "name": "",
           "type": "choropleth",
           "z": [
            0,
            0,
            1,
            0,
            0,
            1,
            0,
            0,
            0,
            0,
            0,
            0,
            1
           ]
          }
         ],
         "name": "1999"
        },
        {
         "data": [
          {
           "coloraxis": "coloraxis",
           "customdata": [
            [
             0,
             0,
             "no_crisis"
            ],
            [
             1,
             1,
             "no_crisis"
            ],
            [
             0,
             0,
             "no_crisis"
            ],
            [
             0,
             0,
             "no_crisis"
            ],
            [
             0,
             0,
             "no_crisis"
            ],
            [
             0,
             0,
             "no_crisis"
            ],
            [
             0,
             0,
             "no_crisis"
            ],
            [
             0,
             0,
             "no_crisis"
            ],
            [
             0,
             0,
             "no_crisis"
            ],
            [
             1,
             0,
             "no_crisis"
            ],
            [
             0,
             0,
             "no_crisis"
            ],
            [
             1,
             1,
             "no_crisis"
            ],
            [
             1,
             1,
             "crisis"
            ]
           ],
           "geo": "geo",
           "hovertemplate": "<b>%{hovertext}</b><br><br>year=2000<br>country=%{location}<br>currency_crises=%{customdata[0]}<br>inflation_crises=%{customdata[1]}<br>banking_crisis=%{customdata[2]}<br>systemic_crisis=%{z}<extra></extra>",
           "hovertext": [
            "Algeria",
            "Angola",
            "Central African Republic",
            "Ivory Coast",
            "Egypt",
            "Kenya",
            "Mauritius",
            "Morocco",
            "Nigeria",
            "South Africa",
            "Tunisia",
            "Zambia",
            "Zimbabwe"
           ],
           "locationmode": "country names",
           "locations": [
            "Algeria",
            "Angola",
            "Central African Republic",
            "Ivory Coast",
            "Egypt",
            "Kenya",
            "Mauritius",
            "Morocco",
            "Nigeria",
            "South Africa",
            "Tunisia",
            "Zambia",
            "Zimbabwe"
           ],
           "name": "",
           "type": "choropleth",
           "z": [
            0,
            0,
            0,
            0,
            0,
            0,
            0,
            0,
            0,
            0,
            0,
            0,
            1
           ]
          }
         ],
         "name": "2000"
        },
        {
         "data": [
          {
           "coloraxis": "coloraxis",
           "customdata": [
            [
             0,
             0,
             "no_crisis"
            ],
            [
             1,
             1,
             "no_crisis"
            ],
            [
             0,
             0,
             "no_crisis"
            ],
            [
             0,
             0,
             "no_crisis"
            ],
            [
             1,
             0,
             "no_crisis"
            ],
            [
             0,
             0,
             "no_crisis"
            ],
            [
             0,
             0,
             "no_crisis"
            ],
            [
             0,
             0,
             "no_crisis"
            ],
            [
             0,
             0,
             "no_crisis"
            ],
            [
             1,
             0,
             "no_crisis"
            ],
            [
             0,
             0,
             "no_crisis"
            ],
            [
             0,
             1,
             "no_crisis"
            ],
            [
             0,
             1,
             "crisis"
            ]
           ],
           "geo": "geo",
           "hovertemplate": "<b>%{hovertext}</b><br><br>year=2001<br>country=%{location}<br>currency_crises=%{customdata[0]}<br>inflation_crises=%{customdata[1]}<br>banking_crisis=%{customdata[2]}<br>systemic_crisis=%{z}<extra></extra>",
           "hovertext": [
            "Algeria",
            "Angola",
            "Central African Republic",
            "Ivory Coast",
            "Egypt",
            "Kenya",
            "Mauritius",
            "Morocco",
            "Nigeria",
            "South Africa",
            "Tunisia",
            "Zambia",
            "Zimbabwe"
           ],
           "locationmode": "country names",
           "locations": [
            "Algeria",
            "Angola",
            "Central African Republic",
            "Ivory Coast",
            "Egypt",
            "Kenya",
            "Mauritius",
            "Morocco",
            "Nigeria",
            "South Africa",
            "Tunisia",
            "Zambia",
            "Zimbabwe"
           ],
           "name": "",
           "type": "choropleth",
           "z": [
            0,
            0,
            0,
            0,
            0,
            0,
            0,
            0,
            0,
            0,
            0,
            0,
            1
           ]
          }
         ],
         "name": "2001"
        },
        {
         "data": [
          {
           "coloraxis": "coloraxis",
           "customdata": [
            [
             0,
             0,
             "no_crisis"
            ],
            [
             1,
             1,
             "no_crisis"
            ],
            [
             0,
             0,
             "no_crisis"
            ],
            [
             0,
             0,
             "no_crisis"
            ],
            [
             0,
             0,
             "no_crisis"
            ],
            [
             0,
             0,
             "no_crisis"
            ],
            [
             0,
             0,
             "no_crisis"
            ],
            [
             0,
             0,
             "no_crisis"
            ],
            [
             0,
             0,
             "no_crisis"
            ],
            [
             0,
             0,
             "no_crisis"
            ],
            [
             0,
             0,
             "no_crisis"
            ],
            [
             0,
             1,
             "no_crisis"
            ],
            [
             0,
             1,
             "crisis"
            ]
           ],
           "geo": "geo",
           "hovertemplate": "<b>%{hovertext}</b><br><br>year=2002<br>country=%{location}<br>currency_crises=%{customdata[0]}<br>inflation_crises=%{customdata[1]}<br>banking_crisis=%{customdata[2]}<br>systemic_crisis=%{z}<extra></extra>",
           "hovertext": [
            "Algeria",
            "Angola",
            "Central African Republic",
            "Ivory Coast",
            "Egypt",
            "Kenya",
            "Mauritius",
            "Morocco",
            "Nigeria",
            "South Africa",
            "Tunisia",
            "Zambia",
            "Zimbabwe"
           ],
           "locationmode": "country names",
           "locations": [
            "Algeria",
            "Angola",
            "Central African Republic",
            "Ivory Coast",
            "Egypt",
            "Kenya",
            "Mauritius",
            "Morocco",
            "Nigeria",
            "South Africa",
            "Tunisia",
            "Zambia",
            "Zimbabwe"
           ],
           "name": "",
           "type": "choropleth",
           "z": [
            0,
            0,
            0,
            0,
            0,
            0,
            0,
            0,
            0,
            0,
            0,
            0,
            1
           ]
          }
         ],
         "name": "2002"
        },
        {
         "data": [
          {
           "coloraxis": "coloraxis",
           "customdata": [
            [
             0,
             0,
             "no_crisis"
            ],
            [
             1,
             1,
             "no_crisis"
            ],
            [
             0,
             0,
             "no_crisis"
            ],
            [
             0,
             0,
             "no_crisis"
            ],
            [
             1,
             0,
             "no_crisis"
            ],
            [
             0,
             0,
             "no_crisis"
            ],
            [
             0,
             0,
             "no_crisis"
            ],
            [
             0,
             0,
             "no_crisis"
            ],
            [
             0,
             0,
             "no_crisis"
            ],
            [
             0,
             0,
             "no_crisis"
            ],
            [
             0,
             0,
             "no_crisis"
            ],
            [
             0,
             1,
             "no_crisis"
            ],
            [
             1,
             1,
             "crisis"
            ]
           ],
           "geo": "geo",
           "hovertemplate": "<b>%{hovertext}</b><br><br>year=2003<br>country=%{location}<br>currency_crises=%{customdata[0]}<br>inflation_crises=%{customdata[1]}<br>banking_crisis=%{customdata[2]}<br>systemic_crisis=%{z}<extra></extra>",
           "hovertext": [
            "Algeria",
            "Angola",
            "Central African Republic",
            "Ivory Coast",
            "Egypt",
            "Kenya",
            "Mauritius",
            "Morocco",
            "Nigeria",
            "South Africa",
            "Tunisia",
            "Zambia",
            "Zimbabwe"
           ],
           "locationmode": "country names",
           "locations": [
            "Algeria",
            "Angola",
            "Central African Republic",
            "Ivory Coast",
            "Egypt",
            "Kenya",
            "Mauritius",
            "Morocco",
            "Nigeria",
            "South Africa",
            "Tunisia",
            "Zambia",
            "Zimbabwe"
           ],
           "name": "",
           "type": "choropleth",
           "z": [
            0,
            0,
            0,
            0,
            0,
            0,
            0,
            0,
            0,
            0,
            0,
            0,
            1
           ]
          }
         ],
         "name": "2003"
        },
        {
         "data": [
          {
           "coloraxis": "coloraxis",
           "customdata": [
            [
             0,
             0,
             "no_crisis"
            ],
            [
             1,
             1,
             "no_crisis"
            ],
            [
             0,
             0,
             "no_crisis"
            ],
            [
             0,
             0,
             "no_crisis"
            ],
            [
             0,
             0,
             "no_crisis"
            ],
            [
             0,
             0,
             "no_crisis"
            ],
            [
             0,
             0,
             "no_crisis"
            ],
            [
             0,
             0,
             "no_crisis"
            ],
            [
             0,
             0,
             "no_crisis"
            ],
            [
             0,
             0,
             "no_crisis"
            ],
            [
             0,
             0,
             "no_crisis"
            ],
            [
             0,
             0,
             "no_crisis"
            ],
            [
             1,
             1,
             "crisis"
            ]
           ],
           "geo": "geo",
           "hovertemplate": "<b>%{hovertext}</b><br><br>year=2004<br>country=%{location}<br>currency_crises=%{customdata[0]}<br>inflation_crises=%{customdata[1]}<br>banking_crisis=%{customdata[2]}<br>systemic_crisis=%{z}<extra></extra>",
           "hovertext": [
            "Algeria",
            "Angola",
            "Central African Republic",
            "Ivory Coast",
            "Egypt",
            "Kenya",
            "Mauritius",
            "Morocco",
            "Nigeria",
            "South Africa",
            "Tunisia",
            "Zambia",
            "Zimbabwe"
           ],
           "locationmode": "country names",
           "locations": [
            "Algeria",
            "Angola",
            "Central African Republic",
            "Ivory Coast",
            "Egypt",
            "Kenya",
            "Mauritius",
            "Morocco",
            "Nigeria",
            "South Africa",
            "Tunisia",
            "Zambia",
            "Zimbabwe"
           ],
           "name": "",
           "type": "choropleth",
           "z": [
            0,
            0,
            0,
            0,
            0,
            0,
            0,
            0,
            0,
            0,
            0,
            0,
            1
           ]
          }
         ],
         "name": "2004"
        },
        {
         "data": [
          {
           "coloraxis": "coloraxis",
           "customdata": [
            [
             0,
             0,
             "no_crisis"
            ],
            [
             1,
             1,
             "no_crisis"
            ],
            [
             0,
             0,
             "no_crisis"
            ],
            [
             0,
             0,
             "no_crisis"
            ],
            [
             0,
             0,
             "no_crisis"
            ],
            [
             0,
             0,
             "no_crisis"
            ],
            [
             0,
             0,
             "no_crisis"
            ],
            [
             0,
             0,
             "no_crisis"
            ],
            [
             0,
             0,
             "no_crisis"
            ],
            [
             0,
             0,
             "no_crisis"
            ],
            [
             0,
             0,
             "no_crisis"
            ],
            [
             0,
             0,
             "no_crisis"
            ],
            [
             1,
             1,
             "crisis"
            ]
           ],
           "geo": "geo",
           "hovertemplate": "<b>%{hovertext}</b><br><br>year=2005<br>country=%{location}<br>currency_crises=%{customdata[0]}<br>inflation_crises=%{customdata[1]}<br>banking_crisis=%{customdata[2]}<br>systemic_crisis=%{z}<extra></extra>",
           "hovertext": [
            "Algeria",
            "Angola",
            "Central African Republic",
            "Ivory Coast",
            "Egypt",
            "Kenya",
            "Mauritius",
            "Morocco",
            "Nigeria",
            "South Africa",
            "Tunisia",
            "Zambia",
            "Zimbabwe"
           ],
           "locationmode": "country names",
           "locations": [
            "Algeria",
            "Angola",
            "Central African Republic",
            "Ivory Coast",
            "Egypt",
            "Kenya",
            "Mauritius",
            "Morocco",
            "Nigeria",
            "South Africa",
            "Tunisia",
            "Zambia",
            "Zimbabwe"
           ],
           "name": "",
           "type": "choropleth",
           "z": [
            0,
            0,
            0,
            0,
            0,
            0,
            0,
            0,
            0,
            0,
            0,
            0,
            1
           ]
          }
         ],
         "name": "2005"
        },
        {
         "data": [
          {
           "coloraxis": "coloraxis",
           "customdata": [
            [
             0,
             0,
             "no_crisis"
            ],
            [
             0,
             0,
             "no_crisis"
            ],
            [
             0,
             0,
             "no_crisis"
            ],
            [
             0,
             0,
             "no_crisis"
            ],
            [
             0,
             0,
             "no_crisis"
            ],
            [
             0,
             0,
             "no_crisis"
            ],
            [
             0,
             0,
             "no_crisis"
            ],
            [
             0,
             0,
             "no_crisis"
            ],
            [
             0,
             0,
             "no_crisis"
            ],
            [
             0,
             0,
             "no_crisis"
            ],
            [
             0,
             0,
             "no_crisis"
            ],
            [
             0,
             0,
             "no_crisis"
            ],
            [
             1,
             1,
             "crisis"
            ]
           ],
           "geo": "geo",
           "hovertemplate": "<b>%{hovertext}</b><br><br>year=2006<br>country=%{location}<br>currency_crises=%{customdata[0]}<br>inflation_crises=%{customdata[1]}<br>banking_crisis=%{customdata[2]}<br>systemic_crisis=%{z}<extra></extra>",
           "hovertext": [
            "Algeria",
            "Angola",
            "Central African Republic",
            "Ivory Coast",
            "Egypt",
            "Kenya",
            "Mauritius",
            "Morocco",
            "Nigeria",
            "South Africa",
            "Tunisia",
            "Zambia",
            "Zimbabwe"
           ],
           "locationmode": "country names",
           "locations": [
            "Algeria",
            "Angola",
            "Central African Republic",
            "Ivory Coast",
            "Egypt",
            "Kenya",
            "Mauritius",
            "Morocco",
            "Nigeria",
            "South Africa",
            "Tunisia",
            "Zambia",
            "Zimbabwe"
           ],
           "name": "",
           "type": "choropleth",
           "z": [
            0,
            0,
            0,
            0,
            0,
            0,
            0,
            0,
            0,
            0,
            0,
            0,
            1
           ]
          }
         ],
         "name": "2006"
        },
        {
         "data": [
          {
           "coloraxis": "coloraxis",
           "customdata": [
            [
             0,
             0,
             "no_crisis"
            ],
            [
             0,
             0,
             "no_crisis"
            ],
            [
             0,
             0,
             "no_crisis"
            ],
            [
             0,
             0,
             "no_crisis"
            ],
            [
             0,
             0,
             "no_crisis"
            ],
            [
             0,
             0,
             "no_crisis"
            ],
            [
             0,
             0,
             "no_crisis"
            ],
            [
             0,
             0,
             "no_crisis"
            ],
            [
             0,
             0,
             "no_crisis"
            ],
            [
             0,
             0,
             "no_crisis"
            ],
            [
             0,
             0,
             "no_crisis"
            ],
            [
             0,
             0,
             "no_crisis"
            ],
            [
             1,
             1,
             "crisis"
            ]
           ],
           "geo": "geo",
           "hovertemplate": "<b>%{hovertext}</b><br><br>year=2007<br>country=%{location}<br>currency_crises=%{customdata[0]}<br>inflation_crises=%{customdata[1]}<br>banking_crisis=%{customdata[2]}<br>systemic_crisis=%{z}<extra></extra>",
           "hovertext": [
            "Algeria",
            "Angola",
            "Central African Republic",
            "Ivory Coast",
            "Egypt",
            "Kenya",
            "Mauritius",
            "Morocco",
            "Nigeria",
            "South Africa",
            "Tunisia",
            "Zambia",
            "Zimbabwe"
           ],
           "locationmode": "country names",
           "locations": [
            "Algeria",
            "Angola",
            "Central African Republic",
            "Ivory Coast",
            "Egypt",
            "Kenya",
            "Mauritius",
            "Morocco",
            "Nigeria",
            "South Africa",
            "Tunisia",
            "Zambia",
            "Zimbabwe"
           ],
           "name": "",
           "type": "choropleth",
           "z": [
            0,
            0,
            0,
            0,
            0,
            0,
            0,
            0,
            0,
            0,
            0,
            0,
            1
           ]
          }
         ],
         "name": "2007"
        },
        {
         "data": [
          {
           "coloraxis": "coloraxis",
           "customdata": [
            [
             0,
             0,
             "no_crisis"
            ],
            [
             0,
             0,
             "no_crisis"
            ],
            [
             0,
             0,
             "no_crisis"
            ],
            [
             0,
             0,
             "no_crisis"
            ],
            [
             0,
             0,
             "no_crisis"
            ],
            [
             1,
             0,
             "no_crisis"
            ],
            [
             0,
             0,
             "no_crisis"
            ],
            [
             0,
             0,
             "no_crisis"
            ],
            [
             0,
             0,
             "no_crisis"
            ],
            [
             1,
             0,
             "no_crisis"
            ],
            [
             0,
             0,
             "no_crisis"
            ],
            [
             1,
             0,
             "no_crisis"
            ],
            [
             1,
             1,
             "crisis"
            ]
           ],
           "geo": "geo",
           "hovertemplate": "<b>%{hovertext}</b><br><br>year=2008<br>country=%{location}<br>currency_crises=%{customdata[0]}<br>inflation_crises=%{customdata[1]}<br>banking_crisis=%{customdata[2]}<br>systemic_crisis=%{z}<extra></extra>",
           "hovertext": [
            "Algeria",
            "Angola",
            "Central African Republic",
            "Ivory Coast",
            "Egypt",
            "Kenya",
            "Mauritius",
            "Morocco",
            "Nigeria",
            "South Africa",
            "Tunisia",
            "Zambia",
            "Zimbabwe"
           ],
           "locationmode": "country names",
           "locations": [
            "Algeria",
            "Angola",
            "Central African Republic",
            "Ivory Coast",
            "Egypt",
            "Kenya",
            "Mauritius",
            "Morocco",
            "Nigeria",
            "South Africa",
            "Tunisia",
            "Zambia",
            "Zimbabwe"
           ],
           "name": "",
           "type": "choropleth",
           "z": [
            0,
            0,
            0,
            0,
            0,
            0,
            0,
            0,
            0,
            0,
            0,
            0,
            1
           ]
          }
         ],
         "name": "2008"
        },
        {
         "data": [
          {
           "coloraxis": "coloraxis",
           "customdata": [
            [
             0,
             0,
             "no_crisis"
            ],
            [
             1,
             0,
             "no_crisis"
            ],
            [
             0,
             0,
             "no_crisis"
            ],
            [
             0,
             0,
             "no_crisis"
            ],
            [
             0,
             0,
             "no_crisis"
            ],
            [
             0,
             0,
             "no_crisis"
            ],
            [
             0,
             0,
             "no_crisis"
            ],
            [
             0,
             0,
             "no_crisis"
            ],
            [
             0,
             0,
             "crisis"
            ],
            [
             0,
             0,
             "no_crisis"
            ],
            [
             0,
             0,
             "no_crisis"
            ],
            [
             0,
             0,
             "no_crisis"
            ],
            [
             1,
             0,
             "crisis"
            ]
           ],
           "geo": "geo",
           "hovertemplate": "<b>%{hovertext}</b><br><br>year=2009<br>country=%{location}<br>currency_crises=%{customdata[0]}<br>inflation_crises=%{customdata[1]}<br>banking_crisis=%{customdata[2]}<br>systemic_crisis=%{z}<extra></extra>",
           "hovertext": [
            "Algeria",
            "Angola",
            "Central African Republic",
            "Ivory Coast",
            "Egypt",
            "Kenya",
            "Mauritius",
            "Morocco",
            "Nigeria",
            "South Africa",
            "Tunisia",
            "Zambia",
            "Zimbabwe"
           ],
           "locationmode": "country names",
           "locations": [
            "Algeria",
            "Angola",
            "Central African Republic",
            "Ivory Coast",
            "Egypt",
            "Kenya",
            "Mauritius",
            "Morocco",
            "Nigeria",
            "South Africa",
            "Tunisia",
            "Zambia",
            "Zimbabwe"
           ],
           "name": "",
           "type": "choropleth",
           "z": [
            0,
            0,
            0,
            0,
            0,
            0,
            0,
            0,
            1,
            0,
            0,
            0,
            1
           ]
          }
         ],
         "name": "2009"
        },
        {
         "data": [
          {
           "coloraxis": "coloraxis",
           "customdata": [
            [
             0,
             0,
             "no_crisis"
            ],
            [
             0,
             0,
             "no_crisis"
            ],
            [
             0,
             0,
             "no_crisis"
            ],
            [
             0,
             0,
             "no_crisis"
            ],
            [
             0,
             0,
             "no_crisis"
            ],
            [
             0,
             0,
             "no_crisis"
            ],
            [
             0,
             0,
             "no_crisis"
            ],
            [
             0,
             0,
             "no_crisis"
            ],
            [
             0,
             0,
             "crisis"
            ],
            [
             0,
             0,
             "no_crisis"
            ],
            [
             0,
             0,
             "no_crisis"
            ],
            [
             0,
             0,
             "no_crisis"
            ],
            [
             0,
             0,
             "no_crisis"
            ]
           ],
           "geo": "geo",
           "hovertemplate": "<b>%{hovertext}</b><br><br>year=2010<br>country=%{location}<br>currency_crises=%{customdata[0]}<br>inflation_crises=%{customdata[1]}<br>banking_crisis=%{customdata[2]}<br>systemic_crisis=%{z}<extra></extra>",
           "hovertext": [
            "Algeria",
            "Angola",
            "Central African Republic",
            "Ivory Coast",
            "Egypt",
            "Kenya",
            "Mauritius",
            "Morocco",
            "Nigeria",
            "South Africa",
            "Tunisia",
            "Zambia",
            "Zimbabwe"
           ],
           "locationmode": "country names",
           "locations": [
            "Algeria",
            "Angola",
            "Central African Republic",
            "Ivory Coast",
            "Egypt",
            "Kenya",
            "Mauritius",
            "Morocco",
            "Nigeria",
            "South Africa",
            "Tunisia",
            "Zambia",
            "Zimbabwe"
           ],
           "name": "",
           "type": "choropleth",
           "z": [
            0,
            0,
            0,
            0,
            0,
            0,
            0,
            0,
            1,
            0,
            0,
            0,
            0
           ]
          }
         ],
         "name": "2010"
        },
        {
         "data": [
          {
           "coloraxis": "coloraxis",
           "customdata": [
            [
             0,
             0,
             "no_crisis"
            ],
            [
             0,
             0,
             "no_crisis"
            ],
            [
             0,
             0,
             "no_crisis"
            ],
            [
             0,
             0,
             "no_crisis"
            ],
            [
             0,
             0,
             "no_crisis"
            ],
            [
             0,
             0,
             "no_crisis"
            ],
            [
             0,
             0,
             "no_crisis"
            ],
            [
             0,
             0,
             "no_crisis"
            ],
            [
             0,
             0,
             "crisis"
            ],
            [
             1,
             0,
             "no_crisis"
            ],
            [
             0,
             0,
             "no_crisis"
            ],
            [
             0,
             0,
             "no_crisis"
            ],
            [
             0,
             0,
             "no_crisis"
            ]
           ],
           "geo": "geo",
           "hovertemplate": "<b>%{hovertext}</b><br><br>year=2011<br>country=%{location}<br>currency_crises=%{customdata[0]}<br>inflation_crises=%{customdata[1]}<br>banking_crisis=%{customdata[2]}<br>systemic_crisis=%{z}<extra></extra>",
           "hovertext": [
            "Algeria",
            "Angola",
            "Central African Republic",
            "Ivory Coast",
            "Egypt",
            "Kenya",
            "Mauritius",
            "Morocco",
            "Nigeria",
            "South Africa",
            "Tunisia",
            "Zambia",
            "Zimbabwe"
           ],
           "locationmode": "country names",
           "locations": [
            "Algeria",
            "Angola",
            "Central African Republic",
            "Ivory Coast",
            "Egypt",
            "Kenya",
            "Mauritius",
            "Morocco",
            "Nigeria",
            "South Africa",
            "Tunisia",
            "Zambia",
            "Zimbabwe"
           ],
           "name": "",
           "type": "choropleth",
           "z": [
            0,
            0,
            0,
            0,
            0,
            0,
            0,
            0,
            1,
            0,
            0,
            0,
            0
           ]
          }
         ],
         "name": "2011"
        },
        {
         "data": [
          {
           "coloraxis": "coloraxis",
           "customdata": [
            [
             0,
             0,
             "no_crisis"
            ],
            [
             0,
             0,
             "no_crisis"
            ],
            [
             0,
             0,
             "no_crisis"
            ],
            [
             0,
             0,
             "no_crisis"
            ],
            [
             0,
             0,
             "no_crisis"
            ],
            [
             0,
             0,
             "no_crisis"
            ],
            [
             0,
             0,
             "no_crisis"
            ],
            [
             0,
             0,
             "no_crisis"
            ],
            [
             0,
             0,
             "crisis"
            ],
            [
             0,
             0,
             "no_crisis"
            ],
            [
             0,
             0,
             "no_crisis"
            ],
            [
             0,
             0,
             "no_crisis"
            ],
            [
             0,
             0,
             "no_crisis"
            ]
           ],
           "geo": "geo",
           "hovertemplate": "<b>%{hovertext}</b><br><br>year=2012<br>country=%{location}<br>currency_crises=%{customdata[0]}<br>inflation_crises=%{customdata[1]}<br>banking_crisis=%{customdata[2]}<br>systemic_crisis=%{z}<extra></extra>",
           "hovertext": [
            "Algeria",
            "Angola",
            "Central African Republic",
            "Ivory Coast",
            "Egypt",
            "Kenya",
            "Mauritius",
            "Morocco",
            "Nigeria",
            "South Africa",
            "Tunisia",
            "Zambia",
            "Zimbabwe"
           ],
           "locationmode": "country names",
           "locations": [
            "Algeria",
            "Angola",
            "Central African Republic",
            "Ivory Coast",
            "Egypt",
            "Kenya",
            "Mauritius",
            "Morocco",
            "Nigeria",
            "South Africa",
            "Tunisia",
            "Zambia",
            "Zimbabwe"
           ],
           "name": "",
           "type": "choropleth",
           "z": [
            0,
            0,
            0,
            0,
            0,
            0,
            0,
            0,
            1,
            0,
            0,
            0,
            0
           ]
          }
         ],
         "name": "2012"
        },
        {
         "data": [
          {
           "coloraxis": "coloraxis",
           "customdata": [
            [
             0,
             0,
             "no_crisis"
            ],
            [
             0,
             0,
             "no_crisis"
            ],
            [
             0,
             0,
             "no_crisis"
            ],
            [
             0,
             0,
             "no_crisis"
            ],
            [
             0,
             0,
             "no_crisis"
            ],
            [
             0,
             0,
             "no_crisis"
            ],
            [
             0,
             0,
             "no_crisis"
            ],
            [
             0,
             0,
             "no_crisis"
            ],
            [
             0,
             0,
             "crisis"
            ],
            [
             1,
             0,
             "no_crisis"
            ],
            [
             0,
             0,
             "no_crisis"
            ],
            [
             1,
             0,
             "no_crisis"
            ],
            [
             0,
             0,
             "no_crisis"
            ]
           ],
           "geo": "geo",
           "hovertemplate": "<b>%{hovertext}</b><br><br>year=2013<br>country=%{location}<br>currency_crises=%{customdata[0]}<br>inflation_crises=%{customdata[1]}<br>banking_crisis=%{customdata[2]}<br>systemic_crisis=%{z}<extra></extra>",
           "hovertext": [
            "Algeria",
            "Angola",
            "Central African Republic",
            "Ivory Coast",
            "Egypt",
            "Kenya",
            "Mauritius",
            "Morocco",
            "Nigeria",
            "South Africa",
            "Tunisia",
            "Zambia",
            "Zimbabwe"
           ],
           "locationmode": "country names",
           "locations": [
            "Algeria",
            "Angola",
            "Central African Republic",
            "Ivory Coast",
            "Egypt",
            "Kenya",
            "Mauritius",
            "Morocco",
            "Nigeria",
            "South Africa",
            "Tunisia",
            "Zambia",
            "Zimbabwe"
           ],
           "name": "",
           "type": "choropleth",
           "z": [
            0,
            0,
            0,
            0,
            0,
            0,
            0,
            0,
            1,
            0,
            0,
            0,
            0
           ]
          }
         ],
         "name": "2013"
        },
        {
         "data": [
          {
           "coloraxis": "coloraxis",
           "customdata": [
            [
             0,
             0,
             "no_crisis"
            ],
            [
             0,
             0,
             "no_crisis"
            ],
            [
             0,
             0,
             "no_crisis"
            ],
            [
             0,
             0,
             "no_crisis"
            ],
            [
             0,
             0,
             "no_crisis"
            ],
            [
             0,
             0,
             "no_crisis"
            ],
            [
             0,
             0,
             "no_crisis"
            ],
            [
             0,
             0,
             "no_crisis"
            ],
            [
             0,
             0,
             "crisis"
            ],
            [
             0,
             0,
             "no_crisis"
            ],
            [
             0,
             0,
             "no_crisis"
            ]
           ],
           "geo": "geo",
           "hovertemplate": "<b>%{hovertext}</b><br><br>year=2014<br>country=%{location}<br>currency_crises=%{customdata[0]}<br>inflation_crises=%{customdata[1]}<br>banking_crisis=%{customdata[2]}<br>systemic_crisis=%{z}<extra></extra>",
           "hovertext": [
            "Algeria",
            "Angola",
            "Central African Republic",
            "Ivory Coast",
            "Egypt",
            "Kenya",
            "Mauritius",
            "Morocco",
            "Nigeria",
            "Tunisia",
            "Zambia"
           ],
           "locationmode": "country names",
           "locations": [
            "Algeria",
            "Angola",
            "Central African Republic",
            "Ivory Coast",
            "Egypt",
            "Kenya",
            "Mauritius",
            "Morocco",
            "Nigeria",
            "Tunisia",
            "Zambia"
           ],
           "name": "",
           "type": "choropleth",
           "z": [
            0,
            0,
            0,
            0,
            0,
            0,
            0,
            0,
            1,
            0,
            0
           ]
          }
         ],
         "name": "2014"
        },
        {
         "data": [
          {
           "coloraxis": "coloraxis",
           "customdata": [
            [
             0,
             1,
             "no_crisis"
            ],
            [
             0,
             0,
             "no_crisis"
            ],
            [
             0,
             0,
             "no_crisis"
            ],
            [
             0,
             0,
             "no_crisis"
            ]
           ],
           "geo": "geo",
           "hovertemplate": "<b>%{hovertext}</b><br><br>year=1921<br>country=%{location}<br>currency_crises=%{customdata[0]}<br>inflation_crises=%{customdata[1]}<br>banking_crisis=%{customdata[2]}<br>systemic_crisis=%{z}<extra></extra>",
           "hovertext": [
            "Angola",
            "Egypt",
            "South Africa",
            "Zimbabwe"
           ],
           "locationmode": "country names",
           "locations": [
            "Angola",
            "Egypt",
            "South Africa",
            "Zimbabwe"
           ],
           "name": "",
           "type": "choropleth",
           "z": [
            0,
            0,
            0,
            0
           ]
          }
         ],
         "name": "1921"
        },
        {
         "data": [
          {
           "coloraxis": "coloraxis",
           "customdata": [
            [
             0,
             1,
             "no_crisis"
            ],
            [
             0,
             0,
             "no_crisis"
            ],
            [
             0,
             0,
             "no_crisis"
            ],
            [
             0,
             0,
             "no_crisis"
            ]
           ],
           "geo": "geo",
           "hovertemplate": "<b>%{hovertext}</b><br><br>year=1922<br>country=%{location}<br>currency_crises=%{customdata[0]}<br>inflation_crises=%{customdata[1]}<br>banking_crisis=%{customdata[2]}<br>systemic_crisis=%{z}<extra></extra>",
           "hovertext": [
            "Angola",
            "Egypt",
            "South Africa",
            "Zimbabwe"
           ],
           "locationmode": "country names",
           "locations": [
            "Angola",
            "Egypt",
            "South Africa",
            "Zimbabwe"
           ],
           "name": "",
           "type": "choropleth",
           "z": [
            0,
            0,
            0,
            0
           ]
          }
         ],
         "name": "1922"
        },
        {
         "data": [
          {
           "coloraxis": "coloraxis",
           "customdata": [
            [
             0,
             1,
             "no_crisis"
            ],
            [
             0,
             0,
             "no_crisis"
            ],
            [
             0,
             0,
             "no_crisis"
            ],
            [
             0,
             0,
             "no_crisis"
            ]
           ],
           "geo": "geo",
           "hovertemplate": "<b>%{hovertext}</b><br><br>year=1923<br>country=%{location}<br>currency_crises=%{customdata[0]}<br>inflation_crises=%{customdata[1]}<br>banking_crisis=%{customdata[2]}<br>systemic_crisis=%{z}<extra></extra>",
           "hovertext": [
            "Angola",
            "Egypt",
            "South Africa",
            "Zimbabwe"
           ],
           "locationmode": "country names",
           "locations": [
            "Angola",
            "Egypt",
            "South Africa",
            "Zimbabwe"
           ],
           "name": "",
           "type": "choropleth",
           "z": [
            0,
            0,
            0,
            0
           ]
          }
         ],
         "name": "1923"
        },
        {
         "data": [
          {
           "coloraxis": "coloraxis",
           "customdata": [
            [
             0,
             1,
             "no_crisis"
            ],
            [
             0,
             0,
             "no_crisis"
            ],
            [
             0,
             0,
             "no_crisis"
            ]
           ],
           "geo": "geo",
           "hovertemplate": "<b>%{hovertext}</b><br><br>year=1924<br>country=%{location}<br>currency_crises=%{customdata[0]}<br>inflation_crises=%{customdata[1]}<br>banking_crisis=%{customdata[2]}<br>systemic_crisis=%{z}<extra></extra>",
           "hovertext": [
            "Angola",
            "Egypt",
            "South Africa"
           ],
           "locationmode": "country names",
           "locations": [
            "Angola",
            "Egypt",
            "South Africa"
           ],
           "name": "",
           "type": "choropleth",
           "z": [
            0,
            0,
            0
           ]
          }
         ],
         "name": "1924"
        },
        {
         "data": [
          {
           "coloraxis": "coloraxis",
           "customdata": [
            [
             0,
             0,
             "no_crisis"
            ],
            [
             0,
             0,
             "no_crisis"
            ],
            [
             0,
             0,
             "no_crisis"
            ]
           ],
           "geo": "geo",
           "hovertemplate": "<b>%{hovertext}</b><br><br>year=1925<br>country=%{location}<br>currency_crises=%{customdata[0]}<br>inflation_crises=%{customdata[1]}<br>banking_crisis=%{customdata[2]}<br>systemic_crisis=%{z}<extra></extra>",
           "hovertext": [
            "Angola",
            "Egypt",
            "South Africa"
           ],
           "locationmode": "country names",
           "locations": [
            "Angola",
            "Egypt",
            "South Africa"
           ],
           "name": "",
           "type": "choropleth",
           "z": [
            0,
            0,
            0
           ]
          }
         ],
         "name": "1925"
        },
        {
         "data": [
          {
           "coloraxis": "coloraxis",
           "customdata": [
            [
             0,
             0,
             "no_crisis"
            ],
            [
             0,
             0,
             "no_crisis"
            ],
            [
             0,
             0,
             "no_crisis"
            ]
           ],
           "geo": "geo",
           "hovertemplate": "<b>%{hovertext}</b><br><br>year=1926<br>country=%{location}<br>currency_crises=%{customdata[0]}<br>inflation_crises=%{customdata[1]}<br>banking_crisis=%{customdata[2]}<br>systemic_crisis=%{z}<extra></extra>",
           "hovertext": [
            "Angola",
            "Egypt",
            "South Africa"
           ],
           "locationmode": "country names",
           "locations": [
            "Angola",
            "Egypt",
            "South Africa"
           ],
           "name": "",
           "type": "choropleth",
           "z": [
            0,
            0,
            0
           ]
          }
         ],
         "name": "1926"
        },
        {
         "data": [
          {
           "coloraxis": "coloraxis",
           "customdata": [
            [
             0,
             0,
             "no_crisis"
            ],
            [
             0,
             0,
             "no_crisis"
            ],
            [
             0,
             0,
             "no_crisis"
            ],
            [
             0,
             0,
             "no_crisis"
            ]
           ],
           "geo": "geo",
           "hovertemplate": "<b>%{hovertext}</b><br><br>year=1927<br>country=%{location}<br>currency_crises=%{customdata[0]}<br>inflation_crises=%{customdata[1]}<br>banking_crisis=%{customdata[2]}<br>systemic_crisis=%{z}<extra></extra>",
           "hovertext": [
            "Angola",
            "Egypt",
            "South Africa",
            "Zimbabwe"
           ],
           "locationmode": "country names",
           "locations": [
            "Angola",
            "Egypt",
            "South Africa",
            "Zimbabwe"
           ],
           "name": "",
           "type": "choropleth",
           "z": [
            0,
            0,
            0,
            0
           ]
          }
         ],
         "name": "1927"
        },
        {
         "data": [
          {
           "coloraxis": "coloraxis",
           "customdata": [
            [
             0,
             0,
             "no_crisis"
            ],
            [
             0,
             0,
             "no_crisis"
            ],
            [
             0,
             0,
             "no_crisis"
            ],
            [
             0,
             0,
             "no_crisis"
            ]
           ],
           "geo": "geo",
           "hovertemplate": "<b>%{hovertext}</b><br><br>year=1928<br>country=%{location}<br>currency_crises=%{customdata[0]}<br>inflation_crises=%{customdata[1]}<br>banking_crisis=%{customdata[2]}<br>systemic_crisis=%{z}<extra></extra>",
           "hovertext": [
            "Angola",
            "Egypt",
            "South Africa",
            "Zimbabwe"
           ],
           "locationmode": "country names",
           "locations": [
            "Angola",
            "Egypt",
            "South Africa",
            "Zimbabwe"
           ],
           "name": "",
           "type": "choropleth",
           "z": [
            0,
            0,
            0,
            0
           ]
          }
         ],
         "name": "1928"
        },
        {
         "data": [
          {
           "coloraxis": "coloraxis",
           "customdata": [
            [
             0,
             0,
             "no_crisis"
            ],
            [
             0,
             0,
             "no_crisis"
            ],
            [
             0,
             0,
             "no_crisis"
            ],
            [
             0,
             0,
             "no_crisis"
            ]
           ],
           "geo": "geo",
           "hovertemplate": "<b>%{hovertext}</b><br><br>year=1929<br>country=%{location}<br>currency_crises=%{customdata[0]}<br>inflation_crises=%{customdata[1]}<br>banking_crisis=%{customdata[2]}<br>systemic_crisis=%{z}<extra></extra>",
           "hovertext": [
            "Angola",
            "Egypt",
            "South Africa",
            "Zimbabwe"
           ],
           "locationmode": "country names",
           "locations": [
            "Angola",
            "Egypt",
            "South Africa",
            "Zimbabwe"
           ],
           "name": "",
           "type": "choropleth",
           "z": [
            0,
            0,
            0,
            0
           ]
          }
         ],
         "name": "1929"
        },
        {
         "data": [
          {
           "coloraxis": "coloraxis",
           "customdata": [
            [
             0,
             0,
             "no_crisis"
            ],
            [
             0,
             0,
             "no_crisis"
            ],
            [
             0,
             0,
             "no_crisis"
            ],
            [
             0,
             0,
             "no_crisis"
            ]
           ],
           "geo": "geo",
           "hovertemplate": "<b>%{hovertext}</b><br><br>year=1930<br>country=%{location}<br>currency_crises=%{customdata[0]}<br>inflation_crises=%{customdata[1]}<br>banking_crisis=%{customdata[2]}<br>systemic_crisis=%{z}<extra></extra>",
           "hovertext": [
            "Angola",
            "Egypt",
            "South Africa",
            "Zimbabwe"
           ],
           "locationmode": "country names",
           "locations": [
            "Angola",
            "Egypt",
            "South Africa",
            "Zimbabwe"
           ],
           "name": "",
           "type": "choropleth",
           "z": [
            0,
            0,
            0,
            0
           ]
          }
         ],
         "name": "1930"
        },
        {
         "data": [
          {
           "coloraxis": "coloraxis",
           "customdata": [
            [
             0,
             0,
             "no_crisis"
            ],
            [
             0,
             0,
             "crisis"
            ],
            [
             0,
             0,
             "no_crisis"
            ],
            [
             0,
             0,
             "no_crisis"
            ]
           ],
           "geo": "geo",
           "hovertemplate": "<b>%{hovertext}</b><br><br>year=1931<br>country=%{location}<br>currency_crises=%{customdata[0]}<br>inflation_crises=%{customdata[1]}<br>banking_crisis=%{customdata[2]}<br>systemic_crisis=%{z}<extra></extra>",
           "hovertext": [
            "Angola",
            "Egypt",
            "South Africa",
            "Zimbabwe"
           ],
           "locationmode": "country names",
           "locations": [
            "Angola",
            "Egypt",
            "South Africa",
            "Zimbabwe"
           ],
           "name": "",
           "type": "choropleth",
           "z": [
            0,
            1,
            0,
            0
           ]
          }
         ],
         "name": "1931"
        },
        {
         "data": [
          {
           "coloraxis": "coloraxis",
           "customdata": [
            [
             0,
             0,
             "no_crisis"
            ],
            [
             0,
             0,
             "no_crisis"
            ],
            [
             0,
             0,
             "no_crisis"
            ],
            [
             0,
             0,
             "no_crisis"
            ]
           ],
           "geo": "geo",
           "hovertemplate": "<b>%{hovertext}</b><br><br>year=1932<br>country=%{location}<br>currency_crises=%{customdata[0]}<br>inflation_crises=%{customdata[1]}<br>banking_crisis=%{customdata[2]}<br>systemic_crisis=%{z}<extra></extra>",
           "hovertext": [
            "Angola",
            "Egypt",
            "South Africa",
            "Zimbabwe"
           ],
           "locationmode": "country names",
           "locations": [
            "Angola",
            "Egypt",
            "South Africa",
            "Zimbabwe"
           ],
           "name": "",
           "type": "choropleth",
           "z": [
            0,
            0,
            0,
            0
           ]
          }
         ],
         "name": "1932"
        },
        {
         "data": [
          {
           "coloraxis": "coloraxis",
           "customdata": [
            [
             0,
             0,
             "no_crisis"
            ],
            [
             0,
             0,
             "no_crisis"
            ],
            [
             1,
             0,
             "no_crisis"
            ],
            [
             0,
             0,
             "no_crisis"
            ]
           ],
           "geo": "geo",
           "hovertemplate": "<b>%{hovertext}</b><br><br>year=1933<br>country=%{location}<br>currency_crises=%{customdata[0]}<br>inflation_crises=%{customdata[1]}<br>banking_crisis=%{customdata[2]}<br>systemic_crisis=%{z}<extra></extra>",
           "hovertext": [
            "Angola",
            "Egypt",
            "South Africa",
            "Zimbabwe"
           ],
           "locationmode": "country names",
           "locations": [
            "Angola",
            "Egypt",
            "South Africa",
            "Zimbabwe"
           ],
           "name": "",
           "type": "choropleth",
           "z": [
            0,
            0,
            0,
            0
           ]
          }
         ],
         "name": "1933"
        },
        {
         "data": [
          {
           "coloraxis": "coloraxis",
           "customdata": [
            [
             0,
             0,
             "no_crisis"
            ],
            [
             0,
             1,
             "no_crisis"
            ],
            [
             0,
             0,
             "no_crisis"
            ],
            [
             0,
             0,
             "no_crisis"
            ]
           ],
           "geo": "geo",
           "hovertemplate": "<b>%{hovertext}</b><br><br>year=1934<br>country=%{location}<br>currency_crises=%{customdata[0]}<br>inflation_crises=%{customdata[1]}<br>banking_crisis=%{customdata[2]}<br>systemic_crisis=%{z}<extra></extra>",
           "hovertext": [
            "Angola",
            "Egypt",
            "South Africa",
            "Zimbabwe"
           ],
           "locationmode": "country names",
           "locations": [
            "Angola",
            "Egypt",
            "South Africa",
            "Zimbabwe"
           ],
           "name": "",
           "type": "choropleth",
           "z": [
            0,
            0,
            0,
            0
           ]
          }
         ],
         "name": "1934"
        },
        {
         "data": [
          {
           "coloraxis": "coloraxis",
           "customdata": [
            [
             0,
             0,
             "no_crisis"
            ],
            [
             0,
             0,
             "no_crisis"
            ],
            [
             0,
             0,
             "no_crisis"
            ],
            [
             0,
             0,
             "no_crisis"
            ]
           ],
           "geo": "geo",
           "hovertemplate": "<b>%{hovertext}</b><br><br>year=1935<br>country=%{location}<br>currency_crises=%{customdata[0]}<br>inflation_crises=%{customdata[1]}<br>banking_crisis=%{customdata[2]}<br>systemic_crisis=%{z}<extra></extra>",
           "hovertext": [
            "Angola",
            "Egypt",
            "South Africa",
            "Zimbabwe"
           ],
           "locationmode": "country names",
           "locations": [
            "Angola",
            "Egypt",
            "South Africa",
            "Zimbabwe"
           ],
           "name": "",
           "type": "choropleth",
           "z": [
            0,
            0,
            0,
            0
           ]
          }
         ],
         "name": "1935"
        },
        {
         "data": [
          {
           "coloraxis": "coloraxis",
           "customdata": [
            [
             0,
             0,
             "no_crisis"
            ],
            [
             0,
             0,
             "no_crisis"
            ],
            [
             0,
             0,
             "no_crisis"
            ],
            [
             0,
             0,
             "no_crisis"
            ]
           ],
           "geo": "geo",
           "hovertemplate": "<b>%{hovertext}</b><br><br>year=1936<br>country=%{location}<br>currency_crises=%{customdata[0]}<br>inflation_crises=%{customdata[1]}<br>banking_crisis=%{customdata[2]}<br>systemic_crisis=%{z}<extra></extra>",
           "hovertext": [
            "Angola",
            "Egypt",
            "South Africa",
            "Zimbabwe"
           ],
           "locationmode": "country names",
           "locations": [
            "Angola",
            "Egypt",
            "South Africa",
            "Zimbabwe"
           ],
           "name": "",
           "type": "choropleth",
           "z": [
            0,
            0,
            0,
            0
           ]
          }
         ],
         "name": "1936"
        },
        {
         "data": [
          {
           "coloraxis": "coloraxis",
           "customdata": [
            [
             0,
             0,
             "no_crisis"
            ],
            [
             0,
             0,
             "no_crisis"
            ],
            [
             0,
             0,
             "no_crisis"
            ],
            [
             0,
             0,
             "no_crisis"
            ]
           ],
           "geo": "geo",
           "hovertemplate": "<b>%{hovertext}</b><br><br>year=1937<br>country=%{location}<br>currency_crises=%{customdata[0]}<br>inflation_crises=%{customdata[1]}<br>banking_crisis=%{customdata[2]}<br>systemic_crisis=%{z}<extra></extra>",
           "hovertext": [
            "Angola",
            "Egypt",
            "South Africa",
            "Zimbabwe"
           ],
           "locationmode": "country names",
           "locations": [
            "Angola",
            "Egypt",
            "South Africa",
            "Zimbabwe"
           ],
           "name": "",
           "type": "choropleth",
           "z": [
            0,
            0,
            0,
            0
           ]
          }
         ],
         "name": "1937"
        },
        {
         "data": [
          {
           "coloraxis": "coloraxis",
           "customdata": [
            [
             0,
             0,
             "no_crisis"
            ],
            [
             0,
             0,
             "no_crisis"
            ],
            [
             0,
             0,
             "no_crisis"
            ],
            [
             0,
             0,
             "no_crisis"
            ]
           ],
           "geo": "geo",
           "hovertemplate": "<b>%{hovertext}</b><br><br>year=1938<br>country=%{location}<br>currency_crises=%{customdata[0]}<br>inflation_crises=%{customdata[1]}<br>banking_crisis=%{customdata[2]}<br>systemic_crisis=%{z}<extra></extra>",
           "hovertext": [
            "Angola",
            "Egypt",
            "South Africa",
            "Zimbabwe"
           ],
           "locationmode": "country names",
           "locations": [
            "Angola",
            "Egypt",
            "South Africa",
            "Zimbabwe"
           ],
           "name": "",
           "type": "choropleth",
           "z": [
            0,
            0,
            0,
            0
           ]
          }
         ],
         "name": "1938"
        },
        {
         "data": [
          {
           "coloraxis": "coloraxis",
           "customdata": [
            [
             0,
             0,
             "no_crisis"
            ],
            [
             0,
             0,
             "no_crisis"
            ],
            [
             0,
             0,
             "no_crisis"
            ],
            [
             1,
             0,
             "no_crisis"
            ],
            [
             0,
             0,
             "no_crisis"
            ],
            [
             0,
             0,
             "no_crisis"
            ],
            [
             0,
             0,
             "no_crisis"
            ],
            [
             0,
             0,
             "no_crisis"
            ],
            [
             0,
             0,
             "no_crisis"
            ],
            [
             0,
             0,
             "no_crisis"
            ],
            [
             0,
             0,
             "no_crisis"
            ],
            [
             0,
             0,
             "no_crisis"
            ]
           ],
           "geo": "geo",
           "hovertemplate": "<b>%{hovertext}</b><br><br>year=1962<br>country=%{location}<br>currency_crises=%{customdata[0]}<br>inflation_crises=%{customdata[1]}<br>banking_crisis=%{customdata[2]}<br>systemic_crisis=%{z}<extra></extra>",
           "hovertext": [
            "Angola",
            "Central African Republic",
            "Ivory Coast",
            "Egypt",
            "Kenya",
            "Mauritius",
            "Morocco",
            "Nigeria",
            "South Africa",
            "Tunisia",
            "Zambia",
            "Zimbabwe"
           ],
           "locationmode": "country names",
           "locations": [
            "Angola",
            "Central African Republic",
            "Ivory Coast",
            "Egypt",
            "Kenya",
            "Mauritius",
            "Morocco",
            "Nigeria",
            "South Africa",
            "Tunisia",
            "Zambia",
            "Zimbabwe"
           ],
           "name": "",
           "type": "choropleth",
           "z": [
            0,
            0,
            0,
            0,
            0,
            0,
            0,
            0,
            0,
            0,
            0,
            0
           ]
          }
         ],
         "name": "1962"
        },
        {
         "data": [
          {
           "coloraxis": "coloraxis",
           "customdata": [
            [
             0,
             0,
             "no_crisis"
            ],
            [
             0,
             0,
             "no_crisis"
            ],
            [
             0,
             0,
             "no_crisis"
            ],
            [
             0,
             0,
             "no_crisis"
            ],
            [
             0,
             0,
             "no_crisis"
            ],
            [
             0,
             0,
             "no_crisis"
            ],
            [
             0,
             0,
             "no_crisis"
            ],
            [
             0,
             0,
             "no_crisis"
            ],
            [
             0,
             0,
             "no_crisis"
            ],
            [
             0,
             0,
             "no_crisis"
            ],
            [
             0,
             0,
             "no_crisis"
            ]
           ],
           "geo": "geo",
           "hovertemplate": "<b>%{hovertext}</b><br><br>year=1963<br>country=%{location}<br>currency_crises=%{customdata[0]}<br>inflation_crises=%{customdata[1]}<br>banking_crisis=%{customdata[2]}<br>systemic_crisis=%{z}<extra></extra>",
           "hovertext": [
            "Central African Republic",
            "Ivory Coast",
            "Egypt",
            "Kenya",
            "Mauritius",
            "Morocco",
            "Nigeria",
            "South Africa",
            "Tunisia",
            "Zambia",
            "Zimbabwe"
           ],
           "locationmode": "country names",
           "locations": [
            "Central African Republic",
            "Ivory Coast",
            "Egypt",
            "Kenya",
            "Mauritius",
            "Morocco",
            "Nigeria",
            "South Africa",
            "Tunisia",
            "Zambia",
            "Zimbabwe"
           ],
           "name": "",
           "type": "choropleth",
           "z": [
            0,
            0,
            0,
            0,
            0,
            0,
            0,
            0,
            0,
            0,
            0
           ]
          }
         ],
         "name": "1963"
        },
        {
         "data": [
          {
           "coloraxis": "coloraxis",
           "customdata": [
            [
             0,
             0,
             "no_crisis"
            ],
            [
             0,
             0,
             "no_crisis"
            ],
            [
             0,
             0,
             "no_crisis"
            ],
            [
             0,
             0,
             "no_crisis"
            ],
            [
             0,
             0,
             "no_crisis"
            ],
            [
             0,
             0,
             "no_crisis"
            ],
            [
             0,
             0,
             "no_crisis"
            ],
            [
             0,
             0,
             "no_crisis"
            ],
            [
             0,
             0,
             "no_crisis"
            ],
            [
             0,
             0,
             "no_crisis"
            ],
            [
             0,
             0,
             "no_crisis"
            ]
           ],
           "geo": "geo",
           "hovertemplate": "<b>%{hovertext}</b><br><br>year=1964<br>country=%{location}<br>currency_crises=%{customdata[0]}<br>inflation_crises=%{customdata[1]}<br>banking_crisis=%{customdata[2]}<br>systemic_crisis=%{z}<extra></extra>",
           "hovertext": [
            "Central African Republic",
            "Ivory Coast",
            "Egypt",
            "Kenya",
            "Mauritius",
            "Morocco",
            "Nigeria",
            "South Africa",
            "Tunisia",
            "Zambia",
            "Zimbabwe"
           ],
           "locationmode": "country names",
           "locations": [
            "Central African Republic",
            "Ivory Coast",
            "Egypt",
            "Kenya",
            "Mauritius",
            "Morocco",
            "Nigeria",
            "South Africa",
            "Tunisia",
            "Zambia",
            "Zimbabwe"
           ],
           "name": "",
           "type": "choropleth",
           "z": [
            0,
            0,
            0,
            0,
            0,
            0,
            0,
            0,
            0,
            0,
            0
           ]
          }
         ],
         "name": "1964"
        },
        {
         "data": [
          {
           "coloraxis": "coloraxis",
           "customdata": [
            [
             0,
             0,
             "no_crisis"
            ],
            [
             0,
             0,
             "no_crisis"
            ],
            [
             0,
             0,
             "no_crisis"
            ],
            [
             0,
             0,
             "no_crisis"
            ],
            [
             0,
             0,
             "no_crisis"
            ],
            [
             0,
             0,
             "no_crisis"
            ],
            [
             0,
             0,
             "no_crisis"
            ],
            [
             0,
             0,
             "no_crisis"
            ],
            [
             1,
             0,
             "no_crisis"
            ],
            [
             0,
             0,
             "no_crisis"
            ],
            [
             0,
             0,
             "no_crisis"
            ]
           ],
           "geo": "geo",
           "hovertemplate": "<b>%{hovertext}</b><br><br>year=1965<br>country=%{location}<br>currency_crises=%{customdata[0]}<br>inflation_crises=%{customdata[1]}<br>banking_crisis=%{customdata[2]}<br>systemic_crisis=%{z}<extra></extra>",
           "hovertext": [
            "Central African Republic",
            "Ivory Coast",
            "Egypt",
            "Kenya",
            "Mauritius",
            "Morocco",
            "Nigeria",
            "South Africa",
            "Tunisia",
            "Zambia",
            "Zimbabwe"
           ],
           "locationmode": "country names",
           "locations": [
            "Central African Republic",
            "Ivory Coast",
            "Egypt",
            "Kenya",
            "Mauritius",
            "Morocco",
            "Nigeria",
            "South Africa",
            "Tunisia",
            "Zambia",
            "Zimbabwe"
           ],
           "name": "",
           "type": "choropleth",
           "z": [
            0,
            0,
            0,
            0,
            0,
            0,
            0,
            0,
            0,
            0,
            0
           ]
          }
         ],
         "name": "1965"
        },
        {
         "data": [
          {
           "coloraxis": "coloraxis",
           "customdata": [
            [
             0,
             0,
             "no_crisis"
            ],
            [
             0,
             0,
             "no_crisis"
            ],
            [
             0,
             0,
             "no_crisis"
            ],
            [
             0,
             0,
             "no_crisis"
            ],
            [
             0,
             0,
             "no_crisis"
            ],
            [
             0,
             0,
             "no_crisis"
            ],
            [
             0,
             0,
             "no_crisis"
            ],
            [
             0,
             0,
             "no_crisis"
            ],
            [
             0,
             0,
             "no_crisis"
            ],
            [
             0,
             0,
             "no_crisis"
            ],
            [
             0,
             0,
             "no_crisis"
            ]
           ],
           "geo": "geo",
           "hovertemplate": "<b>%{hovertext}</b><br><br>year=1966<br>country=%{location}<br>currency_crises=%{customdata[0]}<br>inflation_crises=%{customdata[1]}<br>banking_crisis=%{customdata[2]}<br>systemic_crisis=%{z}<extra></extra>",
           "hovertext": [
            "Central African Republic",
            "Ivory Coast",
            "Egypt",
            "Kenya",
            "Mauritius",
            "Morocco",
            "Nigeria",
            "South Africa",
            "Tunisia",
            "Zambia",
            "Zimbabwe"
           ],
           "locationmode": "country names",
           "locations": [
            "Central African Republic",
            "Ivory Coast",
            "Egypt",
            "Kenya",
            "Mauritius",
            "Morocco",
            "Nigeria",
            "South Africa",
            "Tunisia",
            "Zambia",
            "Zimbabwe"
           ],
           "name": "",
           "type": "choropleth",
           "z": [
            0,
            0,
            0,
            0,
            0,
            0,
            0,
            0,
            0,
            0,
            0
           ]
          }
         ],
         "name": "1966"
        },
        {
         "data": [
          {
           "coloraxis": "coloraxis",
           "customdata": [
            [
             0,
             0,
             "no_crisis"
            ],
            [
             0,
             0,
             "no_crisis"
            ],
            [
             0,
             0,
             "no_crisis"
            ],
            [
             0,
             0,
             "no_crisis"
            ],
            [
             0,
             0,
             "no_crisis"
            ],
            [
             0,
             0,
             "no_crisis"
            ],
            [
             0,
             0,
             "no_crisis"
            ],
            [
             1,
             0,
             "no_crisis"
            ],
            [
             0,
             0,
             "no_crisis"
            ],
            [
             0,
             0,
             "no_crisis"
            ],
            [
             0,
             0,
             "no_crisis"
            ]
           ],
           "geo": "geo",
           "hovertemplate": "<b>%{hovertext}</b><br><br>year=1967<br>country=%{location}<br>currency_crises=%{customdata[0]}<br>inflation_crises=%{customdata[1]}<br>banking_crisis=%{customdata[2]}<br>systemic_crisis=%{z}<extra></extra>",
           "hovertext": [
            "Central African Republic",
            "Ivory Coast",
            "Egypt",
            "Kenya",
            "Mauritius",
            "Morocco",
            "Nigeria",
            "South Africa",
            "Tunisia",
            "Zambia",
            "Zimbabwe"
           ],
           "locationmode": "country names",
           "locations": [
            "Central African Republic",
            "Ivory Coast",
            "Egypt",
            "Kenya",
            "Mauritius",
            "Morocco",
            "Nigeria",
            "South Africa",
            "Tunisia",
            "Zambia",
            "Zimbabwe"
           ],
           "name": "",
           "type": "choropleth",
           "z": [
            0,
            0,
            0,
            0,
            0,
            0,
            0,
            0,
            0,
            0,
            0
           ]
          }
         ],
         "name": "1967"
        },
        {
         "data": [
          {
           "coloraxis": "coloraxis",
           "customdata": [
            [
             0,
             0,
             "no_crisis"
            ]
           ],
           "geo": "geo",
           "hovertemplate": "<b>%{hovertext}</b><br><br>year=1860<br>country=%{location}<br>currency_crises=%{customdata[0]}<br>inflation_crises=%{customdata[1]}<br>banking_crisis=%{customdata[2]}<br>systemic_crisis=%{z}<extra></extra>",
           "hovertext": [
            "Egypt"
           ],
           "locationmode": "country names",
           "locations": [
            "Egypt"
           ],
           "name": "",
           "type": "choropleth",
           "z": [
            0
           ]
          }
         ],
         "name": "1860"
        },
        {
         "data": [
          {
           "coloraxis": "coloraxis",
           "customdata": [
            [
             0,
             0,
             "no_crisis"
            ]
           ],
           "geo": "geo",
           "hovertemplate": "<b>%{hovertext}</b><br><br>year=1861<br>country=%{location}<br>currency_crises=%{customdata[0]}<br>inflation_crises=%{customdata[1]}<br>banking_crisis=%{customdata[2]}<br>systemic_crisis=%{z}<extra></extra>",
           "hovertext": [
            "Egypt"
           ],
           "locationmode": "country names",
           "locations": [
            "Egypt"
           ],
           "name": "",
           "type": "choropleth",
           "z": [
            0
           ]
          }
         ],
         "name": "1861"
        },
        {
         "data": [
          {
           "coloraxis": "coloraxis",
           "customdata": [
            [
             0,
             0,
             "no_crisis"
            ]
           ],
           "geo": "geo",
           "hovertemplate": "<b>%{hovertext}</b><br><br>year=1862<br>country=%{location}<br>currency_crises=%{customdata[0]}<br>inflation_crises=%{customdata[1]}<br>banking_crisis=%{customdata[2]}<br>systemic_crisis=%{z}<extra></extra>",
           "hovertext": [
            "Egypt"
           ],
           "locationmode": "country names",
           "locations": [
            "Egypt"
           ],
           "name": "",
           "type": "choropleth",
           "z": [
            0
           ]
          }
         ],
         "name": "1862"
        },
        {
         "data": [
          {
           "coloraxis": "coloraxis",
           "customdata": [
            [
             0,
             0,
             "no_crisis"
            ]
           ],
           "geo": "geo",
           "hovertemplate": "<b>%{hovertext}</b><br><br>year=1863<br>country=%{location}<br>currency_crises=%{customdata[0]}<br>inflation_crises=%{customdata[1]}<br>banking_crisis=%{customdata[2]}<br>systemic_crisis=%{z}<extra></extra>",
           "hovertext": [
            "Egypt"
           ],
           "locationmode": "country names",
           "locations": [
            "Egypt"
           ],
           "name": "",
           "type": "choropleth",
           "z": [
            0
           ]
          }
         ],
         "name": "1863"
        },
        {
         "data": [
          {
           "coloraxis": "coloraxis",
           "customdata": [
            [
             0,
             0,
             "no_crisis"
            ]
           ],
           "geo": "geo",
           "hovertemplate": "<b>%{hovertext}</b><br><br>year=1864<br>country=%{location}<br>currency_crises=%{customdata[0]}<br>inflation_crises=%{customdata[1]}<br>banking_crisis=%{customdata[2]}<br>systemic_crisis=%{z}<extra></extra>",
           "hovertext": [
            "Egypt"
           ],
           "locationmode": "country names",
           "locations": [
            "Egypt"
           ],
           "name": "",
           "type": "choropleth",
           "z": [
            0
           ]
          }
         ],
         "name": "1864"
        },
        {
         "data": [
          {
           "coloraxis": "coloraxis",
           "customdata": [
            [
             0,
             0,
             "no_crisis"
            ]
           ],
           "geo": "geo",
           "hovertemplate": "<b>%{hovertext}</b><br><br>year=1865<br>country=%{location}<br>currency_crises=%{customdata[0]}<br>inflation_crises=%{customdata[1]}<br>banking_crisis=%{customdata[2]}<br>systemic_crisis=%{z}<extra></extra>",
           "hovertext": [
            "Egypt"
           ],
           "locationmode": "country names",
           "locations": [
            "Egypt"
           ],
           "name": "",
           "type": "choropleth",
           "z": [
            0
           ]
          }
         ],
         "name": "1865"
        },
        {
         "data": [
          {
           "coloraxis": "coloraxis",
           "customdata": [
            [
             0,
             0,
             "no_crisis"
            ]
           ],
           "geo": "geo",
           "hovertemplate": "<b>%{hovertext}</b><br><br>year=1866<br>country=%{location}<br>currency_crises=%{customdata[0]}<br>inflation_crises=%{customdata[1]}<br>banking_crisis=%{customdata[2]}<br>systemic_crisis=%{z}<extra></extra>",
           "hovertext": [
            "Egypt"
           ],
           "locationmode": "country names",
           "locations": [
            "Egypt"
           ],
           "name": "",
           "type": "choropleth",
           "z": [
            0
           ]
          }
         ],
         "name": "1866"
        },
        {
         "data": [
          {
           "coloraxis": "coloraxis",
           "customdata": [
            [
             0,
             0,
             "no_crisis"
            ]
           ],
           "geo": "geo",
           "hovertemplate": "<b>%{hovertext}</b><br><br>year=1867<br>country=%{location}<br>currency_crises=%{customdata[0]}<br>inflation_crises=%{customdata[1]}<br>banking_crisis=%{customdata[2]}<br>systemic_crisis=%{z}<extra></extra>",
           "hovertext": [
            "Egypt"
           ],
           "locationmode": "country names",
           "locations": [
            "Egypt"
           ],
           "name": "",
           "type": "choropleth",
           "z": [
            0
           ]
          }
         ],
         "name": "1867"
        },
        {
         "data": [
          {
           "coloraxis": "coloraxis",
           "customdata": [
            [
             0,
             0,
             "no_crisis"
            ]
           ],
           "geo": "geo",
           "hovertemplate": "<b>%{hovertext}</b><br><br>year=1868<br>country=%{location}<br>currency_crises=%{customdata[0]}<br>inflation_crises=%{customdata[1]}<br>banking_crisis=%{customdata[2]}<br>systemic_crisis=%{z}<extra></extra>",
           "hovertext": [
            "Egypt"
           ],
           "locationmode": "country names",
           "locations": [
            "Egypt"
           ],
           "name": "",
           "type": "choropleth",
           "z": [
            0
           ]
          }
         ],
         "name": "1868"
        },
        {
         "data": [
          {
           "coloraxis": "coloraxis",
           "customdata": [
            [
             0,
             0,
             "no_crisis"
            ]
           ],
           "geo": "geo",
           "hovertemplate": "<b>%{hovertext}</b><br><br>year=1869<br>country=%{location}<br>currency_crises=%{customdata[0]}<br>inflation_crises=%{customdata[1]}<br>banking_crisis=%{customdata[2]}<br>systemic_crisis=%{z}<extra></extra>",
           "hovertext": [
            "Egypt"
           ],
           "locationmode": "country names",
           "locations": [
            "Egypt"
           ],
           "name": "",
           "type": "choropleth",
           "z": [
            0
           ]
          }
         ],
         "name": "1869"
        },
        {
         "data": [
          {
           "coloraxis": "coloraxis",
           "customdata": [
            [
             0,
             0,
             "no_crisis"
            ]
           ],
           "geo": "geo",
           "hovertemplate": "<b>%{hovertext}</b><br><br>year=1885<br>country=%{location}<br>currency_crises=%{customdata[0]}<br>inflation_crises=%{customdata[1]}<br>banking_crisis=%{customdata[2]}<br>systemic_crisis=%{z}<extra></extra>",
           "hovertext": [
            "Egypt"
           ],
           "locationmode": "country names",
           "locations": [
            "Egypt"
           ],
           "name": "",
           "type": "choropleth",
           "z": [
            0
           ]
          }
         ],
         "name": "1885"
        },
        {
         "data": [
          {
           "coloraxis": "coloraxis",
           "customdata": [
            [
             0,
             0,
             "no_crisis"
            ]
           ],
           "geo": "geo",
           "hovertemplate": "<b>%{hovertext}</b><br><br>year=1886<br>country=%{location}<br>currency_crises=%{customdata[0]}<br>inflation_crises=%{customdata[1]}<br>banking_crisis=%{customdata[2]}<br>systemic_crisis=%{z}<extra></extra>",
           "hovertext": [
            "Egypt"
           ],
           "locationmode": "country names",
           "locations": [
            "Egypt"
           ],
           "name": "",
           "type": "choropleth",
           "z": [
            0
           ]
          }
         ],
         "name": "1886"
        },
        {
         "data": [
          {
           "coloraxis": "coloraxis",
           "customdata": [
            [
             0,
             0,
             "no_crisis"
            ]
           ],
           "geo": "geo",
           "hovertemplate": "<b>%{hovertext}</b><br><br>year=1887<br>country=%{location}<br>currency_crises=%{customdata[0]}<br>inflation_crises=%{customdata[1]}<br>banking_crisis=%{customdata[2]}<br>systemic_crisis=%{z}<extra></extra>",
           "hovertext": [
            "Egypt"
           ],
           "locationmode": "country names",
           "locations": [
            "Egypt"
           ],
           "name": "",
           "type": "choropleth",
           "z": [
            0
           ]
          }
         ],
         "name": "1887"
        },
        {
         "data": [
          {
           "coloraxis": "coloraxis",
           "customdata": [
            [
             0,
             0,
             "no_crisis"
            ]
           ],
           "geo": "geo",
           "hovertemplate": "<b>%{hovertext}</b><br><br>year=1888<br>country=%{location}<br>currency_crises=%{customdata[0]}<br>inflation_crises=%{customdata[1]}<br>banking_crisis=%{customdata[2]}<br>systemic_crisis=%{z}<extra></extra>",
           "hovertext": [
            "Egypt"
           ],
           "locationmode": "country names",
           "locations": [
            "Egypt"
           ],
           "name": "",
           "type": "choropleth",
           "z": [
            0
           ]
          }
         ],
         "name": "1888"
        },
        {
         "data": [
          {
           "coloraxis": "coloraxis",
           "customdata": [
            [
             0,
             0,
             "no_crisis"
            ]
           ],
           "geo": "geo",
           "hovertemplate": "<b>%{hovertext}</b><br><br>year=1889<br>country=%{location}<br>currency_crises=%{customdata[0]}<br>inflation_crises=%{customdata[1]}<br>banking_crisis=%{customdata[2]}<br>systemic_crisis=%{z}<extra></extra>",
           "hovertext": [
            "Egypt"
           ],
           "locationmode": "country names",
           "locations": [
            "Egypt"
           ],
           "name": "",
           "type": "choropleth",
           "z": [
            0
           ]
          }
         ],
         "name": "1889"
        },
        {
         "data": [
          {
           "coloraxis": "coloraxis",
           "customdata": [
            [
             0,
             0,
             "no_crisis"
            ]
           ],
           "geo": "geo",
           "hovertemplate": "<b>%{hovertext}</b><br><br>year=1890<br>country=%{location}<br>currency_crises=%{customdata[0]}<br>inflation_crises=%{customdata[1]}<br>banking_crisis=%{customdata[2]}<br>systemic_crisis=%{z}<extra></extra>",
           "hovertext": [
            "Egypt"
           ],
           "locationmode": "country names",
           "locations": [
            "Egypt"
           ],
           "name": "",
           "type": "choropleth",
           "z": [
            0
           ]
          }
         ],
         "name": "1890"
        },
        {
         "data": [
          {
           "coloraxis": "coloraxis",
           "customdata": [
            [
             0,
             0,
             "no_crisis"
            ]
           ],
           "geo": "geo",
           "hovertemplate": "<b>%{hovertext}</b><br><br>year=1891<br>country=%{location}<br>currency_crises=%{customdata[0]}<br>inflation_crises=%{customdata[1]}<br>banking_crisis=%{customdata[2]}<br>systemic_crisis=%{z}<extra></extra>",
           "hovertext": [
            "Egypt"
           ],
           "locationmode": "country names",
           "locations": [
            "Egypt"
           ],
           "name": "",
           "type": "choropleth",
           "z": [
            0
           ]
          }
         ],
         "name": "1891"
        },
        {
         "data": [
          {
           "coloraxis": "coloraxis",
           "customdata": [
            [
             0,
             0,
             "no_crisis"
            ]
           ],
           "geo": "geo",
           "hovertemplate": "<b>%{hovertext}</b><br><br>year=1892<br>country=%{location}<br>currency_crises=%{customdata[0]}<br>inflation_crises=%{customdata[1]}<br>banking_crisis=%{customdata[2]}<br>systemic_crisis=%{z}<extra></extra>",
           "hovertext": [
            "Egypt"
           ],
           "locationmode": "country names",
           "locations": [
            "Egypt"
           ],
           "name": "",
           "type": "choropleth",
           "z": [
            0
           ]
          }
         ],
         "name": "1892"
        },
        {
         "data": [
          {
           "coloraxis": "coloraxis",
           "customdata": [
            [
             0,
             0,
             "no_crisis"
            ]
           ],
           "geo": "geo",
           "hovertemplate": "<b>%{hovertext}</b><br><br>year=1893<br>country=%{location}<br>currency_crises=%{customdata[0]}<br>inflation_crises=%{customdata[1]}<br>banking_crisis=%{customdata[2]}<br>systemic_crisis=%{z}<extra></extra>",
           "hovertext": [
            "Egypt"
           ],
           "locationmode": "country names",
           "locations": [
            "Egypt"
           ],
           "name": "",
           "type": "choropleth",
           "z": [
            0
           ]
          }
         ],
         "name": "1893"
        },
        {
         "data": [
          {
           "coloraxis": "coloraxis",
           "customdata": [
            [
             0,
             0,
             "no_crisis"
            ]
           ],
           "geo": "geo",
           "hovertemplate": "<b>%{hovertext}</b><br><br>year=1894<br>country=%{location}<br>currency_crises=%{customdata[0]}<br>inflation_crises=%{customdata[1]}<br>banking_crisis=%{customdata[2]}<br>systemic_crisis=%{z}<extra></extra>",
           "hovertext": [
            "Egypt"
           ],
           "locationmode": "country names",
           "locations": [
            "Egypt"
           ],
           "name": "",
           "type": "choropleth",
           "z": [
            0
           ]
          }
         ],
         "name": "1894"
        },
        {
         "data": [
          {
           "coloraxis": "coloraxis",
           "customdata": [
            [
             0,
             0,
             "no_crisis"
            ]
           ],
           "geo": "geo",
           "hovertemplate": "<b>%{hovertext}</b><br><br>year=1895<br>country=%{location}<br>currency_crises=%{customdata[0]}<br>inflation_crises=%{customdata[1]}<br>banking_crisis=%{customdata[2]}<br>systemic_crisis=%{z}<extra></extra>",
           "hovertext": [
            "Egypt"
           ],
           "locationmode": "country names",
           "locations": [
            "Egypt"
           ],
           "name": "",
           "type": "choropleth",
           "z": [
            0
           ]
          }
         ],
         "name": "1895"
        },
        {
         "data": [
          {
           "coloraxis": "coloraxis",
           "customdata": [
            [
             0,
             0,
             "no_crisis"
            ]
           ],
           "geo": "geo",
           "hovertemplate": "<b>%{hovertext}</b><br><br>year=1896<br>country=%{location}<br>currency_crises=%{customdata[0]}<br>inflation_crises=%{customdata[1]}<br>banking_crisis=%{customdata[2]}<br>systemic_crisis=%{z}<extra></extra>",
           "hovertext": [
            "Egypt"
           ],
           "locationmode": "country names",
           "locations": [
            "Egypt"
           ],
           "name": "",
           "type": "choropleth",
           "z": [
            0
           ]
          }
         ],
         "name": "1896"
        },
        {
         "data": [
          {
           "coloraxis": "coloraxis",
           "customdata": [
            [
             0,
             0,
             "no_crisis"
            ]
           ],
           "geo": "geo",
           "hovertemplate": "<b>%{hovertext}</b><br><br>year=1897<br>country=%{location}<br>currency_crises=%{customdata[0]}<br>inflation_crises=%{customdata[1]}<br>banking_crisis=%{customdata[2]}<br>systemic_crisis=%{z}<extra></extra>",
           "hovertext": [
            "Egypt"
           ],
           "locationmode": "country names",
           "locations": [
            "Egypt"
           ],
           "name": "",
           "type": "choropleth",
           "z": [
            0
           ]
          }
         ],
         "name": "1897"
        },
        {
         "data": [
          {
           "coloraxis": "coloraxis",
           "customdata": [
            [
             0,
             0,
             "no_crisis"
            ]
           ],
           "geo": "geo",
           "hovertemplate": "<b>%{hovertext}</b><br><br>year=1898<br>country=%{location}<br>currency_crises=%{customdata[0]}<br>inflation_crises=%{customdata[1]}<br>banking_crisis=%{customdata[2]}<br>systemic_crisis=%{z}<extra></extra>",
           "hovertext": [
            "Egypt"
           ],
           "locationmode": "country names",
           "locations": [
            "Egypt"
           ],
           "name": "",
           "type": "choropleth",
           "z": [
            0
           ]
          }
         ],
         "name": "1898"
        },
        {
         "data": [
          {
           "coloraxis": "coloraxis",
           "customdata": [
            [
             0,
             0,
             "no_crisis"
            ]
           ],
           "geo": "geo",
           "hovertemplate": "<b>%{hovertext}</b><br><br>year=1899<br>country=%{location}<br>currency_crises=%{customdata[0]}<br>inflation_crises=%{customdata[1]}<br>banking_crisis=%{customdata[2]}<br>systemic_crisis=%{z}<extra></extra>",
           "hovertext": [
            "Egypt"
           ],
           "locationmode": "country names",
           "locations": [
            "Egypt"
           ],
           "name": "",
           "type": "choropleth",
           "z": [
            0
           ]
          }
         ],
         "name": "1899"
        },
        {
         "data": [
          {
           "coloraxis": "coloraxis",
           "customdata": [
            [
             0,
             0,
             "no_crisis"
            ],
            [
             0,
             0,
             "no_crisis"
            ]
           ],
           "geo": "geo",
           "hovertemplate": "<b>%{hovertext}</b><br><br>year=1900<br>country=%{location}<br>currency_crises=%{customdata[0]}<br>inflation_crises=%{customdata[1]}<br>banking_crisis=%{customdata[2]}<br>systemic_crisis=%{z}<extra></extra>",
           "hovertext": [
            "Egypt",
            "South Africa"
           ],
           "locationmode": "country names",
           "locations": [
            "Egypt",
            "South Africa"
           ],
           "name": "",
           "type": "choropleth",
           "z": [
            0,
            0
           ]
          }
         ],
         "name": "1900"
        },
        {
         "data": [
          {
           "coloraxis": "coloraxis",
           "customdata": [
            [
             0,
             0,
             "no_crisis"
            ],
            [
             0,
             0,
             "no_crisis"
            ]
           ],
           "geo": "geo",
           "hovertemplate": "<b>%{hovertext}</b><br><br>year=1901<br>country=%{location}<br>currency_crises=%{customdata[0]}<br>inflation_crises=%{customdata[1]}<br>banking_crisis=%{customdata[2]}<br>systemic_crisis=%{z}<extra></extra>",
           "hovertext": [
            "Egypt",
            "South Africa"
           ],
           "locationmode": "country names",
           "locations": [
            "Egypt",
            "South Africa"
           ],
           "name": "",
           "type": "choropleth",
           "z": [
            0,
            0
           ]
          }
         ],
         "name": "1901"
        },
        {
         "data": [
          {
           "coloraxis": "coloraxis",
           "customdata": [
            [
             0,
             0,
             "no_crisis"
            ],
            [
             0,
             0,
             "no_crisis"
            ]
           ],
           "geo": "geo",
           "hovertemplate": "<b>%{hovertext}</b><br><br>year=1902<br>country=%{location}<br>currency_crises=%{customdata[0]}<br>inflation_crises=%{customdata[1]}<br>banking_crisis=%{customdata[2]}<br>systemic_crisis=%{z}<extra></extra>",
           "hovertext": [
            "Egypt",
            "South Africa"
           ],
           "locationmode": "country names",
           "locations": [
            "Egypt",
            "South Africa"
           ],
           "name": "",
           "type": "choropleth",
           "z": [
            0,
            0
           ]
          }
         ],
         "name": "1902"
        },
        {
         "data": [
          {
           "coloraxis": "coloraxis",
           "customdata": [
            [
             0,
             0,
             "no_crisis"
            ],
            [
             0,
             0,
             "no_crisis"
            ]
           ],
           "geo": "geo",
           "hovertemplate": "<b>%{hovertext}</b><br><br>year=1903<br>country=%{location}<br>currency_crises=%{customdata[0]}<br>inflation_crises=%{customdata[1]}<br>banking_crisis=%{customdata[2]}<br>systemic_crisis=%{z}<extra></extra>",
           "hovertext": [
            "Egypt",
            "South Africa"
           ],
           "locationmode": "country names",
           "locations": [
            "Egypt",
            "South Africa"
           ],
           "name": "",
           "type": "choropleth",
           "z": [
            0,
            0
           ]
          }
         ],
         "name": "1903"
        },
        {
         "data": [
          {
           "coloraxis": "coloraxis",
           "customdata": [
            [
             0,
             0,
             "no_crisis"
            ],
            [
             0,
             0,
             "no_crisis"
            ]
           ],
           "geo": "geo",
           "hovertemplate": "<b>%{hovertext}</b><br><br>year=1904<br>country=%{location}<br>currency_crises=%{customdata[0]}<br>inflation_crises=%{customdata[1]}<br>banking_crisis=%{customdata[2]}<br>systemic_crisis=%{z}<extra></extra>",
           "hovertext": [
            "Egypt",
            "South Africa"
           ],
           "locationmode": "country names",
           "locations": [
            "Egypt",
            "South Africa"
           ],
           "name": "",
           "type": "choropleth",
           "z": [
            0,
            0
           ]
          }
         ],
         "name": "1904"
        },
        {
         "data": [
          {
           "coloraxis": "coloraxis",
           "customdata": [
            [
             0,
             0,
             "no_crisis"
            ],
            [
             0,
             0,
             "no_crisis"
            ]
           ],
           "geo": "geo",
           "hovertemplate": "<b>%{hovertext}</b><br><br>year=1905<br>country=%{location}<br>currency_crises=%{customdata[0]}<br>inflation_crises=%{customdata[1]}<br>banking_crisis=%{customdata[2]}<br>systemic_crisis=%{z}<extra></extra>",
           "hovertext": [
            "Egypt",
            "South Africa"
           ],
           "locationmode": "country names",
           "locations": [
            "Egypt",
            "South Africa"
           ],
           "name": "",
           "type": "choropleth",
           "z": [
            0,
            0
           ]
          }
         ],
         "name": "1905"
        },
        {
         "data": [
          {
           "coloraxis": "coloraxis",
           "customdata": [
            [
             0,
             0,
             "no_crisis"
            ],
            [
             0,
             0,
             "no_crisis"
            ]
           ],
           "geo": "geo",
           "hovertemplate": "<b>%{hovertext}</b><br><br>year=1906<br>country=%{location}<br>currency_crises=%{customdata[0]}<br>inflation_crises=%{customdata[1]}<br>banking_crisis=%{customdata[2]}<br>systemic_crisis=%{z}<extra></extra>",
           "hovertext": [
            "Egypt",
            "South Africa"
           ],
           "locationmode": "country names",
           "locations": [
            "Egypt",
            "South Africa"
           ],
           "name": "",
           "type": "choropleth",
           "z": [
            0,
            0
           ]
          }
         ],
         "name": "1906"
        },
        {
         "data": [
          {
           "coloraxis": "coloraxis",
           "customdata": [
            [
             0,
             0,
             "crisis"
            ],
            [
             0,
             0,
             "no_crisis"
            ]
           ],
           "geo": "geo",
           "hovertemplate": "<b>%{hovertext}</b><br><br>year=1907<br>country=%{location}<br>currency_crises=%{customdata[0]}<br>inflation_crises=%{customdata[1]}<br>banking_crisis=%{customdata[2]}<br>systemic_crisis=%{z}<extra></extra>",
           "hovertext": [
            "Egypt",
            "South Africa"
           ],
           "locationmode": "country names",
           "locations": [
            "Egypt",
            "South Africa"
           ],
           "name": "",
           "type": "choropleth",
           "z": [
            1,
            0
           ]
          }
         ],
         "name": "1907"
        },
        {
         "data": [
          {
           "coloraxis": "coloraxis",
           "customdata": [
            [
             0,
             0,
             "no_crisis"
            ],
            [
             0,
             0,
             "no_crisis"
            ]
           ],
           "geo": "geo",
           "hovertemplate": "<b>%{hovertext}</b><br><br>year=1908<br>country=%{location}<br>currency_crises=%{customdata[0]}<br>inflation_crises=%{customdata[1]}<br>banking_crisis=%{customdata[2]}<br>systemic_crisis=%{z}<extra></extra>",
           "hovertext": [
            "Egypt",
            "South Africa"
           ],
           "locationmode": "country names",
           "locations": [
            "Egypt",
            "South Africa"
           ],
           "name": "",
           "type": "choropleth",
           "z": [
            0,
            0
           ]
          }
         ],
         "name": "1908"
        },
        {
         "data": [
          {
           "coloraxis": "coloraxis",
           "customdata": [
            [
             0,
             0,
             "no_crisis"
            ],
            [
             0,
             0,
             "no_crisis"
            ]
           ],
           "geo": "geo",
           "hovertemplate": "<b>%{hovertext}</b><br><br>year=1909<br>country=%{location}<br>currency_crises=%{customdata[0]}<br>inflation_crises=%{customdata[1]}<br>banking_crisis=%{customdata[2]}<br>systemic_crisis=%{z}<extra></extra>",
           "hovertext": [
            "Egypt",
            "South Africa"
           ],
           "locationmode": "country names",
           "locations": [
            "Egypt",
            "South Africa"
           ],
           "name": "",
           "type": "choropleth",
           "z": [
            0,
            0
           ]
          }
         ],
         "name": "1909"
        },
        {
         "data": [
          {
           "coloraxis": "coloraxis",
           "customdata": [
            [
             0,
             0,
             "no_crisis"
            ],
            [
             0,
             0,
             "no_crisis"
            ]
           ],
           "geo": "geo",
           "hovertemplate": "<b>%{hovertext}</b><br><br>year=1910<br>country=%{location}<br>currency_crises=%{customdata[0]}<br>inflation_crises=%{customdata[1]}<br>banking_crisis=%{customdata[2]}<br>systemic_crisis=%{z}<extra></extra>",
           "hovertext": [
            "Egypt",
            "South Africa"
           ],
           "locationmode": "country names",
           "locations": [
            "Egypt",
            "South Africa"
           ],
           "name": "",
           "type": "choropleth",
           "z": [
            0,
            0
           ]
          }
         ],
         "name": "1910"
        },
        {
         "data": [
          {
           "coloraxis": "coloraxis",
           "customdata": [
            [
             0,
             0,
             "no_crisis"
            ],
            [
             0,
             0,
             "no_crisis"
            ]
           ],
           "geo": "geo",
           "hovertemplate": "<b>%{hovertext}</b><br><br>year=1911<br>country=%{location}<br>currency_crises=%{customdata[0]}<br>inflation_crises=%{customdata[1]}<br>banking_crisis=%{customdata[2]}<br>systemic_crisis=%{z}<extra></extra>",
           "hovertext": [
            "Egypt",
            "South Africa"
           ],
           "locationmode": "country names",
           "locations": [
            "Egypt",
            "South Africa"
           ],
           "name": "",
           "type": "choropleth",
           "z": [
            0,
            0
           ]
          }
         ],
         "name": "1911"
        },
        {
         "data": [
          {
           "coloraxis": "coloraxis",
           "customdata": [
            [
             0,
             0,
             "no_crisis"
            ],
            [
             0,
             0,
             "no_crisis"
            ]
           ],
           "geo": "geo",
           "hovertemplate": "<b>%{hovertext}</b><br><br>year=1912<br>country=%{location}<br>currency_crises=%{customdata[0]}<br>inflation_crises=%{customdata[1]}<br>banking_crisis=%{customdata[2]}<br>systemic_crisis=%{z}<extra></extra>",
           "hovertext": [
            "Egypt",
            "South Africa"
           ],
           "locationmode": "country names",
           "locations": [
            "Egypt",
            "South Africa"
           ],
           "name": "",
           "type": "choropleth",
           "z": [
            0,
            0
           ]
          }
         ],
         "name": "1912"
        },
        {
         "data": [
          {
           "coloraxis": "coloraxis",
           "customdata": [
            [
             0,
             0,
             "no_crisis"
            ],
            [
             0,
             0,
             "no_crisis"
            ]
           ],
           "geo": "geo",
           "hovertemplate": "<b>%{hovertext}</b><br><br>year=1913<br>country=%{location}<br>currency_crises=%{customdata[0]}<br>inflation_crises=%{customdata[1]}<br>banking_crisis=%{customdata[2]}<br>systemic_crisis=%{z}<extra></extra>",
           "hovertext": [
            "Egypt",
            "South Africa"
           ],
           "locationmode": "country names",
           "locations": [
            "Egypt",
            "South Africa"
           ],
           "name": "",
           "type": "choropleth",
           "z": [
            0,
            0
           ]
          }
         ],
         "name": "1913"
        },
        {
         "data": [
          {
           "coloraxis": "coloraxis",
           "customdata": [
            [
             0,
             0,
             "no_crisis"
            ],
            [
             0,
             0,
             "no_crisis"
            ]
           ],
           "geo": "geo",
           "hovertemplate": "<b>%{hovertext}</b><br><br>year=1914<br>country=%{location}<br>currency_crises=%{customdata[0]}<br>inflation_crises=%{customdata[1]}<br>banking_crisis=%{customdata[2]}<br>systemic_crisis=%{z}<extra></extra>",
           "hovertext": [
            "Egypt",
            "South Africa"
           ],
           "locationmode": "country names",
           "locations": [
            "Egypt",
            "South Africa"
           ],
           "name": "",
           "type": "choropleth",
           "z": [
            0,
            0
           ]
          }
         ],
         "name": "1914"
        },
        {
         "data": [
          {
           "coloraxis": "coloraxis",
           "customdata": [
            [
             0,
             0,
             "no_crisis"
            ],
            [
             0,
             0,
             "no_crisis"
            ]
           ],
           "geo": "geo",
           "hovertemplate": "<b>%{hovertext}</b><br><br>year=1915<br>country=%{location}<br>currency_crises=%{customdata[0]}<br>inflation_crises=%{customdata[1]}<br>banking_crisis=%{customdata[2]}<br>systemic_crisis=%{z}<extra></extra>",
           "hovertext": [
            "Egypt",
            "South Africa"
           ],
           "locationmode": "country names",
           "locations": [
            "Egypt",
            "South Africa"
           ],
           "name": "",
           "type": "choropleth",
           "z": [
            0,
            0
           ]
          }
         ],
         "name": "1915"
        },
        {
         "data": [
          {
           "coloraxis": "coloraxis",
           "customdata": [
            [
             0,
             0,
             "no_crisis"
            ],
            [
             0,
             0,
             "no_crisis"
            ]
           ],
           "geo": "geo",
           "hovertemplate": "<b>%{hovertext}</b><br><br>year=1916<br>country=%{location}<br>currency_crises=%{customdata[0]}<br>inflation_crises=%{customdata[1]}<br>banking_crisis=%{customdata[2]}<br>systemic_crisis=%{z}<extra></extra>",
           "hovertext": [
            "Egypt",
            "South Africa"
           ],
           "locationmode": "country names",
           "locations": [
            "Egypt",
            "South Africa"
           ],
           "name": "",
           "type": "choropleth",
           "z": [
            0,
            0
           ]
          }
         ],
         "name": "1916"
        },
        {
         "data": [
          {
           "coloraxis": "coloraxis",
           "customdata": [
            [
             0,
             1,
             "no_crisis"
            ],
            [
             0,
             0,
             "no_crisis"
            ]
           ],
           "geo": "geo",
           "hovertemplate": "<b>%{hovertext}</b><br><br>year=1917<br>country=%{location}<br>currency_crises=%{customdata[0]}<br>inflation_crises=%{customdata[1]}<br>banking_crisis=%{customdata[2]}<br>systemic_crisis=%{z}<extra></extra>",
           "hovertext": [
            "Egypt",
            "South Africa"
           ],
           "locationmode": "country names",
           "locations": [
            "Egypt",
            "South Africa"
           ],
           "name": "",
           "type": "choropleth",
           "z": [
            0,
            0
           ]
          }
         ],
         "name": "1917"
        },
        {
         "data": [
          {
           "coloraxis": "coloraxis",
           "customdata": [
            [
             0,
             0,
             "no_crisis"
            ],
            [
             0,
             0,
             "no_crisis"
            ]
           ],
           "geo": "geo",
           "hovertemplate": "<b>%{hovertext}</b><br><br>year=1918<br>country=%{location}<br>currency_crises=%{customdata[0]}<br>inflation_crises=%{customdata[1]}<br>banking_crisis=%{customdata[2]}<br>systemic_crisis=%{z}<extra></extra>",
           "hovertext": [
            "Egypt",
            "South Africa"
           ],
           "locationmode": "country names",
           "locations": [
            "Egypt",
            "South Africa"
           ],
           "name": "",
           "type": "choropleth",
           "z": [
            0,
            0
           ]
          }
         ],
         "name": "1918"
        },
        {
         "data": [
          {
           "coloraxis": "coloraxis",
           "customdata": [
            [
             0,
             0,
             "no_crisis"
            ],
            [
             0,
             0,
             "no_crisis"
            ]
           ],
           "geo": "geo",
           "hovertemplate": "<b>%{hovertext}</b><br><br>year=1919<br>country=%{location}<br>currency_crises=%{customdata[0]}<br>inflation_crises=%{customdata[1]}<br>banking_crisis=%{customdata[2]}<br>systemic_crisis=%{z}<extra></extra>",
           "hovertext": [
            "Egypt",
            "South Africa"
           ],
           "locationmode": "country names",
           "locations": [
            "Egypt",
            "South Africa"
           ],
           "name": "",
           "type": "choropleth",
           "z": [
            0,
            0
           ]
          }
         ],
         "name": "1919"
        },
        {
         "data": [
          {
           "coloraxis": "coloraxis",
           "customdata": [
            [
             0,
             1,
             "no_crisis"
            ],
            [
             0,
             1,
             "no_crisis"
            ]
           ],
           "geo": "geo",
           "hovertemplate": "<b>%{hovertext}</b><br><br>year=1920<br>country=%{location}<br>currency_crises=%{customdata[0]}<br>inflation_crises=%{customdata[1]}<br>banking_crisis=%{customdata[2]}<br>systemic_crisis=%{z}<extra></extra>",
           "hovertext": [
            "Egypt",
            "South Africa"
           ],
           "locationmode": "country names",
           "locations": [
            "Egypt",
            "South Africa"
           ],
           "name": "",
           "type": "choropleth",
           "z": [
            0,
            0
           ]
          }
         ],
         "name": "1920"
        }
       ],
       "layout": {
        "coloraxis": {
         "cmax": 1,
         "cmin": 0,
         "colorbar": {
          "ticks": "outside",
          "ticktext": [
           "no",
           "yes"
          ],
          "tickvals": [
           0,
           1
          ],
          "title": {
           "text": "systemic_crisis"
          }
         },
         "colorscale": [
          [
           0,
           "#440154"
          ],
          [
           0.1111111111111111,
           "#482878"
          ],
          [
           0.2222222222222222,
           "#3e4989"
          ],
          [
           0.3333333333333333,
           "#31688e"
          ],
          [
           0.4444444444444444,
           "#26828e"
          ],
          [
           0.5555555555555556,
           "#1f9e89"
          ],
          [
           0.6666666666666666,
           "#35b779"
          ],
          [
           0.7777777777777778,
           "#6ece58"
          ],
          [
           0.8888888888888888,
           "#b5de2b"
          ],
          [
           1,
           "#fde725"
          ]
         ]
        },
        "geo": {
         "center": {},
         "domain": {
          "x": [
           0,
           1
          ],
          "y": [
           0,
           1
          ]
         },
         "projection": {
          "type": "natural earth"
         },
         "scope": "africa"
        },
        "legend": {
         "tracegroupgap": 0
        },
        "margin": {
         "t": 60
        },
        "sliders": [
         {
          "active": 0,
          "currentvalue": {
           "prefix": "year="
          },
          "len": 0.9,
          "pad": {
           "b": 10,
           "t": 60
          },
          "steps": [
           {
            "args": [
             [
              "1870"
             ],
             {
              "frame": {
               "duration": 0,
               "redraw": true
              },
              "fromcurrent": true,
              "mode": "immediate",
              "transition": {
               "duration": 0,
               "easing": "linear"
              }
             }
            ],
            "label": "1870",
            "method": "animate"
           },
           {
            "args": [
             [
              "1871"
             ],
             {
              "frame": {
               "duration": 0,
               "redraw": true
              },
              "fromcurrent": true,
              "mode": "immediate",
              "transition": {
               "duration": 0,
               "easing": "linear"
              }
             }
            ],
            "label": "1871",
            "method": "animate"
           },
           {
            "args": [
             [
              "1872"
             ],
             {
              "frame": {
               "duration": 0,
               "redraw": true
              },
              "fromcurrent": true,
              "mode": "immediate",
              "transition": {
               "duration": 0,
               "easing": "linear"
              }
             }
            ],
            "label": "1872",
            "method": "animate"
           },
           {
            "args": [
             [
              "1873"
             ],
             {
              "frame": {
               "duration": 0,
               "redraw": true
              },
              "fromcurrent": true,
              "mode": "immediate",
              "transition": {
               "duration": 0,
               "easing": "linear"
              }
             }
            ],
            "label": "1873",
            "method": "animate"
           },
           {
            "args": [
             [
              "1874"
             ],
             {
              "frame": {
               "duration": 0,
               "redraw": true
              },
              "fromcurrent": true,
              "mode": "immediate",
              "transition": {
               "duration": 0,
               "easing": "linear"
              }
             }
            ],
            "label": "1874",
            "method": "animate"
           },
           {
            "args": [
             [
              "1875"
             ],
             {
              "frame": {
               "duration": 0,
               "redraw": true
              },
              "fromcurrent": true,
              "mode": "immediate",
              "transition": {
               "duration": 0,
               "easing": "linear"
              }
             }
            ],
            "label": "1875",
            "method": "animate"
           },
           {
            "args": [
             [
              "1876"
             ],
             {
              "frame": {
               "duration": 0,
               "redraw": true
              },
              "fromcurrent": true,
              "mode": "immediate",
              "transition": {
               "duration": 0,
               "easing": "linear"
              }
             }
            ],
            "label": "1876",
            "method": "animate"
           },
           {
            "args": [
             [
              "1877"
             ],
             {
              "frame": {
               "duration": 0,
               "redraw": true
              },
              "fromcurrent": true,
              "mode": "immediate",
              "transition": {
               "duration": 0,
               "easing": "linear"
              }
             }
            ],
            "label": "1877",
            "method": "animate"
           },
           {
            "args": [
             [
              "1878"
             ],
             {
              "frame": {
               "duration": 0,
               "redraw": true
              },
              "fromcurrent": true,
              "mode": "immediate",
              "transition": {
               "duration": 0,
               "easing": "linear"
              }
             }
            ],
            "label": "1878",
            "method": "animate"
           },
           {
            "args": [
             [
              "1879"
             ],
             {
              "frame": {
               "duration": 0,
               "redraw": true
              },
              "fromcurrent": true,
              "mode": "immediate",
              "transition": {
               "duration": 0,
               "easing": "linear"
              }
             }
            ],
            "label": "1879",
            "method": "animate"
           },
           {
            "args": [
             [
              "1880"
             ],
             {
              "frame": {
               "duration": 0,
               "redraw": true
              },
              "fromcurrent": true,
              "mode": "immediate",
              "transition": {
               "duration": 0,
               "easing": "linear"
              }
             }
            ],
            "label": "1880",
            "method": "animate"
           },
           {
            "args": [
             [
              "1881"
             ],
             {
              "frame": {
               "duration": 0,
               "redraw": true
              },
              "fromcurrent": true,
              "mode": "immediate",
              "transition": {
               "duration": 0,
               "easing": "linear"
              }
             }
            ],
            "label": "1881",
            "method": "animate"
           },
           {
            "args": [
             [
              "1882"
             ],
             {
              "frame": {
               "duration": 0,
               "redraw": true
              },
              "fromcurrent": true,
              "mode": "immediate",
              "transition": {
               "duration": 0,
               "easing": "linear"
              }
             }
            ],
            "label": "1882",
            "method": "animate"
           },
           {
            "args": [
             [
              "1883"
             ],
             {
              "frame": {
               "duration": 0,
               "redraw": true
              },
              "fromcurrent": true,
              "mode": "immediate",
              "transition": {
               "duration": 0,
               "easing": "linear"
              }
             }
            ],
            "label": "1883",
            "method": "animate"
           },
           {
            "args": [
             [
              "1884"
             ],
             {
              "frame": {
               "duration": 0,
               "redraw": true
              },
              "fromcurrent": true,
              "mode": "immediate",
              "transition": {
               "duration": 0,
               "easing": "linear"
              }
             }
            ],
            "label": "1884",
            "method": "animate"
           },
           {
            "args": [
             [
              "1939"
             ],
             {
              "frame": {
               "duration": 0,
               "redraw": true
              },
              "fromcurrent": true,
              "mode": "immediate",
              "transition": {
               "duration": 0,
               "easing": "linear"
              }
             }
            ],
            "label": "1939",
            "method": "animate"
           },
           {
            "args": [
             [
              "1940"
             ],
             {
              "frame": {
               "duration": 0,
               "redraw": true
              },
              "fromcurrent": true,
              "mode": "immediate",
              "transition": {
               "duration": 0,
               "easing": "linear"
              }
             }
            ],
            "label": "1940",
            "method": "animate"
           },
           {
            "args": [
             [
              "1941"
             ],
             {
              "frame": {
               "duration": 0,
               "redraw": true
              },
              "fromcurrent": true,
              "mode": "immediate",
              "transition": {
               "duration": 0,
               "easing": "linear"
              }
             }
            ],
            "label": "1941",
            "method": "animate"
           },
           {
            "args": [
             [
              "1942"
             ],
             {
              "frame": {
               "duration": 0,
               "redraw": true
              },
              "fromcurrent": true,
              "mode": "immediate",
              "transition": {
               "duration": 0,
               "easing": "linear"
              }
             }
            ],
            "label": "1942",
            "method": "animate"
           },
           {
            "args": [
             [
              "1943"
             ],
             {
              "frame": {
               "duration": 0,
               "redraw": true
              },
              "fromcurrent": true,
              "mode": "immediate",
              "transition": {
               "duration": 0,
               "easing": "linear"
              }
             }
            ],
            "label": "1943",
            "method": "animate"
           },
           {
            "args": [
             [
              "1944"
             ],
             {
              "frame": {
               "duration": 0,
               "redraw": true
              },
              "fromcurrent": true,
              "mode": "immediate",
              "transition": {
               "duration": 0,
               "easing": "linear"
              }
             }
            ],
            "label": "1944",
            "method": "animate"
           },
           {
            "args": [
             [
              "1945"
             ],
             {
              "frame": {
               "duration": 0,
               "redraw": true
              },
              "fromcurrent": true,
              "mode": "immediate",
              "transition": {
               "duration": 0,
               "easing": "linear"
              }
             }
            ],
            "label": "1945",
            "method": "animate"
           },
           {
            "args": [
             [
              "1946"
             ],
             {
              "frame": {
               "duration": 0,
               "redraw": true
              },
              "fromcurrent": true,
              "mode": "immediate",
              "transition": {
               "duration": 0,
               "easing": "linear"
              }
             }
            ],
            "label": "1946",
            "method": "animate"
           },
           {
            "args": [
             [
              "1947"
             ],
             {
              "frame": {
               "duration": 0,
               "redraw": true
              },
              "fromcurrent": true,
              "mode": "immediate",
              "transition": {
               "duration": 0,
               "easing": "linear"
              }
             }
            ],
            "label": "1947",
            "method": "animate"
           },
           {
            "args": [
             [
              "1948"
             ],
             {
              "frame": {
               "duration": 0,
               "redraw": true
              },
              "fromcurrent": true,
              "mode": "immediate",
              "transition": {
               "duration": 0,
               "easing": "linear"
              }
             }
            ],
            "label": "1948",
            "method": "animate"
           },
           {
            "args": [
             [
              "1949"
             ],
             {
              "frame": {
               "duration": 0,
               "redraw": true
              },
              "fromcurrent": true,
              "mode": "immediate",
              "transition": {
               "duration": 0,
               "easing": "linear"
              }
             }
            ],
            "label": "1949",
            "method": "animate"
           },
           {
            "args": [
             [
              "1950"
             ],
             {
              "frame": {
               "duration": 0,
               "redraw": true
              },
              "fromcurrent": true,
              "mode": "immediate",
              "transition": {
               "duration": 0,
               "easing": "linear"
              }
             }
            ],
            "label": "1950",
            "method": "animate"
           },
           {
            "args": [
             [
              "1951"
             ],
             {
              "frame": {
               "duration": 0,
               "redraw": true
              },
              "fromcurrent": true,
              "mode": "immediate",
              "transition": {
               "duration": 0,
               "easing": "linear"
              }
             }
            ],
            "label": "1951",
            "method": "animate"
           },
           {
            "args": [
             [
              "1952"
             ],
             {
              "frame": {
               "duration": 0,
               "redraw": true
              },
              "fromcurrent": true,
              "mode": "immediate",
              "transition": {
               "duration": 0,
               "easing": "linear"
              }
             }
            ],
            "label": "1952",
            "method": "animate"
           },
           {
            "args": [
             [
              "1953"
             ],
             {
              "frame": {
               "duration": 0,
               "redraw": true
              },
              "fromcurrent": true,
              "mode": "immediate",
              "transition": {
               "duration": 0,
               "easing": "linear"
              }
             }
            ],
            "label": "1953",
            "method": "animate"
           },
           {
            "args": [
             [
              "1954"
             ],
             {
              "frame": {
               "duration": 0,
               "redraw": true
              },
              "fromcurrent": true,
              "mode": "immediate",
              "transition": {
               "duration": 0,
               "easing": "linear"
              }
             }
            ],
            "label": "1954",
            "method": "animate"
           },
           {
            "args": [
             [
              "1955"
             ],
             {
              "frame": {
               "duration": 0,
               "redraw": true
              },
              "fromcurrent": true,
              "mode": "immediate",
              "transition": {
               "duration": 0,
               "easing": "linear"
              }
             }
            ],
            "label": "1955",
            "method": "animate"
           },
           {
            "args": [
             [
              "1956"
             ],
             {
              "frame": {
               "duration": 0,
               "redraw": true
              },
              "fromcurrent": true,
              "mode": "immediate",
              "transition": {
               "duration": 0,
               "easing": "linear"
              }
             }
            ],
            "label": "1956",
            "method": "animate"
           },
           {
            "args": [
             [
              "1957"
             ],
             {
              "frame": {
               "duration": 0,
               "redraw": true
              },
              "fromcurrent": true,
              "mode": "immediate",
              "transition": {
               "duration": 0,
               "easing": "linear"
              }
             }
            ],
            "label": "1957",
            "method": "animate"
           },
           {
            "args": [
             [
              "1958"
             ],
             {
              "frame": {
               "duration": 0,
               "redraw": true
              },
              "fromcurrent": true,
              "mode": "immediate",
              "transition": {
               "duration": 0,
               "easing": "linear"
              }
             }
            ],
            "label": "1958",
            "method": "animate"
           },
           {
            "args": [
             [
              "1959"
             ],
             {
              "frame": {
               "duration": 0,
               "redraw": true
              },
              "fromcurrent": true,
              "mode": "immediate",
              "transition": {
               "duration": 0,
               "easing": "linear"
              }
             }
            ],
            "label": "1959",
            "method": "animate"
           },
           {
            "args": [
             [
              "1960"
             ],
             {
              "frame": {
               "duration": 0,
               "redraw": true
              },
              "fromcurrent": true,
              "mode": "immediate",
              "transition": {
               "duration": 0,
               "easing": "linear"
              }
             }
            ],
            "label": "1960",
            "method": "animate"
           },
           {
            "args": [
             [
              "1961"
             ],
             {
              "frame": {
               "duration": 0,
               "redraw": true
              },
              "fromcurrent": true,
              "mode": "immediate",
              "transition": {
               "duration": 0,
               "easing": "linear"
              }
             }
            ],
            "label": "1961",
            "method": "animate"
           },
           {
            "args": [
             [
              "1968"
             ],
             {
              "frame": {
               "duration": 0,
               "redraw": true
              },
              "fromcurrent": true,
              "mode": "immediate",
              "transition": {
               "duration": 0,
               "easing": "linear"
              }
             }
            ],
            "label": "1968",
            "method": "animate"
           },
           {
            "args": [
             [
              "1969"
             ],
             {
              "frame": {
               "duration": 0,
               "redraw": true
              },
              "fromcurrent": true,
              "mode": "immediate",
              "transition": {
               "duration": 0,
               "easing": "linear"
              }
             }
            ],
            "label": "1969",
            "method": "animate"
           },
           {
            "args": [
             [
              "1970"
             ],
             {
              "frame": {
               "duration": 0,
               "redraw": true
              },
              "fromcurrent": true,
              "mode": "immediate",
              "transition": {
               "duration": 0,
               "easing": "linear"
              }
             }
            ],
            "label": "1970",
            "method": "animate"
           },
           {
            "args": [
             [
              "1971"
             ],
             {
              "frame": {
               "duration": 0,
               "redraw": true
              },
              "fromcurrent": true,
              "mode": "immediate",
              "transition": {
               "duration": 0,
               "easing": "linear"
              }
             }
            ],
            "label": "1971",
            "method": "animate"
           },
           {
            "args": [
             [
              "1972"
             ],
             {
              "frame": {
               "duration": 0,
               "redraw": true
              },
              "fromcurrent": true,
              "mode": "immediate",
              "transition": {
               "duration": 0,
               "easing": "linear"
              }
             }
            ],
            "label": "1972",
            "method": "animate"
           },
           {
            "args": [
             [
              "1973"
             ],
             {
              "frame": {
               "duration": 0,
               "redraw": true
              },
              "fromcurrent": true,
              "mode": "immediate",
              "transition": {
               "duration": 0,
               "easing": "linear"
              }
             }
            ],
            "label": "1973",
            "method": "animate"
           },
           {
            "args": [
             [
              "1974"
             ],
             {
              "frame": {
               "duration": 0,
               "redraw": true
              },
              "fromcurrent": true,
              "mode": "immediate",
              "transition": {
               "duration": 0,
               "easing": "linear"
              }
             }
            ],
            "label": "1974",
            "method": "animate"
           },
           {
            "args": [
             [
              "1975"
             ],
             {
              "frame": {
               "duration": 0,
               "redraw": true
              },
              "fromcurrent": true,
              "mode": "immediate",
              "transition": {
               "duration": 0,
               "easing": "linear"
              }
             }
            ],
            "label": "1975",
            "method": "animate"
           },
           {
            "args": [
             [
              "1976"
             ],
             {
              "frame": {
               "duration": 0,
               "redraw": true
              },
              "fromcurrent": true,
              "mode": "immediate",
              "transition": {
               "duration": 0,
               "easing": "linear"
              }
             }
            ],
            "label": "1976",
            "method": "animate"
           },
           {
            "args": [
             [
              "1977"
             ],
             {
              "frame": {
               "duration": 0,
               "redraw": true
              },
              "fromcurrent": true,
              "mode": "immediate",
              "transition": {
               "duration": 0,
               "easing": "linear"
              }
             }
            ],
            "label": "1977",
            "method": "animate"
           },
           {
            "args": [
             [
              "1978"
             ],
             {
              "frame": {
               "duration": 0,
               "redraw": true
              },
              "fromcurrent": true,
              "mode": "immediate",
              "transition": {
               "duration": 0,
               "easing": "linear"
              }
             }
            ],
            "label": "1978",
            "method": "animate"
           },
           {
            "args": [
             [
              "1979"
             ],
             {
              "frame": {
               "duration": 0,
               "redraw": true
              },
              "fromcurrent": true,
              "mode": "immediate",
              "transition": {
               "duration": 0,
               "easing": "linear"
              }
             }
            ],
            "label": "1979",
            "method": "animate"
           },
           {
            "args": [
             [
              "1980"
             ],
             {
              "frame": {
               "duration": 0,
               "redraw": true
              },
              "fromcurrent": true,
              "mode": "immediate",
              "transition": {
               "duration": 0,
               "easing": "linear"
              }
             }
            ],
            "label": "1980",
            "method": "animate"
           },
           {
            "args": [
             [
              "1981"
             ],
             {
              "frame": {
               "duration": 0,
               "redraw": true
              },
              "fromcurrent": true,
              "mode": "immediate",
              "transition": {
               "duration": 0,
               "easing": "linear"
              }
             }
            ],
            "label": "1981",
            "method": "animate"
           },
           {
            "args": [
             [
              "1982"
             ],
             {
              "frame": {
               "duration": 0,
               "redraw": true
              },
              "fromcurrent": true,
              "mode": "immediate",
              "transition": {
               "duration": 0,
               "easing": "linear"
              }
             }
            ],
            "label": "1982",
            "method": "animate"
           },
           {
            "args": [
             [
              "1983"
             ],
             {
              "frame": {
               "duration": 0,
               "redraw": true
              },
              "fromcurrent": true,
              "mode": "immediate",
              "transition": {
               "duration": 0,
               "easing": "linear"
              }
             }
            ],
            "label": "1983",
            "method": "animate"
           },
           {
            "args": [
             [
              "1984"
             ],
             {
              "frame": {
               "duration": 0,
               "redraw": true
              },
              "fromcurrent": true,
              "mode": "immediate",
              "transition": {
               "duration": 0,
               "easing": "linear"
              }
             }
            ],
            "label": "1984",
            "method": "animate"
           },
           {
            "args": [
             [
              "1985"
             ],
             {
              "frame": {
               "duration": 0,
               "redraw": true
              },
              "fromcurrent": true,
              "mode": "immediate",
              "transition": {
               "duration": 0,
               "easing": "linear"
              }
             }
            ],
            "label": "1985",
            "method": "animate"
           },
           {
            "args": [
             [
              "1986"
             ],
             {
              "frame": {
               "duration": 0,
               "redraw": true
              },
              "fromcurrent": true,
              "mode": "immediate",
              "transition": {
               "duration": 0,
               "easing": "linear"
              }
             }
            ],
            "label": "1986",
            "method": "animate"
           },
           {
            "args": [
             [
              "1987"
             ],
             {
              "frame": {
               "duration": 0,
               "redraw": true
              },
              "fromcurrent": true,
              "mode": "immediate",
              "transition": {
               "duration": 0,
               "easing": "linear"
              }
             }
            ],
            "label": "1987",
            "method": "animate"
           },
           {
            "args": [
             [
              "1988"
             ],
             {
              "frame": {
               "duration": 0,
               "redraw": true
              },
              "fromcurrent": true,
              "mode": "immediate",
              "transition": {
               "duration": 0,
               "easing": "linear"
              }
             }
            ],
            "label": "1988",
            "method": "animate"
           },
           {
            "args": [
             [
              "1989"
             ],
             {
              "frame": {
               "duration": 0,
               "redraw": true
              },
              "fromcurrent": true,
              "mode": "immediate",
              "transition": {
               "duration": 0,
               "easing": "linear"
              }
             }
            ],
            "label": "1989",
            "method": "animate"
           },
           {
            "args": [
             [
              "1990"
             ],
             {
              "frame": {
               "duration": 0,
               "redraw": true
              },
              "fromcurrent": true,
              "mode": "immediate",
              "transition": {
               "duration": 0,
               "easing": "linear"
              }
             }
            ],
            "label": "1990",
            "method": "animate"
           },
           {
            "args": [
             [
              "1991"
             ],
             {
              "frame": {
               "duration": 0,
               "redraw": true
              },
              "fromcurrent": true,
              "mode": "immediate",
              "transition": {
               "duration": 0,
               "easing": "linear"
              }
             }
            ],
            "label": "1991",
            "method": "animate"
           },
           {
            "args": [
             [
              "1992"
             ],
             {
              "frame": {
               "duration": 0,
               "redraw": true
              },
              "fromcurrent": true,
              "mode": "immediate",
              "transition": {
               "duration": 0,
               "easing": "linear"
              }
             }
            ],
            "label": "1992",
            "method": "animate"
           },
           {
            "args": [
             [
              "1993"
             ],
             {
              "frame": {
               "duration": 0,
               "redraw": true
              },
              "fromcurrent": true,
              "mode": "immediate",
              "transition": {
               "duration": 0,
               "easing": "linear"
              }
             }
            ],
            "label": "1993",
            "method": "animate"
           },
           {
            "args": [
             [
              "1994"
             ],
             {
              "frame": {
               "duration": 0,
               "redraw": true
              },
              "fromcurrent": true,
              "mode": "immediate",
              "transition": {
               "duration": 0,
               "easing": "linear"
              }
             }
            ],
            "label": "1994",
            "method": "animate"
           },
           {
            "args": [
             [
              "1995"
             ],
             {
              "frame": {
               "duration": 0,
               "redraw": true
              },
              "fromcurrent": true,
              "mode": "immediate",
              "transition": {
               "duration": 0,
               "easing": "linear"
              }
             }
            ],
            "label": "1995",
            "method": "animate"
           },
           {
            "args": [
             [
              "1996"
             ],
             {
              "frame": {
               "duration": 0,
               "redraw": true
              },
              "fromcurrent": true,
              "mode": "immediate",
              "transition": {
               "duration": 0,
               "easing": "linear"
              }
             }
            ],
            "label": "1996",
            "method": "animate"
           },
           {
            "args": [
             [
              "1997"
             ],
             {
              "frame": {
               "duration": 0,
               "redraw": true
              },
              "fromcurrent": true,
              "mode": "immediate",
              "transition": {
               "duration": 0,
               "easing": "linear"
              }
             }
            ],
            "label": "1997",
            "method": "animate"
           },
           {
            "args": [
             [
              "1998"
             ],
             {
              "frame": {
               "duration": 0,
               "redraw": true
              },
              "fromcurrent": true,
              "mode": "immediate",
              "transition": {
               "duration": 0,
               "easing": "linear"
              }
             }
            ],
            "label": "1998",
            "method": "animate"
           },
           {
            "args": [
             [
              "1999"
             ],
             {
              "frame": {
               "duration": 0,
               "redraw": true
              },
              "fromcurrent": true,
              "mode": "immediate",
              "transition": {
               "duration": 0,
               "easing": "linear"
              }
             }
            ],
            "label": "1999",
            "method": "animate"
           },
           {
            "args": [
             [
              "2000"
             ],
             {
              "frame": {
               "duration": 0,
               "redraw": true
              },
              "fromcurrent": true,
              "mode": "immediate",
              "transition": {
               "duration": 0,
               "easing": "linear"
              }
             }
            ],
            "label": "2000",
            "method": "animate"
           },
           {
            "args": [
             [
              "2001"
             ],
             {
              "frame": {
               "duration": 0,
               "redraw": true
              },
              "fromcurrent": true,
              "mode": "immediate",
              "transition": {
               "duration": 0,
               "easing": "linear"
              }
             }
            ],
            "label": "2001",
            "method": "animate"
           },
           {
            "args": [
             [
              "2002"
             ],
             {
              "frame": {
               "duration": 0,
               "redraw": true
              },
              "fromcurrent": true,
              "mode": "immediate",
              "transition": {
               "duration": 0,
               "easing": "linear"
              }
             }
            ],
            "label": "2002",
            "method": "animate"
           },
           {
            "args": [
             [
              "2003"
             ],
             {
              "frame": {
               "duration": 0,
               "redraw": true
              },
              "fromcurrent": true,
              "mode": "immediate",
              "transition": {
               "duration": 0,
               "easing": "linear"
              }
             }
            ],
            "label": "2003",
            "method": "animate"
           },
           {
            "args": [
             [
              "2004"
             ],
             {
              "frame": {
               "duration": 0,
               "redraw": true
              },
              "fromcurrent": true,
              "mode": "immediate",
              "transition": {
               "duration": 0,
               "easing": "linear"
              }
             }
            ],
            "label": "2004",
            "method": "animate"
           },
           {
            "args": [
             [
              "2005"
             ],
             {
              "frame": {
               "duration": 0,
               "redraw": true
              },
              "fromcurrent": true,
              "mode": "immediate",
              "transition": {
               "duration": 0,
               "easing": "linear"
              }
             }
            ],
            "label": "2005",
            "method": "animate"
           },
           {
            "args": [
             [
              "2006"
             ],
             {
              "frame": {
               "duration": 0,
               "redraw": true
              },
              "fromcurrent": true,
              "mode": "immediate",
              "transition": {
               "duration": 0,
               "easing": "linear"
              }
             }
            ],
            "label": "2006",
            "method": "animate"
           },
           {
            "args": [
             [
              "2007"
             ],
             {
              "frame": {
               "duration": 0,
               "redraw": true
              },
              "fromcurrent": true,
              "mode": "immediate",
              "transition": {
               "duration": 0,
               "easing": "linear"
              }
             }
            ],
            "label": "2007",
            "method": "animate"
           },
           {
            "args": [
             [
              "2008"
             ],
             {
              "frame": {
               "duration": 0,
               "redraw": true
              },
              "fromcurrent": true,
              "mode": "immediate",
              "transition": {
               "duration": 0,
               "easing": "linear"
              }
             }
            ],
            "label": "2008",
            "method": "animate"
           },
           {
            "args": [
             [
              "2009"
             ],
             {
              "frame": {
               "duration": 0,
               "redraw": true
              },
              "fromcurrent": true,
              "mode": "immediate",
              "transition": {
               "duration": 0,
               "easing": "linear"
              }
             }
            ],
            "label": "2009",
            "method": "animate"
           },
           {
            "args": [
             [
              "2010"
             ],
             {
              "frame": {
               "duration": 0,
               "redraw": true
              },
              "fromcurrent": true,
              "mode": "immediate",
              "transition": {
               "duration": 0,
               "easing": "linear"
              }
             }
            ],
            "label": "2010",
            "method": "animate"
           },
           {
            "args": [
             [
              "2011"
             ],
             {
              "frame": {
               "duration": 0,
               "redraw": true
              },
              "fromcurrent": true,
              "mode": "immediate",
              "transition": {
               "duration": 0,
               "easing": "linear"
              }
             }
            ],
            "label": "2011",
            "method": "animate"
           },
           {
            "args": [
             [
              "2012"
             ],
             {
              "frame": {
               "duration": 0,
               "redraw": true
              },
              "fromcurrent": true,
              "mode": "immediate",
              "transition": {
               "duration": 0,
               "easing": "linear"
              }
             }
            ],
            "label": "2012",
            "method": "animate"
           },
           {
            "args": [
             [
              "2013"
             ],
             {
              "frame": {
               "duration": 0,
               "redraw": true
              },
              "fromcurrent": true,
              "mode": "immediate",
              "transition": {
               "duration": 0,
               "easing": "linear"
              }
             }
            ],
            "label": "2013",
            "method": "animate"
           },
           {
            "args": [
             [
              "2014"
             ],
             {
              "frame": {
               "duration": 0,
               "redraw": true
              },
              "fromcurrent": true,
              "mode": "immediate",
              "transition": {
               "duration": 0,
               "easing": "linear"
              }
             }
            ],
            "label": "2014",
            "method": "animate"
           },
           {
            "args": [
             [
              "1921"
             ],
             {
              "frame": {
               "duration": 0,
               "redraw": true
              },
              "fromcurrent": true,
              "mode": "immediate",
              "transition": {
               "duration": 0,
               "easing": "linear"
              }
             }
            ],
            "label": "1921",
            "method": "animate"
           },
           {
            "args": [
             [
              "1922"
             ],
             {
              "frame": {
               "duration": 0,
               "redraw": true
              },
              "fromcurrent": true,
              "mode": "immediate",
              "transition": {
               "duration": 0,
               "easing": "linear"
              }
             }
            ],
            "label": "1922",
            "method": "animate"
           },
           {
            "args": [
             [
              "1923"
             ],
             {
              "frame": {
               "duration": 0,
               "redraw": true
              },
              "fromcurrent": true,
              "mode": "immediate",
              "transition": {
               "duration": 0,
               "easing": "linear"
              }
             }
            ],
            "label": "1923",
            "method": "animate"
           },
           {
            "args": [
             [
              "1924"
             ],
             {
              "frame": {
               "duration": 0,
               "redraw": true
              },
              "fromcurrent": true,
              "mode": "immediate",
              "transition": {
               "duration": 0,
               "easing": "linear"
              }
             }
            ],
            "label": "1924",
            "method": "animate"
           },
           {
            "args": [
             [
              "1925"
             ],
             {
              "frame": {
               "duration": 0,
               "redraw": true
              },
              "fromcurrent": true,
              "mode": "immediate",
              "transition": {
               "duration": 0,
               "easing": "linear"
              }
             }
            ],
            "label": "1925",
            "method": "animate"
           },
           {
            "args": [
             [
              "1926"
             ],
             {
              "frame": {
               "duration": 0,
               "redraw": true
              },
              "fromcurrent": true,
              "mode": "immediate",
              "transition": {
               "duration": 0,
               "easing": "linear"
              }
             }
            ],
            "label": "1926",
            "method": "animate"
           },
           {
            "args": [
             [
              "1927"
             ],
             {
              "frame": {
               "duration": 0,
               "redraw": true
              },
              "fromcurrent": true,
              "mode": "immediate",
              "transition": {
               "duration": 0,
               "easing": "linear"
              }
             }
            ],
            "label": "1927",
            "method": "animate"
           },
           {
            "args": [
             [
              "1928"
             ],
             {
              "frame": {
               "duration": 0,
               "redraw": true
              },
              "fromcurrent": true,
              "mode": "immediate",
              "transition": {
               "duration": 0,
               "easing": "linear"
              }
             }
            ],
            "label": "1928",
            "method": "animate"
           },
           {
            "args": [
             [
              "1929"
             ],
             {
              "frame": {
               "duration": 0,
               "redraw": true
              },
              "fromcurrent": true,
              "mode": "immediate",
              "transition": {
               "duration": 0,
               "easing": "linear"
              }
             }
            ],
            "label": "1929",
            "method": "animate"
           },
           {
            "args": [
             [
              "1930"
             ],
             {
              "frame": {
               "duration": 0,
               "redraw": true
              },
              "fromcurrent": true,
              "mode": "immediate",
              "transition": {
               "duration": 0,
               "easing": "linear"
              }
             }
            ],
            "label": "1930",
            "method": "animate"
           },
           {
            "args": [
             [
              "1931"
             ],
             {
              "frame": {
               "duration": 0,
               "redraw": true
              },
              "fromcurrent": true,
              "mode": "immediate",
              "transition": {
               "duration": 0,
               "easing": "linear"
              }
             }
            ],
            "label": "1931",
            "method": "animate"
           },
           {
            "args": [
             [
              "1932"
             ],
             {
              "frame": {
               "duration": 0,
               "redraw": true
              },
              "fromcurrent": true,
              "mode": "immediate",
              "transition": {
               "duration": 0,
               "easing": "linear"
              }
             }
            ],
            "label": "1932",
            "method": "animate"
           },
           {
            "args": [
             [
              "1933"
             ],
             {
              "frame": {
               "duration": 0,
               "redraw": true
              },
              "fromcurrent": true,
              "mode": "immediate",
              "transition": {
               "duration": 0,
               "easing": "linear"
              }
             }
            ],
            "label": "1933",
            "method": "animate"
           },
           {
            "args": [
             [
              "1934"
             ],
             {
              "frame": {
               "duration": 0,
               "redraw": true
              },
              "fromcurrent": true,
              "mode": "immediate",
              "transition": {
               "duration": 0,
               "easing": "linear"
              }
             }
            ],
            "label": "1934",
            "method": "animate"
           },
           {
            "args": [
             [
              "1935"
             ],
             {
              "frame": {
               "duration": 0,
               "redraw": true
              },
              "fromcurrent": true,
              "mode": "immediate",
              "transition": {
               "duration": 0,
               "easing": "linear"
              }
             }
            ],
            "label": "1935",
            "method": "animate"
           },
           {
            "args": [
             [
              "1936"
             ],
             {
              "frame": {
               "duration": 0,
               "redraw": true
              },
              "fromcurrent": true,
              "mode": "immediate",
              "transition": {
               "duration": 0,
               "easing": "linear"
              }
             }
            ],
            "label": "1936",
            "method": "animate"
           },
           {
            "args": [
             [
              "1937"
             ],
             {
              "frame": {
               "duration": 0,
               "redraw": true
              },
              "fromcurrent": true,
              "mode": "immediate",
              "transition": {
               "duration": 0,
               "easing": "linear"
              }
             }
            ],
            "label": "1937",
            "method": "animate"
           },
           {
            "args": [
             [
              "1938"
             ],
             {
              "frame": {
               "duration": 0,
               "redraw": true
              },
              "fromcurrent": true,
              "mode": "immediate",
              "transition": {
               "duration": 0,
               "easing": "linear"
              }
             }
            ],
            "label": "1938",
            "method": "animate"
           },
           {
            "args": [
             [
              "1962"
             ],
             {
              "frame": {
               "duration": 0,
               "redraw": true
              },
              "fromcurrent": true,
              "mode": "immediate",
              "transition": {
               "duration": 0,
               "easing": "linear"
              }
             }
            ],
            "label": "1962",
            "method": "animate"
           },
           {
            "args": [
             [
              "1963"
             ],
             {
              "frame": {
               "duration": 0,
               "redraw": true
              },
              "fromcurrent": true,
              "mode": "immediate",
              "transition": {
               "duration": 0,
               "easing": "linear"
              }
             }
            ],
            "label": "1963",
            "method": "animate"
           },
           {
            "args": [
             [
              "1964"
             ],
             {
              "frame": {
               "duration": 0,
               "redraw": true
              },
              "fromcurrent": true,
              "mode": "immediate",
              "transition": {
               "duration": 0,
               "easing": "linear"
              }
             }
            ],
            "label": "1964",
            "method": "animate"
           },
           {
            "args": [
             [
              "1965"
             ],
             {
              "frame": {
               "duration": 0,
               "redraw": true
              },
              "fromcurrent": true,
              "mode": "immediate",
              "transition": {
               "duration": 0,
               "easing": "linear"
              }
             }
            ],
            "label": "1965",
            "method": "animate"
           },
           {
            "args": [
             [
              "1966"
             ],
             {
              "frame": {
               "duration": 0,
               "redraw": true
              },
              "fromcurrent": true,
              "mode": "immediate",
              "transition": {
               "duration": 0,
               "easing": "linear"
              }
             }
            ],
            "label": "1966",
            "method": "animate"
           },
           {
            "args": [
             [
              "1967"
             ],
             {
              "frame": {
               "duration": 0,
               "redraw": true
              },
              "fromcurrent": true,
              "mode": "immediate",
              "transition": {
               "duration": 0,
               "easing": "linear"
              }
             }
            ],
            "label": "1967",
            "method": "animate"
           },
           {
            "args": [
             [
              "1860"
             ],
             {
              "frame": {
               "duration": 0,
               "redraw": true
              },
              "fromcurrent": true,
              "mode": "immediate",
              "transition": {
               "duration": 0,
               "easing": "linear"
              }
             }
            ],
            "label": "1860",
            "method": "animate"
           },
           {
            "args": [
             [
              "1861"
             ],
             {
              "frame": {
               "duration": 0,
               "redraw": true
              },
              "fromcurrent": true,
              "mode": "immediate",
              "transition": {
               "duration": 0,
               "easing": "linear"
              }
             }
            ],
            "label": "1861",
            "method": "animate"
           },
           {
            "args": [
             [
              "1862"
             ],
             {
              "frame": {
               "duration": 0,
               "redraw": true
              },
              "fromcurrent": true,
              "mode": "immediate",
              "transition": {
               "duration": 0,
               "easing": "linear"
              }
             }
            ],
            "label": "1862",
            "method": "animate"
           },
           {
            "args": [
             [
              "1863"
             ],
             {
              "frame": {
               "duration": 0,
               "redraw": true
              },
              "fromcurrent": true,
              "mode": "immediate",
              "transition": {
               "duration": 0,
               "easing": "linear"
              }
             }
            ],
            "label": "1863",
            "method": "animate"
           },
           {
            "args": [
             [
              "1864"
             ],
             {
              "frame": {
               "duration": 0,
               "redraw": true
              },
              "fromcurrent": true,
              "mode": "immediate",
              "transition": {
               "duration": 0,
               "easing": "linear"
              }
             }
            ],
            "label": "1864",
            "method": "animate"
           },
           {
            "args": [
             [
              "1865"
             ],
             {
              "frame": {
               "duration": 0,
               "redraw": true
              },
              "fromcurrent": true,
              "mode": "immediate",
              "transition": {
               "duration": 0,
               "easing": "linear"
              }
             }
            ],
            "label": "1865",
            "method": "animate"
           },
           {
            "args": [
             [
              "1866"
             ],
             {
              "frame": {
               "duration": 0,
               "redraw": true
              },
              "fromcurrent": true,
              "mode": "immediate",
              "transition": {
               "duration": 0,
               "easing": "linear"
              }
             }
            ],
            "label": "1866",
            "method": "animate"
           },
           {
            "args": [
             [
              "1867"
             ],
             {
              "frame": {
               "duration": 0,
               "redraw": true
              },
              "fromcurrent": true,
              "mode": "immediate",
              "transition": {
               "duration": 0,
               "easing": "linear"
              }
             }
            ],
            "label": "1867",
            "method": "animate"
           },
           {
            "args": [
             [
              "1868"
             ],
             {
              "frame": {
               "duration": 0,
               "redraw": true
              },
              "fromcurrent": true,
              "mode": "immediate",
              "transition": {
               "duration": 0,
               "easing": "linear"
              }
             }
            ],
            "label": "1868",
            "method": "animate"
           },
           {
            "args": [
             [
              "1869"
             ],
             {
              "frame": {
               "duration": 0,
               "redraw": true
              },
              "fromcurrent": true,
              "mode": "immediate",
              "transition": {
               "duration": 0,
               "easing": "linear"
              }
             }
            ],
            "label": "1869",
            "method": "animate"
           },
           {
            "args": [
             [
              "1885"
             ],
             {
              "frame": {
               "duration": 0,
               "redraw": true
              },
              "fromcurrent": true,
              "mode": "immediate",
              "transition": {
               "duration": 0,
               "easing": "linear"
              }
             }
            ],
            "label": "1885",
            "method": "animate"
           },
           {
            "args": [
             [
              "1886"
             ],
             {
              "frame": {
               "duration": 0,
               "redraw": true
              },
              "fromcurrent": true,
              "mode": "immediate",
              "transition": {
               "duration": 0,
               "easing": "linear"
              }
             }
            ],
            "label": "1886",
            "method": "animate"
           },
           {
            "args": [
             [
              "1887"
             ],
             {
              "frame": {
               "duration": 0,
               "redraw": true
              },
              "fromcurrent": true,
              "mode": "immediate",
              "transition": {
               "duration": 0,
               "easing": "linear"
              }
             }
            ],
            "label": "1887",
            "method": "animate"
           },
           {
            "args": [
             [
              "1888"
             ],
             {
              "frame": {
               "duration": 0,
               "redraw": true
              },
              "fromcurrent": true,
              "mode": "immediate",
              "transition": {
               "duration": 0,
               "easing": "linear"
              }
             }
            ],
            "label": "1888",
            "method": "animate"
           },
           {
            "args": [
             [
              "1889"
             ],
             {
              "frame": {
               "duration": 0,
               "redraw": true
              },
              "fromcurrent": true,
              "mode": "immediate",
              "transition": {
               "duration": 0,
               "easing": "linear"
              }
             }
            ],
            "label": "1889",
            "method": "animate"
           },
           {
            "args": [
             [
              "1890"
             ],
             {
              "frame": {
               "duration": 0,
               "redraw": true
              },
              "fromcurrent": true,
              "mode": "immediate",
              "transition": {
               "duration": 0,
               "easing": "linear"
              }
             }
            ],
            "label": "1890",
            "method": "animate"
           },
           {
            "args": [
             [
              "1891"
             ],
             {
              "frame": {
               "duration": 0,
               "redraw": true
              },
              "fromcurrent": true,
              "mode": "immediate",
              "transition": {
               "duration": 0,
               "easing": "linear"
              }
             }
            ],
            "label": "1891",
            "method": "animate"
           },
           {
            "args": [
             [
              "1892"
             ],
             {
              "frame": {
               "duration": 0,
               "redraw": true
              },
              "fromcurrent": true,
              "mode": "immediate",
              "transition": {
               "duration": 0,
               "easing": "linear"
              }
             }
            ],
            "label": "1892",
            "method": "animate"
           },
           {
            "args": [
             [
              "1893"
             ],
             {
              "frame": {
               "duration": 0,
               "redraw": true
              },
              "fromcurrent": true,
              "mode": "immediate",
              "transition": {
               "duration": 0,
               "easing": "linear"
              }
             }
            ],
            "label": "1893",
            "method": "animate"
           },
           {
            "args": [
             [
              "1894"
             ],
             {
              "frame": {
               "duration": 0,
               "redraw": true
              },
              "fromcurrent": true,
              "mode": "immediate",
              "transition": {
               "duration": 0,
               "easing": "linear"
              }
             }
            ],
            "label": "1894",
            "method": "animate"
           },
           {
            "args": [
             [
              "1895"
             ],
             {
              "frame": {
               "duration": 0,
               "redraw": true
              },
              "fromcurrent": true,
              "mode": "immediate",
              "transition": {
               "duration": 0,
               "easing": "linear"
              }
             }
            ],
            "label": "1895",
            "method": "animate"
           },
           {
            "args": [
             [
              "1896"
             ],
             {
              "frame": {
               "duration": 0,
               "redraw": true
              },
              "fromcurrent": true,
              "mode": "immediate",
              "transition": {
               "duration": 0,
               "easing": "linear"
              }
             }
            ],
            "label": "1896",
            "method": "animate"
           },
           {
            "args": [
             [
              "1897"
             ],
             {
              "frame": {
               "duration": 0,
               "redraw": true
              },
              "fromcurrent": true,
              "mode": "immediate",
              "transition": {
               "duration": 0,
               "easing": "linear"
              }
             }
            ],
            "label": "1897",
            "method": "animate"
           },
           {
            "args": [
             [
              "1898"
             ],
             {
              "frame": {
               "duration": 0,
               "redraw": true
              },
              "fromcurrent": true,
              "mode": "immediate",
              "transition": {
               "duration": 0,
               "easing": "linear"
              }
             }
            ],
            "label": "1898",
            "method": "animate"
           },
           {
            "args": [
             [
              "1899"
             ],
             {
              "frame": {
               "duration": 0,
               "redraw": true
              },
              "fromcurrent": true,
              "mode": "immediate",
              "transition": {
               "duration": 0,
               "easing": "linear"
              }
             }
            ],
            "label": "1899",
            "method": "animate"
           },
           {
            "args": [
             [
              "1900"
             ],
             {
              "frame": {
               "duration": 0,
               "redraw": true
              },
              "fromcurrent": true,
              "mode": "immediate",
              "transition": {
               "duration": 0,
               "easing": "linear"
              }
             }
            ],
            "label": "1900",
            "method": "animate"
           },
           {
            "args": [
             [
              "1901"
             ],
             {
              "frame": {
               "duration": 0,
               "redraw": true
              },
              "fromcurrent": true,
              "mode": "immediate",
              "transition": {
               "duration": 0,
               "easing": "linear"
              }
             }
            ],
            "label": "1901",
            "method": "animate"
           },
           {
            "args": [
             [
              "1902"
             ],
             {
              "frame": {
               "duration": 0,
               "redraw": true
              },
              "fromcurrent": true,
              "mode": "immediate",
              "transition": {
               "duration": 0,
               "easing": "linear"
              }
             }
            ],
            "label": "1902",
            "method": "animate"
           },
           {
            "args": [
             [
              "1903"
             ],
             {
              "frame": {
               "duration": 0,
               "redraw": true
              },
              "fromcurrent": true,
              "mode": "immediate",
              "transition": {
               "duration": 0,
               "easing": "linear"
              }
             }
            ],
            "label": "1903",
            "method": "animate"
           },
           {
            "args": [
             [
              "1904"
             ],
             {
              "frame": {
               "duration": 0,
               "redraw": true
              },
              "fromcurrent": true,
              "mode": "immediate",
              "transition": {
               "duration": 0,
               "easing": "linear"
              }
             }
            ],
            "label": "1904",
            "method": "animate"
           },
           {
            "args": [
             [
              "1905"
             ],
             {
              "frame": {
               "duration": 0,
               "redraw": true
              },
              "fromcurrent": true,
              "mode": "immediate",
              "transition": {
               "duration": 0,
               "easing": "linear"
              }
             }
            ],
            "label": "1905",
            "method": "animate"
           },
           {
            "args": [
             [
              "1906"
             ],
             {
              "frame": {
               "duration": 0,
               "redraw": true
              },
              "fromcurrent": true,
              "mode": "immediate",
              "transition": {
               "duration": 0,
               "easing": "linear"
              }
             }
            ],
            "label": "1906",
            "method": "animate"
           },
           {
            "args": [
             [
              "1907"
             ],
             {
              "frame": {
               "duration": 0,
               "redraw": true
              },
              "fromcurrent": true,
              "mode": "immediate",
              "transition": {
               "duration": 0,
               "easing": "linear"
              }
             }
            ],
            "label": "1907",
            "method": "animate"
           },
           {
            "args": [
             [
              "1908"
             ],
             {
              "frame": {
               "duration": 0,
               "redraw": true
              },
              "fromcurrent": true,
              "mode": "immediate",
              "transition": {
               "duration": 0,
               "easing": "linear"
              }
             }
            ],
            "label": "1908",
            "method": "animate"
           },
           {
            "args": [
             [
              "1909"
             ],
             {
              "frame": {
               "duration": 0,
               "redraw": true
              },
              "fromcurrent": true,
              "mode": "immediate",
              "transition": {
               "duration": 0,
               "easing": "linear"
              }
             }
            ],
            "label": "1909",
            "method": "animate"
           },
           {
            "args": [
             [
              "1910"
             ],
             {
              "frame": {
               "duration": 0,
               "redraw": true
              },
              "fromcurrent": true,
              "mode": "immediate",
              "transition": {
               "duration": 0,
               "easing": "linear"
              }
             }
            ],
            "label": "1910",
            "method": "animate"
           },
           {
            "args": [
             [
              "1911"
             ],
             {
              "frame": {
               "duration": 0,
               "redraw": true
              },
              "fromcurrent": true,
              "mode": "immediate",
              "transition": {
               "duration": 0,
               "easing": "linear"
              }
             }
            ],
            "label": "1911",
            "method": "animate"
           },
           {
            "args": [
             [
              "1912"
             ],
             {
              "frame": {
               "duration": 0,
               "redraw": true
              },
              "fromcurrent": true,
              "mode": "immediate",
              "transition": {
               "duration": 0,
               "easing": "linear"
              }
             }
            ],
            "label": "1912",
            "method": "animate"
           },
           {
            "args": [
             [
              "1913"
             ],
             {
              "frame": {
               "duration": 0,
               "redraw": true
              },
              "fromcurrent": true,
              "mode": "immediate",
              "transition": {
               "duration": 0,
               "easing": "linear"
              }
             }
            ],
            "label": "1913",
            "method": "animate"
           },
           {
            "args": [
             [
              "1914"
             ],
             {
              "frame": {
               "duration": 0,
               "redraw": true
              },
              "fromcurrent": true,
              "mode": "immediate",
              "transition": {
               "duration": 0,
               "easing": "linear"
              }
             }
            ],
            "label": "1914",
            "method": "animate"
           },
           {
            "args": [
             [
              "1915"
             ],
             {
              "frame": {
               "duration": 0,
               "redraw": true
              },
              "fromcurrent": true,
              "mode": "immediate",
              "transition": {
               "duration": 0,
               "easing": "linear"
              }
             }
            ],
            "label": "1915",
            "method": "animate"
           },
           {
            "args": [
             [
              "1916"
             ],
             {
              "frame": {
               "duration": 0,
               "redraw": true
              },
              "fromcurrent": true,
              "mode": "immediate",
              "transition": {
               "duration": 0,
               "easing": "linear"
              }
             }
            ],
            "label": "1916",
            "method": "animate"
           },
           {
            "args": [
             [
              "1917"
             ],
             {
              "frame": {
               "duration": 0,
               "redraw": true
              },
              "fromcurrent": true,
              "mode": "immediate",
              "transition": {
               "duration": 0,
               "easing": "linear"
              }
             }
            ],
            "label": "1917",
            "method": "animate"
           },
           {
            "args": [
             [
              "1918"
             ],
             {
              "frame": {
               "duration": 0,
               "redraw": true
              },
              "fromcurrent": true,
              "mode": "immediate",
              "transition": {
               "duration": 0,
               "easing": "linear"
              }
             }
            ],
            "label": "1918",
            "method": "animate"
           },
           {
            "args": [
             [
              "1919"
             ],
             {
              "frame": {
               "duration": 0,
               "redraw": true
              },
              "fromcurrent": true,
              "mode": "immediate",
              "transition": {
               "duration": 0,
               "easing": "linear"
              }
             }
            ],
            "label": "1919",
            "method": "animate"
           },
           {
            "args": [
             [
              "1920"
             ],
             {
              "frame": {
               "duration": 0,
               "redraw": true
              },
              "fromcurrent": true,
              "mode": "immediate",
              "transition": {
               "duration": 0,
               "easing": "linear"
              }
             }
            ],
            "label": "1920",
            "method": "animate"
           }
          ],
          "x": 0.1,
          "xanchor": "left",
          "y": 0,
          "yanchor": "top"
         }
        ],
        "template": {
         "data": {
          "bar": [
           {
            "error_x": {
             "color": "#2a3f5f"
            },
            "error_y": {
             "color": "#2a3f5f"
            },
            "marker": {
             "line": {
              "color": "#E5ECF6",
              "width": 0.5
             },
             "pattern": {
              "fillmode": "overlay",
              "size": 10,
              "solidity": 0.2
             }
            },
            "type": "bar"
           }
          ],
          "barpolar": [
           {
            "marker": {
             "line": {
              "color": "#E5ECF6",
              "width": 0.5
             },
             "pattern": {
              "fillmode": "overlay",
              "size": 10,
              "solidity": 0.2
             }
            },
            "type": "barpolar"
           }
          ],
          "carpet": [
           {
            "aaxis": {
             "endlinecolor": "#2a3f5f",
             "gridcolor": "white",
             "linecolor": "white",
             "minorgridcolor": "white",
             "startlinecolor": "#2a3f5f"
            },
            "baxis": {
             "endlinecolor": "#2a3f5f",
             "gridcolor": "white",
             "linecolor": "white",
             "minorgridcolor": "white",
             "startlinecolor": "#2a3f5f"
            },
            "type": "carpet"
           }
          ],
          "choropleth": [
           {
            "colorbar": {
             "outlinewidth": 0,
             "ticks": ""
            },
            "type": "choropleth"
           }
          ],
          "contour": [
           {
            "colorbar": {
             "outlinewidth": 0,
             "ticks": ""
            },
            "colorscale": [
             [
              0,
              "#0d0887"
             ],
             [
              0.1111111111111111,
              "#46039f"
             ],
             [
              0.2222222222222222,
              "#7201a8"
             ],
             [
              0.3333333333333333,
              "#9c179e"
             ],
             [
              0.4444444444444444,
              "#bd3786"
             ],
             [
              0.5555555555555556,
              "#d8576b"
             ],
             [
              0.6666666666666666,
              "#ed7953"
             ],
             [
              0.7777777777777778,
              "#fb9f3a"
             ],
             [
              0.8888888888888888,
              "#fdca26"
             ],
             [
              1,
              "#f0f921"
             ]
            ],
            "type": "contour"
           }
          ],
          "contourcarpet": [
           {
            "colorbar": {
             "outlinewidth": 0,
             "ticks": ""
            },
            "type": "contourcarpet"
           }
          ],
          "heatmap": [
           {
            "colorbar": {
             "outlinewidth": 0,
             "ticks": ""
            },
            "colorscale": [
             [
              0,
              "#0d0887"
             ],
             [
              0.1111111111111111,
              "#46039f"
             ],
             [
              0.2222222222222222,
              "#7201a8"
             ],
             [
              0.3333333333333333,
              "#9c179e"
             ],
             [
              0.4444444444444444,
              "#bd3786"
             ],
             [
              0.5555555555555556,
              "#d8576b"
             ],
             [
              0.6666666666666666,
              "#ed7953"
             ],
             [
              0.7777777777777778,
              "#fb9f3a"
             ],
             [
              0.8888888888888888,
              "#fdca26"
             ],
             [
              1,
              "#f0f921"
             ]
            ],
            "type": "heatmap"
           }
          ],
          "heatmapgl": [
           {
            "colorbar": {
             "outlinewidth": 0,
             "ticks": ""
            },
            "colorscale": [
             [
              0,
              "#0d0887"
             ],
             [
              0.1111111111111111,
              "#46039f"
             ],
             [
              0.2222222222222222,
              "#7201a8"
             ],
             [
              0.3333333333333333,
              "#9c179e"
             ],
             [
              0.4444444444444444,
              "#bd3786"
             ],
             [
              0.5555555555555556,
              "#d8576b"
             ],
             [
              0.6666666666666666,
              "#ed7953"
             ],
             [
              0.7777777777777778,
              "#fb9f3a"
             ],
             [
              0.8888888888888888,
              "#fdca26"
             ],
             [
              1,
              "#f0f921"
             ]
            ],
            "type": "heatmapgl"
           }
          ],
          "histogram": [
           {
            "marker": {
             "pattern": {
              "fillmode": "overlay",
              "size": 10,
              "solidity": 0.2
             }
            },
            "type": "histogram"
           }
          ],
          "histogram2d": [
           {
            "colorbar": {
             "outlinewidth": 0,
             "ticks": ""
            },
            "colorscale": [
             [
              0,
              "#0d0887"
             ],
             [
              0.1111111111111111,
              "#46039f"
             ],
             [
              0.2222222222222222,
              "#7201a8"
             ],
             [
              0.3333333333333333,
              "#9c179e"
             ],
             [
              0.4444444444444444,
              "#bd3786"
             ],
             [
              0.5555555555555556,
              "#d8576b"
             ],
             [
              0.6666666666666666,
              "#ed7953"
             ],
             [
              0.7777777777777778,
              "#fb9f3a"
             ],
             [
              0.8888888888888888,
              "#fdca26"
             ],
             [
              1,
              "#f0f921"
             ]
            ],
            "type": "histogram2d"
           }
          ],
          "histogram2dcontour": [
           {
            "colorbar": {
             "outlinewidth": 0,
             "ticks": ""
            },
            "colorscale": [
             [
              0,
              "#0d0887"
             ],
             [
              0.1111111111111111,
              "#46039f"
             ],
             [
              0.2222222222222222,
              "#7201a8"
             ],
             [
              0.3333333333333333,
              "#9c179e"
             ],
             [
              0.4444444444444444,
              "#bd3786"
             ],
             [
              0.5555555555555556,
              "#d8576b"
             ],
             [
              0.6666666666666666,
              "#ed7953"
             ],
             [
              0.7777777777777778,
              "#fb9f3a"
             ],
             [
              0.8888888888888888,
              "#fdca26"
             ],
             [
              1,
              "#f0f921"
             ]
            ],
            "type": "histogram2dcontour"
           }
          ],
          "mesh3d": [
           {
            "colorbar": {
             "outlinewidth": 0,
             "ticks": ""
            },
            "type": "mesh3d"
           }
          ],
          "parcoords": [
           {
            "line": {
             "colorbar": {
              "outlinewidth": 0,
              "ticks": ""
             }
            },
            "type": "parcoords"
           }
          ],
          "pie": [
           {
            "automargin": true,
            "type": "pie"
           }
          ],
          "scatter": [
           {
            "marker": {
             "colorbar": {
              "outlinewidth": 0,
              "ticks": ""
             }
            },
            "type": "scatter"
           }
          ],
          "scatter3d": [
           {
            "line": {
             "colorbar": {
              "outlinewidth": 0,
              "ticks": ""
             }
            },
            "marker": {
             "colorbar": {
              "outlinewidth": 0,
              "ticks": ""
             }
            },
            "type": "scatter3d"
           }
          ],
          "scattercarpet": [
           {
            "marker": {
             "colorbar": {
              "outlinewidth": 0,
              "ticks": ""
             }
            },
            "type": "scattercarpet"
           }
          ],
          "scattergeo": [
           {
            "marker": {
             "colorbar": {
              "outlinewidth": 0,
              "ticks": ""
             }
            },
            "type": "scattergeo"
           }
          ],
          "scattergl": [
           {
            "marker": {
             "colorbar": {
              "outlinewidth": 0,
              "ticks": ""
             }
            },
            "type": "scattergl"
           }
          ],
          "scattermapbox": [
           {
            "marker": {
             "colorbar": {
              "outlinewidth": 0,
              "ticks": ""
             }
            },
            "type": "scattermapbox"
           }
          ],
          "scatterpolar": [
           {
            "marker": {
             "colorbar": {
              "outlinewidth": 0,
              "ticks": ""
             }
            },
            "type": "scatterpolar"
           }
          ],
          "scatterpolargl": [
           {
            "marker": {
             "colorbar": {
              "outlinewidth": 0,
              "ticks": ""
             }
            },
            "type": "scatterpolargl"
           }
          ],
          "scatterternary": [
           {
            "marker": {
             "colorbar": {
              "outlinewidth": 0,
              "ticks": ""
             }
            },
            "type": "scatterternary"
           }
          ],
          "surface": [
           {
            "colorbar": {
             "outlinewidth": 0,
             "ticks": ""
            },
            "colorscale": [
             [
              0,
              "#0d0887"
             ],
             [
              0.1111111111111111,
              "#46039f"
             ],
             [
              0.2222222222222222,
              "#7201a8"
             ],
             [
              0.3333333333333333,
              "#9c179e"
             ],
             [
              0.4444444444444444,
              "#bd3786"
             ],
             [
              0.5555555555555556,
              "#d8576b"
             ],
             [
              0.6666666666666666,
              "#ed7953"
             ],
             [
              0.7777777777777778,
              "#fb9f3a"
             ],
             [
              0.8888888888888888,
              "#fdca26"
             ],
             [
              1,
              "#f0f921"
             ]
            ],
            "type": "surface"
           }
          ],
          "table": [
           {
            "cells": {
             "fill": {
              "color": "#EBF0F8"
             },
             "line": {
              "color": "white"
             }
            },
            "header": {
             "fill": {
              "color": "#C8D4E3"
             },
             "line": {
              "color": "white"
             }
            },
            "type": "table"
           }
          ]
         },
         "layout": {
          "annotationdefaults": {
           "arrowcolor": "#2a3f5f",
           "arrowhead": 0,
           "arrowwidth": 1
          },
          "autotypenumbers": "strict",
          "coloraxis": {
           "colorbar": {
            "outlinewidth": 0,
            "ticks": ""
           }
          },
          "colorscale": {
           "diverging": [
            [
             0,
             "#8e0152"
            ],
            [
             0.1,
             "#c51b7d"
            ],
            [
             0.2,
             "#de77ae"
            ],
            [
             0.3,
             "#f1b6da"
            ],
            [
             0.4,
             "#fde0ef"
            ],
            [
             0.5,
             "#f7f7f7"
            ],
            [
             0.6,
             "#e6f5d0"
            ],
            [
             0.7,
             "#b8e186"
            ],
            [
             0.8,
             "#7fbc41"
            ],
            [
             0.9,
             "#4d9221"
            ],
            [
             1,
             "#276419"
            ]
           ],
           "sequential": [
            [
             0,
             "#0d0887"
            ],
            [
             0.1111111111111111,
             "#46039f"
            ],
            [
             0.2222222222222222,
             "#7201a8"
            ],
            [
             0.3333333333333333,
             "#9c179e"
            ],
            [
             0.4444444444444444,
             "#bd3786"
            ],
            [
             0.5555555555555556,
             "#d8576b"
            ],
            [
             0.6666666666666666,
             "#ed7953"
            ],
            [
             0.7777777777777778,
             "#fb9f3a"
            ],
            [
             0.8888888888888888,
             "#fdca26"
            ],
            [
             1,
             "#f0f921"
            ]
           ],
           "sequentialminus": [
            [
             0,
             "#0d0887"
            ],
            [
             0.1111111111111111,
             "#46039f"
            ],
            [
             0.2222222222222222,
             "#7201a8"
            ],
            [
             0.3333333333333333,
             "#9c179e"
            ],
            [
             0.4444444444444444,
             "#bd3786"
            ],
            [
             0.5555555555555556,
             "#d8576b"
            ],
            [
             0.6666666666666666,
             "#ed7953"
            ],
            [
             0.7777777777777778,
             "#fb9f3a"
            ],
            [
             0.8888888888888888,
             "#fdca26"
            ],
            [
             1,
             "#f0f921"
            ]
           ]
          },
          "colorway": [
           "#636efa",
           "#EF553B",
           "#00cc96",
           "#ab63fa",
           "#FFA15A",
           "#19d3f3",
           "#FF6692",
           "#B6E880",
           "#FF97FF",
           "#FECB52"
          ],
          "font": {
           "color": "#2a3f5f"
          },
          "geo": {
           "bgcolor": "white",
           "lakecolor": "white",
           "landcolor": "#E5ECF6",
           "showlakes": true,
           "showland": true,
           "subunitcolor": "white"
          },
          "hoverlabel": {
           "align": "left"
          },
          "hovermode": "closest",
          "mapbox": {
           "style": "light"
          },
          "paper_bgcolor": "white",
          "plot_bgcolor": "#E5ECF6",
          "polar": {
           "angularaxis": {
            "gridcolor": "white",
            "linecolor": "white",
            "ticks": ""
           },
           "bgcolor": "#E5ECF6",
           "radialaxis": {
            "gridcolor": "white",
            "linecolor": "white",
            "ticks": ""
           }
          },
          "scene": {
           "xaxis": {
            "backgroundcolor": "#E5ECF6",
            "gridcolor": "white",
            "gridwidth": 2,
            "linecolor": "white",
            "showbackground": true,
            "ticks": "",
            "zerolinecolor": "white"
           },
           "yaxis": {
            "backgroundcolor": "#E5ECF6",
            "gridcolor": "white",
            "gridwidth": 2,
            "linecolor": "white",
            "showbackground": true,
            "ticks": "",
            "zerolinecolor": "white"
           },
           "zaxis": {
            "backgroundcolor": "#E5ECF6",
            "gridcolor": "white",
            "gridwidth": 2,
            "linecolor": "white",
            "showbackground": true,
            "ticks": "",
            "zerolinecolor": "white"
           }
          },
          "shapedefaults": {
           "line": {
            "color": "#2a3f5f"
           }
          },
          "ternary": {
           "aaxis": {
            "gridcolor": "white",
            "linecolor": "white",
            "ticks": ""
           },
           "baxis": {
            "gridcolor": "white",
            "linecolor": "white",
            "ticks": ""
           },
           "bgcolor": "#E5ECF6",
           "caxis": {
            "gridcolor": "white",
            "linecolor": "white",
            "ticks": ""
           }
          },
          "title": {
           "x": 0.05
          },
          "xaxis": {
           "automargin": true,
           "gridcolor": "white",
           "linecolor": "white",
           "ticks": "",
           "title": {
            "standoff": 15
           },
           "zerolinecolor": "white",
           "zerolinewidth": 2
          },
          "yaxis": {
           "automargin": true,
           "gridcolor": "white",
           "linecolor": "white",
           "ticks": "",
           "title": {
            "standoff": 15
           },
           "zerolinecolor": "white",
           "zerolinewidth": 2
          }
         }
        },
        "title": {
         "text": "Systemic Crisis by year"
        },
        "updatemenus": [
         {
          "buttons": [
           {
            "args": [
             null,
             {
              "frame": {
               "duration": 500,
               "redraw": true
              },
              "fromcurrent": true,
              "mode": "immediate",
              "transition": {
               "duration": 500,
               "easing": "linear"
              }
             }
            ],
            "label": "&#9654;",
            "method": "animate"
           },
           {
            "args": [
             [
              null
             ],
             {
              "frame": {
               "duration": 0,
               "redraw": true
              },
              "fromcurrent": true,
              "mode": "immediate",
              "transition": {
               "duration": 0,
               "easing": "linear"
              }
             }
            ],
            "label": "&#9724;",
            "method": "animate"
           }
          ],
          "direction": "left",
          "pad": {
           "r": 10,
           "t": 70
          },
          "showactive": false,
          "type": "buttons",
          "x": 0.1,
          "xanchor": "right",
          "y": 0,
          "yanchor": "top"
         }
        ]
       }
      },
      "text/html": [
       "<div>                            <div id=\"c1d687aa-244e-434d-8251-a6312f2f946b\" class=\"plotly-graph-div\" style=\"height:525px; width:100%;\"></div>            <script type=\"text/javascript\">                require([\"plotly\"], function(Plotly) {                    window.PLOTLYENV=window.PLOTLYENV || {};                                    if (document.getElementById(\"c1d687aa-244e-434d-8251-a6312f2f946b\")) {                    Plotly.newPlot(                        \"c1d687aa-244e-434d-8251-a6312f2f946b\",                        [{\"coloraxis\":\"coloraxis\",\"customdata\":[[0,0,\"crisis\"],[0,0,\"no_crisis\"]],\"geo\":\"geo\",\"hovertemplate\":\"<b>%{hovertext}</b><br><br>year=1870<br>country=%{location}<br>currency_crises=%{customdata[0]}<br>inflation_crises=%{customdata[1]}<br>banking_crisis=%{customdata[2]}<br>systemic_crisis=%{z}<extra></extra>\",\"hovertext\":[\"Algeria\",\"Egypt\"],\"locationmode\":\"country names\",\"locations\":[\"Algeria\",\"Egypt\"],\"name\":\"\",\"type\":\"choropleth\",\"z\":[1,0]}],                        {\"coloraxis\":{\"cmax\":1,\"cmin\":0,\"colorbar\":{\"ticks\":\"outside\",\"ticktext\":[\"no\",\"yes\"],\"tickvals\":[0,1],\"title\":{\"text\":\"systemic_crisis\"}},\"colorscale\":[[0.0,\"#440154\"],[0.1111111111111111,\"#482878\"],[0.2222222222222222,\"#3e4989\"],[0.3333333333333333,\"#31688e\"],[0.4444444444444444,\"#26828e\"],[0.5555555555555556,\"#1f9e89\"],[0.6666666666666666,\"#35b779\"],[0.7777777777777778,\"#6ece58\"],[0.8888888888888888,\"#b5de2b\"],[1.0,\"#fde725\"]]},\"geo\":{\"center\":{},\"domain\":{\"x\":[0.0,1.0],\"y\":[0.0,1.0]},\"projection\":{\"type\":\"natural earth\"},\"scope\":\"africa\"},\"legend\":{\"tracegroupgap\":0},\"margin\":{\"t\":60},\"sliders\":[{\"active\":0,\"currentvalue\":{\"prefix\":\"year=\"},\"len\":0.9,\"pad\":{\"b\":10,\"t\":60},\"steps\":[{\"args\":[[\"1870\"],{\"frame\":{\"duration\":0,\"redraw\":true},\"fromcurrent\":true,\"mode\":\"immediate\",\"transition\":{\"duration\":0,\"easing\":\"linear\"}}],\"label\":\"1870\",\"method\":\"animate\"},{\"args\":[[\"1871\"],{\"frame\":{\"duration\":0,\"redraw\":true},\"fromcurrent\":true,\"mode\":\"immediate\",\"transition\":{\"duration\":0,\"easing\":\"linear\"}}],\"label\":\"1871\",\"method\":\"animate\"},{\"args\":[[\"1872\"],{\"frame\":{\"duration\":0,\"redraw\":true},\"fromcurrent\":true,\"mode\":\"immediate\",\"transition\":{\"duration\":0,\"easing\":\"linear\"}}],\"label\":\"1872\",\"method\":\"animate\"},{\"args\":[[\"1873\"],{\"frame\":{\"duration\":0,\"redraw\":true},\"fromcurrent\":true,\"mode\":\"immediate\",\"transition\":{\"duration\":0,\"easing\":\"linear\"}}],\"label\":\"1873\",\"method\":\"animate\"},{\"args\":[[\"1874\"],{\"frame\":{\"duration\":0,\"redraw\":true},\"fromcurrent\":true,\"mode\":\"immediate\",\"transition\":{\"duration\":0,\"easing\":\"linear\"}}],\"label\":\"1874\",\"method\":\"animate\"},{\"args\":[[\"1875\"],{\"frame\":{\"duration\":0,\"redraw\":true},\"fromcurrent\":true,\"mode\":\"immediate\",\"transition\":{\"duration\":0,\"easing\":\"linear\"}}],\"label\":\"1875\",\"method\":\"animate\"},{\"args\":[[\"1876\"],{\"frame\":{\"duration\":0,\"redraw\":true},\"fromcurrent\":true,\"mode\":\"immediate\",\"transition\":{\"duration\":0,\"easing\":\"linear\"}}],\"label\":\"1876\",\"method\":\"animate\"},{\"args\":[[\"1877\"],{\"frame\":{\"duration\":0,\"redraw\":true},\"fromcurrent\":true,\"mode\":\"immediate\",\"transition\":{\"duration\":0,\"easing\":\"linear\"}}],\"label\":\"1877\",\"method\":\"animate\"},{\"args\":[[\"1878\"],{\"frame\":{\"duration\":0,\"redraw\":true},\"fromcurrent\":true,\"mode\":\"immediate\",\"transition\":{\"duration\":0,\"easing\":\"linear\"}}],\"label\":\"1878\",\"method\":\"animate\"},{\"args\":[[\"1879\"],{\"frame\":{\"duration\":0,\"redraw\":true},\"fromcurrent\":true,\"mode\":\"immediate\",\"transition\":{\"duration\":0,\"easing\":\"linear\"}}],\"label\":\"1879\",\"method\":\"animate\"},{\"args\":[[\"1880\"],{\"frame\":{\"duration\":0,\"redraw\":true},\"fromcurrent\":true,\"mode\":\"immediate\",\"transition\":{\"duration\":0,\"easing\":\"linear\"}}],\"label\":\"1880\",\"method\":\"animate\"},{\"args\":[[\"1881\"],{\"frame\":{\"duration\":0,\"redraw\":true},\"fromcurrent\":true,\"mode\":\"immediate\",\"transition\":{\"duration\":0,\"easing\":\"linear\"}}],\"label\":\"1881\",\"method\":\"animate\"},{\"args\":[[\"1882\"],{\"frame\":{\"duration\":0,\"redraw\":true},\"fromcurrent\":true,\"mode\":\"immediate\",\"transition\":{\"duration\":0,\"easing\":\"linear\"}}],\"label\":\"1882\",\"method\":\"animate\"},{\"args\":[[\"1883\"],{\"frame\":{\"duration\":0,\"redraw\":true},\"fromcurrent\":true,\"mode\":\"immediate\",\"transition\":{\"duration\":0,\"easing\":\"linear\"}}],\"label\":\"1883\",\"method\":\"animate\"},{\"args\":[[\"1884\"],{\"frame\":{\"duration\":0,\"redraw\":true},\"fromcurrent\":true,\"mode\":\"immediate\",\"transition\":{\"duration\":0,\"easing\":\"linear\"}}],\"label\":\"1884\",\"method\":\"animate\"},{\"args\":[[\"1939\"],{\"frame\":{\"duration\":0,\"redraw\":true},\"fromcurrent\":true,\"mode\":\"immediate\",\"transition\":{\"duration\":0,\"easing\":\"linear\"}}],\"label\":\"1939\",\"method\":\"animate\"},{\"args\":[[\"1940\"],{\"frame\":{\"duration\":0,\"redraw\":true},\"fromcurrent\":true,\"mode\":\"immediate\",\"transition\":{\"duration\":0,\"easing\":\"linear\"}}],\"label\":\"1940\",\"method\":\"animate\"},{\"args\":[[\"1941\"],{\"frame\":{\"duration\":0,\"redraw\":true},\"fromcurrent\":true,\"mode\":\"immediate\",\"transition\":{\"duration\":0,\"easing\":\"linear\"}}],\"label\":\"1941\",\"method\":\"animate\"},{\"args\":[[\"1942\"],{\"frame\":{\"duration\":0,\"redraw\":true},\"fromcurrent\":true,\"mode\":\"immediate\",\"transition\":{\"duration\":0,\"easing\":\"linear\"}}],\"label\":\"1942\",\"method\":\"animate\"},{\"args\":[[\"1943\"],{\"frame\":{\"duration\":0,\"redraw\":true},\"fromcurrent\":true,\"mode\":\"immediate\",\"transition\":{\"duration\":0,\"easing\":\"linear\"}}],\"label\":\"1943\",\"method\":\"animate\"},{\"args\":[[\"1944\"],{\"frame\":{\"duration\":0,\"redraw\":true},\"fromcurrent\":true,\"mode\":\"immediate\",\"transition\":{\"duration\":0,\"easing\":\"linear\"}}],\"label\":\"1944\",\"method\":\"animate\"},{\"args\":[[\"1945\"],{\"frame\":{\"duration\":0,\"redraw\":true},\"fromcurrent\":true,\"mode\":\"immediate\",\"transition\":{\"duration\":0,\"easing\":\"linear\"}}],\"label\":\"1945\",\"method\":\"animate\"},{\"args\":[[\"1946\"],{\"frame\":{\"duration\":0,\"redraw\":true},\"fromcurrent\":true,\"mode\":\"immediate\",\"transition\":{\"duration\":0,\"easing\":\"linear\"}}],\"label\":\"1946\",\"method\":\"animate\"},{\"args\":[[\"1947\"],{\"frame\":{\"duration\":0,\"redraw\":true},\"fromcurrent\":true,\"mode\":\"immediate\",\"transition\":{\"duration\":0,\"easing\":\"linear\"}}],\"label\":\"1947\",\"method\":\"animate\"},{\"args\":[[\"1948\"],{\"frame\":{\"duration\":0,\"redraw\":true},\"fromcurrent\":true,\"mode\":\"immediate\",\"transition\":{\"duration\":0,\"easing\":\"linear\"}}],\"label\":\"1948\",\"method\":\"animate\"},{\"args\":[[\"1949\"],{\"frame\":{\"duration\":0,\"redraw\":true},\"fromcurrent\":true,\"mode\":\"immediate\",\"transition\":{\"duration\":0,\"easing\":\"linear\"}}],\"label\":\"1949\",\"method\":\"animate\"},{\"args\":[[\"1950\"],{\"frame\":{\"duration\":0,\"redraw\":true},\"fromcurrent\":true,\"mode\":\"immediate\",\"transition\":{\"duration\":0,\"easing\":\"linear\"}}],\"label\":\"1950\",\"method\":\"animate\"},{\"args\":[[\"1951\"],{\"frame\":{\"duration\":0,\"redraw\":true},\"fromcurrent\":true,\"mode\":\"immediate\",\"transition\":{\"duration\":0,\"easing\":\"linear\"}}],\"label\":\"1951\",\"method\":\"animate\"},{\"args\":[[\"1952\"],{\"frame\":{\"duration\":0,\"redraw\":true},\"fromcurrent\":true,\"mode\":\"immediate\",\"transition\":{\"duration\":0,\"easing\":\"linear\"}}],\"label\":\"1952\",\"method\":\"animate\"},{\"args\":[[\"1953\"],{\"frame\":{\"duration\":0,\"redraw\":true},\"fromcurrent\":true,\"mode\":\"immediate\",\"transition\":{\"duration\":0,\"easing\":\"linear\"}}],\"label\":\"1953\",\"method\":\"animate\"},{\"args\":[[\"1954\"],{\"frame\":{\"duration\":0,\"redraw\":true},\"fromcurrent\":true,\"mode\":\"immediate\",\"transition\":{\"duration\":0,\"easing\":\"linear\"}}],\"label\":\"1954\",\"method\":\"animate\"},{\"args\":[[\"1955\"],{\"frame\":{\"duration\":0,\"redraw\":true},\"fromcurrent\":true,\"mode\":\"immediate\",\"transition\":{\"duration\":0,\"easing\":\"linear\"}}],\"label\":\"1955\",\"method\":\"animate\"},{\"args\":[[\"1956\"],{\"frame\":{\"duration\":0,\"redraw\":true},\"fromcurrent\":true,\"mode\":\"immediate\",\"transition\":{\"duration\":0,\"easing\":\"linear\"}}],\"label\":\"1956\",\"method\":\"animate\"},{\"args\":[[\"1957\"],{\"frame\":{\"duration\":0,\"redraw\":true},\"fromcurrent\":true,\"mode\":\"immediate\",\"transition\":{\"duration\":0,\"easing\":\"linear\"}}],\"label\":\"1957\",\"method\":\"animate\"},{\"args\":[[\"1958\"],{\"frame\":{\"duration\":0,\"redraw\":true},\"fromcurrent\":true,\"mode\":\"immediate\",\"transition\":{\"duration\":0,\"easing\":\"linear\"}}],\"label\":\"1958\",\"method\":\"animate\"},{\"args\":[[\"1959\"],{\"frame\":{\"duration\":0,\"redraw\":true},\"fromcurrent\":true,\"mode\":\"immediate\",\"transition\":{\"duration\":0,\"easing\":\"linear\"}}],\"label\":\"1959\",\"method\":\"animate\"},{\"args\":[[\"1960\"],{\"frame\":{\"duration\":0,\"redraw\":true},\"fromcurrent\":true,\"mode\":\"immediate\",\"transition\":{\"duration\":0,\"easing\":\"linear\"}}],\"label\":\"1960\",\"method\":\"animate\"},{\"args\":[[\"1961\"],{\"frame\":{\"duration\":0,\"redraw\":true},\"fromcurrent\":true,\"mode\":\"immediate\",\"transition\":{\"duration\":0,\"easing\":\"linear\"}}],\"label\":\"1961\",\"method\":\"animate\"},{\"args\":[[\"1968\"],{\"frame\":{\"duration\":0,\"redraw\":true},\"fromcurrent\":true,\"mode\":\"immediate\",\"transition\":{\"duration\":0,\"easing\":\"linear\"}}],\"label\":\"1968\",\"method\":\"animate\"},{\"args\":[[\"1969\"],{\"frame\":{\"duration\":0,\"redraw\":true},\"fromcurrent\":true,\"mode\":\"immediate\",\"transition\":{\"duration\":0,\"easing\":\"linear\"}}],\"label\":\"1969\",\"method\":\"animate\"},{\"args\":[[\"1970\"],{\"frame\":{\"duration\":0,\"redraw\":true},\"fromcurrent\":true,\"mode\":\"immediate\",\"transition\":{\"duration\":0,\"easing\":\"linear\"}}],\"label\":\"1970\",\"method\":\"animate\"},{\"args\":[[\"1971\"],{\"frame\":{\"duration\":0,\"redraw\":true},\"fromcurrent\":true,\"mode\":\"immediate\",\"transition\":{\"duration\":0,\"easing\":\"linear\"}}],\"label\":\"1971\",\"method\":\"animate\"},{\"args\":[[\"1972\"],{\"frame\":{\"duration\":0,\"redraw\":true},\"fromcurrent\":true,\"mode\":\"immediate\",\"transition\":{\"duration\":0,\"easing\":\"linear\"}}],\"label\":\"1972\",\"method\":\"animate\"},{\"args\":[[\"1973\"],{\"frame\":{\"duration\":0,\"redraw\":true},\"fromcurrent\":true,\"mode\":\"immediate\",\"transition\":{\"duration\":0,\"easing\":\"linear\"}}],\"label\":\"1973\",\"method\":\"animate\"},{\"args\":[[\"1974\"],{\"frame\":{\"duration\":0,\"redraw\":true},\"fromcurrent\":true,\"mode\":\"immediate\",\"transition\":{\"duration\":0,\"easing\":\"linear\"}}],\"label\":\"1974\",\"method\":\"animate\"},{\"args\":[[\"1975\"],{\"frame\":{\"duration\":0,\"redraw\":true},\"fromcurrent\":true,\"mode\":\"immediate\",\"transition\":{\"duration\":0,\"easing\":\"linear\"}}],\"label\":\"1975\",\"method\":\"animate\"},{\"args\":[[\"1976\"],{\"frame\":{\"duration\":0,\"redraw\":true},\"fromcurrent\":true,\"mode\":\"immediate\",\"transition\":{\"duration\":0,\"easing\":\"linear\"}}],\"label\":\"1976\",\"method\":\"animate\"},{\"args\":[[\"1977\"],{\"frame\":{\"duration\":0,\"redraw\":true},\"fromcurrent\":true,\"mode\":\"immediate\",\"transition\":{\"duration\":0,\"easing\":\"linear\"}}],\"label\":\"1977\",\"method\":\"animate\"},{\"args\":[[\"1978\"],{\"frame\":{\"duration\":0,\"redraw\":true},\"fromcurrent\":true,\"mode\":\"immediate\",\"transition\":{\"duration\":0,\"easing\":\"linear\"}}],\"label\":\"1978\",\"method\":\"animate\"},{\"args\":[[\"1979\"],{\"frame\":{\"duration\":0,\"redraw\":true},\"fromcurrent\":true,\"mode\":\"immediate\",\"transition\":{\"duration\":0,\"easing\":\"linear\"}}],\"label\":\"1979\",\"method\":\"animate\"},{\"args\":[[\"1980\"],{\"frame\":{\"duration\":0,\"redraw\":true},\"fromcurrent\":true,\"mode\":\"immediate\",\"transition\":{\"duration\":0,\"easing\":\"linear\"}}],\"label\":\"1980\",\"method\":\"animate\"},{\"args\":[[\"1981\"],{\"frame\":{\"duration\":0,\"redraw\":true},\"fromcurrent\":true,\"mode\":\"immediate\",\"transition\":{\"duration\":0,\"easing\":\"linear\"}}],\"label\":\"1981\",\"method\":\"animate\"},{\"args\":[[\"1982\"],{\"frame\":{\"duration\":0,\"redraw\":true},\"fromcurrent\":true,\"mode\":\"immediate\",\"transition\":{\"duration\":0,\"easing\":\"linear\"}}],\"label\":\"1982\",\"method\":\"animate\"},{\"args\":[[\"1983\"],{\"frame\":{\"duration\":0,\"redraw\":true},\"fromcurrent\":true,\"mode\":\"immediate\",\"transition\":{\"duration\":0,\"easing\":\"linear\"}}],\"label\":\"1983\",\"method\":\"animate\"},{\"args\":[[\"1984\"],{\"frame\":{\"duration\":0,\"redraw\":true},\"fromcurrent\":true,\"mode\":\"immediate\",\"transition\":{\"duration\":0,\"easing\":\"linear\"}}],\"label\":\"1984\",\"method\":\"animate\"},{\"args\":[[\"1985\"],{\"frame\":{\"duration\":0,\"redraw\":true},\"fromcurrent\":true,\"mode\":\"immediate\",\"transition\":{\"duration\":0,\"easing\":\"linear\"}}],\"label\":\"1985\",\"method\":\"animate\"},{\"args\":[[\"1986\"],{\"frame\":{\"duration\":0,\"redraw\":true},\"fromcurrent\":true,\"mode\":\"immediate\",\"transition\":{\"duration\":0,\"easing\":\"linear\"}}],\"label\":\"1986\",\"method\":\"animate\"},{\"args\":[[\"1987\"],{\"frame\":{\"duration\":0,\"redraw\":true},\"fromcurrent\":true,\"mode\":\"immediate\",\"transition\":{\"duration\":0,\"easing\":\"linear\"}}],\"label\":\"1987\",\"method\":\"animate\"},{\"args\":[[\"1988\"],{\"frame\":{\"duration\":0,\"redraw\":true},\"fromcurrent\":true,\"mode\":\"immediate\",\"transition\":{\"duration\":0,\"easing\":\"linear\"}}],\"label\":\"1988\",\"method\":\"animate\"},{\"args\":[[\"1989\"],{\"frame\":{\"duration\":0,\"redraw\":true},\"fromcurrent\":true,\"mode\":\"immediate\",\"transition\":{\"duration\":0,\"easing\":\"linear\"}}],\"label\":\"1989\",\"method\":\"animate\"},{\"args\":[[\"1990\"],{\"frame\":{\"duration\":0,\"redraw\":true},\"fromcurrent\":true,\"mode\":\"immediate\",\"transition\":{\"duration\":0,\"easing\":\"linear\"}}],\"label\":\"1990\",\"method\":\"animate\"},{\"args\":[[\"1991\"],{\"frame\":{\"duration\":0,\"redraw\":true},\"fromcurrent\":true,\"mode\":\"immediate\",\"transition\":{\"duration\":0,\"easing\":\"linear\"}}],\"label\":\"1991\",\"method\":\"animate\"},{\"args\":[[\"1992\"],{\"frame\":{\"duration\":0,\"redraw\":true},\"fromcurrent\":true,\"mode\":\"immediate\",\"transition\":{\"duration\":0,\"easing\":\"linear\"}}],\"label\":\"1992\",\"method\":\"animate\"},{\"args\":[[\"1993\"],{\"frame\":{\"duration\":0,\"redraw\":true},\"fromcurrent\":true,\"mode\":\"immediate\",\"transition\":{\"duration\":0,\"easing\":\"linear\"}}],\"label\":\"1993\",\"method\":\"animate\"},{\"args\":[[\"1994\"],{\"frame\":{\"duration\":0,\"redraw\":true},\"fromcurrent\":true,\"mode\":\"immediate\",\"transition\":{\"duration\":0,\"easing\":\"linear\"}}],\"label\":\"1994\",\"method\":\"animate\"},{\"args\":[[\"1995\"],{\"frame\":{\"duration\":0,\"redraw\":true},\"fromcurrent\":true,\"mode\":\"immediate\",\"transition\":{\"duration\":0,\"easing\":\"linear\"}}],\"label\":\"1995\",\"method\":\"animate\"},{\"args\":[[\"1996\"],{\"frame\":{\"duration\":0,\"redraw\":true},\"fromcurrent\":true,\"mode\":\"immediate\",\"transition\":{\"duration\":0,\"easing\":\"linear\"}}],\"label\":\"1996\",\"method\":\"animate\"},{\"args\":[[\"1997\"],{\"frame\":{\"duration\":0,\"redraw\":true},\"fromcurrent\":true,\"mode\":\"immediate\",\"transition\":{\"duration\":0,\"easing\":\"linear\"}}],\"label\":\"1997\",\"method\":\"animate\"},{\"args\":[[\"1998\"],{\"frame\":{\"duration\":0,\"redraw\":true},\"fromcurrent\":true,\"mode\":\"immediate\",\"transition\":{\"duration\":0,\"easing\":\"linear\"}}],\"label\":\"1998\",\"method\":\"animate\"},{\"args\":[[\"1999\"],{\"frame\":{\"duration\":0,\"redraw\":true},\"fromcurrent\":true,\"mode\":\"immediate\",\"transition\":{\"duration\":0,\"easing\":\"linear\"}}],\"label\":\"1999\",\"method\":\"animate\"},{\"args\":[[\"2000\"],{\"frame\":{\"duration\":0,\"redraw\":true},\"fromcurrent\":true,\"mode\":\"immediate\",\"transition\":{\"duration\":0,\"easing\":\"linear\"}}],\"label\":\"2000\",\"method\":\"animate\"},{\"args\":[[\"2001\"],{\"frame\":{\"duration\":0,\"redraw\":true},\"fromcurrent\":true,\"mode\":\"immediate\",\"transition\":{\"duration\":0,\"easing\":\"linear\"}}],\"label\":\"2001\",\"method\":\"animate\"},{\"args\":[[\"2002\"],{\"frame\":{\"duration\":0,\"redraw\":true},\"fromcurrent\":true,\"mode\":\"immediate\",\"transition\":{\"duration\":0,\"easing\":\"linear\"}}],\"label\":\"2002\",\"method\":\"animate\"},{\"args\":[[\"2003\"],{\"frame\":{\"duration\":0,\"redraw\":true},\"fromcurrent\":true,\"mode\":\"immediate\",\"transition\":{\"duration\":0,\"easing\":\"linear\"}}],\"label\":\"2003\",\"method\":\"animate\"},{\"args\":[[\"2004\"],{\"frame\":{\"duration\":0,\"redraw\":true},\"fromcurrent\":true,\"mode\":\"immediate\",\"transition\":{\"duration\":0,\"easing\":\"linear\"}}],\"label\":\"2004\",\"method\":\"animate\"},{\"args\":[[\"2005\"],{\"frame\":{\"duration\":0,\"redraw\":true},\"fromcurrent\":true,\"mode\":\"immediate\",\"transition\":{\"duration\":0,\"easing\":\"linear\"}}],\"label\":\"2005\",\"method\":\"animate\"},{\"args\":[[\"2006\"],{\"frame\":{\"duration\":0,\"redraw\":true},\"fromcurrent\":true,\"mode\":\"immediate\",\"transition\":{\"duration\":0,\"easing\":\"linear\"}}],\"label\":\"2006\",\"method\":\"animate\"},{\"args\":[[\"2007\"],{\"frame\":{\"duration\":0,\"redraw\":true},\"fromcurrent\":true,\"mode\":\"immediate\",\"transition\":{\"duration\":0,\"easing\":\"linear\"}}],\"label\":\"2007\",\"method\":\"animate\"},{\"args\":[[\"2008\"],{\"frame\":{\"duration\":0,\"redraw\":true},\"fromcurrent\":true,\"mode\":\"immediate\",\"transition\":{\"duration\":0,\"easing\":\"linear\"}}],\"label\":\"2008\",\"method\":\"animate\"},{\"args\":[[\"2009\"],{\"frame\":{\"duration\":0,\"redraw\":true},\"fromcurrent\":true,\"mode\":\"immediate\",\"transition\":{\"duration\":0,\"easing\":\"linear\"}}],\"label\":\"2009\",\"method\":\"animate\"},{\"args\":[[\"2010\"],{\"frame\":{\"duration\":0,\"redraw\":true},\"fromcurrent\":true,\"mode\":\"immediate\",\"transition\":{\"duration\":0,\"easing\":\"linear\"}}],\"label\":\"2010\",\"method\":\"animate\"},{\"args\":[[\"2011\"],{\"frame\":{\"duration\":0,\"redraw\":true},\"fromcurrent\":true,\"mode\":\"immediate\",\"transition\":{\"duration\":0,\"easing\":\"linear\"}}],\"label\":\"2011\",\"method\":\"animate\"},{\"args\":[[\"2012\"],{\"frame\":{\"duration\":0,\"redraw\":true},\"fromcurrent\":true,\"mode\":\"immediate\",\"transition\":{\"duration\":0,\"easing\":\"linear\"}}],\"label\":\"2012\",\"method\":\"animate\"},{\"args\":[[\"2013\"],{\"frame\":{\"duration\":0,\"redraw\":true},\"fromcurrent\":true,\"mode\":\"immediate\",\"transition\":{\"duration\":0,\"easing\":\"linear\"}}],\"label\":\"2013\",\"method\":\"animate\"},{\"args\":[[\"2014\"],{\"frame\":{\"duration\":0,\"redraw\":true},\"fromcurrent\":true,\"mode\":\"immediate\",\"transition\":{\"duration\":0,\"easing\":\"linear\"}}],\"label\":\"2014\",\"method\":\"animate\"},{\"args\":[[\"1921\"],{\"frame\":{\"duration\":0,\"redraw\":true},\"fromcurrent\":true,\"mode\":\"immediate\",\"transition\":{\"duration\":0,\"easing\":\"linear\"}}],\"label\":\"1921\",\"method\":\"animate\"},{\"args\":[[\"1922\"],{\"frame\":{\"duration\":0,\"redraw\":true},\"fromcurrent\":true,\"mode\":\"immediate\",\"transition\":{\"duration\":0,\"easing\":\"linear\"}}],\"label\":\"1922\",\"method\":\"animate\"},{\"args\":[[\"1923\"],{\"frame\":{\"duration\":0,\"redraw\":true},\"fromcurrent\":true,\"mode\":\"immediate\",\"transition\":{\"duration\":0,\"easing\":\"linear\"}}],\"label\":\"1923\",\"method\":\"animate\"},{\"args\":[[\"1924\"],{\"frame\":{\"duration\":0,\"redraw\":true},\"fromcurrent\":true,\"mode\":\"immediate\",\"transition\":{\"duration\":0,\"easing\":\"linear\"}}],\"label\":\"1924\",\"method\":\"animate\"},{\"args\":[[\"1925\"],{\"frame\":{\"duration\":0,\"redraw\":true},\"fromcurrent\":true,\"mode\":\"immediate\",\"transition\":{\"duration\":0,\"easing\":\"linear\"}}],\"label\":\"1925\",\"method\":\"animate\"},{\"args\":[[\"1926\"],{\"frame\":{\"duration\":0,\"redraw\":true},\"fromcurrent\":true,\"mode\":\"immediate\",\"transition\":{\"duration\":0,\"easing\":\"linear\"}}],\"label\":\"1926\",\"method\":\"animate\"},{\"args\":[[\"1927\"],{\"frame\":{\"duration\":0,\"redraw\":true},\"fromcurrent\":true,\"mode\":\"immediate\",\"transition\":{\"duration\":0,\"easing\":\"linear\"}}],\"label\":\"1927\",\"method\":\"animate\"},{\"args\":[[\"1928\"],{\"frame\":{\"duration\":0,\"redraw\":true},\"fromcurrent\":true,\"mode\":\"immediate\",\"transition\":{\"duration\":0,\"easing\":\"linear\"}}],\"label\":\"1928\",\"method\":\"animate\"},{\"args\":[[\"1929\"],{\"frame\":{\"duration\":0,\"redraw\":true},\"fromcurrent\":true,\"mode\":\"immediate\",\"transition\":{\"duration\":0,\"easing\":\"linear\"}}],\"label\":\"1929\",\"method\":\"animate\"},{\"args\":[[\"1930\"],{\"frame\":{\"duration\":0,\"redraw\":true},\"fromcurrent\":true,\"mode\":\"immediate\",\"transition\":{\"duration\":0,\"easing\":\"linear\"}}],\"label\":\"1930\",\"method\":\"animate\"},{\"args\":[[\"1931\"],{\"frame\":{\"duration\":0,\"redraw\":true},\"fromcurrent\":true,\"mode\":\"immediate\",\"transition\":{\"duration\":0,\"easing\":\"linear\"}}],\"label\":\"1931\",\"method\":\"animate\"},{\"args\":[[\"1932\"],{\"frame\":{\"duration\":0,\"redraw\":true},\"fromcurrent\":true,\"mode\":\"immediate\",\"transition\":{\"duration\":0,\"easing\":\"linear\"}}],\"label\":\"1932\",\"method\":\"animate\"},{\"args\":[[\"1933\"],{\"frame\":{\"duration\":0,\"redraw\":true},\"fromcurrent\":true,\"mode\":\"immediate\",\"transition\":{\"duration\":0,\"easing\":\"linear\"}}],\"label\":\"1933\",\"method\":\"animate\"},{\"args\":[[\"1934\"],{\"frame\":{\"duration\":0,\"redraw\":true},\"fromcurrent\":true,\"mode\":\"immediate\",\"transition\":{\"duration\":0,\"easing\":\"linear\"}}],\"label\":\"1934\",\"method\":\"animate\"},{\"args\":[[\"1935\"],{\"frame\":{\"duration\":0,\"redraw\":true},\"fromcurrent\":true,\"mode\":\"immediate\",\"transition\":{\"duration\":0,\"easing\":\"linear\"}}],\"label\":\"1935\",\"method\":\"animate\"},{\"args\":[[\"1936\"],{\"frame\":{\"duration\":0,\"redraw\":true},\"fromcurrent\":true,\"mode\":\"immediate\",\"transition\":{\"duration\":0,\"easing\":\"linear\"}}],\"label\":\"1936\",\"method\":\"animate\"},{\"args\":[[\"1937\"],{\"frame\":{\"duration\":0,\"redraw\":true},\"fromcurrent\":true,\"mode\":\"immediate\",\"transition\":{\"duration\":0,\"easing\":\"linear\"}}],\"label\":\"1937\",\"method\":\"animate\"},{\"args\":[[\"1938\"],{\"frame\":{\"duration\":0,\"redraw\":true},\"fromcurrent\":true,\"mode\":\"immediate\",\"transition\":{\"duration\":0,\"easing\":\"linear\"}}],\"label\":\"1938\",\"method\":\"animate\"},{\"args\":[[\"1962\"],{\"frame\":{\"duration\":0,\"redraw\":true},\"fromcurrent\":true,\"mode\":\"immediate\",\"transition\":{\"duration\":0,\"easing\":\"linear\"}}],\"label\":\"1962\",\"method\":\"animate\"},{\"args\":[[\"1963\"],{\"frame\":{\"duration\":0,\"redraw\":true},\"fromcurrent\":true,\"mode\":\"immediate\",\"transition\":{\"duration\":0,\"easing\":\"linear\"}}],\"label\":\"1963\",\"method\":\"animate\"},{\"args\":[[\"1964\"],{\"frame\":{\"duration\":0,\"redraw\":true},\"fromcurrent\":true,\"mode\":\"immediate\",\"transition\":{\"duration\":0,\"easing\":\"linear\"}}],\"label\":\"1964\",\"method\":\"animate\"},{\"args\":[[\"1965\"],{\"frame\":{\"duration\":0,\"redraw\":true},\"fromcurrent\":true,\"mode\":\"immediate\",\"transition\":{\"duration\":0,\"easing\":\"linear\"}}],\"label\":\"1965\",\"method\":\"animate\"},{\"args\":[[\"1966\"],{\"frame\":{\"duration\":0,\"redraw\":true},\"fromcurrent\":true,\"mode\":\"immediate\",\"transition\":{\"duration\":0,\"easing\":\"linear\"}}],\"label\":\"1966\",\"method\":\"animate\"},{\"args\":[[\"1967\"],{\"frame\":{\"duration\":0,\"redraw\":true},\"fromcurrent\":true,\"mode\":\"immediate\",\"transition\":{\"duration\":0,\"easing\":\"linear\"}}],\"label\":\"1967\",\"method\":\"animate\"},{\"args\":[[\"1860\"],{\"frame\":{\"duration\":0,\"redraw\":true},\"fromcurrent\":true,\"mode\":\"immediate\",\"transition\":{\"duration\":0,\"easing\":\"linear\"}}],\"label\":\"1860\",\"method\":\"animate\"},{\"args\":[[\"1861\"],{\"frame\":{\"duration\":0,\"redraw\":true},\"fromcurrent\":true,\"mode\":\"immediate\",\"transition\":{\"duration\":0,\"easing\":\"linear\"}}],\"label\":\"1861\",\"method\":\"animate\"},{\"args\":[[\"1862\"],{\"frame\":{\"duration\":0,\"redraw\":true},\"fromcurrent\":true,\"mode\":\"immediate\",\"transition\":{\"duration\":0,\"easing\":\"linear\"}}],\"label\":\"1862\",\"method\":\"animate\"},{\"args\":[[\"1863\"],{\"frame\":{\"duration\":0,\"redraw\":true},\"fromcurrent\":true,\"mode\":\"immediate\",\"transition\":{\"duration\":0,\"easing\":\"linear\"}}],\"label\":\"1863\",\"method\":\"animate\"},{\"args\":[[\"1864\"],{\"frame\":{\"duration\":0,\"redraw\":true},\"fromcurrent\":true,\"mode\":\"immediate\",\"transition\":{\"duration\":0,\"easing\":\"linear\"}}],\"label\":\"1864\",\"method\":\"animate\"},{\"args\":[[\"1865\"],{\"frame\":{\"duration\":0,\"redraw\":true},\"fromcurrent\":true,\"mode\":\"immediate\",\"transition\":{\"duration\":0,\"easing\":\"linear\"}}],\"label\":\"1865\",\"method\":\"animate\"},{\"args\":[[\"1866\"],{\"frame\":{\"duration\":0,\"redraw\":true},\"fromcurrent\":true,\"mode\":\"immediate\",\"transition\":{\"duration\":0,\"easing\":\"linear\"}}],\"label\":\"1866\",\"method\":\"animate\"},{\"args\":[[\"1867\"],{\"frame\":{\"duration\":0,\"redraw\":true},\"fromcurrent\":true,\"mode\":\"immediate\",\"transition\":{\"duration\":0,\"easing\":\"linear\"}}],\"label\":\"1867\",\"method\":\"animate\"},{\"args\":[[\"1868\"],{\"frame\":{\"duration\":0,\"redraw\":true},\"fromcurrent\":true,\"mode\":\"immediate\",\"transition\":{\"duration\":0,\"easing\":\"linear\"}}],\"label\":\"1868\",\"method\":\"animate\"},{\"args\":[[\"1869\"],{\"frame\":{\"duration\":0,\"redraw\":true},\"fromcurrent\":true,\"mode\":\"immediate\",\"transition\":{\"duration\":0,\"easing\":\"linear\"}}],\"label\":\"1869\",\"method\":\"animate\"},{\"args\":[[\"1885\"],{\"frame\":{\"duration\":0,\"redraw\":true},\"fromcurrent\":true,\"mode\":\"immediate\",\"transition\":{\"duration\":0,\"easing\":\"linear\"}}],\"label\":\"1885\",\"method\":\"animate\"},{\"args\":[[\"1886\"],{\"frame\":{\"duration\":0,\"redraw\":true},\"fromcurrent\":true,\"mode\":\"immediate\",\"transition\":{\"duration\":0,\"easing\":\"linear\"}}],\"label\":\"1886\",\"method\":\"animate\"},{\"args\":[[\"1887\"],{\"frame\":{\"duration\":0,\"redraw\":true},\"fromcurrent\":true,\"mode\":\"immediate\",\"transition\":{\"duration\":0,\"easing\":\"linear\"}}],\"label\":\"1887\",\"method\":\"animate\"},{\"args\":[[\"1888\"],{\"frame\":{\"duration\":0,\"redraw\":true},\"fromcurrent\":true,\"mode\":\"immediate\",\"transition\":{\"duration\":0,\"easing\":\"linear\"}}],\"label\":\"1888\",\"method\":\"animate\"},{\"args\":[[\"1889\"],{\"frame\":{\"duration\":0,\"redraw\":true},\"fromcurrent\":true,\"mode\":\"immediate\",\"transition\":{\"duration\":0,\"easing\":\"linear\"}}],\"label\":\"1889\",\"method\":\"animate\"},{\"args\":[[\"1890\"],{\"frame\":{\"duration\":0,\"redraw\":true},\"fromcurrent\":true,\"mode\":\"immediate\",\"transition\":{\"duration\":0,\"easing\":\"linear\"}}],\"label\":\"1890\",\"method\":\"animate\"},{\"args\":[[\"1891\"],{\"frame\":{\"duration\":0,\"redraw\":true},\"fromcurrent\":true,\"mode\":\"immediate\",\"transition\":{\"duration\":0,\"easing\":\"linear\"}}],\"label\":\"1891\",\"method\":\"animate\"},{\"args\":[[\"1892\"],{\"frame\":{\"duration\":0,\"redraw\":true},\"fromcurrent\":true,\"mode\":\"immediate\",\"transition\":{\"duration\":0,\"easing\":\"linear\"}}],\"label\":\"1892\",\"method\":\"animate\"},{\"args\":[[\"1893\"],{\"frame\":{\"duration\":0,\"redraw\":true},\"fromcurrent\":true,\"mode\":\"immediate\",\"transition\":{\"duration\":0,\"easing\":\"linear\"}}],\"label\":\"1893\",\"method\":\"animate\"},{\"args\":[[\"1894\"],{\"frame\":{\"duration\":0,\"redraw\":true},\"fromcurrent\":true,\"mode\":\"immediate\",\"transition\":{\"duration\":0,\"easing\":\"linear\"}}],\"label\":\"1894\",\"method\":\"animate\"},{\"args\":[[\"1895\"],{\"frame\":{\"duration\":0,\"redraw\":true},\"fromcurrent\":true,\"mode\":\"immediate\",\"transition\":{\"duration\":0,\"easing\":\"linear\"}}],\"label\":\"1895\",\"method\":\"animate\"},{\"args\":[[\"1896\"],{\"frame\":{\"duration\":0,\"redraw\":true},\"fromcurrent\":true,\"mode\":\"immediate\",\"transition\":{\"duration\":0,\"easing\":\"linear\"}}],\"label\":\"1896\",\"method\":\"animate\"},{\"args\":[[\"1897\"],{\"frame\":{\"duration\":0,\"redraw\":true},\"fromcurrent\":true,\"mode\":\"immediate\",\"transition\":{\"duration\":0,\"easing\":\"linear\"}}],\"label\":\"1897\",\"method\":\"animate\"},{\"args\":[[\"1898\"],{\"frame\":{\"duration\":0,\"redraw\":true},\"fromcurrent\":true,\"mode\":\"immediate\",\"transition\":{\"duration\":0,\"easing\":\"linear\"}}],\"label\":\"1898\",\"method\":\"animate\"},{\"args\":[[\"1899\"],{\"frame\":{\"duration\":0,\"redraw\":true},\"fromcurrent\":true,\"mode\":\"immediate\",\"transition\":{\"duration\":0,\"easing\":\"linear\"}}],\"label\":\"1899\",\"method\":\"animate\"},{\"args\":[[\"1900\"],{\"frame\":{\"duration\":0,\"redraw\":true},\"fromcurrent\":true,\"mode\":\"immediate\",\"transition\":{\"duration\":0,\"easing\":\"linear\"}}],\"label\":\"1900\",\"method\":\"animate\"},{\"args\":[[\"1901\"],{\"frame\":{\"duration\":0,\"redraw\":true},\"fromcurrent\":true,\"mode\":\"immediate\",\"transition\":{\"duration\":0,\"easing\":\"linear\"}}],\"label\":\"1901\",\"method\":\"animate\"},{\"args\":[[\"1902\"],{\"frame\":{\"duration\":0,\"redraw\":true},\"fromcurrent\":true,\"mode\":\"immediate\",\"transition\":{\"duration\":0,\"easing\":\"linear\"}}],\"label\":\"1902\",\"method\":\"animate\"},{\"args\":[[\"1903\"],{\"frame\":{\"duration\":0,\"redraw\":true},\"fromcurrent\":true,\"mode\":\"immediate\",\"transition\":{\"duration\":0,\"easing\":\"linear\"}}],\"label\":\"1903\",\"method\":\"animate\"},{\"args\":[[\"1904\"],{\"frame\":{\"duration\":0,\"redraw\":true},\"fromcurrent\":true,\"mode\":\"immediate\",\"transition\":{\"duration\":0,\"easing\":\"linear\"}}],\"label\":\"1904\",\"method\":\"animate\"},{\"args\":[[\"1905\"],{\"frame\":{\"duration\":0,\"redraw\":true},\"fromcurrent\":true,\"mode\":\"immediate\",\"transition\":{\"duration\":0,\"easing\":\"linear\"}}],\"label\":\"1905\",\"method\":\"animate\"},{\"args\":[[\"1906\"],{\"frame\":{\"duration\":0,\"redraw\":true},\"fromcurrent\":true,\"mode\":\"immediate\",\"transition\":{\"duration\":0,\"easing\":\"linear\"}}],\"label\":\"1906\",\"method\":\"animate\"},{\"args\":[[\"1907\"],{\"frame\":{\"duration\":0,\"redraw\":true},\"fromcurrent\":true,\"mode\":\"immediate\",\"transition\":{\"duration\":0,\"easing\":\"linear\"}}],\"label\":\"1907\",\"method\":\"animate\"},{\"args\":[[\"1908\"],{\"frame\":{\"duration\":0,\"redraw\":true},\"fromcurrent\":true,\"mode\":\"immediate\",\"transition\":{\"duration\":0,\"easing\":\"linear\"}}],\"label\":\"1908\",\"method\":\"animate\"},{\"args\":[[\"1909\"],{\"frame\":{\"duration\":0,\"redraw\":true},\"fromcurrent\":true,\"mode\":\"immediate\",\"transition\":{\"duration\":0,\"easing\":\"linear\"}}],\"label\":\"1909\",\"method\":\"animate\"},{\"args\":[[\"1910\"],{\"frame\":{\"duration\":0,\"redraw\":true},\"fromcurrent\":true,\"mode\":\"immediate\",\"transition\":{\"duration\":0,\"easing\":\"linear\"}}],\"label\":\"1910\",\"method\":\"animate\"},{\"args\":[[\"1911\"],{\"frame\":{\"duration\":0,\"redraw\":true},\"fromcurrent\":true,\"mode\":\"immediate\",\"transition\":{\"duration\":0,\"easing\":\"linear\"}}],\"label\":\"1911\",\"method\":\"animate\"},{\"args\":[[\"1912\"],{\"frame\":{\"duration\":0,\"redraw\":true},\"fromcurrent\":true,\"mode\":\"immediate\",\"transition\":{\"duration\":0,\"easing\":\"linear\"}}],\"label\":\"1912\",\"method\":\"animate\"},{\"args\":[[\"1913\"],{\"frame\":{\"duration\":0,\"redraw\":true},\"fromcurrent\":true,\"mode\":\"immediate\",\"transition\":{\"duration\":0,\"easing\":\"linear\"}}],\"label\":\"1913\",\"method\":\"animate\"},{\"args\":[[\"1914\"],{\"frame\":{\"duration\":0,\"redraw\":true},\"fromcurrent\":true,\"mode\":\"immediate\",\"transition\":{\"duration\":0,\"easing\":\"linear\"}}],\"label\":\"1914\",\"method\":\"animate\"},{\"args\":[[\"1915\"],{\"frame\":{\"duration\":0,\"redraw\":true},\"fromcurrent\":true,\"mode\":\"immediate\",\"transition\":{\"duration\":0,\"easing\":\"linear\"}}],\"label\":\"1915\",\"method\":\"animate\"},{\"args\":[[\"1916\"],{\"frame\":{\"duration\":0,\"redraw\":true},\"fromcurrent\":true,\"mode\":\"immediate\",\"transition\":{\"duration\":0,\"easing\":\"linear\"}}],\"label\":\"1916\",\"method\":\"animate\"},{\"args\":[[\"1917\"],{\"frame\":{\"duration\":0,\"redraw\":true},\"fromcurrent\":true,\"mode\":\"immediate\",\"transition\":{\"duration\":0,\"easing\":\"linear\"}}],\"label\":\"1917\",\"method\":\"animate\"},{\"args\":[[\"1918\"],{\"frame\":{\"duration\":0,\"redraw\":true},\"fromcurrent\":true,\"mode\":\"immediate\",\"transition\":{\"duration\":0,\"easing\":\"linear\"}}],\"label\":\"1918\",\"method\":\"animate\"},{\"args\":[[\"1919\"],{\"frame\":{\"duration\":0,\"redraw\":true},\"fromcurrent\":true,\"mode\":\"immediate\",\"transition\":{\"duration\":0,\"easing\":\"linear\"}}],\"label\":\"1919\",\"method\":\"animate\"},{\"args\":[[\"1920\"],{\"frame\":{\"duration\":0,\"redraw\":true},\"fromcurrent\":true,\"mode\":\"immediate\",\"transition\":{\"duration\":0,\"easing\":\"linear\"}}],\"label\":\"1920\",\"method\":\"animate\"}],\"x\":0.1,\"xanchor\":\"left\",\"y\":0,\"yanchor\":\"top\"}],\"template\":{\"data\":{\"bar\":[{\"error_x\":{\"color\":\"#2a3f5f\"},\"error_y\":{\"color\":\"#2a3f5f\"},\"marker\":{\"line\":{\"color\":\"#E5ECF6\",\"width\":0.5},\"pattern\":{\"fillmode\":\"overlay\",\"size\":10,\"solidity\":0.2}},\"type\":\"bar\"}],\"barpolar\":[{\"marker\":{\"line\":{\"color\":\"#E5ECF6\",\"width\":0.5},\"pattern\":{\"fillmode\":\"overlay\",\"size\":10,\"solidity\":0.2}},\"type\":\"barpolar\"}],\"carpet\":[{\"aaxis\":{\"endlinecolor\":\"#2a3f5f\",\"gridcolor\":\"white\",\"linecolor\":\"white\",\"minorgridcolor\":\"white\",\"startlinecolor\":\"#2a3f5f\"},\"baxis\":{\"endlinecolor\":\"#2a3f5f\",\"gridcolor\":\"white\",\"linecolor\":\"white\",\"minorgridcolor\":\"white\",\"startlinecolor\":\"#2a3f5f\"},\"type\":\"carpet\"}],\"choropleth\":[{\"colorbar\":{\"outlinewidth\":0,\"ticks\":\"\"},\"type\":\"choropleth\"}],\"contour\":[{\"colorbar\":{\"outlinewidth\":0,\"ticks\":\"\"},\"colorscale\":[[0.0,\"#0d0887\"],[0.1111111111111111,\"#46039f\"],[0.2222222222222222,\"#7201a8\"],[0.3333333333333333,\"#9c179e\"],[0.4444444444444444,\"#bd3786\"],[0.5555555555555556,\"#d8576b\"],[0.6666666666666666,\"#ed7953\"],[0.7777777777777778,\"#fb9f3a\"],[0.8888888888888888,\"#fdca26\"],[1.0,\"#f0f921\"]],\"type\":\"contour\"}],\"contourcarpet\":[{\"colorbar\":{\"outlinewidth\":0,\"ticks\":\"\"},\"type\":\"contourcarpet\"}],\"heatmap\":[{\"colorbar\":{\"outlinewidth\":0,\"ticks\":\"\"},\"colorscale\":[[0.0,\"#0d0887\"],[0.1111111111111111,\"#46039f\"],[0.2222222222222222,\"#7201a8\"],[0.3333333333333333,\"#9c179e\"],[0.4444444444444444,\"#bd3786\"],[0.5555555555555556,\"#d8576b\"],[0.6666666666666666,\"#ed7953\"],[0.7777777777777778,\"#fb9f3a\"],[0.8888888888888888,\"#fdca26\"],[1.0,\"#f0f921\"]],\"type\":\"heatmap\"}],\"heatmapgl\":[{\"colorbar\":{\"outlinewidth\":0,\"ticks\":\"\"},\"colorscale\":[[0.0,\"#0d0887\"],[0.1111111111111111,\"#46039f\"],[0.2222222222222222,\"#7201a8\"],[0.3333333333333333,\"#9c179e\"],[0.4444444444444444,\"#bd3786\"],[0.5555555555555556,\"#d8576b\"],[0.6666666666666666,\"#ed7953\"],[0.7777777777777778,\"#fb9f3a\"],[0.8888888888888888,\"#fdca26\"],[1.0,\"#f0f921\"]],\"type\":\"heatmapgl\"}],\"histogram\":[{\"marker\":{\"pattern\":{\"fillmode\":\"overlay\",\"size\":10,\"solidity\":0.2}},\"type\":\"histogram\"}],\"histogram2d\":[{\"colorbar\":{\"outlinewidth\":0,\"ticks\":\"\"},\"colorscale\":[[0.0,\"#0d0887\"],[0.1111111111111111,\"#46039f\"],[0.2222222222222222,\"#7201a8\"],[0.3333333333333333,\"#9c179e\"],[0.4444444444444444,\"#bd3786\"],[0.5555555555555556,\"#d8576b\"],[0.6666666666666666,\"#ed7953\"],[0.7777777777777778,\"#fb9f3a\"],[0.8888888888888888,\"#fdca26\"],[1.0,\"#f0f921\"]],\"type\":\"histogram2d\"}],\"histogram2dcontour\":[{\"colorbar\":{\"outlinewidth\":0,\"ticks\":\"\"},\"colorscale\":[[0.0,\"#0d0887\"],[0.1111111111111111,\"#46039f\"],[0.2222222222222222,\"#7201a8\"],[0.3333333333333333,\"#9c179e\"],[0.4444444444444444,\"#bd3786\"],[0.5555555555555556,\"#d8576b\"],[0.6666666666666666,\"#ed7953\"],[0.7777777777777778,\"#fb9f3a\"],[0.8888888888888888,\"#fdca26\"],[1.0,\"#f0f921\"]],\"type\":\"histogram2dcontour\"}],\"mesh3d\":[{\"colorbar\":{\"outlinewidth\":0,\"ticks\":\"\"},\"type\":\"mesh3d\"}],\"parcoords\":[{\"line\":{\"colorbar\":{\"outlinewidth\":0,\"ticks\":\"\"}},\"type\":\"parcoords\"}],\"pie\":[{\"automargin\":true,\"type\":\"pie\"}],\"scatter\":[{\"marker\":{\"colorbar\":{\"outlinewidth\":0,\"ticks\":\"\"}},\"type\":\"scatter\"}],\"scatter3d\":[{\"line\":{\"colorbar\":{\"outlinewidth\":0,\"ticks\":\"\"}},\"marker\":{\"colorbar\":{\"outlinewidth\":0,\"ticks\":\"\"}},\"type\":\"scatter3d\"}],\"scattercarpet\":[{\"marker\":{\"colorbar\":{\"outlinewidth\":0,\"ticks\":\"\"}},\"type\":\"scattercarpet\"}],\"scattergeo\":[{\"marker\":{\"colorbar\":{\"outlinewidth\":0,\"ticks\":\"\"}},\"type\":\"scattergeo\"}],\"scattergl\":[{\"marker\":{\"colorbar\":{\"outlinewidth\":0,\"ticks\":\"\"}},\"type\":\"scattergl\"}],\"scattermapbox\":[{\"marker\":{\"colorbar\":{\"outlinewidth\":0,\"ticks\":\"\"}},\"type\":\"scattermapbox\"}],\"scatterpolar\":[{\"marker\":{\"colorbar\":{\"outlinewidth\":0,\"ticks\":\"\"}},\"type\":\"scatterpolar\"}],\"scatterpolargl\":[{\"marker\":{\"colorbar\":{\"outlinewidth\":0,\"ticks\":\"\"}},\"type\":\"scatterpolargl\"}],\"scatterternary\":[{\"marker\":{\"colorbar\":{\"outlinewidth\":0,\"ticks\":\"\"}},\"type\":\"scatterternary\"}],\"surface\":[{\"colorbar\":{\"outlinewidth\":0,\"ticks\":\"\"},\"colorscale\":[[0.0,\"#0d0887\"],[0.1111111111111111,\"#46039f\"],[0.2222222222222222,\"#7201a8\"],[0.3333333333333333,\"#9c179e\"],[0.4444444444444444,\"#bd3786\"],[0.5555555555555556,\"#d8576b\"],[0.6666666666666666,\"#ed7953\"],[0.7777777777777778,\"#fb9f3a\"],[0.8888888888888888,\"#fdca26\"],[1.0,\"#f0f921\"]],\"type\":\"surface\"}],\"table\":[{\"cells\":{\"fill\":{\"color\":\"#EBF0F8\"},\"line\":{\"color\":\"white\"}},\"header\":{\"fill\":{\"color\":\"#C8D4E3\"},\"line\":{\"color\":\"white\"}},\"type\":\"table\"}]},\"layout\":{\"annotationdefaults\":{\"arrowcolor\":\"#2a3f5f\",\"arrowhead\":0,\"arrowwidth\":1},\"autotypenumbers\":\"strict\",\"coloraxis\":{\"colorbar\":{\"outlinewidth\":0,\"ticks\":\"\"}},\"colorscale\":{\"diverging\":[[0,\"#8e0152\"],[0.1,\"#c51b7d\"],[0.2,\"#de77ae\"],[0.3,\"#f1b6da\"],[0.4,\"#fde0ef\"],[0.5,\"#f7f7f7\"],[0.6,\"#e6f5d0\"],[0.7,\"#b8e186\"],[0.8,\"#7fbc41\"],[0.9,\"#4d9221\"],[1,\"#276419\"]],\"sequential\":[[0.0,\"#0d0887\"],[0.1111111111111111,\"#46039f\"],[0.2222222222222222,\"#7201a8\"],[0.3333333333333333,\"#9c179e\"],[0.4444444444444444,\"#bd3786\"],[0.5555555555555556,\"#d8576b\"],[0.6666666666666666,\"#ed7953\"],[0.7777777777777778,\"#fb9f3a\"],[0.8888888888888888,\"#fdca26\"],[1.0,\"#f0f921\"]],\"sequentialminus\":[[0.0,\"#0d0887\"],[0.1111111111111111,\"#46039f\"],[0.2222222222222222,\"#7201a8\"],[0.3333333333333333,\"#9c179e\"],[0.4444444444444444,\"#bd3786\"],[0.5555555555555556,\"#d8576b\"],[0.6666666666666666,\"#ed7953\"],[0.7777777777777778,\"#fb9f3a\"],[0.8888888888888888,\"#fdca26\"],[1.0,\"#f0f921\"]]},\"colorway\":[\"#636efa\",\"#EF553B\",\"#00cc96\",\"#ab63fa\",\"#FFA15A\",\"#19d3f3\",\"#FF6692\",\"#B6E880\",\"#FF97FF\",\"#FECB52\"],\"font\":{\"color\":\"#2a3f5f\"},\"geo\":{\"bgcolor\":\"white\",\"lakecolor\":\"white\",\"landcolor\":\"#E5ECF6\",\"showlakes\":true,\"showland\":true,\"subunitcolor\":\"white\"},\"hoverlabel\":{\"align\":\"left\"},\"hovermode\":\"closest\",\"mapbox\":{\"style\":\"light\"},\"paper_bgcolor\":\"white\",\"plot_bgcolor\":\"#E5ECF6\",\"polar\":{\"angularaxis\":{\"gridcolor\":\"white\",\"linecolor\":\"white\",\"ticks\":\"\"},\"bgcolor\":\"#E5ECF6\",\"radialaxis\":{\"gridcolor\":\"white\",\"linecolor\":\"white\",\"ticks\":\"\"}},\"scene\":{\"xaxis\":{\"backgroundcolor\":\"#E5ECF6\",\"gridcolor\":\"white\",\"gridwidth\":2,\"linecolor\":\"white\",\"showbackground\":true,\"ticks\":\"\",\"zerolinecolor\":\"white\"},\"yaxis\":{\"backgroundcolor\":\"#E5ECF6\",\"gridcolor\":\"white\",\"gridwidth\":2,\"linecolor\":\"white\",\"showbackground\":true,\"ticks\":\"\",\"zerolinecolor\":\"white\"},\"zaxis\":{\"backgroundcolor\":\"#E5ECF6\",\"gridcolor\":\"white\",\"gridwidth\":2,\"linecolor\":\"white\",\"showbackground\":true,\"ticks\":\"\",\"zerolinecolor\":\"white\"}},\"shapedefaults\":{\"line\":{\"color\":\"#2a3f5f\"}},\"ternary\":{\"aaxis\":{\"gridcolor\":\"white\",\"linecolor\":\"white\",\"ticks\":\"\"},\"baxis\":{\"gridcolor\":\"white\",\"linecolor\":\"white\",\"ticks\":\"\"},\"bgcolor\":\"#E5ECF6\",\"caxis\":{\"gridcolor\":\"white\",\"linecolor\":\"white\",\"ticks\":\"\"}},\"title\":{\"x\":0.05},\"xaxis\":{\"automargin\":true,\"gridcolor\":\"white\",\"linecolor\":\"white\",\"ticks\":\"\",\"title\":{\"standoff\":15},\"zerolinecolor\":\"white\",\"zerolinewidth\":2},\"yaxis\":{\"automargin\":true,\"gridcolor\":\"white\",\"linecolor\":\"white\",\"ticks\":\"\",\"title\":{\"standoff\":15},\"zerolinecolor\":\"white\",\"zerolinewidth\":2}}},\"title\":{\"text\":\"Systemic Crisis by year\"},\"updatemenus\":[{\"buttons\":[{\"args\":[null,{\"frame\":{\"duration\":500,\"redraw\":true},\"fromcurrent\":true,\"mode\":\"immediate\",\"transition\":{\"duration\":500,\"easing\":\"linear\"}}],\"label\":\"&#9654;\",\"method\":\"animate\"},{\"args\":[[null],{\"frame\":{\"duration\":0,\"redraw\":true},\"fromcurrent\":true,\"mode\":\"immediate\",\"transition\":{\"duration\":0,\"easing\":\"linear\"}}],\"label\":\"&#9724;\",\"method\":\"animate\"}],\"direction\":\"left\",\"pad\":{\"r\":10,\"t\":70},\"showactive\":false,\"type\":\"buttons\",\"x\":0.1,\"xanchor\":\"right\",\"y\":0,\"yanchor\":\"top\"}]},                        {\"responsive\": true}                    ).then(function(){\n",
       "                            Plotly.addFrames('c1d687aa-244e-434d-8251-a6312f2f946b', [{\"data\":[{\"coloraxis\":\"coloraxis\",\"customdata\":[[0,0,\"crisis\"],[0,0,\"no_crisis\"]],\"geo\":\"geo\",\"hovertemplate\":\"<b>%{hovertext}</b><br><br>year=1870<br>country=%{location}<br>currency_crises=%{customdata[0]}<br>inflation_crises=%{customdata[1]}<br>banking_crisis=%{customdata[2]}<br>systemic_crisis=%{z}<extra></extra>\",\"hovertext\":[\"Algeria\",\"Egypt\"],\"locationmode\":\"country names\",\"locations\":[\"Algeria\",\"Egypt\"],\"name\":\"\",\"type\":\"choropleth\",\"z\":[1,0]}],\"name\":\"1870\"},{\"data\":[{\"coloraxis\":\"coloraxis\",\"customdata\":[[0,0,\"no_crisis\"],[0,0,\"no_crisis\"]],\"geo\":\"geo\",\"hovertemplate\":\"<b>%{hovertext}</b><br><br>year=1871<br>country=%{location}<br>currency_crises=%{customdata[0]}<br>inflation_crises=%{customdata[1]}<br>banking_crisis=%{customdata[2]}<br>systemic_crisis=%{z}<extra></extra>\",\"hovertext\":[\"Algeria\",\"Egypt\"],\"locationmode\":\"country names\",\"locations\":[\"Algeria\",\"Egypt\"],\"name\":\"\",\"type\":\"choropleth\",\"z\":[0,0]}],\"name\":\"1871\"},{\"data\":[{\"coloraxis\":\"coloraxis\",\"customdata\":[[0,0,\"no_crisis\"],[0,0,\"no_crisis\"]],\"geo\":\"geo\",\"hovertemplate\":\"<b>%{hovertext}</b><br><br>year=1872<br>country=%{location}<br>currency_crises=%{customdata[0]}<br>inflation_crises=%{customdata[1]}<br>banking_crisis=%{customdata[2]}<br>systemic_crisis=%{z}<extra></extra>\",\"hovertext\":[\"Algeria\",\"Egypt\"],\"locationmode\":\"country names\",\"locations\":[\"Algeria\",\"Egypt\"],\"name\":\"\",\"type\":\"choropleth\",\"z\":[0,0]}],\"name\":\"1872\"},{\"data\":[{\"coloraxis\":\"coloraxis\",\"customdata\":[[0,0,\"no_crisis\"],[0,0,\"no_crisis\"]],\"geo\":\"geo\",\"hovertemplate\":\"<b>%{hovertext}</b><br><br>year=1873<br>country=%{location}<br>currency_crises=%{customdata[0]}<br>inflation_crises=%{customdata[1]}<br>banking_crisis=%{customdata[2]}<br>systemic_crisis=%{z}<extra></extra>\",\"hovertext\":[\"Algeria\",\"Egypt\"],\"locationmode\":\"country names\",\"locations\":[\"Algeria\",\"Egypt\"],\"name\":\"\",\"type\":\"choropleth\",\"z\":[0,0]}],\"name\":\"1873\"},{\"data\":[{\"coloraxis\":\"coloraxis\",\"customdata\":[[0,0,\"no_crisis\"],[0,0,\"no_crisis\"]],\"geo\":\"geo\",\"hovertemplate\":\"<b>%{hovertext}</b><br><br>year=1874<br>country=%{location}<br>currency_crises=%{customdata[0]}<br>inflation_crises=%{customdata[1]}<br>banking_crisis=%{customdata[2]}<br>systemic_crisis=%{z}<extra></extra>\",\"hovertext\":[\"Algeria\",\"Egypt\"],\"locationmode\":\"country names\",\"locations\":[\"Algeria\",\"Egypt\"],\"name\":\"\",\"type\":\"choropleth\",\"z\":[0,0]}],\"name\":\"1874\"},{\"data\":[{\"coloraxis\":\"coloraxis\",\"customdata\":[[0,0,\"no_crisis\"],[0,0,\"no_crisis\"]],\"geo\":\"geo\",\"hovertemplate\":\"<b>%{hovertext}</b><br><br>year=1875<br>country=%{location}<br>currency_crises=%{customdata[0]}<br>inflation_crises=%{customdata[1]}<br>banking_crisis=%{customdata[2]}<br>systemic_crisis=%{z}<extra></extra>\",\"hovertext\":[\"Algeria\",\"Egypt\"],\"locationmode\":\"country names\",\"locations\":[\"Algeria\",\"Egypt\"],\"name\":\"\",\"type\":\"choropleth\",\"z\":[0,0]}],\"name\":\"1875\"},{\"data\":[{\"coloraxis\":\"coloraxis\",\"customdata\":[[0,0,\"no_crisis\"],[0,0,\"no_crisis\"]],\"geo\":\"geo\",\"hovertemplate\":\"<b>%{hovertext}</b><br><br>year=1876<br>country=%{location}<br>currency_crises=%{customdata[0]}<br>inflation_crises=%{customdata[1]}<br>banking_crisis=%{customdata[2]}<br>systemic_crisis=%{z}<extra></extra>\",\"hovertext\":[\"Algeria\",\"Egypt\"],\"locationmode\":\"country names\",\"locations\":[\"Algeria\",\"Egypt\"],\"name\":\"\",\"type\":\"choropleth\",\"z\":[0,0]}],\"name\":\"1876\"},{\"data\":[{\"coloraxis\":\"coloraxis\",\"customdata\":[[0,1,\"no_crisis\"],[0,0,\"no_crisis\"]],\"geo\":\"geo\",\"hovertemplate\":\"<b>%{hovertext}</b><br><br>year=1877<br>country=%{location}<br>currency_crises=%{customdata[0]}<br>inflation_crises=%{customdata[1]}<br>banking_crisis=%{customdata[2]}<br>systemic_crisis=%{z}<extra></extra>\",\"hovertext\":[\"Algeria\",\"Egypt\"],\"locationmode\":\"country names\",\"locations\":[\"Algeria\",\"Egypt\"],\"name\":\"\",\"type\":\"choropleth\",\"z\":[0,0]}],\"name\":\"1877\"},{\"data\":[{\"coloraxis\":\"coloraxis\",\"customdata\":[[0,0,\"no_crisis\"],[0,0,\"no_crisis\"]],\"geo\":\"geo\",\"hovertemplate\":\"<b>%{hovertext}</b><br><br>year=1878<br>country=%{location}<br>currency_crises=%{customdata[0]}<br>inflation_crises=%{customdata[1]}<br>banking_crisis=%{customdata[2]}<br>systemic_crisis=%{z}<extra></extra>\",\"hovertext\":[\"Algeria\",\"Egypt\"],\"locationmode\":\"country names\",\"locations\":[\"Algeria\",\"Egypt\"],\"name\":\"\",\"type\":\"choropleth\",\"z\":[0,0]}],\"name\":\"1878\"},{\"data\":[{\"coloraxis\":\"coloraxis\",\"customdata\":[[0,0,\"no_crisis\"],[0,0,\"no_crisis\"]],\"geo\":\"geo\",\"hovertemplate\":\"<b>%{hovertext}</b><br><br>year=1879<br>country=%{location}<br>currency_crises=%{customdata[0]}<br>inflation_crises=%{customdata[1]}<br>banking_crisis=%{customdata[2]}<br>systemic_crisis=%{z}<extra></extra>\",\"hovertext\":[\"Algeria\",\"Egypt\"],\"locationmode\":\"country names\",\"locations\":[\"Algeria\",\"Egypt\"],\"name\":\"\",\"type\":\"choropleth\",\"z\":[0,0]}],\"name\":\"1879\"},{\"data\":[{\"coloraxis\":\"coloraxis\",\"customdata\":[[0,0,\"no_crisis\"],[0,0,\"no_crisis\"]],\"geo\":\"geo\",\"hovertemplate\":\"<b>%{hovertext}</b><br><br>year=1880<br>country=%{location}<br>currency_crises=%{customdata[0]}<br>inflation_crises=%{customdata[1]}<br>banking_crisis=%{customdata[2]}<br>systemic_crisis=%{z}<extra></extra>\",\"hovertext\":[\"Algeria\",\"Egypt\"],\"locationmode\":\"country names\",\"locations\":[\"Algeria\",\"Egypt\"],\"name\":\"\",\"type\":\"choropleth\",\"z\":[0,0]}],\"name\":\"1880\"},{\"data\":[{\"coloraxis\":\"coloraxis\",\"customdata\":[[0,0,\"no_crisis\"],[0,0,\"no_crisis\"]],\"geo\":\"geo\",\"hovertemplate\":\"<b>%{hovertext}</b><br><br>year=1881<br>country=%{location}<br>currency_crises=%{customdata[0]}<br>inflation_crises=%{customdata[1]}<br>banking_crisis=%{customdata[2]}<br>systemic_crisis=%{z}<extra></extra>\",\"hovertext\":[\"Algeria\",\"Egypt\"],\"locationmode\":\"country names\",\"locations\":[\"Algeria\",\"Egypt\"],\"name\":\"\",\"type\":\"choropleth\",\"z\":[0,0]}],\"name\":\"1881\"},{\"data\":[{\"coloraxis\":\"coloraxis\",\"customdata\":[[0,0,\"no_crisis\"],[0,0,\"no_crisis\"]],\"geo\":\"geo\",\"hovertemplate\":\"<b>%{hovertext}</b><br><br>year=1882<br>country=%{location}<br>currency_crises=%{customdata[0]}<br>inflation_crises=%{customdata[1]}<br>banking_crisis=%{customdata[2]}<br>systemic_crisis=%{z}<extra></extra>\",\"hovertext\":[\"Algeria\",\"Egypt\"],\"locationmode\":\"country names\",\"locations\":[\"Algeria\",\"Egypt\"],\"name\":\"\",\"type\":\"choropleth\",\"z\":[0,0]}],\"name\":\"1882\"},{\"data\":[{\"coloraxis\":\"coloraxis\",\"customdata\":[[0,0,\"no_crisis\"],[0,0,\"no_crisis\"]],\"geo\":\"geo\",\"hovertemplate\":\"<b>%{hovertext}</b><br><br>year=1883<br>country=%{location}<br>currency_crises=%{customdata[0]}<br>inflation_crises=%{customdata[1]}<br>banking_crisis=%{customdata[2]}<br>systemic_crisis=%{z}<extra></extra>\",\"hovertext\":[\"Algeria\",\"Egypt\"],\"locationmode\":\"country names\",\"locations\":[\"Algeria\",\"Egypt\"],\"name\":\"\",\"type\":\"choropleth\",\"z\":[0,0]}],\"name\":\"1883\"},{\"data\":[{\"coloraxis\":\"coloraxis\",\"customdata\":[[0,0,\"no_crisis\"],[0,0,\"no_crisis\"]],\"geo\":\"geo\",\"hovertemplate\":\"<b>%{hovertext}</b><br><br>year=1884<br>country=%{location}<br>currency_crises=%{customdata[0]}<br>inflation_crises=%{customdata[1]}<br>banking_crisis=%{customdata[2]}<br>systemic_crisis=%{z}<extra></extra>\",\"hovertext\":[\"Algeria\",\"Egypt\"],\"locationmode\":\"country names\",\"locations\":[\"Algeria\",\"Egypt\"],\"name\":\"\",\"type\":\"choropleth\",\"z\":[0,0]}],\"name\":\"1884\"},{\"data\":[{\"coloraxis\":\"coloraxis\",\"customdata\":[[0,0,\"no_crisis\"],[0,0,\"no_crisis\"],[0,0,\"no_crisis\"],[0,0,\"no_crisis\"],[0,0,\"no_crisis\"]],\"geo\":\"geo\",\"hovertemplate\":\"<b>%{hovertext}</b><br><br>year=1939<br>country=%{location}<br>currency_crises=%{customdata[0]}<br>inflation_crises=%{customdata[1]}<br>banking_crisis=%{customdata[2]}<br>systemic_crisis=%{z}<extra></extra>\",\"hovertext\":[\"Algeria\",\"Angola\",\"Egypt\",\"South Africa\",\"Zimbabwe\"],\"locationmode\":\"country names\",\"locations\":[\"Algeria\",\"Angola\",\"Egypt\",\"South Africa\",\"Zimbabwe\"],\"name\":\"\",\"type\":\"choropleth\",\"z\":[0,0,0,0,0]}],\"name\":\"1939\"},{\"data\":[{\"coloraxis\":\"coloraxis\",\"customdata\":[[0,1,\"no_crisis\"],[0,0,\"no_crisis\"],[0,0,\"no_crisis\"],[0,1,\"no_crisis\"],[1,0,\"no_crisis\"],[0,1,\"no_crisis\"],[0,0,\"no_crisis\"]],\"geo\":\"geo\",\"hovertemplate\":\"<b>%{hovertext}</b><br><br>year=1940<br>country=%{location}<br>currency_crises=%{customdata[0]}<br>inflation_crises=%{customdata[1]}<br>banking_crisis=%{customdata[2]}<br>systemic_crisis=%{z}<extra></extra>\",\"hovertext\":[\"Algeria\",\"Angola\",\"Egypt\",\"Morocco\",\"South Africa\",\"Tunisia\",\"Zimbabwe\"],\"locationmode\":\"country names\",\"locations\":[\"Algeria\",\"Angola\",\"Egypt\",\"Morocco\",\"South Africa\",\"Tunisia\",\"Zimbabwe\"],\"name\":\"\",\"type\":\"choropleth\",\"z\":[0,0,0,0,0,0,0]}],\"name\":\"1940\"},{\"data\":[{\"coloraxis\":\"coloraxis\",\"customdata\":[[0,0,\"no_crisis\"],[0,0,\"no_crisis\"],[0,1,\"no_crisis\"],[0,1,\"no_crisis\"],[0,0,\"no_crisis\"],[0,1,\"no_crisis\"],[0,0,\"no_crisis\"]],\"geo\":\"geo\",\"hovertemplate\":\"<b>%{hovertext}</b><br><br>year=1941<br>country=%{location}<br>currency_crises=%{customdata[0]}<br>inflation_crises=%{customdata[1]}<br>banking_crisis=%{customdata[2]}<br>systemic_crisis=%{z}<extra></extra>\",\"hovertext\":[\"Algeria\",\"Angola\",\"Egypt\",\"Morocco\",\"South Africa\",\"Tunisia\",\"Zimbabwe\"],\"locationmode\":\"country names\",\"locations\":[\"Algeria\",\"Angola\",\"Egypt\",\"Morocco\",\"South Africa\",\"Tunisia\",\"Zimbabwe\"],\"name\":\"\",\"type\":\"choropleth\",\"z\":[0,0,0,0,0,0,0]}],\"name\":\"1941\"},{\"data\":[{\"coloraxis\":\"coloraxis\",\"customdata\":[[0,1,\"no_crisis\"],[0,0,\"no_crisis\"],[0,1,\"no_crisis\"],[0,1,\"no_crisis\"],[0,0,\"no_crisis\"],[0,1,\"no_crisis\"],[0,0,\"no_crisis\"]],\"geo\":\"geo\",\"hovertemplate\":\"<b>%{hovertext}</b><br><br>year=1942<br>country=%{location}<br>currency_crises=%{customdata[0]}<br>inflation_crises=%{customdata[1]}<br>banking_crisis=%{customdata[2]}<br>systemic_crisis=%{z}<extra></extra>\",\"hovertext\":[\"Algeria\",\"Angola\",\"Egypt\",\"Morocco\",\"South Africa\",\"Tunisia\",\"Zimbabwe\"],\"locationmode\":\"country names\",\"locations\":[\"Algeria\",\"Angola\",\"Egypt\",\"Morocco\",\"South Africa\",\"Tunisia\",\"Zimbabwe\"],\"name\":\"\",\"type\":\"choropleth\",\"z\":[0,0,0,0,0,0,0]}],\"name\":\"1942\"},{\"data\":[{\"coloraxis\":\"coloraxis\",\"customdata\":[[1,1,\"no_crisis\"],[0,0,\"no_crisis\"],[0,0,\"no_crisis\"],[1,1,\"no_crisis\"],[0,0,\"no_crisis\"],[0,1,\"no_crisis\"],[0,0,\"no_crisis\"],[0,0,\"no_crisis\"]],\"geo\":\"geo\",\"hovertemplate\":\"<b>%{hovertext}</b><br><br>year=1943<br>country=%{location}<br>currency_crises=%{customdata[0]}<br>inflation_crises=%{customdata[1]}<br>banking_crisis=%{customdata[2]}<br>systemic_crisis=%{z}<extra></extra>\",\"hovertext\":[\"Algeria\",\"Angola\",\"Egypt\",\"Morocco\",\"South Africa\",\"Tunisia\",\"Zambia\",\"Zimbabwe\"],\"locationmode\":\"country names\",\"locations\":[\"Algeria\",\"Angola\",\"Egypt\",\"Morocco\",\"South Africa\",\"Tunisia\",\"Zambia\",\"Zimbabwe\"],\"name\":\"\",\"type\":\"choropleth\",\"z\":[0,0,0,0,0,0,0,0]}],\"name\":\"1943\"},{\"data\":[{\"coloraxis\":\"coloraxis\",\"customdata\":[[1,1,\"no_crisis\"],[0,0,\"no_crisis\"],[0,0,\"no_crisis\"],[1,1,\"no_crisis\"],[0,0,\"no_crisis\"],[1,1,\"no_crisis\"],[0,0,\"no_crisis\"],[0,0,\"no_crisis\"]],\"geo\":\"geo\",\"hovertemplate\":\"<b>%{hovertext}</b><br><br>year=1944<br>country=%{location}<br>currency_crises=%{customdata[0]}<br>inflation_crises=%{customdata[1]}<br>banking_crisis=%{customdata[2]}<br>systemic_crisis=%{z}<extra></extra>\",\"hovertext\":[\"Algeria\",\"Angola\",\"Egypt\",\"Morocco\",\"South Africa\",\"Tunisia\",\"Zambia\",\"Zimbabwe\"],\"locationmode\":\"country names\",\"locations\":[\"Algeria\",\"Angola\",\"Egypt\",\"Morocco\",\"South Africa\",\"Tunisia\",\"Zambia\",\"Zimbabwe\"],\"name\":\"\",\"type\":\"choropleth\",\"z\":[0,0,0,0,0,0,0,0]}],\"name\":\"1944\"},{\"data\":[{\"coloraxis\":\"coloraxis\",\"customdata\":[[0,1,\"no_crisis\"],[0,0,\"no_crisis\"],[0,0,\"no_crisis\"],[0,0,\"no_crisis\"],[0,0,\"no_crisis\"],[0,0,\"no_crisis\"],[0,0,\"no_crisis\"],[0,0,\"no_crisis\"]],\"geo\":\"geo\",\"hovertemplate\":\"<b>%{hovertext}</b><br><br>year=1945<br>country=%{location}<br>currency_crises=%{customdata[0]}<br>inflation_crises=%{customdata[1]}<br>banking_crisis=%{customdata[2]}<br>systemic_crisis=%{z}<extra></extra>\",\"hovertext\":[\"Algeria\",\"Angola\",\"Egypt\",\"Morocco\",\"South Africa\",\"Tunisia\",\"Zambia\",\"Zimbabwe\"],\"locationmode\":\"country names\",\"locations\":[\"Algeria\",\"Angola\",\"Egypt\",\"Morocco\",\"South Africa\",\"Tunisia\",\"Zambia\",\"Zimbabwe\"],\"name\":\"\",\"type\":\"choropleth\",\"z\":[0,0,0,0,0,0,0,0]}],\"name\":\"1945\"},{\"data\":[{\"coloraxis\":\"coloraxis\",\"customdata\":[[0,0,\"no_crisis\"],[0,0,\"no_crisis\"],[0,0,\"no_crisis\"],[0,1,\"no_crisis\"],[0,0,\"no_crisis\"],[1,1,\"no_crisis\"],[0,0,\"no_crisis\"],[0,0,\"no_crisis\"]],\"geo\":\"geo\",\"hovertemplate\":\"<b>%{hovertext}</b><br><br>year=1946<br>country=%{location}<br>currency_crises=%{customdata[0]}<br>inflation_crises=%{customdata[1]}<br>banking_crisis=%{customdata[2]}<br>systemic_crisis=%{z}<extra></extra>\",\"hovertext\":[\"Algeria\",\"Angola\",\"Egypt\",\"Morocco\",\"South Africa\",\"Tunisia\",\"Zambia\",\"Zimbabwe\"],\"locationmode\":\"country names\",\"locations\":[\"Algeria\",\"Angola\",\"Egypt\",\"Morocco\",\"South Africa\",\"Tunisia\",\"Zambia\",\"Zimbabwe\"],\"name\":\"\",\"type\":\"choropleth\",\"z\":[0,0,0,0,0,0,0,0]}],\"name\":\"1946\"},{\"data\":[{\"coloraxis\":\"coloraxis\",\"customdata\":[[0,1,\"no_crisis\"],[0,0,\"no_crisis\"],[0,0,\"no_crisis\"],[0,0,\"no_crisis\"],[1,1,\"no_crisis\"],[0,0,\"no_crisis\"],[0,1,\"no_crisis\"],[0,0,\"no_crisis\"],[0,0,\"no_crisis\"]],\"geo\":\"geo\",\"hovertemplate\":\"<b>%{hovertext}</b><br><br>year=1947<br>country=%{location}<br>currency_crises=%{customdata[0]}<br>inflation_crises=%{customdata[1]}<br>banking_crisis=%{customdata[2]}<br>systemic_crisis=%{z}<extra></extra>\",\"hovertext\":[\"Algeria\",\"Angola\",\"Egypt\",\"Mauritius\",\"Morocco\",\"South Africa\",\"Tunisia\",\"Zambia\",\"Zimbabwe\"],\"locationmode\":\"country names\",\"locations\":[\"Algeria\",\"Angola\",\"Egypt\",\"Mauritius\",\"Morocco\",\"South Africa\",\"Tunisia\",\"Zambia\",\"Zimbabwe\"],\"name\":\"\",\"type\":\"choropleth\",\"z\":[0,0,0,0,0,0,0,0,0]}],\"name\":\"1947\"},{\"data\":[{\"coloraxis\":\"coloraxis\",\"customdata\":[[0,1,\"no_crisis\"],[0,0,\"no_crisis\"],[0,0,\"no_crisis\"],[0,0,\"no_crisis\"],[0,1,\"no_crisis\"],[0,1,\"no_crisis\"],[0,0,\"no_crisis\"],[0,1,\"no_crisis\"],[0,0,\"no_crisis\"],[0,0,\"no_crisis\"]],\"geo\":\"geo\",\"hovertemplate\":\"<b>%{hovertext}</b><br><br>year=1948<br>country=%{location}<br>currency_crises=%{customdata[0]}<br>inflation_crises=%{customdata[1]}<br>banking_crisis=%{customdata[2]}<br>systemic_crisis=%{z}<extra></extra>\",\"hovertext\":[\"Algeria\",\"Angola\",\"Egypt\",\"Kenya\",\"Mauritius\",\"Morocco\",\"South Africa\",\"Tunisia\",\"Zambia\",\"Zimbabwe\"],\"locationmode\":\"country names\",\"locations\":[\"Algeria\",\"Angola\",\"Egypt\",\"Kenya\",\"Mauritius\",\"Morocco\",\"South Africa\",\"Tunisia\",\"Zambia\",\"Zimbabwe\"],\"name\":\"\",\"type\":\"choropleth\",\"z\":[0,0,0,0,0,0,0,0,0,0]}],\"name\":\"1948\"},{\"data\":[{\"coloraxis\":\"coloraxis\",\"customdata\":[[0,1,\"no_crisis\"],[0,0,\"no_crisis\"],[1,0,\"no_crisis\"],[0,0,\"no_crisis\"],[0,0,\"no_crisis\"],[1,1,\"no_crisis\"],[0,0,\"no_crisis\"],[1,0,\"no_crisis\"],[0,0,\"no_crisis\"],[0,0,\"no_crisis\"]],\"geo\":\"geo\",\"hovertemplate\":\"<b>%{hovertext}</b><br><br>year=1949<br>country=%{location}<br>currency_crises=%{customdata[0]}<br>inflation_crises=%{customdata[1]}<br>banking_crisis=%{customdata[2]}<br>systemic_crisis=%{z}<extra></extra>\",\"hovertext\":[\"Algeria\",\"Angola\",\"Egypt\",\"Kenya\",\"Mauritius\",\"Morocco\",\"South Africa\",\"Tunisia\",\"Zambia\",\"Zimbabwe\"],\"locationmode\":\"country names\",\"locations\":[\"Algeria\",\"Angola\",\"Egypt\",\"Kenya\",\"Mauritius\",\"Morocco\",\"South Africa\",\"Tunisia\",\"Zambia\",\"Zimbabwe\"],\"name\":\"\",\"type\":\"choropleth\",\"z\":[0,0,0,0,0,0,0,0,0,0]}],\"name\":\"1949\"},{\"data\":[{\"coloraxis\":\"coloraxis\",\"customdata\":[[0,0,\"no_crisis\"],[0,0,\"no_crisis\"],[0,0,\"no_crisis\"],[0,0,\"no_crisis\"],[0,0,\"no_crisis\"],[1,0,\"no_crisis\"],[1,0,\"no_crisis\"],[1,0,\"no_crisis\"],[1,0,\"no_crisis\"],[0,0,\"no_crisis\"]],\"geo\":\"geo\",\"hovertemplate\":\"<b>%{hovertext}</b><br><br>year=1950<br>country=%{location}<br>currency_crises=%{customdata[0]}<br>inflation_crises=%{customdata[1]}<br>banking_crisis=%{customdata[2]}<br>systemic_crisis=%{z}<extra></extra>\",\"hovertext\":[\"Algeria\",\"Angola\",\"Egypt\",\"Kenya\",\"Mauritius\",\"Morocco\",\"South Africa\",\"Tunisia\",\"Zambia\",\"Zimbabwe\"],\"locationmode\":\"country names\",\"locations\":[\"Algeria\",\"Angola\",\"Egypt\",\"Kenya\",\"Mauritius\",\"Morocco\",\"South Africa\",\"Tunisia\",\"Zambia\",\"Zimbabwe\"],\"name\":\"\",\"type\":\"choropleth\",\"z\":[0,0,0,0,0,0,0,0,0,0]}],\"name\":\"1950\"},{\"data\":[{\"coloraxis\":\"coloraxis\",\"customdata\":[[0,0,\"no_crisis\"],[0,0,\"no_crisis\"],[0,0,\"no_crisis\"],[0,0,\"no_crisis\"],[0,0,\"no_crisis\"],[0,1,\"no_crisis\"],[0,0,\"no_crisis\"],[0,0,\"no_crisis\"],[0,0,\"no_crisis\"],[0,0,\"no_crisis\"]],\"geo\":\"geo\",\"hovertemplate\":\"<b>%{hovertext}</b><br><br>year=1951<br>country=%{location}<br>currency_crises=%{customdata[0]}<br>inflation_crises=%{customdata[1]}<br>banking_crisis=%{customdata[2]}<br>systemic_crisis=%{z}<extra></extra>\",\"hovertext\":[\"Algeria\",\"Angola\",\"Egypt\",\"Kenya\",\"Mauritius\",\"Morocco\",\"South Africa\",\"Tunisia\",\"Zambia\",\"Zimbabwe\"],\"locationmode\":\"country names\",\"locations\":[\"Algeria\",\"Angola\",\"Egypt\",\"Kenya\",\"Mauritius\",\"Morocco\",\"South Africa\",\"Tunisia\",\"Zambia\",\"Zimbabwe\"],\"name\":\"\",\"type\":\"choropleth\",\"z\":[0,0,0,0,0,0,0,0,0,0]}],\"name\":\"1951\"},{\"data\":[{\"coloraxis\":\"coloraxis\",\"customdata\":[[0,0,\"no_crisis\"],[0,0,\"no_crisis\"],[0,0,\"no_crisis\"],[0,0,\"no_crisis\"],[0,0,\"no_crisis\"],[0,0,\"no_crisis\"],[0,0,\"no_crisis\"],[0,0,\"no_crisis\"],[0,0,\"no_crisis\"],[0,0,\"no_crisis\"],[0,0,\"no_crisis\"]],\"geo\":\"geo\",\"hovertemplate\":\"<b>%{hovertext}</b><br><br>year=1952<br>country=%{location}<br>currency_crises=%{customdata[0]}<br>inflation_crises=%{customdata[1]}<br>banking_crisis=%{customdata[2]}<br>systemic_crisis=%{z}<extra></extra>\",\"hovertext\":[\"Algeria\",\"Angola\",\"Ivory Coast\",\"Egypt\",\"Kenya\",\"Mauritius\",\"Morocco\",\"South Africa\",\"Tunisia\",\"Zambia\",\"Zimbabwe\"],\"locationmode\":\"country names\",\"locations\":[\"Algeria\",\"Angola\",\"Ivory Coast\",\"Egypt\",\"Kenya\",\"Mauritius\",\"Morocco\",\"South Africa\",\"Tunisia\",\"Zambia\",\"Zimbabwe\"],\"name\":\"\",\"type\":\"choropleth\",\"z\":[0,0,0,0,0,0,0,0,0,0,0]}],\"name\":\"1952\"},{\"data\":[{\"coloraxis\":\"coloraxis\",\"customdata\":[[0,0,\"no_crisis\"],[0,0,\"no_crisis\"],[0,0,\"no_crisis\"],[0,0,\"no_crisis\"],[0,0,\"no_crisis\"],[0,0,\"no_crisis\"],[0,0,\"no_crisis\"],[0,0,\"no_crisis\"],[0,0,\"no_crisis\"],[0,0,\"no_crisis\"],[0,0,\"no_crisis\"]],\"geo\":\"geo\",\"hovertemplate\":\"<b>%{hovertext}</b><br><br>year=1953<br>country=%{location}<br>currency_crises=%{customdata[0]}<br>inflation_crises=%{customdata[1]}<br>banking_crisis=%{customdata[2]}<br>systemic_crisis=%{z}<extra></extra>\",\"hovertext\":[\"Algeria\",\"Angola\",\"Ivory Coast\",\"Egypt\",\"Kenya\",\"Mauritius\",\"Morocco\",\"South Africa\",\"Tunisia\",\"Zambia\",\"Zimbabwe\"],\"locationmode\":\"country names\",\"locations\":[\"Algeria\",\"Angola\",\"Ivory Coast\",\"Egypt\",\"Kenya\",\"Mauritius\",\"Morocco\",\"South Africa\",\"Tunisia\",\"Zambia\",\"Zimbabwe\"],\"name\":\"\",\"type\":\"choropleth\",\"z\":[0,0,0,0,0,0,0,0,0,0,0]}],\"name\":\"1953\"},{\"data\":[{\"coloraxis\":\"coloraxis\",\"customdata\":[[0,0,\"no_crisis\"],[0,0,\"no_crisis\"],[0,0,\"no_crisis\"],[0,0,\"no_crisis\"],[0,0,\"no_crisis\"],[0,0,\"no_crisis\"],[0,0,\"no_crisis\"],[0,0,\"no_crisis\"],[0,0,\"no_crisis\"],[0,0,\"no_crisis\"],[0,0,\"no_crisis\"],[0,0,\"no_crisis\"]],\"geo\":\"geo\",\"hovertemplate\":\"<b>%{hovertext}</b><br><br>year=1954<br>country=%{location}<br>currency_crises=%{customdata[0]}<br>inflation_crises=%{customdata[1]}<br>banking_crisis=%{customdata[2]}<br>systemic_crisis=%{z}<extra></extra>\",\"hovertext\":[\"Algeria\",\"Angola\",\"Ivory Coast\",\"Egypt\",\"Kenya\",\"Mauritius\",\"Morocco\",\"Nigeria\",\"South Africa\",\"Tunisia\",\"Zambia\",\"Zimbabwe\"],\"locationmode\":\"country names\",\"locations\":[\"Algeria\",\"Angola\",\"Ivory Coast\",\"Egypt\",\"Kenya\",\"Mauritius\",\"Morocco\",\"Nigeria\",\"South Africa\",\"Tunisia\",\"Zambia\",\"Zimbabwe\"],\"name\":\"\",\"type\":\"choropleth\",\"z\":[0,0,0,0,0,0,0,0,0,0,0,0]}],\"name\":\"1954\"},{\"data\":[{\"coloraxis\":\"coloraxis\",\"customdata\":[[0,0,\"no_crisis\"],[0,0,\"no_crisis\"],[0,0,\"no_crisis\"],[0,0,\"no_crisis\"],[0,0,\"no_crisis\"],[0,0,\"no_crisis\"],[0,0,\"no_crisis\"],[0,0,\"no_crisis\"],[0,0,\"no_crisis\"],[0,0,\"no_crisis\"],[0,0,\"no_crisis\"],[0,0,\"no_crisis\"]],\"geo\":\"geo\",\"hovertemplate\":\"<b>%{hovertext}</b><br><br>year=1955<br>country=%{location}<br>currency_crises=%{customdata[0]}<br>inflation_crises=%{customdata[1]}<br>banking_crisis=%{customdata[2]}<br>systemic_crisis=%{z}<extra></extra>\",\"hovertext\":[\"Algeria\",\"Angola\",\"Ivory Coast\",\"Egypt\",\"Kenya\",\"Mauritius\",\"Morocco\",\"Nigeria\",\"South Africa\",\"Tunisia\",\"Zambia\",\"Zimbabwe\"],\"locationmode\":\"country names\",\"locations\":[\"Algeria\",\"Angola\",\"Ivory Coast\",\"Egypt\",\"Kenya\",\"Mauritius\",\"Morocco\",\"Nigeria\",\"South Africa\",\"Tunisia\",\"Zambia\",\"Zimbabwe\"],\"name\":\"\",\"type\":\"choropleth\",\"z\":[0,0,0,0,0,0,0,0,0,0,0,0]}],\"name\":\"1955\"},{\"data\":[{\"coloraxis\":\"coloraxis\",\"customdata\":[[0,0,\"no_crisis\"],[0,0,\"no_crisis\"],[0,0,\"no_crisis\"],[0,0,\"no_crisis\"],[0,0,\"no_crisis\"],[0,0,\"no_crisis\"],[0,0,\"no_crisis\"],[0,0,\"no_crisis\"],[0,0,\"no_crisis\"],[0,0,\"no_crisis\"],[0,0,\"no_crisis\"],[0,0,\"no_crisis\"]],\"geo\":\"geo\",\"hovertemplate\":\"<b>%{hovertext}</b><br><br>year=1956<br>country=%{location}<br>currency_crises=%{customdata[0]}<br>inflation_crises=%{customdata[1]}<br>banking_crisis=%{customdata[2]}<br>systemic_crisis=%{z}<extra></extra>\",\"hovertext\":[\"Algeria\",\"Angola\",\"Ivory Coast\",\"Egypt\",\"Kenya\",\"Mauritius\",\"Morocco\",\"Nigeria\",\"South Africa\",\"Tunisia\",\"Zambia\",\"Zimbabwe\"],\"locationmode\":\"country names\",\"locations\":[\"Algeria\",\"Angola\",\"Ivory Coast\",\"Egypt\",\"Kenya\",\"Mauritius\",\"Morocco\",\"Nigeria\",\"South Africa\",\"Tunisia\",\"Zambia\",\"Zimbabwe\"],\"name\":\"\",\"type\":\"choropleth\",\"z\":[0,0,0,0,0,0,0,0,0,0,0,0]}],\"name\":\"1956\"},{\"data\":[{\"coloraxis\":\"coloraxis\",\"customdata\":[[0,0,\"no_crisis\"],[0,0,\"no_crisis\"],[0,0,\"no_crisis\"],[0,0,\"no_crisis\"],[0,0,\"no_crisis\"],[0,0,\"no_crisis\"],[0,0,\"no_crisis\"],[0,0,\"no_crisis\"],[0,0,\"no_crisis\"],[0,0,\"no_crisis\"],[0,0,\"no_crisis\"],[0,0,\"no_crisis\"],[0,0,\"no_crisis\"]],\"geo\":\"geo\",\"hovertemplate\":\"<b>%{hovertext}</b><br><br>year=1957<br>country=%{location}<br>currency_crises=%{customdata[0]}<br>inflation_crises=%{customdata[1]}<br>banking_crisis=%{customdata[2]}<br>systemic_crisis=%{z}<extra></extra>\",\"hovertext\":[\"Algeria\",\"Angola\",\"Central African Republic\",\"Ivory Coast\",\"Egypt\",\"Kenya\",\"Mauritius\",\"Morocco\",\"Nigeria\",\"South Africa\",\"Tunisia\",\"Zambia\",\"Zimbabwe\"],\"locationmode\":\"country names\",\"locations\":[\"Algeria\",\"Angola\",\"Central African Republic\",\"Ivory Coast\",\"Egypt\",\"Kenya\",\"Mauritius\",\"Morocco\",\"Nigeria\",\"South Africa\",\"Tunisia\",\"Zambia\",\"Zimbabwe\"],\"name\":\"\",\"type\":\"choropleth\",\"z\":[0,0,0,0,0,0,0,0,0,0,0,0,0]}],\"name\":\"1957\"},{\"data\":[{\"coloraxis\":\"coloraxis\",\"customdata\":[[0,0,\"no_crisis\"],[0,0,\"no_crisis\"],[0,0,\"no_crisis\"],[0,1,\"no_crisis\"],[0,0,\"no_crisis\"],[0,0,\"no_crisis\"],[0,0,\"no_crisis\"],[1,0,\"no_crisis\"],[0,0,\"no_crisis\"],[0,0,\"no_crisis\"],[1,0,\"no_crisis\"],[0,0,\"no_crisis\"],[0,0,\"no_crisis\"]],\"geo\":\"geo\",\"hovertemplate\":\"<b>%{hovertext}</b><br><br>year=1958<br>country=%{location}<br>currency_crises=%{customdata[0]}<br>inflation_crises=%{customdata[1]}<br>banking_crisis=%{customdata[2]}<br>systemic_crisis=%{z}<extra></extra>\",\"hovertext\":[\"Algeria\",\"Angola\",\"Central African Republic\",\"Ivory Coast\",\"Egypt\",\"Kenya\",\"Mauritius\",\"Morocco\",\"Nigeria\",\"South Africa\",\"Tunisia\",\"Zambia\",\"Zimbabwe\"],\"locationmode\":\"country names\",\"locations\":[\"Algeria\",\"Angola\",\"Central African Republic\",\"Ivory Coast\",\"Egypt\",\"Kenya\",\"Mauritius\",\"Morocco\",\"Nigeria\",\"South Africa\",\"Tunisia\",\"Zambia\",\"Zimbabwe\"],\"name\":\"\",\"type\":\"choropleth\",\"z\":[0,0,0,0,0,0,0,0,0,0,0,0,0]}],\"name\":\"1958\"},{\"data\":[{\"coloraxis\":\"coloraxis\",\"customdata\":[[0,0,\"no_crisis\"],[1,0,\"no_crisis\"],[1,0,\"no_crisis\"],[0,0,\"no_crisis\"],[0,0,\"no_crisis\"],[0,0,\"no_crisis\"],[0,0,\"no_crisis\"],[1,0,\"no_crisis\"],[0,0,\"no_crisis\"],[0,0,\"no_crisis\"],[0,0,\"no_crisis\"],[0,0,\"no_crisis\"],[0,0,\"no_crisis\"]],\"geo\":\"geo\",\"hovertemplate\":\"<b>%{hovertext}</b><br><br>year=1959<br>country=%{location}<br>currency_crises=%{customdata[0]}<br>inflation_crises=%{customdata[1]}<br>banking_crisis=%{customdata[2]}<br>systemic_crisis=%{z}<extra></extra>\",\"hovertext\":[\"Algeria\",\"Angola\",\"Central African Republic\",\"Ivory Coast\",\"Egypt\",\"Kenya\",\"Mauritius\",\"Morocco\",\"Nigeria\",\"South Africa\",\"Tunisia\",\"Zambia\",\"Zimbabwe\"],\"locationmode\":\"country names\",\"locations\":[\"Algeria\",\"Angola\",\"Central African Republic\",\"Ivory Coast\",\"Egypt\",\"Kenya\",\"Mauritius\",\"Morocco\",\"Nigeria\",\"South Africa\",\"Tunisia\",\"Zambia\",\"Zimbabwe\"],\"name\":\"\",\"type\":\"choropleth\",\"z\":[0,0,0,0,0,0,0,0,0,0,0,0,0]}],\"name\":\"1959\"},{\"data\":[{\"coloraxis\":\"coloraxis\",\"customdata\":[[1,0,\"no_crisis\"],[0,0,\"no_crisis\"],[0,0,\"no_crisis\"],[0,0,\"no_crisis\"],[0,0,\"no_crisis\"],[0,0,\"no_crisis\"],[0,0,\"no_crisis\"],[0,0,\"no_crisis\"],[0,0,\"no_crisis\"],[0,0,\"no_crisis\"],[0,0,\"no_crisis\"],[0,0,\"no_crisis\"],[0,0,\"no_crisis\"]],\"geo\":\"geo\",\"hovertemplate\":\"<b>%{hovertext}</b><br><br>year=1960<br>country=%{location}<br>currency_crises=%{customdata[0]}<br>inflation_crises=%{customdata[1]}<br>banking_crisis=%{customdata[2]}<br>systemic_crisis=%{z}<extra></extra>\",\"hovertext\":[\"Algeria\",\"Angola\",\"Central African Republic\",\"Ivory Coast\",\"Egypt\",\"Kenya\",\"Mauritius\",\"Morocco\",\"Nigeria\",\"South Africa\",\"Tunisia\",\"Zambia\",\"Zimbabwe\"],\"locationmode\":\"country names\",\"locations\":[\"Algeria\",\"Angola\",\"Central African Republic\",\"Ivory Coast\",\"Egypt\",\"Kenya\",\"Mauritius\",\"Morocco\",\"Nigeria\",\"South Africa\",\"Tunisia\",\"Zambia\",\"Zimbabwe\"],\"name\":\"\",\"type\":\"choropleth\",\"z\":[0,0,0,0,0,0,0,0,0,0,0,0,0]}],\"name\":\"1960\"},{\"data\":[{\"coloraxis\":\"coloraxis\",\"customdata\":[[0,0,\"no_crisis\"],[0,0,\"no_crisis\"],[0,0,\"no_crisis\"],[0,0,\"no_crisis\"],[0,0,\"no_crisis\"],[0,0,\"no_crisis\"],[0,0,\"no_crisis\"],[0,0,\"no_crisis\"],[0,0,\"no_crisis\"],[0,0,\"no_crisis\"],[0,0,\"no_crisis\"],[0,0,\"no_crisis\"],[0,0,\"no_crisis\"]],\"geo\":\"geo\",\"hovertemplate\":\"<b>%{hovertext}</b><br><br>year=1961<br>country=%{location}<br>currency_crises=%{customdata[0]}<br>inflation_crises=%{customdata[1]}<br>banking_crisis=%{customdata[2]}<br>systemic_crisis=%{z}<extra></extra>\",\"hovertext\":[\"Algeria\",\"Angola\",\"Central African Republic\",\"Ivory Coast\",\"Egypt\",\"Kenya\",\"Mauritius\",\"Morocco\",\"Nigeria\",\"South Africa\",\"Tunisia\",\"Zambia\",\"Zimbabwe\"],\"locationmode\":\"country names\",\"locations\":[\"Algeria\",\"Angola\",\"Central African Republic\",\"Ivory Coast\",\"Egypt\",\"Kenya\",\"Mauritius\",\"Morocco\",\"Nigeria\",\"South Africa\",\"Tunisia\",\"Zambia\",\"Zimbabwe\"],\"name\":\"\",\"type\":\"choropleth\",\"z\":[0,0,0,0,0,0,0,0,0,0,0,0,0]}],\"name\":\"1961\"},{\"data\":[{\"coloraxis\":\"coloraxis\",\"customdata\":[[0,0,\"no_crisis\"],[0,0,\"no_crisis\"],[0,0,\"no_crisis\"],[0,0,\"no_crisis\"],[0,0,\"no_crisis\"],[0,0,\"no_crisis\"],[0,0,\"no_crisis\"],[0,0,\"no_crisis\"],[0,0,\"no_crisis\"],[0,0,\"no_crisis\"],[0,0,\"no_crisis\"],[0,0,\"no_crisis\"]],\"geo\":\"geo\",\"hovertemplate\":\"<b>%{hovertext}</b><br><br>year=1968<br>country=%{location}<br>currency_crises=%{customdata[0]}<br>inflation_crises=%{customdata[1]}<br>banking_crisis=%{customdata[2]}<br>systemic_crisis=%{z}<extra></extra>\",\"hovertext\":[\"Algeria\",\"Central African Republic\",\"Ivory Coast\",\"Egypt\",\"Kenya\",\"Mauritius\",\"Morocco\",\"Nigeria\",\"South Africa\",\"Tunisia\",\"Zambia\",\"Zimbabwe\"],\"locationmode\":\"country names\",\"locations\":[\"Algeria\",\"Central African Republic\",\"Ivory Coast\",\"Egypt\",\"Kenya\",\"Mauritius\",\"Morocco\",\"Nigeria\",\"South Africa\",\"Tunisia\",\"Zambia\",\"Zimbabwe\"],\"name\":\"\",\"type\":\"choropleth\",\"z\":[0,0,0,0,0,0,0,0,0,0,0,0]}],\"name\":\"1968\"},{\"data\":[{\"coloraxis\":\"coloraxis\",\"customdata\":[[0,0,\"no_crisis\"],[0,0,\"no_crisis\"],[0,0,\"no_crisis\"],[0,0,\"no_crisis\"],[0,0,\"no_crisis\"],[0,0,\"no_crisis\"],[0,0,\"no_crisis\"],[0,0,\"no_crisis\"],[0,0,\"no_crisis\"],[0,0,\"no_crisis\"],[0,0,\"no_crisis\"],[0,0,\"no_crisis\"]],\"geo\":\"geo\",\"hovertemplate\":\"<b>%{hovertext}</b><br><br>year=1969<br>country=%{location}<br>currency_crises=%{customdata[0]}<br>inflation_crises=%{customdata[1]}<br>banking_crisis=%{customdata[2]}<br>systemic_crisis=%{z}<extra></extra>\",\"hovertext\":[\"Algeria\",\"Central African Republic\",\"Ivory Coast\",\"Egypt\",\"Kenya\",\"Mauritius\",\"Morocco\",\"Nigeria\",\"South Africa\",\"Tunisia\",\"Zambia\",\"Zimbabwe\"],\"locationmode\":\"country names\",\"locations\":[\"Algeria\",\"Central African Republic\",\"Ivory Coast\",\"Egypt\",\"Kenya\",\"Mauritius\",\"Morocco\",\"Nigeria\",\"South Africa\",\"Tunisia\",\"Zambia\",\"Zimbabwe\"],\"name\":\"\",\"type\":\"choropleth\",\"z\":[0,0,0,0,0,0,0,0,0,0,0,0]}],\"name\":\"1969\"},{\"data\":[{\"coloraxis\":\"coloraxis\",\"customdata\":[[0,0,\"no_crisis\"],[1,0,\"no_crisis\"],[0,0,\"no_crisis\"],[0,0,\"no_crisis\"],[0,0,\"no_crisis\"],[0,0,\"no_crisis\"],[0,0,\"no_crisis\"],[0,0,\"no_crisis\"],[0,0,\"no_crisis\"],[0,0,\"no_crisis\"],[0,0,\"no_crisis\"],[0,0,\"no_crisis\"],[0,0,\"no_crisis\"]],\"geo\":\"geo\",\"hovertemplate\":\"<b>%{hovertext}</b><br><br>year=1970<br>country=%{location}<br>currency_crises=%{customdata[0]}<br>inflation_crises=%{customdata[1]}<br>banking_crisis=%{customdata[2]}<br>systemic_crisis=%{z}<extra></extra>\",\"hovertext\":[\"Algeria\",\"Angola\",\"Central African Republic\",\"Ivory Coast\",\"Egypt\",\"Kenya\",\"Mauritius\",\"Morocco\",\"Nigeria\",\"South Africa\",\"Tunisia\",\"Zambia\",\"Zimbabwe\"],\"locationmode\":\"country names\",\"locations\":[\"Algeria\",\"Angola\",\"Central African Republic\",\"Ivory Coast\",\"Egypt\",\"Kenya\",\"Mauritius\",\"Morocco\",\"Nigeria\",\"South Africa\",\"Tunisia\",\"Zambia\",\"Zimbabwe\"],\"name\":\"\",\"type\":\"choropleth\",\"z\":[0,0,0,0,0,0,0,0,0,0,0,0,0]}],\"name\":\"1970\"},{\"data\":[{\"coloraxis\":\"coloraxis\",\"customdata\":[[0,0,\"no_crisis\"],[0,0,\"no_crisis\"],[0,1,\"no_crisis\"],[0,0,\"no_crisis\"],[0,0,\"no_crisis\"],[0,0,\"no_crisis\"],[0,0,\"no_crisis\"],[0,0,\"no_crisis\"],[0,0,\"no_crisis\"],[0,0,\"no_crisis\"],[0,0,\"no_crisis\"],[0,0,\"no_crisis\"],[0,0,\"no_crisis\"]],\"geo\":\"geo\",\"hovertemplate\":\"<b>%{hovertext}</b><br><br>year=1971<br>country=%{location}<br>currency_crises=%{customdata[0]}<br>inflation_crises=%{customdata[1]}<br>banking_crisis=%{customdata[2]}<br>systemic_crisis=%{z}<extra></extra>\",\"hovertext\":[\"Algeria\",\"Angola\",\"Central African Republic\",\"Ivory Coast\",\"Egypt\",\"Kenya\",\"Mauritius\",\"Morocco\",\"Nigeria\",\"South Africa\",\"Tunisia\",\"Zambia\",\"Zimbabwe\"],\"locationmode\":\"country names\",\"locations\":[\"Algeria\",\"Angola\",\"Central African Republic\",\"Ivory Coast\",\"Egypt\",\"Kenya\",\"Mauritius\",\"Morocco\",\"Nigeria\",\"South Africa\",\"Tunisia\",\"Zambia\",\"Zimbabwe\"],\"name\":\"\",\"type\":\"choropleth\",\"z\":[0,0,0,0,0,0,0,0,0,0,0,0,0]}],\"name\":\"1971\"},{\"data\":[{\"coloraxis\":\"coloraxis\",\"customdata\":[[0,0,\"no_crisis\"],[1,0,\"no_crisis\"],[0,0,\"no_crisis\"],[0,0,\"no_crisis\"],[0,0,\"no_crisis\"],[0,0,\"no_crisis\"],[0,0,\"no_crisis\"],[0,0,\"no_crisis\"],[0,0,\"no_crisis\"],[0,0,\"no_crisis\"],[0,0,\"no_crisis\"],[0,0,\"no_crisis\"],[0,0,\"no_crisis\"]],\"geo\":\"geo\",\"hovertemplate\":\"<b>%{hovertext}</b><br><br>year=1972<br>country=%{location}<br>currency_crises=%{customdata[0]}<br>inflation_crises=%{customdata[1]}<br>banking_crisis=%{customdata[2]}<br>systemic_crisis=%{z}<extra></extra>\",\"hovertext\":[\"Algeria\",\"Angola\",\"Central African Republic\",\"Ivory Coast\",\"Egypt\",\"Kenya\",\"Mauritius\",\"Morocco\",\"Nigeria\",\"South Africa\",\"Tunisia\",\"Zambia\",\"Zimbabwe\"],\"locationmode\":\"country names\",\"locations\":[\"Algeria\",\"Angola\",\"Central African Republic\",\"Ivory Coast\",\"Egypt\",\"Kenya\",\"Mauritius\",\"Morocco\",\"Nigeria\",\"South Africa\",\"Tunisia\",\"Zambia\",\"Zimbabwe\"],\"name\":\"\",\"type\":\"choropleth\",\"z\":[0,0,0,0,0,0,0,0,0,0,0,0,0]}],\"name\":\"1972\"},{\"data\":[{\"coloraxis\":\"coloraxis\",\"customdata\":[[0,0,\"no_crisis\"],[1,0,\"no_crisis\"],[0,0,\"no_crisis\"],[0,0,\"no_crisis\"],[0,0,\"no_crisis\"],[0,0,\"no_crisis\"],[0,1,\"no_crisis\"],[0,0,\"no_crisis\"],[1,0,\"no_crisis\"],[0,0,\"no_crisis\"],[0,0,\"no_crisis\"],[0,0,\"no_crisis\"],[0,0,\"no_crisis\"]],\"geo\":\"geo\",\"hovertemplate\":\"<b>%{hovertext}</b><br><br>year=1973<br>country=%{location}<br>currency_crises=%{customdata[0]}<br>inflation_crises=%{customdata[1]}<br>banking_crisis=%{customdata[2]}<br>systemic_crisis=%{z}<extra></extra>\",\"hovertext\":[\"Algeria\",\"Angola\",\"Central African Republic\",\"Ivory Coast\",\"Egypt\",\"Kenya\",\"Mauritius\",\"Morocco\",\"Nigeria\",\"South Africa\",\"Tunisia\",\"Zambia\",\"Zimbabwe\"],\"locationmode\":\"country names\",\"locations\":[\"Algeria\",\"Angola\",\"Central African Republic\",\"Ivory Coast\",\"Egypt\",\"Kenya\",\"Mauritius\",\"Morocco\",\"Nigeria\",\"South Africa\",\"Tunisia\",\"Zambia\",\"Zimbabwe\"],\"name\":\"\",\"type\":\"choropleth\",\"z\":[0,0,0,0,0,0,0,0,0,0,0,0,0]}],\"name\":\"1973\"},{\"data\":[{\"coloraxis\":\"coloraxis\",\"customdata\":[[0,0,\"no_crisis\"],[0,1,\"no_crisis\"],[0,0,\"no_crisis\"],[0,0,\"no_crisis\"],[0,0,\"no_crisis\"],[0,0,\"no_crisis\"],[0,1,\"no_crisis\"],[0,0,\"no_crisis\"],[0,0,\"no_crisis\"],[0,0,\"no_crisis\"],[1,0,\"no_crisis\"],[0,0,\"no_crisis\"],[0,0,\"no_crisis\"]],\"geo\":\"geo\",\"hovertemplate\":\"<b>%{hovertext}</b><br><br>year=1974<br>country=%{location}<br>currency_crises=%{customdata[0]}<br>inflation_crises=%{customdata[1]}<br>banking_crisis=%{customdata[2]}<br>systemic_crisis=%{z}<extra></extra>\",\"hovertext\":[\"Algeria\",\"Angola\",\"Central African Republic\",\"Ivory Coast\",\"Egypt\",\"Kenya\",\"Mauritius\",\"Morocco\",\"Nigeria\",\"South Africa\",\"Tunisia\",\"Zambia\",\"Zimbabwe\"],\"locationmode\":\"country names\",\"locations\":[\"Algeria\",\"Angola\",\"Central African Republic\",\"Ivory Coast\",\"Egypt\",\"Kenya\",\"Mauritius\",\"Morocco\",\"Nigeria\",\"South Africa\",\"Tunisia\",\"Zambia\",\"Zimbabwe\"],\"name\":\"\",\"type\":\"choropleth\",\"z\":[0,0,0,0,0,0,0,0,0,0,0,0,0]}],\"name\":\"1974\"},{\"data\":[{\"coloraxis\":\"coloraxis\",\"customdata\":[[0,0,\"no_crisis\"],[0,1,\"no_crisis\"],[0,0,\"no_crisis\"],[0,0,\"no_crisis\"],[0,0,\"no_crisis\"],[0,0,\"no_crisis\"],[0,0,\"no_crisis\"],[0,0,\"no_crisis\"],[0,1,\"no_crisis\"],[0,0,\"no_crisis\"],[0,0,\"no_crisis\"],[0,0,\"no_crisis\"],[0,0,\"no_crisis\"]],\"geo\":\"geo\",\"hovertemplate\":\"<b>%{hovertext}</b><br><br>year=1975<br>country=%{location}<br>currency_crises=%{customdata[0]}<br>inflation_crises=%{customdata[1]}<br>banking_crisis=%{customdata[2]}<br>systemic_crisis=%{z}<extra></extra>\",\"hovertext\":[\"Algeria\",\"Angola\",\"Central African Republic\",\"Ivory Coast\",\"Egypt\",\"Kenya\",\"Mauritius\",\"Morocco\",\"Nigeria\",\"South Africa\",\"Tunisia\",\"Zambia\",\"Zimbabwe\"],\"locationmode\":\"country names\",\"locations\":[\"Algeria\",\"Angola\",\"Central African Republic\",\"Ivory Coast\",\"Egypt\",\"Kenya\",\"Mauritius\",\"Morocco\",\"Nigeria\",\"South Africa\",\"Tunisia\",\"Zambia\",\"Zimbabwe\"],\"name\":\"\",\"type\":\"choropleth\",\"z\":[0,0,0,0,0,0,0,0,0,0,0,0,0]}],\"name\":\"1975\"},{\"data\":[{\"coloraxis\":\"coloraxis\",\"customdata\":[[0,0,\"no_crisis\"],[0,1,\"no_crisis\"],[0,0,\"crisis\"],[0,0,\"no_crisis\"],[0,0,\"no_crisis\"],[1,0,\"no_crisis\"],[0,0,\"no_crisis\"],[0,0,\"no_crisis\"],[0,0,\"no_crisis\"],[0,0,\"no_crisis\"],[0,0,\"no_crisis\"],[0,0,\"no_crisis\"],[0,0,\"no_crisis\"]],\"geo\":\"geo\",\"hovertemplate\":\"<b>%{hovertext}</b><br><br>year=1976<br>country=%{location}<br>currency_crises=%{customdata[0]}<br>inflation_crises=%{customdata[1]}<br>banking_crisis=%{customdata[2]}<br>systemic_crisis=%{z}<extra></extra>\",\"hovertext\":[\"Algeria\",\"Angola\",\"Central African Republic\",\"Ivory Coast\",\"Egypt\",\"Kenya\",\"Mauritius\",\"Morocco\",\"Nigeria\",\"South Africa\",\"Tunisia\",\"Zambia\",\"Zimbabwe\"],\"locationmode\":\"country names\",\"locations\":[\"Algeria\",\"Angola\",\"Central African Republic\",\"Ivory Coast\",\"Egypt\",\"Kenya\",\"Mauritius\",\"Morocco\",\"Nigeria\",\"South Africa\",\"Tunisia\",\"Zambia\",\"Zimbabwe\"],\"name\":\"\",\"type\":\"choropleth\",\"z\":[0,0,1,0,0,0,0,0,0,0,0,0,0]}],\"name\":\"1976\"},{\"data\":[{\"coloraxis\":\"coloraxis\",\"customdata\":[[0,0,\"no_crisis\"],[0,1,\"no_crisis\"],[0,0,\"crisis\"],[0,1,\"no_crisis\"],[0,0,\"no_crisis\"],[0,0,\"no_crisis\"],[0,0,\"no_crisis\"],[0,0,\"no_crisis\"],[0,1,\"no_crisis\"],[0,0,\"crisis\"],[0,0,\"no_crisis\"],[1,0,\"no_crisis\"],[1,0,\"no_crisis\"]],\"geo\":\"geo\",\"hovertemplate\":\"<b>%{hovertext}</b><br><br>year=1977<br>country=%{location}<br>currency_crises=%{customdata[0]}<br>inflation_crises=%{customdata[1]}<br>banking_crisis=%{customdata[2]}<br>systemic_crisis=%{z}<extra></extra>\",\"hovertext\":[\"Algeria\",\"Angola\",\"Central African Republic\",\"Ivory Coast\",\"Egypt\",\"Kenya\",\"Mauritius\",\"Morocco\",\"Nigeria\",\"South Africa\",\"Tunisia\",\"Zambia\",\"Zimbabwe\"],\"locationmode\":\"country names\",\"locations\":[\"Algeria\",\"Angola\",\"Central African Republic\",\"Ivory Coast\",\"Egypt\",\"Kenya\",\"Mauritius\",\"Morocco\",\"Nigeria\",\"South Africa\",\"Tunisia\",\"Zambia\",\"Zimbabwe\"],\"name\":\"\",\"type\":\"choropleth\",\"z\":[0,0,1,0,0,0,0,0,0,0,0,0,0]}],\"name\":\"1977\"},{\"data\":[{\"coloraxis\":\"coloraxis\",\"customdata\":[[0,0,\"no_crisis\"],[0,1,\"no_crisis\"],[0,0,\"crisis\"],[0,0,\"no_crisis\"],[0,0,\"no_crisis\"],[0,0,\"no_crisis\"],[0,0,\"no_crisis\"],[0,0,\"no_crisis\"],[0,0,\"no_crisis\"],[0,0,\"crisis\"],[1,0,\"no_crisis\"],[0,0,\"no_crisis\"],[0,0,\"no_crisis\"]],\"geo\":\"geo\",\"hovertemplate\":\"<b>%{hovertext}</b><br><br>year=1978<br>country=%{location}<br>currency_crises=%{customdata[0]}<br>inflation_crises=%{customdata[1]}<br>banking_crisis=%{customdata[2]}<br>systemic_crisis=%{z}<extra></extra>\",\"hovertext\":[\"Algeria\",\"Angola\",\"Central African Republic\",\"Ivory Coast\",\"Egypt\",\"Kenya\",\"Mauritius\",\"Morocco\",\"Nigeria\",\"South Africa\",\"Tunisia\",\"Zambia\",\"Zimbabwe\"],\"locationmode\":\"country names\",\"locations\":[\"Algeria\",\"Angola\",\"Central African Republic\",\"Ivory Coast\",\"Egypt\",\"Kenya\",\"Mauritius\",\"Morocco\",\"Nigeria\",\"South Africa\",\"Tunisia\",\"Zambia\",\"Zimbabwe\"],\"name\":\"\",\"type\":\"choropleth\",\"z\":[0,0,1,0,0,0,0,0,0,0,0,0,0]}],\"name\":\"1978\"},{\"data\":[{\"coloraxis\":\"coloraxis\",\"customdata\":[[0,0,\"no_crisis\"],[0,1,\"no_crisis\"],[0,0,\"crisis\"],[0,1,\"no_crisis\"],[1,0,\"no_crisis\"],[0,0,\"no_crisis\"],[1,1,\"no_crisis\"],[0,0,\"no_crisis\"],[0,0,\"no_crisis\"],[0,0,\"no_crisis\"],[0,0,\"no_crisis\"],[0,0,\"no_crisis\"],[0,0,\"no_crisis\"]],\"geo\":\"geo\",\"hovertemplate\":\"<b>%{hovertext}</b><br><br>year=1979<br>country=%{location}<br>currency_crises=%{customdata[0]}<br>inflation_crises=%{customdata[1]}<br>banking_crisis=%{customdata[2]}<br>systemic_crisis=%{z}<extra></extra>\",\"hovertext\":[\"Algeria\",\"Angola\",\"Central African Republic\",\"Ivory Coast\",\"Egypt\",\"Kenya\",\"Mauritius\",\"Morocco\",\"Nigeria\",\"South Africa\",\"Tunisia\",\"Zambia\",\"Zimbabwe\"],\"locationmode\":\"country names\",\"locations\":[\"Algeria\",\"Angola\",\"Central African Republic\",\"Ivory Coast\",\"Egypt\",\"Kenya\",\"Mauritius\",\"Morocco\",\"Nigeria\",\"South Africa\",\"Tunisia\",\"Zambia\",\"Zimbabwe\"],\"name\":\"\",\"type\":\"choropleth\",\"z\":[0,0,1,0,0,0,0,0,0,0,0,0,0]}],\"name\":\"1979\"},{\"data\":[{\"coloraxis\":\"coloraxis\",\"customdata\":[[0,0,\"no_crisis\"],[0,1,\"no_crisis\"],[0,0,\"crisis\"],[0,0,\"no_crisis\"],[0,1,\"no_crisis\"],[0,0,\"no_crisis\"],[0,1,\"no_crisis\"],[0,0,\"no_crisis\"],[0,0,\"no_crisis\"],[0,0,\"no_crisis\"],[0,0,\"no_crisis\"],[0,0,\"no_crisis\"],[0,0,\"no_crisis\"]],\"geo\":\"geo\",\"hovertemplate\":\"<b>%{hovertext}</b><br><br>year=1980<br>country=%{location}<br>currency_crises=%{customdata[0]}<br>inflation_crises=%{customdata[1]}<br>banking_crisis=%{customdata[2]}<br>systemic_crisis=%{z}<extra></extra>\",\"hovertext\":[\"Algeria\",\"Angola\",\"Central African Republic\",\"Ivory Coast\",\"Egypt\",\"Kenya\",\"Mauritius\",\"Morocco\",\"Nigeria\",\"South Africa\",\"Tunisia\",\"Zambia\",\"Zimbabwe\"],\"locationmode\":\"country names\",\"locations\":[\"Algeria\",\"Angola\",\"Central African Republic\",\"Ivory Coast\",\"Egypt\",\"Kenya\",\"Mauritius\",\"Morocco\",\"Nigeria\",\"South Africa\",\"Tunisia\",\"Zambia\",\"Zimbabwe\"],\"name\":\"\",\"type\":\"choropleth\",\"z\":[0,0,1,0,1,0,0,0,0,0,0,0,0]}],\"name\":\"1980\"},{\"data\":[{\"coloraxis\":\"coloraxis\",\"customdata\":[[0,0,\"no_crisis\"],[0,0,\"crisis\"],[0,0,\"no_crisis\"],[0,0,\"crisis\"],[1,0,\"no_crisis\"],[1,1,\"no_crisis\"],[0,0,\"no_crisis\"],[1,0,\"no_crisis\"],[1,0,\"no_crisis\"],[0,0,\"no_crisis\"],[0,0,\"no_crisis\"],[0,0,\"no_crisis\"]],\"geo\":\"geo\",\"hovertemplate\":\"<b>%{hovertext}</b><br><br>year=1981<br>country=%{location}<br>currency_crises=%{customdata[0]}<br>inflation_crises=%{customdata[1]}<br>banking_crisis=%{customdata[2]}<br>systemic_crisis=%{z}<extra></extra>\",\"hovertext\":[\"Algeria\",\"Central African Republic\",\"Ivory Coast\",\"Egypt\",\"Kenya\",\"Mauritius\",\"Morocco\",\"Nigeria\",\"South Africa\",\"Tunisia\",\"Zambia\",\"Zimbabwe\"],\"locationmode\":\"country names\",\"locations\":[\"Algeria\",\"Central African Republic\",\"Ivory Coast\",\"Egypt\",\"Kenya\",\"Mauritius\",\"Morocco\",\"Nigeria\",\"South Africa\",\"Tunisia\",\"Zambia\",\"Zimbabwe\"],\"name\":\"\",\"type\":\"choropleth\",\"z\":[0,1,0,1,0,0,0,0,0,0,0,0]}],\"name\":\"1981\"},{\"data\":[{\"coloraxis\":\"coloraxis\",\"customdata\":[[0,0,\"no_crisis\"],[0,0,\"crisis\"],[0,0,\"no_crisis\"],[0,0,\"crisis\"],[1,0,\"no_crisis\"],[0,0,\"no_crisis\"],[0,0,\"no_crisis\"],[0,1,\"no_crisis\"],[0,0,\"no_crisis\"],[0,0,\"no_crisis\"],[0,0,\"no_crisis\"],[1,0,\"no_crisis\"]],\"geo\":\"geo\",\"hovertemplate\":\"<b>%{hovertext}</b><br><br>year=1982<br>country=%{location}<br>currency_crises=%{customdata[0]}<br>inflation_crises=%{customdata[1]}<br>banking_crisis=%{customdata[2]}<br>systemic_crisis=%{z}<extra></extra>\",\"hovertext\":[\"Algeria\",\"Central African Republic\",\"Ivory Coast\",\"Egypt\",\"Kenya\",\"Mauritius\",\"Morocco\",\"Nigeria\",\"South Africa\",\"Tunisia\",\"Zambia\",\"Zimbabwe\"],\"locationmode\":\"country names\",\"locations\":[\"Algeria\",\"Central African Republic\",\"Ivory Coast\",\"Egypt\",\"Kenya\",\"Mauritius\",\"Morocco\",\"Nigeria\",\"South Africa\",\"Tunisia\",\"Zambia\",\"Zimbabwe\"],\"name\":\"\",\"type\":\"choropleth\",\"z\":[0,1,0,1,0,0,0,0,0,0,0,0]}],\"name\":\"1982\"},{\"data\":[{\"coloraxis\":\"coloraxis\",\"customdata\":[[0,0,\"no_crisis\"],[0,0,\"no_crisis\"],[0,0,\"no_crisis\"],[0,0,\"crisis\"],[0,0,\"no_crisis\"],[1,0,\"no_crisis\"],[0,0,\"crisis\"],[0,0,\"no_crisis\"],[0,0,\"no_crisis\"],[0,0,\"no_crisis\"],[1,0,\"no_crisis\"],[1,1,\"no_crisis\"]],\"geo\":\"geo\",\"hovertemplate\":\"<b>%{hovertext}</b><br><br>year=1983<br>country=%{location}<br>currency_crises=%{customdata[0]}<br>inflation_crises=%{customdata[1]}<br>banking_crisis=%{customdata[2]}<br>systemic_crisis=%{z}<extra></extra>\",\"hovertext\":[\"Algeria\",\"Central African Republic\",\"Ivory Coast\",\"Egypt\",\"Kenya\",\"Mauritius\",\"Morocco\",\"Nigeria\",\"South Africa\",\"Tunisia\",\"Zambia\",\"Zimbabwe\"],\"locationmode\":\"country names\",\"locations\":[\"Algeria\",\"Central African Republic\",\"Ivory Coast\",\"Egypt\",\"Kenya\",\"Mauritius\",\"Morocco\",\"Nigeria\",\"South Africa\",\"Tunisia\",\"Zambia\",\"Zimbabwe\"],\"name\":\"\",\"type\":\"choropleth\",\"z\":[0,0,0,1,0,0,1,0,0,0,0,0]}],\"name\":\"1983\"},{\"data\":[{\"coloraxis\":\"coloraxis\",\"customdata\":[[0,0,\"no_crisis\"],[0,0,\"no_crisis\"],[0,0,\"no_crisis\"],[0,0,\"no_crisis\"],[0,1,\"no_crisis\"],[1,0,\"no_crisis\"],[0,0,\"crisis\"],[0,1,\"no_crisis\"],[1,0,\"no_crisis\"],[0,0,\"no_crisis\"],[1,1,\"no_crisis\"],[1,1,\"no_crisis\"]],\"geo\":\"geo\",\"hovertemplate\":\"<b>%{hovertext}</b><br><br>year=1984<br>country=%{location}<br>currency_crises=%{customdata[0]}<br>inflation_crises=%{customdata[1]}<br>banking_crisis=%{customdata[2]}<br>systemic_crisis=%{z}<extra></extra>\",\"hovertext\":[\"Algeria\",\"Central African Republic\",\"Ivory Coast\",\"Egypt\",\"Kenya\",\"Mauritius\",\"Morocco\",\"Nigeria\",\"South Africa\",\"Tunisia\",\"Zambia\",\"Zimbabwe\"],\"locationmode\":\"country names\",\"locations\":[\"Algeria\",\"Central African Republic\",\"Ivory Coast\",\"Egypt\",\"Kenya\",\"Mauritius\",\"Morocco\",\"Nigeria\",\"South Africa\",\"Tunisia\",\"Zambia\",\"Zimbabwe\"],\"name\":\"\",\"type\":\"choropleth\",\"z\":[0,0,0,0,0,0,1,0,0,0,0,0]}],\"name\":\"1984\"},{\"data\":[{\"coloraxis\":\"coloraxis\",\"customdata\":[[0,0,\"no_crisis\"],[0,0,\"no_crisis\"],[0,0,\"no_crisis\"],[0,0,\"no_crisis\"],[0,0,\"crisis\"],[0,0,\"no_crisis\"],[1,0,\"no_crisis\"],[1,1,\"no_crisis\"],[1,0,\"no_crisis\"],[0,0,\"no_crisis\"],[1,1,\"no_crisis\"],[0,0,\"no_crisis\"]],\"geo\":\"geo\",\"hovertemplate\":\"<b>%{hovertext}</b><br><br>year=1985<br>country=%{location}<br>currency_crises=%{customdata[0]}<br>inflation_crises=%{customdata[1]}<br>banking_crisis=%{customdata[2]}<br>systemic_crisis=%{z}<extra></extra>\",\"hovertext\":[\"Algeria\",\"Central African Republic\",\"Ivory Coast\",\"Egypt\",\"Kenya\",\"Mauritius\",\"Morocco\",\"Nigeria\",\"South Africa\",\"Tunisia\",\"Zambia\",\"Zimbabwe\"],\"locationmode\":\"country names\",\"locations\":[\"Algeria\",\"Central African Republic\",\"Ivory Coast\",\"Egypt\",\"Kenya\",\"Mauritius\",\"Morocco\",\"Nigeria\",\"South Africa\",\"Tunisia\",\"Zambia\",\"Zimbabwe\"],\"name\":\"\",\"type\":\"choropleth\",\"z\":[0,0,0,0,1,0,0,0,0,0,0,0]}],\"name\":\"1985\"},{\"data\":[{\"coloraxis\":\"coloraxis\",\"customdata\":[[0,0,\"no_crisis\"],[0,0,\"no_crisis\"],[0,0,\"no_crisis\"],[0,1,\"no_crisis\"],[0,0,\"crisis\"],[0,0,\"no_crisis\"],[0,0,\"no_crisis\"],[1,0,\"no_crisis\"],[0,0,\"no_crisis\"],[1,0,\"no_crisis\"],[1,1,\"no_crisis\"],[0,0,\"no_crisis\"]],\"geo\":\"geo\",\"hovertemplate\":\"<b>%{hovertext}</b><br><br>year=1986<br>country=%{location}<br>currency_crises=%{customdata[0]}<br>inflation_crises=%{customdata[1]}<br>banking_crisis=%{customdata[2]}<br>systemic_crisis=%{z}<extra></extra>\",\"hovertext\":[\"Algeria\",\"Central African Republic\",\"Ivory Coast\",\"Egypt\",\"Kenya\",\"Mauritius\",\"Morocco\",\"Nigeria\",\"South Africa\",\"Tunisia\",\"Zambia\",\"Zimbabwe\"],\"locationmode\":\"country names\",\"locations\":[\"Algeria\",\"Central African Republic\",\"Ivory Coast\",\"Egypt\",\"Kenya\",\"Mauritius\",\"Morocco\",\"Nigeria\",\"South Africa\",\"Tunisia\",\"Zambia\",\"Zimbabwe\"],\"name\":\"\",\"type\":\"choropleth\",\"z\":[0,0,0,0,1,0,0,0,0,0,0,0]}],\"name\":\"1986\"},{\"data\":[{\"coloraxis\":\"coloraxis\",\"customdata\":[[0,0,\"no_crisis\"],[0,0,\"no_crisis\"],[0,0,\"no_crisis\"],[0,1,\"no_crisis\"],[0,0,\"crisis\"],[0,0,\"no_crisis\"],[0,0,\"no_crisis\"],[1,0,\"no_crisis\"],[0,0,\"no_crisis\"],[0,0,\"no_crisis\"],[0,1,\"no_crisis\"],[0,0,\"no_crisis\"]],\"geo\":\"geo\",\"hovertemplate\":\"<b>%{hovertext}</b><br><br>year=1987<br>country=%{location}<br>currency_crises=%{customdata[0]}<br>inflation_crises=%{customdata[1]}<br>banking_crisis=%{customdata[2]}<br>systemic_crisis=%{z}<extra></extra>\",\"hovertext\":[\"Algeria\",\"Central African Republic\",\"Ivory Coast\",\"Egypt\",\"Kenya\",\"Mauritius\",\"Morocco\",\"Nigeria\",\"South Africa\",\"Tunisia\",\"Zambia\",\"Zimbabwe\"],\"locationmode\":\"country names\",\"locations\":[\"Algeria\",\"Central African Republic\",\"Ivory Coast\",\"Egypt\",\"Kenya\",\"Mauritius\",\"Morocco\",\"Nigeria\",\"South Africa\",\"Tunisia\",\"Zambia\",\"Zimbabwe\"],\"name\":\"\",\"type\":\"choropleth\",\"z\":[0,0,0,0,1,0,0,0,0,0,0,0]}],\"name\":\"1987\"},{\"data\":[{\"coloraxis\":\"coloraxis\",\"customdata\":[[1,0,\"no_crisis\"],[0,0,\"crisis\"],[0,0,\"crisis\"],[0,0,\"no_crisis\"],[0,0,\"crisis\"],[0,0,\"no_crisis\"],[0,0,\"no_crisis\"],[1,0,\"no_crisis\"],[1,0,\"no_crisis\"],[0,0,\"no_crisis\"],[1,1,\"no_crisis\"],[1,0,\"no_crisis\"]],\"geo\":\"geo\",\"hovertemplate\":\"<b>%{hovertext}</b><br><br>year=1988<br>country=%{location}<br>currency_crises=%{customdata[0]}<br>inflation_crises=%{customdata[1]}<br>banking_crisis=%{customdata[2]}<br>systemic_crisis=%{z}<extra></extra>\",\"hovertext\":[\"Algeria\",\"Central African Republic\",\"Ivory Coast\",\"Egypt\",\"Kenya\",\"Mauritius\",\"Morocco\",\"Nigeria\",\"South Africa\",\"Tunisia\",\"Zambia\",\"Zimbabwe\"],\"locationmode\":\"country names\",\"locations\":[\"Algeria\",\"Central African Republic\",\"Ivory Coast\",\"Egypt\",\"Kenya\",\"Mauritius\",\"Morocco\",\"Nigeria\",\"South Africa\",\"Tunisia\",\"Zambia\",\"Zimbabwe\"],\"name\":\"\",\"type\":\"choropleth\",\"z\":[0,1,1,0,1,0,0,0,0,0,0,0]}],\"name\":\"1988\"},{\"data\":[{\"coloraxis\":\"coloraxis\",\"customdata\":[[1,0,\"no_crisis\"],[0,0,\"crisis\"],[0,0,\"crisis\"],[1,1,\"no_crisis\"],[1,0,\"no_crisis\"],[0,0,\"no_crisis\"],[0,0,\"no_crisis\"],[1,1,\"no_crisis\"],[0,0,\"crisis\"],[0,0,\"no_crisis\"],[1,1,\"no_crisis\"],[1,0,\"no_crisis\"]],\"geo\":\"geo\",\"hovertemplate\":\"<b>%{hovertext}</b><br><br>year=1989<br>country=%{location}<br>currency_crises=%{customdata[0]}<br>inflation_crises=%{customdata[1]}<br>banking_crisis=%{customdata[2]}<br>systemic_crisis=%{z}<extra></extra>\",\"hovertext\":[\"Algeria\",\"Central African Republic\",\"Ivory Coast\",\"Egypt\",\"Kenya\",\"Mauritius\",\"Morocco\",\"Nigeria\",\"South Africa\",\"Tunisia\",\"Zambia\",\"Zimbabwe\"],\"locationmode\":\"country names\",\"locations\":[\"Algeria\",\"Central African Republic\",\"Ivory Coast\",\"Egypt\",\"Kenya\",\"Mauritius\",\"Morocco\",\"Nigeria\",\"South Africa\",\"Tunisia\",\"Zambia\",\"Zimbabwe\"],\"name\":\"\",\"type\":\"choropleth\",\"z\":[0,1,1,0,1,0,0,0,0,0,0,0]}],\"name\":\"1989\"},{\"data\":[{\"coloraxis\":\"coloraxis\",\"customdata\":[[1,0,\"crisis\"],[0,0,\"crisis\"],[0,0,\"crisis\"],[1,1,\"crisis\"],[0,0,\"no_crisis\"],[0,0,\"no_crisis\"],[0,0,\"no_crisis\"],[1,1,\"no_crisis\"],[0,0,\"no_crisis\"],[0,0,\"no_crisis\"],[1,1,\"no_crisis\"],[1,0,\"no_crisis\"]],\"geo\":\"geo\",\"hovertemplate\":\"<b>%{hovertext}</b><br><br>year=1990<br>country=%{location}<br>currency_crises=%{customdata[0]}<br>inflation_crises=%{customdata[1]}<br>banking_crisis=%{customdata[2]}<br>systemic_crisis=%{z}<extra></extra>\",\"hovertext\":[\"Algeria\",\"Central African Republic\",\"Ivory Coast\",\"Egypt\",\"Kenya\",\"Mauritius\",\"Morocco\",\"Nigeria\",\"South Africa\",\"Tunisia\",\"Zambia\",\"Zimbabwe\"],\"locationmode\":\"country names\",\"locations\":[\"Algeria\",\"Central African Republic\",\"Ivory Coast\",\"Egypt\",\"Kenya\",\"Mauritius\",\"Morocco\",\"Nigeria\",\"South Africa\",\"Tunisia\",\"Zambia\",\"Zimbabwe\"],\"name\":\"\",\"type\":\"choropleth\",\"z\":[1,1,1,0,0,0,0,0,0,0,0,0]}],\"name\":\"1990\"},{\"data\":[{\"coloraxis\":\"coloraxis\",\"customdata\":[[1,1,\"crisis\"],[1,1,\"no_crisis\"],[0,0,\"crisis\"],[0,0,\"crisis\"],[1,0,\"crisis\"],[1,0,\"no_crisis\"],[0,0,\"no_crisis\"],[0,0,\"no_crisis\"],[0,0,\"no_crisis\"],[0,0,\"crisis\"],[1,1,\"no_crisis\"],[1,1,\"no_crisis\"]],\"geo\":\"geo\",\"hovertemplate\":\"<b>%{hovertext}</b><br><br>year=1991<br>country=%{location}<br>currency_crises=%{customdata[0]}<br>inflation_crises=%{customdata[1]}<br>banking_crisis=%{customdata[2]}<br>systemic_crisis=%{z}<extra></extra>\",\"hovertext\":[\"Algeria\",\"Angola\",\"Central African Republic\",\"Ivory Coast\",\"Egypt\",\"Kenya\",\"Mauritius\",\"Morocco\",\"South Africa\",\"Tunisia\",\"Zambia\",\"Zimbabwe\"],\"locationmode\":\"country names\",\"locations\":[\"Algeria\",\"Angola\",\"Central African Republic\",\"Ivory Coast\",\"Egypt\",\"Kenya\",\"Mauritius\",\"Morocco\",\"South Africa\",\"Tunisia\",\"Zambia\",\"Zimbabwe\"],\"name\":\"\",\"type\":\"choropleth\",\"z\":[1,0,1,1,0,0,0,0,0,1,0,0]}],\"name\":\"1991\"},{\"data\":[{\"coloraxis\":\"coloraxis\",\"customdata\":[[0,1,\"crisis\"],[1,1,\"crisis\"],[0,0,\"crisis\"],[0,0,\"no_crisis\"],[0,1,\"crisis\"],[1,1,\"crisis\"],[0,0,\"no_crisis\"],[0,0,\"no_crisis\"],[1,0,\"crisis\"],[0,0,\"no_crisis\"],[0,0,\"crisis\"],[1,1,\"no_crisis\"],[0,1,\"no_crisis\"]],\"geo\":\"geo\",\"hovertemplate\":\"<b>%{hovertext}</b><br><br>year=1992<br>country=%{location}<br>currency_crises=%{customdata[0]}<br>inflation_crises=%{customdata[1]}<br>banking_crisis=%{customdata[2]}<br>systemic_crisis=%{z}<extra></extra>\",\"hovertext\":[\"Algeria\",\"Angola\",\"Central African Republic\",\"Ivory Coast\",\"Egypt\",\"Kenya\",\"Mauritius\",\"Morocco\",\"Nigeria\",\"South Africa\",\"Tunisia\",\"Zambia\",\"Zimbabwe\"],\"locationmode\":\"country names\",\"locations\":[\"Algeria\",\"Angola\",\"Central African Republic\",\"Ivory Coast\",\"Egypt\",\"Kenya\",\"Mauritius\",\"Morocco\",\"Nigeria\",\"South Africa\",\"Tunisia\",\"Zambia\",\"Zimbabwe\"],\"name\":\"\",\"type\":\"choropleth\",\"z\":[1,0,1,0,0,1,0,0,1,0,1,0,0]}],\"name\":\"1992\"},{\"data\":[{\"coloraxis\":\"coloraxis\",\"customdata\":[[0,1,\"no_crisis\"],[1,1,\"crisis\"],[0,0,\"crisis\"],[0,0,\"no_crisis\"],[0,0,\"crisis\"],[1,1,\"crisis\"],[0,0,\"no_crisis\"],[0,0,\"no_crisis\"],[0,1,\"crisis\"],[0,0,\"no_crisis\"],[0,0,\"crisis\"],[1,1,\"no_crisis\"],[1,1,\"no_crisis\"]],\"geo\":\"geo\",\"hovertemplate\":\"<b>%{hovertext}</b><br><br>year=1993<br>country=%{location}<br>currency_crises=%{customdata[0]}<br>inflation_crises=%{customdata[1]}<br>banking_crisis=%{customdata[2]}<br>systemic_crisis=%{z}<extra></extra>\",\"hovertext\":[\"Algeria\",\"Angola\",\"Central African Republic\",\"Ivory Coast\",\"Egypt\",\"Kenya\",\"Mauritius\",\"Morocco\",\"Nigeria\",\"South Africa\",\"Tunisia\",\"Zambia\",\"Zimbabwe\"],\"locationmode\":\"country names\",\"locations\":[\"Algeria\",\"Angola\",\"Central African Republic\",\"Ivory Coast\",\"Egypt\",\"Kenya\",\"Mauritius\",\"Morocco\",\"Nigeria\",\"South Africa\",\"Tunisia\",\"Zambia\",\"Zimbabwe\"],\"name\":\"\",\"type\":\"choropleth\",\"z\":[0,0,1,0,0,1,0,0,1,0,1,0,0]}],\"name\":\"1993\"},{\"data\":[{\"coloraxis\":\"coloraxis\",\"customdata\":[[1,1,\"no_crisis\"],[1,1,\"crisis\"],[1,1,\"crisis\"],[1,1,\"no_crisis\"],[0,0,\"crisis\"],[0,1,\"crisis\"],[0,0,\"no_crisis\"],[0,0,\"no_crisis\"],[0,1,\"crisis\"],[0,0,\"no_crisis\"],[0,0,\"crisis\"],[1,1,\"no_crisis\"],[1,1,\"no_crisis\"]],\"geo\":\"geo\",\"hovertemplate\":\"<b>%{hovertext}</b><br><br>year=1994<br>country=%{location}<br>currency_crises=%{customdata[0]}<br>inflation_crises=%{customdata[1]}<br>banking_crisis=%{customdata[2]}<br>systemic_crisis=%{z}<extra></extra>\",\"hovertext\":[\"Algeria\",\"Angola\",\"Central African Republic\",\"Ivory Coast\",\"Egypt\",\"Kenya\",\"Mauritius\",\"Morocco\",\"Nigeria\",\"South Africa\",\"Tunisia\",\"Zambia\",\"Zimbabwe\"],\"locationmode\":\"country names\",\"locations\":[\"Algeria\",\"Angola\",\"Central African Republic\",\"Ivory Coast\",\"Egypt\",\"Kenya\",\"Mauritius\",\"Morocco\",\"Nigeria\",\"South Africa\",\"Tunisia\",\"Zambia\",\"Zimbabwe\"],\"name\":\"\",\"type\":\"choropleth\",\"z\":[0,0,1,0,0,1,0,0,1,0,1,0,0]}],\"name\":\"1994\"},{\"data\":[{\"coloraxis\":\"coloraxis\",\"customdata\":[[1,1,\"no_crisis\"],[1,1,\"crisis\"],[0,0,\"crisis\"],[0,0,\"no_crisis\"],[0,0,\"crisis\"],[0,0,\"crisis\"],[0,0,\"no_crisis\"],[0,0,\"no_crisis\"],[0,1,\"crisis\"],[0,0,\"no_crisis\"],[0,0,\"crisis\"],[1,1,\"crisis\"],[0,1,\"crisis\"]],\"geo\":\"geo\",\"hovertemplate\":\"<b>%{hovertext}</b><br><br>year=1995<br>country=%{location}<br>currency_crises=%{customdata[0]}<br>inflation_crises=%{customdata[1]}<br>banking_crisis=%{customdata[2]}<br>systemic_crisis=%{z}<extra></extra>\",\"hovertext\":[\"Algeria\",\"Angola\",\"Central African Republic\",\"Ivory Coast\",\"Egypt\",\"Kenya\",\"Mauritius\",\"Morocco\",\"Nigeria\",\"South Africa\",\"Tunisia\",\"Zambia\",\"Zimbabwe\"],\"locationmode\":\"country names\",\"locations\":[\"Algeria\",\"Angola\",\"Central African Republic\",\"Ivory Coast\",\"Egypt\",\"Kenya\",\"Mauritius\",\"Morocco\",\"Nigeria\",\"South Africa\",\"Tunisia\",\"Zambia\",\"Zimbabwe\"],\"name\":\"\",\"type\":\"choropleth\",\"z\":[0,0,1,0,0,1,0,0,1,0,1,1,1]}],\"name\":\"1995\"},{\"data\":[{\"coloraxis\":\"coloraxis\",\"customdata\":[[0,0,\"no_crisis\"],[1,1,\"crisis\"],[0,0,\"crisis\"],[0,0,\"no_crisis\"],[0,0,\"no_crisis\"],[0,0,\"no_crisis\"],[0,0,\"crisis\"],[0,0,\"no_crisis\"],[0,1,\"no_crisis\"],[1,0,\"no_crisis\"],[0,0,\"no_crisis\"],[1,1,\"crisis\"],[1,0,\"crisis\"]],\"geo\":\"geo\",\"hovertemplate\":\"<b>%{hovertext}</b><br><br>year=1996<br>country=%{location}<br>currency_crises=%{customdata[0]}<br>inflation_crises=%{customdata[1]}<br>banking_crisis=%{customdata[2]}<br>systemic_crisis=%{z}<extra></extra>\",\"hovertext\":[\"Algeria\",\"Angola\",\"Central African Republic\",\"Ivory Coast\",\"Egypt\",\"Kenya\",\"Mauritius\",\"Morocco\",\"Nigeria\",\"South Africa\",\"Tunisia\",\"Zambia\",\"Zimbabwe\"],\"locationmode\":\"country names\",\"locations\":[\"Algeria\",\"Angola\",\"Central African Republic\",\"Ivory Coast\",\"Egypt\",\"Kenya\",\"Mauritius\",\"Morocco\",\"Nigeria\",\"South Africa\",\"Tunisia\",\"Zambia\",\"Zimbabwe\"],\"name\":\"\",\"type\":\"choropleth\",\"z\":[0,0,1,0,0,1,0,0,0,0,0,1,1]}],\"name\":\"1996\"},{\"data\":[{\"coloraxis\":\"coloraxis\",\"customdata\":[[0,0,\"no_crisis\"],[1,1,\"crisis\"],[0,0,\"crisis\"],[0,0,\"no_crisis\"],[0,0,\"no_crisis\"],[0,0,\"no_crisis\"],[1,0,\"no_crisis\"],[0,0,\"no_crisis\"],[0,1,\"crisis\"],[0,0,\"no_crisis\"],[0,0,\"no_crisis\"],[0,1,\"crisis\"],[1,1,\"crisis\"]],\"geo\":\"geo\",\"hovertemplate\":\"<b>%{hovertext}</b><br><br>year=1997<br>country=%{location}<br>currency_crises=%{customdata[0]}<br>inflation_crises=%{customdata[1]}<br>banking_crisis=%{customdata[2]}<br>systemic_crisis=%{z}<extra></extra>\",\"hovertext\":[\"Algeria\",\"Angola\",\"Central African Republic\",\"Ivory Coast\",\"Egypt\",\"Kenya\",\"Mauritius\",\"Morocco\",\"Nigeria\",\"South Africa\",\"Tunisia\",\"Zambia\",\"Zimbabwe\"],\"locationmode\":\"country names\",\"locations\":[\"Algeria\",\"Angola\",\"Central African Republic\",\"Ivory Coast\",\"Egypt\",\"Kenya\",\"Mauritius\",\"Morocco\",\"Nigeria\",\"South Africa\",\"Tunisia\",\"Zambia\",\"Zimbabwe\"],\"name\":\"\",\"type\":\"choropleth\",\"z\":[0,0,1,0,0,1,0,0,0,0,0,1,1]}],\"name\":\"1997\"},{\"data\":[{\"coloraxis\":\"coloraxis\",\"customdata\":[[0,0,\"no_crisis\"],[1,1,\"crisis\"],[0,0,\"crisis\"],[0,0,\"no_crisis\"],[0,0,\"no_crisis\"],[0,0,\"no_crisis\"],[0,0,\"no_crisis\"],[0,0,\"no_crisis\"],[0,0,\"no_crisis\"],[1,0,\"no_crisis\"],[0,0,\"no_crisis\"],[1,1,\"crisis\"],[1,1,\"crisis\"]],\"geo\":\"geo\",\"hovertemplate\":\"<b>%{hovertext}</b><br><br>year=1998<br>country=%{location}<br>currency_crises=%{customdata[0]}<br>inflation_crises=%{customdata[1]}<br>banking_crisis=%{customdata[2]}<br>systemic_crisis=%{z}<extra></extra>\",\"hovertext\":[\"Algeria\",\"Angola\",\"Central African Republic\",\"Ivory Coast\",\"Egypt\",\"Kenya\",\"Mauritius\",\"Morocco\",\"Nigeria\",\"South Africa\",\"Tunisia\",\"Zambia\",\"Zimbabwe\"],\"locationmode\":\"country names\",\"locations\":[\"Algeria\",\"Angola\",\"Central African Republic\",\"Ivory Coast\",\"Egypt\",\"Kenya\",\"Mauritius\",\"Morocco\",\"Nigeria\",\"South Africa\",\"Tunisia\",\"Zambia\",\"Zimbabwe\"],\"name\":\"\",\"type\":\"choropleth\",\"z\":[0,0,1,0,0,1,0,0,0,0,0,1,1]}],\"name\":\"1998\"},{\"data\":[{\"coloraxis\":\"coloraxis\",\"customdata\":[[0,0,\"no_crisis\"],[1,1,\"no_crisis\"],[0,0,\"crisis\"],[0,0,\"no_crisis\"],[0,0,\"no_crisis\"],[1,0,\"no_crisis\"],[0,0,\"no_crisis\"],[0,0,\"no_crisis\"],[1,0,\"no_crisis\"],[0,0,\"no_crisis\"],[0,0,\"no_crisis\"],[0,1,\"no_crisis\"],[0,1,\"crisis\"]],\"geo\":\"geo\",\"hovertemplate\":\"<b>%{hovertext}</b><br><br>year=1999<br>country=%{location}<br>currency_crises=%{customdata[0]}<br>inflation_crises=%{customdata[1]}<br>banking_crisis=%{customdata[2]}<br>systemic_crisis=%{z}<extra></extra>\",\"hovertext\":[\"Algeria\",\"Angola\",\"Central African Republic\",\"Ivory Coast\",\"Egypt\",\"Kenya\",\"Mauritius\",\"Morocco\",\"Nigeria\",\"South Africa\",\"Tunisia\",\"Zambia\",\"Zimbabwe\"],\"locationmode\":\"country names\",\"locations\":[\"Algeria\",\"Angola\",\"Central African Republic\",\"Ivory Coast\",\"Egypt\",\"Kenya\",\"Mauritius\",\"Morocco\",\"Nigeria\",\"South Africa\",\"Tunisia\",\"Zambia\",\"Zimbabwe\"],\"name\":\"\",\"type\":\"choropleth\",\"z\":[0,0,1,0,0,1,0,0,0,0,0,0,1]}],\"name\":\"1999\"},{\"data\":[{\"coloraxis\":\"coloraxis\",\"customdata\":[[0,0,\"no_crisis\"],[1,1,\"no_crisis\"],[0,0,\"no_crisis\"],[0,0,\"no_crisis\"],[0,0,\"no_crisis\"],[0,0,\"no_crisis\"],[0,0,\"no_crisis\"],[0,0,\"no_crisis\"],[0,0,\"no_crisis\"],[1,0,\"no_crisis\"],[0,0,\"no_crisis\"],[1,1,\"no_crisis\"],[1,1,\"crisis\"]],\"geo\":\"geo\",\"hovertemplate\":\"<b>%{hovertext}</b><br><br>year=2000<br>country=%{location}<br>currency_crises=%{customdata[0]}<br>inflation_crises=%{customdata[1]}<br>banking_crisis=%{customdata[2]}<br>systemic_crisis=%{z}<extra></extra>\",\"hovertext\":[\"Algeria\",\"Angola\",\"Central African Republic\",\"Ivory Coast\",\"Egypt\",\"Kenya\",\"Mauritius\",\"Morocco\",\"Nigeria\",\"South Africa\",\"Tunisia\",\"Zambia\",\"Zimbabwe\"],\"locationmode\":\"country names\",\"locations\":[\"Algeria\",\"Angola\",\"Central African Republic\",\"Ivory Coast\",\"Egypt\",\"Kenya\",\"Mauritius\",\"Morocco\",\"Nigeria\",\"South Africa\",\"Tunisia\",\"Zambia\",\"Zimbabwe\"],\"name\":\"\",\"type\":\"choropleth\",\"z\":[0,0,0,0,0,0,0,0,0,0,0,0,1]}],\"name\":\"2000\"},{\"data\":[{\"coloraxis\":\"coloraxis\",\"customdata\":[[0,0,\"no_crisis\"],[1,1,\"no_crisis\"],[0,0,\"no_crisis\"],[0,0,\"no_crisis\"],[1,0,\"no_crisis\"],[0,0,\"no_crisis\"],[0,0,\"no_crisis\"],[0,0,\"no_crisis\"],[0,0,\"no_crisis\"],[1,0,\"no_crisis\"],[0,0,\"no_crisis\"],[0,1,\"no_crisis\"],[0,1,\"crisis\"]],\"geo\":\"geo\",\"hovertemplate\":\"<b>%{hovertext}</b><br><br>year=2001<br>country=%{location}<br>currency_crises=%{customdata[0]}<br>inflation_crises=%{customdata[1]}<br>banking_crisis=%{customdata[2]}<br>systemic_crisis=%{z}<extra></extra>\",\"hovertext\":[\"Algeria\",\"Angola\",\"Central African Republic\",\"Ivory Coast\",\"Egypt\",\"Kenya\",\"Mauritius\",\"Morocco\",\"Nigeria\",\"South Africa\",\"Tunisia\",\"Zambia\",\"Zimbabwe\"],\"locationmode\":\"country names\",\"locations\":[\"Algeria\",\"Angola\",\"Central African Republic\",\"Ivory Coast\",\"Egypt\",\"Kenya\",\"Mauritius\",\"Morocco\",\"Nigeria\",\"South Africa\",\"Tunisia\",\"Zambia\",\"Zimbabwe\"],\"name\":\"\",\"type\":\"choropleth\",\"z\":[0,0,0,0,0,0,0,0,0,0,0,0,1]}],\"name\":\"2001\"},{\"data\":[{\"coloraxis\":\"coloraxis\",\"customdata\":[[0,0,\"no_crisis\"],[1,1,\"no_crisis\"],[0,0,\"no_crisis\"],[0,0,\"no_crisis\"],[0,0,\"no_crisis\"],[0,0,\"no_crisis\"],[0,0,\"no_crisis\"],[0,0,\"no_crisis\"],[0,0,\"no_crisis\"],[0,0,\"no_crisis\"],[0,0,\"no_crisis\"],[0,1,\"no_crisis\"],[0,1,\"crisis\"]],\"geo\":\"geo\",\"hovertemplate\":\"<b>%{hovertext}</b><br><br>year=2002<br>country=%{location}<br>currency_crises=%{customdata[0]}<br>inflation_crises=%{customdata[1]}<br>banking_crisis=%{customdata[2]}<br>systemic_crisis=%{z}<extra></extra>\",\"hovertext\":[\"Algeria\",\"Angola\",\"Central African Republic\",\"Ivory Coast\",\"Egypt\",\"Kenya\",\"Mauritius\",\"Morocco\",\"Nigeria\",\"South Africa\",\"Tunisia\",\"Zambia\",\"Zimbabwe\"],\"locationmode\":\"country names\",\"locations\":[\"Algeria\",\"Angola\",\"Central African Republic\",\"Ivory Coast\",\"Egypt\",\"Kenya\",\"Mauritius\",\"Morocco\",\"Nigeria\",\"South Africa\",\"Tunisia\",\"Zambia\",\"Zimbabwe\"],\"name\":\"\",\"type\":\"choropleth\",\"z\":[0,0,0,0,0,0,0,0,0,0,0,0,1]}],\"name\":\"2002\"},{\"data\":[{\"coloraxis\":\"coloraxis\",\"customdata\":[[0,0,\"no_crisis\"],[1,1,\"no_crisis\"],[0,0,\"no_crisis\"],[0,0,\"no_crisis\"],[1,0,\"no_crisis\"],[0,0,\"no_crisis\"],[0,0,\"no_crisis\"],[0,0,\"no_crisis\"],[0,0,\"no_crisis\"],[0,0,\"no_crisis\"],[0,0,\"no_crisis\"],[0,1,\"no_crisis\"],[1,1,\"crisis\"]],\"geo\":\"geo\",\"hovertemplate\":\"<b>%{hovertext}</b><br><br>year=2003<br>country=%{location}<br>currency_crises=%{customdata[0]}<br>inflation_crises=%{customdata[1]}<br>banking_crisis=%{customdata[2]}<br>systemic_crisis=%{z}<extra></extra>\",\"hovertext\":[\"Algeria\",\"Angola\",\"Central African Republic\",\"Ivory Coast\",\"Egypt\",\"Kenya\",\"Mauritius\",\"Morocco\",\"Nigeria\",\"South Africa\",\"Tunisia\",\"Zambia\",\"Zimbabwe\"],\"locationmode\":\"country names\",\"locations\":[\"Algeria\",\"Angola\",\"Central African Republic\",\"Ivory Coast\",\"Egypt\",\"Kenya\",\"Mauritius\",\"Morocco\",\"Nigeria\",\"South Africa\",\"Tunisia\",\"Zambia\",\"Zimbabwe\"],\"name\":\"\",\"type\":\"choropleth\",\"z\":[0,0,0,0,0,0,0,0,0,0,0,0,1]}],\"name\":\"2003\"},{\"data\":[{\"coloraxis\":\"coloraxis\",\"customdata\":[[0,0,\"no_crisis\"],[1,1,\"no_crisis\"],[0,0,\"no_crisis\"],[0,0,\"no_crisis\"],[0,0,\"no_crisis\"],[0,0,\"no_crisis\"],[0,0,\"no_crisis\"],[0,0,\"no_crisis\"],[0,0,\"no_crisis\"],[0,0,\"no_crisis\"],[0,0,\"no_crisis\"],[0,0,\"no_crisis\"],[1,1,\"crisis\"]],\"geo\":\"geo\",\"hovertemplate\":\"<b>%{hovertext}</b><br><br>year=2004<br>country=%{location}<br>currency_crises=%{customdata[0]}<br>inflation_crises=%{customdata[1]}<br>banking_crisis=%{customdata[2]}<br>systemic_crisis=%{z}<extra></extra>\",\"hovertext\":[\"Algeria\",\"Angola\",\"Central African Republic\",\"Ivory Coast\",\"Egypt\",\"Kenya\",\"Mauritius\",\"Morocco\",\"Nigeria\",\"South Africa\",\"Tunisia\",\"Zambia\",\"Zimbabwe\"],\"locationmode\":\"country names\",\"locations\":[\"Algeria\",\"Angola\",\"Central African Republic\",\"Ivory Coast\",\"Egypt\",\"Kenya\",\"Mauritius\",\"Morocco\",\"Nigeria\",\"South Africa\",\"Tunisia\",\"Zambia\",\"Zimbabwe\"],\"name\":\"\",\"type\":\"choropleth\",\"z\":[0,0,0,0,0,0,0,0,0,0,0,0,1]}],\"name\":\"2004\"},{\"data\":[{\"coloraxis\":\"coloraxis\",\"customdata\":[[0,0,\"no_crisis\"],[1,1,\"no_crisis\"],[0,0,\"no_crisis\"],[0,0,\"no_crisis\"],[0,0,\"no_crisis\"],[0,0,\"no_crisis\"],[0,0,\"no_crisis\"],[0,0,\"no_crisis\"],[0,0,\"no_crisis\"],[0,0,\"no_crisis\"],[0,0,\"no_crisis\"],[0,0,\"no_crisis\"],[1,1,\"crisis\"]],\"geo\":\"geo\",\"hovertemplate\":\"<b>%{hovertext}</b><br><br>year=2005<br>country=%{location}<br>currency_crises=%{customdata[0]}<br>inflation_crises=%{customdata[1]}<br>banking_crisis=%{customdata[2]}<br>systemic_crisis=%{z}<extra></extra>\",\"hovertext\":[\"Algeria\",\"Angola\",\"Central African Republic\",\"Ivory Coast\",\"Egypt\",\"Kenya\",\"Mauritius\",\"Morocco\",\"Nigeria\",\"South Africa\",\"Tunisia\",\"Zambia\",\"Zimbabwe\"],\"locationmode\":\"country names\",\"locations\":[\"Algeria\",\"Angola\",\"Central African Republic\",\"Ivory Coast\",\"Egypt\",\"Kenya\",\"Mauritius\",\"Morocco\",\"Nigeria\",\"South Africa\",\"Tunisia\",\"Zambia\",\"Zimbabwe\"],\"name\":\"\",\"type\":\"choropleth\",\"z\":[0,0,0,0,0,0,0,0,0,0,0,0,1]}],\"name\":\"2005\"},{\"data\":[{\"coloraxis\":\"coloraxis\",\"customdata\":[[0,0,\"no_crisis\"],[0,0,\"no_crisis\"],[0,0,\"no_crisis\"],[0,0,\"no_crisis\"],[0,0,\"no_crisis\"],[0,0,\"no_crisis\"],[0,0,\"no_crisis\"],[0,0,\"no_crisis\"],[0,0,\"no_crisis\"],[0,0,\"no_crisis\"],[0,0,\"no_crisis\"],[0,0,\"no_crisis\"],[1,1,\"crisis\"]],\"geo\":\"geo\",\"hovertemplate\":\"<b>%{hovertext}</b><br><br>year=2006<br>country=%{location}<br>currency_crises=%{customdata[0]}<br>inflation_crises=%{customdata[1]}<br>banking_crisis=%{customdata[2]}<br>systemic_crisis=%{z}<extra></extra>\",\"hovertext\":[\"Algeria\",\"Angola\",\"Central African Republic\",\"Ivory Coast\",\"Egypt\",\"Kenya\",\"Mauritius\",\"Morocco\",\"Nigeria\",\"South Africa\",\"Tunisia\",\"Zambia\",\"Zimbabwe\"],\"locationmode\":\"country names\",\"locations\":[\"Algeria\",\"Angola\",\"Central African Republic\",\"Ivory Coast\",\"Egypt\",\"Kenya\",\"Mauritius\",\"Morocco\",\"Nigeria\",\"South Africa\",\"Tunisia\",\"Zambia\",\"Zimbabwe\"],\"name\":\"\",\"type\":\"choropleth\",\"z\":[0,0,0,0,0,0,0,0,0,0,0,0,1]}],\"name\":\"2006\"},{\"data\":[{\"coloraxis\":\"coloraxis\",\"customdata\":[[0,0,\"no_crisis\"],[0,0,\"no_crisis\"],[0,0,\"no_crisis\"],[0,0,\"no_crisis\"],[0,0,\"no_crisis\"],[0,0,\"no_crisis\"],[0,0,\"no_crisis\"],[0,0,\"no_crisis\"],[0,0,\"no_crisis\"],[0,0,\"no_crisis\"],[0,0,\"no_crisis\"],[0,0,\"no_crisis\"],[1,1,\"crisis\"]],\"geo\":\"geo\",\"hovertemplate\":\"<b>%{hovertext}</b><br><br>year=2007<br>country=%{location}<br>currency_crises=%{customdata[0]}<br>inflation_crises=%{customdata[1]}<br>banking_crisis=%{customdata[2]}<br>systemic_crisis=%{z}<extra></extra>\",\"hovertext\":[\"Algeria\",\"Angola\",\"Central African Republic\",\"Ivory Coast\",\"Egypt\",\"Kenya\",\"Mauritius\",\"Morocco\",\"Nigeria\",\"South Africa\",\"Tunisia\",\"Zambia\",\"Zimbabwe\"],\"locationmode\":\"country names\",\"locations\":[\"Algeria\",\"Angola\",\"Central African Republic\",\"Ivory Coast\",\"Egypt\",\"Kenya\",\"Mauritius\",\"Morocco\",\"Nigeria\",\"South Africa\",\"Tunisia\",\"Zambia\",\"Zimbabwe\"],\"name\":\"\",\"type\":\"choropleth\",\"z\":[0,0,0,0,0,0,0,0,0,0,0,0,1]}],\"name\":\"2007\"},{\"data\":[{\"coloraxis\":\"coloraxis\",\"customdata\":[[0,0,\"no_crisis\"],[0,0,\"no_crisis\"],[0,0,\"no_crisis\"],[0,0,\"no_crisis\"],[0,0,\"no_crisis\"],[1,0,\"no_crisis\"],[0,0,\"no_crisis\"],[0,0,\"no_crisis\"],[0,0,\"no_crisis\"],[1,0,\"no_crisis\"],[0,0,\"no_crisis\"],[1,0,\"no_crisis\"],[1,1,\"crisis\"]],\"geo\":\"geo\",\"hovertemplate\":\"<b>%{hovertext}</b><br><br>year=2008<br>country=%{location}<br>currency_crises=%{customdata[0]}<br>inflation_crises=%{customdata[1]}<br>banking_crisis=%{customdata[2]}<br>systemic_crisis=%{z}<extra></extra>\",\"hovertext\":[\"Algeria\",\"Angola\",\"Central African Republic\",\"Ivory Coast\",\"Egypt\",\"Kenya\",\"Mauritius\",\"Morocco\",\"Nigeria\",\"South Africa\",\"Tunisia\",\"Zambia\",\"Zimbabwe\"],\"locationmode\":\"country names\",\"locations\":[\"Algeria\",\"Angola\",\"Central African Republic\",\"Ivory Coast\",\"Egypt\",\"Kenya\",\"Mauritius\",\"Morocco\",\"Nigeria\",\"South Africa\",\"Tunisia\",\"Zambia\",\"Zimbabwe\"],\"name\":\"\",\"type\":\"choropleth\",\"z\":[0,0,0,0,0,0,0,0,0,0,0,0,1]}],\"name\":\"2008\"},{\"data\":[{\"coloraxis\":\"coloraxis\",\"customdata\":[[0,0,\"no_crisis\"],[1,0,\"no_crisis\"],[0,0,\"no_crisis\"],[0,0,\"no_crisis\"],[0,0,\"no_crisis\"],[0,0,\"no_crisis\"],[0,0,\"no_crisis\"],[0,0,\"no_crisis\"],[0,0,\"crisis\"],[0,0,\"no_crisis\"],[0,0,\"no_crisis\"],[0,0,\"no_crisis\"],[1,0,\"crisis\"]],\"geo\":\"geo\",\"hovertemplate\":\"<b>%{hovertext}</b><br><br>year=2009<br>country=%{location}<br>currency_crises=%{customdata[0]}<br>inflation_crises=%{customdata[1]}<br>banking_crisis=%{customdata[2]}<br>systemic_crisis=%{z}<extra></extra>\",\"hovertext\":[\"Algeria\",\"Angola\",\"Central African Republic\",\"Ivory Coast\",\"Egypt\",\"Kenya\",\"Mauritius\",\"Morocco\",\"Nigeria\",\"South Africa\",\"Tunisia\",\"Zambia\",\"Zimbabwe\"],\"locationmode\":\"country names\",\"locations\":[\"Algeria\",\"Angola\",\"Central African Republic\",\"Ivory Coast\",\"Egypt\",\"Kenya\",\"Mauritius\",\"Morocco\",\"Nigeria\",\"South Africa\",\"Tunisia\",\"Zambia\",\"Zimbabwe\"],\"name\":\"\",\"type\":\"choropleth\",\"z\":[0,0,0,0,0,0,0,0,1,0,0,0,1]}],\"name\":\"2009\"},{\"data\":[{\"coloraxis\":\"coloraxis\",\"customdata\":[[0,0,\"no_crisis\"],[0,0,\"no_crisis\"],[0,0,\"no_crisis\"],[0,0,\"no_crisis\"],[0,0,\"no_crisis\"],[0,0,\"no_crisis\"],[0,0,\"no_crisis\"],[0,0,\"no_crisis\"],[0,0,\"crisis\"],[0,0,\"no_crisis\"],[0,0,\"no_crisis\"],[0,0,\"no_crisis\"],[0,0,\"no_crisis\"]],\"geo\":\"geo\",\"hovertemplate\":\"<b>%{hovertext}</b><br><br>year=2010<br>country=%{location}<br>currency_crises=%{customdata[0]}<br>inflation_crises=%{customdata[1]}<br>banking_crisis=%{customdata[2]}<br>systemic_crisis=%{z}<extra></extra>\",\"hovertext\":[\"Algeria\",\"Angola\",\"Central African Republic\",\"Ivory Coast\",\"Egypt\",\"Kenya\",\"Mauritius\",\"Morocco\",\"Nigeria\",\"South Africa\",\"Tunisia\",\"Zambia\",\"Zimbabwe\"],\"locationmode\":\"country names\",\"locations\":[\"Algeria\",\"Angola\",\"Central African Republic\",\"Ivory Coast\",\"Egypt\",\"Kenya\",\"Mauritius\",\"Morocco\",\"Nigeria\",\"South Africa\",\"Tunisia\",\"Zambia\",\"Zimbabwe\"],\"name\":\"\",\"type\":\"choropleth\",\"z\":[0,0,0,0,0,0,0,0,1,0,0,0,0]}],\"name\":\"2010\"},{\"data\":[{\"coloraxis\":\"coloraxis\",\"customdata\":[[0,0,\"no_crisis\"],[0,0,\"no_crisis\"],[0,0,\"no_crisis\"],[0,0,\"no_crisis\"],[0,0,\"no_crisis\"],[0,0,\"no_crisis\"],[0,0,\"no_crisis\"],[0,0,\"no_crisis\"],[0,0,\"crisis\"],[1,0,\"no_crisis\"],[0,0,\"no_crisis\"],[0,0,\"no_crisis\"],[0,0,\"no_crisis\"]],\"geo\":\"geo\",\"hovertemplate\":\"<b>%{hovertext}</b><br><br>year=2011<br>country=%{location}<br>currency_crises=%{customdata[0]}<br>inflation_crises=%{customdata[1]}<br>banking_crisis=%{customdata[2]}<br>systemic_crisis=%{z}<extra></extra>\",\"hovertext\":[\"Algeria\",\"Angola\",\"Central African Republic\",\"Ivory Coast\",\"Egypt\",\"Kenya\",\"Mauritius\",\"Morocco\",\"Nigeria\",\"South Africa\",\"Tunisia\",\"Zambia\",\"Zimbabwe\"],\"locationmode\":\"country names\",\"locations\":[\"Algeria\",\"Angola\",\"Central African Republic\",\"Ivory Coast\",\"Egypt\",\"Kenya\",\"Mauritius\",\"Morocco\",\"Nigeria\",\"South Africa\",\"Tunisia\",\"Zambia\",\"Zimbabwe\"],\"name\":\"\",\"type\":\"choropleth\",\"z\":[0,0,0,0,0,0,0,0,1,0,0,0,0]}],\"name\":\"2011\"},{\"data\":[{\"coloraxis\":\"coloraxis\",\"customdata\":[[0,0,\"no_crisis\"],[0,0,\"no_crisis\"],[0,0,\"no_crisis\"],[0,0,\"no_crisis\"],[0,0,\"no_crisis\"],[0,0,\"no_crisis\"],[0,0,\"no_crisis\"],[0,0,\"no_crisis\"],[0,0,\"crisis\"],[0,0,\"no_crisis\"],[0,0,\"no_crisis\"],[0,0,\"no_crisis\"],[0,0,\"no_crisis\"]],\"geo\":\"geo\",\"hovertemplate\":\"<b>%{hovertext}</b><br><br>year=2012<br>country=%{location}<br>currency_crises=%{customdata[0]}<br>inflation_crises=%{customdata[1]}<br>banking_crisis=%{customdata[2]}<br>systemic_crisis=%{z}<extra></extra>\",\"hovertext\":[\"Algeria\",\"Angola\",\"Central African Republic\",\"Ivory Coast\",\"Egypt\",\"Kenya\",\"Mauritius\",\"Morocco\",\"Nigeria\",\"South Africa\",\"Tunisia\",\"Zambia\",\"Zimbabwe\"],\"locationmode\":\"country names\",\"locations\":[\"Algeria\",\"Angola\",\"Central African Republic\",\"Ivory Coast\",\"Egypt\",\"Kenya\",\"Mauritius\",\"Morocco\",\"Nigeria\",\"South Africa\",\"Tunisia\",\"Zambia\",\"Zimbabwe\"],\"name\":\"\",\"type\":\"choropleth\",\"z\":[0,0,0,0,0,0,0,0,1,0,0,0,0]}],\"name\":\"2012\"},{\"data\":[{\"coloraxis\":\"coloraxis\",\"customdata\":[[0,0,\"no_crisis\"],[0,0,\"no_crisis\"],[0,0,\"no_crisis\"],[0,0,\"no_crisis\"],[0,0,\"no_crisis\"],[0,0,\"no_crisis\"],[0,0,\"no_crisis\"],[0,0,\"no_crisis\"],[0,0,\"crisis\"],[1,0,\"no_crisis\"],[0,0,\"no_crisis\"],[1,0,\"no_crisis\"],[0,0,\"no_crisis\"]],\"geo\":\"geo\",\"hovertemplate\":\"<b>%{hovertext}</b><br><br>year=2013<br>country=%{location}<br>currency_crises=%{customdata[0]}<br>inflation_crises=%{customdata[1]}<br>banking_crisis=%{customdata[2]}<br>systemic_crisis=%{z}<extra></extra>\",\"hovertext\":[\"Algeria\",\"Angola\",\"Central African Republic\",\"Ivory Coast\",\"Egypt\",\"Kenya\",\"Mauritius\",\"Morocco\",\"Nigeria\",\"South Africa\",\"Tunisia\",\"Zambia\",\"Zimbabwe\"],\"locationmode\":\"country names\",\"locations\":[\"Algeria\",\"Angola\",\"Central African Republic\",\"Ivory Coast\",\"Egypt\",\"Kenya\",\"Mauritius\",\"Morocco\",\"Nigeria\",\"South Africa\",\"Tunisia\",\"Zambia\",\"Zimbabwe\"],\"name\":\"\",\"type\":\"choropleth\",\"z\":[0,0,0,0,0,0,0,0,1,0,0,0,0]}],\"name\":\"2013\"},{\"data\":[{\"coloraxis\":\"coloraxis\",\"customdata\":[[0,0,\"no_crisis\"],[0,0,\"no_crisis\"],[0,0,\"no_crisis\"],[0,0,\"no_crisis\"],[0,0,\"no_crisis\"],[0,0,\"no_crisis\"],[0,0,\"no_crisis\"],[0,0,\"no_crisis\"],[0,0,\"crisis\"],[0,0,\"no_crisis\"],[0,0,\"no_crisis\"]],\"geo\":\"geo\",\"hovertemplate\":\"<b>%{hovertext}</b><br><br>year=2014<br>country=%{location}<br>currency_crises=%{customdata[0]}<br>inflation_crises=%{customdata[1]}<br>banking_crisis=%{customdata[2]}<br>systemic_crisis=%{z}<extra></extra>\",\"hovertext\":[\"Algeria\",\"Angola\",\"Central African Republic\",\"Ivory Coast\",\"Egypt\",\"Kenya\",\"Mauritius\",\"Morocco\",\"Nigeria\",\"Tunisia\",\"Zambia\"],\"locationmode\":\"country names\",\"locations\":[\"Algeria\",\"Angola\",\"Central African Republic\",\"Ivory Coast\",\"Egypt\",\"Kenya\",\"Mauritius\",\"Morocco\",\"Nigeria\",\"Tunisia\",\"Zambia\"],\"name\":\"\",\"type\":\"choropleth\",\"z\":[0,0,0,0,0,0,0,0,1,0,0]}],\"name\":\"2014\"},{\"data\":[{\"coloraxis\":\"coloraxis\",\"customdata\":[[0,1,\"no_crisis\"],[0,0,\"no_crisis\"],[0,0,\"no_crisis\"],[0,0,\"no_crisis\"]],\"geo\":\"geo\",\"hovertemplate\":\"<b>%{hovertext}</b><br><br>year=1921<br>country=%{location}<br>currency_crises=%{customdata[0]}<br>inflation_crises=%{customdata[1]}<br>banking_crisis=%{customdata[2]}<br>systemic_crisis=%{z}<extra></extra>\",\"hovertext\":[\"Angola\",\"Egypt\",\"South Africa\",\"Zimbabwe\"],\"locationmode\":\"country names\",\"locations\":[\"Angola\",\"Egypt\",\"South Africa\",\"Zimbabwe\"],\"name\":\"\",\"type\":\"choropleth\",\"z\":[0,0,0,0]}],\"name\":\"1921\"},{\"data\":[{\"coloraxis\":\"coloraxis\",\"customdata\":[[0,1,\"no_crisis\"],[0,0,\"no_crisis\"],[0,0,\"no_crisis\"],[0,0,\"no_crisis\"]],\"geo\":\"geo\",\"hovertemplate\":\"<b>%{hovertext}</b><br><br>year=1922<br>country=%{location}<br>currency_crises=%{customdata[0]}<br>inflation_crises=%{customdata[1]}<br>banking_crisis=%{customdata[2]}<br>systemic_crisis=%{z}<extra></extra>\",\"hovertext\":[\"Angola\",\"Egypt\",\"South Africa\",\"Zimbabwe\"],\"locationmode\":\"country names\",\"locations\":[\"Angola\",\"Egypt\",\"South Africa\",\"Zimbabwe\"],\"name\":\"\",\"type\":\"choropleth\",\"z\":[0,0,0,0]}],\"name\":\"1922\"},{\"data\":[{\"coloraxis\":\"coloraxis\",\"customdata\":[[0,1,\"no_crisis\"],[0,0,\"no_crisis\"],[0,0,\"no_crisis\"],[0,0,\"no_crisis\"]],\"geo\":\"geo\",\"hovertemplate\":\"<b>%{hovertext}</b><br><br>year=1923<br>country=%{location}<br>currency_crises=%{customdata[0]}<br>inflation_crises=%{customdata[1]}<br>banking_crisis=%{customdata[2]}<br>systemic_crisis=%{z}<extra></extra>\",\"hovertext\":[\"Angola\",\"Egypt\",\"South Africa\",\"Zimbabwe\"],\"locationmode\":\"country names\",\"locations\":[\"Angola\",\"Egypt\",\"South Africa\",\"Zimbabwe\"],\"name\":\"\",\"type\":\"choropleth\",\"z\":[0,0,0,0]}],\"name\":\"1923\"},{\"data\":[{\"coloraxis\":\"coloraxis\",\"customdata\":[[0,1,\"no_crisis\"],[0,0,\"no_crisis\"],[0,0,\"no_crisis\"]],\"geo\":\"geo\",\"hovertemplate\":\"<b>%{hovertext}</b><br><br>year=1924<br>country=%{location}<br>currency_crises=%{customdata[0]}<br>inflation_crises=%{customdata[1]}<br>banking_crisis=%{customdata[2]}<br>systemic_crisis=%{z}<extra></extra>\",\"hovertext\":[\"Angola\",\"Egypt\",\"South Africa\"],\"locationmode\":\"country names\",\"locations\":[\"Angola\",\"Egypt\",\"South Africa\"],\"name\":\"\",\"type\":\"choropleth\",\"z\":[0,0,0]}],\"name\":\"1924\"},{\"data\":[{\"coloraxis\":\"coloraxis\",\"customdata\":[[0,0,\"no_crisis\"],[0,0,\"no_crisis\"],[0,0,\"no_crisis\"]],\"geo\":\"geo\",\"hovertemplate\":\"<b>%{hovertext}</b><br><br>year=1925<br>country=%{location}<br>currency_crises=%{customdata[0]}<br>inflation_crises=%{customdata[1]}<br>banking_crisis=%{customdata[2]}<br>systemic_crisis=%{z}<extra></extra>\",\"hovertext\":[\"Angola\",\"Egypt\",\"South Africa\"],\"locationmode\":\"country names\",\"locations\":[\"Angola\",\"Egypt\",\"South Africa\"],\"name\":\"\",\"type\":\"choropleth\",\"z\":[0,0,0]}],\"name\":\"1925\"},{\"data\":[{\"coloraxis\":\"coloraxis\",\"customdata\":[[0,0,\"no_crisis\"],[0,0,\"no_crisis\"],[0,0,\"no_crisis\"]],\"geo\":\"geo\",\"hovertemplate\":\"<b>%{hovertext}</b><br><br>year=1926<br>country=%{location}<br>currency_crises=%{customdata[0]}<br>inflation_crises=%{customdata[1]}<br>banking_crisis=%{customdata[2]}<br>systemic_crisis=%{z}<extra></extra>\",\"hovertext\":[\"Angola\",\"Egypt\",\"South Africa\"],\"locationmode\":\"country names\",\"locations\":[\"Angola\",\"Egypt\",\"South Africa\"],\"name\":\"\",\"type\":\"choropleth\",\"z\":[0,0,0]}],\"name\":\"1926\"},{\"data\":[{\"coloraxis\":\"coloraxis\",\"customdata\":[[0,0,\"no_crisis\"],[0,0,\"no_crisis\"],[0,0,\"no_crisis\"],[0,0,\"no_crisis\"]],\"geo\":\"geo\",\"hovertemplate\":\"<b>%{hovertext}</b><br><br>year=1927<br>country=%{location}<br>currency_crises=%{customdata[0]}<br>inflation_crises=%{customdata[1]}<br>banking_crisis=%{customdata[2]}<br>systemic_crisis=%{z}<extra></extra>\",\"hovertext\":[\"Angola\",\"Egypt\",\"South Africa\",\"Zimbabwe\"],\"locationmode\":\"country names\",\"locations\":[\"Angola\",\"Egypt\",\"South Africa\",\"Zimbabwe\"],\"name\":\"\",\"type\":\"choropleth\",\"z\":[0,0,0,0]}],\"name\":\"1927\"},{\"data\":[{\"coloraxis\":\"coloraxis\",\"customdata\":[[0,0,\"no_crisis\"],[0,0,\"no_crisis\"],[0,0,\"no_crisis\"],[0,0,\"no_crisis\"]],\"geo\":\"geo\",\"hovertemplate\":\"<b>%{hovertext}</b><br><br>year=1928<br>country=%{location}<br>currency_crises=%{customdata[0]}<br>inflation_crises=%{customdata[1]}<br>banking_crisis=%{customdata[2]}<br>systemic_crisis=%{z}<extra></extra>\",\"hovertext\":[\"Angola\",\"Egypt\",\"South Africa\",\"Zimbabwe\"],\"locationmode\":\"country names\",\"locations\":[\"Angola\",\"Egypt\",\"South Africa\",\"Zimbabwe\"],\"name\":\"\",\"type\":\"choropleth\",\"z\":[0,0,0,0]}],\"name\":\"1928\"},{\"data\":[{\"coloraxis\":\"coloraxis\",\"customdata\":[[0,0,\"no_crisis\"],[0,0,\"no_crisis\"],[0,0,\"no_crisis\"],[0,0,\"no_crisis\"]],\"geo\":\"geo\",\"hovertemplate\":\"<b>%{hovertext}</b><br><br>year=1929<br>country=%{location}<br>currency_crises=%{customdata[0]}<br>inflation_crises=%{customdata[1]}<br>banking_crisis=%{customdata[2]}<br>systemic_crisis=%{z}<extra></extra>\",\"hovertext\":[\"Angola\",\"Egypt\",\"South Africa\",\"Zimbabwe\"],\"locationmode\":\"country names\",\"locations\":[\"Angola\",\"Egypt\",\"South Africa\",\"Zimbabwe\"],\"name\":\"\",\"type\":\"choropleth\",\"z\":[0,0,0,0]}],\"name\":\"1929\"},{\"data\":[{\"coloraxis\":\"coloraxis\",\"customdata\":[[0,0,\"no_crisis\"],[0,0,\"no_crisis\"],[0,0,\"no_crisis\"],[0,0,\"no_crisis\"]],\"geo\":\"geo\",\"hovertemplate\":\"<b>%{hovertext}</b><br><br>year=1930<br>country=%{location}<br>currency_crises=%{customdata[0]}<br>inflation_crises=%{customdata[1]}<br>banking_crisis=%{customdata[2]}<br>systemic_crisis=%{z}<extra></extra>\",\"hovertext\":[\"Angola\",\"Egypt\",\"South Africa\",\"Zimbabwe\"],\"locationmode\":\"country names\",\"locations\":[\"Angola\",\"Egypt\",\"South Africa\",\"Zimbabwe\"],\"name\":\"\",\"type\":\"choropleth\",\"z\":[0,0,0,0]}],\"name\":\"1930\"},{\"data\":[{\"coloraxis\":\"coloraxis\",\"customdata\":[[0,0,\"no_crisis\"],[0,0,\"crisis\"],[0,0,\"no_crisis\"],[0,0,\"no_crisis\"]],\"geo\":\"geo\",\"hovertemplate\":\"<b>%{hovertext}</b><br><br>year=1931<br>country=%{location}<br>currency_crises=%{customdata[0]}<br>inflation_crises=%{customdata[1]}<br>banking_crisis=%{customdata[2]}<br>systemic_crisis=%{z}<extra></extra>\",\"hovertext\":[\"Angola\",\"Egypt\",\"South Africa\",\"Zimbabwe\"],\"locationmode\":\"country names\",\"locations\":[\"Angola\",\"Egypt\",\"South Africa\",\"Zimbabwe\"],\"name\":\"\",\"type\":\"choropleth\",\"z\":[0,1,0,0]}],\"name\":\"1931\"},{\"data\":[{\"coloraxis\":\"coloraxis\",\"customdata\":[[0,0,\"no_crisis\"],[0,0,\"no_crisis\"],[0,0,\"no_crisis\"],[0,0,\"no_crisis\"]],\"geo\":\"geo\",\"hovertemplate\":\"<b>%{hovertext}</b><br><br>year=1932<br>country=%{location}<br>currency_crises=%{customdata[0]}<br>inflation_crises=%{customdata[1]}<br>banking_crisis=%{customdata[2]}<br>systemic_crisis=%{z}<extra></extra>\",\"hovertext\":[\"Angola\",\"Egypt\",\"South Africa\",\"Zimbabwe\"],\"locationmode\":\"country names\",\"locations\":[\"Angola\",\"Egypt\",\"South Africa\",\"Zimbabwe\"],\"name\":\"\",\"type\":\"choropleth\",\"z\":[0,0,0,0]}],\"name\":\"1932\"},{\"data\":[{\"coloraxis\":\"coloraxis\",\"customdata\":[[0,0,\"no_crisis\"],[0,0,\"no_crisis\"],[1,0,\"no_crisis\"],[0,0,\"no_crisis\"]],\"geo\":\"geo\",\"hovertemplate\":\"<b>%{hovertext}</b><br><br>year=1933<br>country=%{location}<br>currency_crises=%{customdata[0]}<br>inflation_crises=%{customdata[1]}<br>banking_crisis=%{customdata[2]}<br>systemic_crisis=%{z}<extra></extra>\",\"hovertext\":[\"Angola\",\"Egypt\",\"South Africa\",\"Zimbabwe\"],\"locationmode\":\"country names\",\"locations\":[\"Angola\",\"Egypt\",\"South Africa\",\"Zimbabwe\"],\"name\":\"\",\"type\":\"choropleth\",\"z\":[0,0,0,0]}],\"name\":\"1933\"},{\"data\":[{\"coloraxis\":\"coloraxis\",\"customdata\":[[0,0,\"no_crisis\"],[0,1,\"no_crisis\"],[0,0,\"no_crisis\"],[0,0,\"no_crisis\"]],\"geo\":\"geo\",\"hovertemplate\":\"<b>%{hovertext}</b><br><br>year=1934<br>country=%{location}<br>currency_crises=%{customdata[0]}<br>inflation_crises=%{customdata[1]}<br>banking_crisis=%{customdata[2]}<br>systemic_crisis=%{z}<extra></extra>\",\"hovertext\":[\"Angola\",\"Egypt\",\"South Africa\",\"Zimbabwe\"],\"locationmode\":\"country names\",\"locations\":[\"Angola\",\"Egypt\",\"South Africa\",\"Zimbabwe\"],\"name\":\"\",\"type\":\"choropleth\",\"z\":[0,0,0,0]}],\"name\":\"1934\"},{\"data\":[{\"coloraxis\":\"coloraxis\",\"customdata\":[[0,0,\"no_crisis\"],[0,0,\"no_crisis\"],[0,0,\"no_crisis\"],[0,0,\"no_crisis\"]],\"geo\":\"geo\",\"hovertemplate\":\"<b>%{hovertext}</b><br><br>year=1935<br>country=%{location}<br>currency_crises=%{customdata[0]}<br>inflation_crises=%{customdata[1]}<br>banking_crisis=%{customdata[2]}<br>systemic_crisis=%{z}<extra></extra>\",\"hovertext\":[\"Angola\",\"Egypt\",\"South Africa\",\"Zimbabwe\"],\"locationmode\":\"country names\",\"locations\":[\"Angola\",\"Egypt\",\"South Africa\",\"Zimbabwe\"],\"name\":\"\",\"type\":\"choropleth\",\"z\":[0,0,0,0]}],\"name\":\"1935\"},{\"data\":[{\"coloraxis\":\"coloraxis\",\"customdata\":[[0,0,\"no_crisis\"],[0,0,\"no_crisis\"],[0,0,\"no_crisis\"],[0,0,\"no_crisis\"]],\"geo\":\"geo\",\"hovertemplate\":\"<b>%{hovertext}</b><br><br>year=1936<br>country=%{location}<br>currency_crises=%{customdata[0]}<br>inflation_crises=%{customdata[1]}<br>banking_crisis=%{customdata[2]}<br>systemic_crisis=%{z}<extra></extra>\",\"hovertext\":[\"Angola\",\"Egypt\",\"South Africa\",\"Zimbabwe\"],\"locationmode\":\"country names\",\"locations\":[\"Angola\",\"Egypt\",\"South Africa\",\"Zimbabwe\"],\"name\":\"\",\"type\":\"choropleth\",\"z\":[0,0,0,0]}],\"name\":\"1936\"},{\"data\":[{\"coloraxis\":\"coloraxis\",\"customdata\":[[0,0,\"no_crisis\"],[0,0,\"no_crisis\"],[0,0,\"no_crisis\"],[0,0,\"no_crisis\"]],\"geo\":\"geo\",\"hovertemplate\":\"<b>%{hovertext}</b><br><br>year=1937<br>country=%{location}<br>currency_crises=%{customdata[0]}<br>inflation_crises=%{customdata[1]}<br>banking_crisis=%{customdata[2]}<br>systemic_crisis=%{z}<extra></extra>\",\"hovertext\":[\"Angola\",\"Egypt\",\"South Africa\",\"Zimbabwe\"],\"locationmode\":\"country names\",\"locations\":[\"Angola\",\"Egypt\",\"South Africa\",\"Zimbabwe\"],\"name\":\"\",\"type\":\"choropleth\",\"z\":[0,0,0,0]}],\"name\":\"1937\"},{\"data\":[{\"coloraxis\":\"coloraxis\",\"customdata\":[[0,0,\"no_crisis\"],[0,0,\"no_crisis\"],[0,0,\"no_crisis\"],[0,0,\"no_crisis\"]],\"geo\":\"geo\",\"hovertemplate\":\"<b>%{hovertext}</b><br><br>year=1938<br>country=%{location}<br>currency_crises=%{customdata[0]}<br>inflation_crises=%{customdata[1]}<br>banking_crisis=%{customdata[2]}<br>systemic_crisis=%{z}<extra></extra>\",\"hovertext\":[\"Angola\",\"Egypt\",\"South Africa\",\"Zimbabwe\"],\"locationmode\":\"country names\",\"locations\":[\"Angola\",\"Egypt\",\"South Africa\",\"Zimbabwe\"],\"name\":\"\",\"type\":\"choropleth\",\"z\":[0,0,0,0]}],\"name\":\"1938\"},{\"data\":[{\"coloraxis\":\"coloraxis\",\"customdata\":[[0,0,\"no_crisis\"],[0,0,\"no_crisis\"],[0,0,\"no_crisis\"],[1,0,\"no_crisis\"],[0,0,\"no_crisis\"],[0,0,\"no_crisis\"],[0,0,\"no_crisis\"],[0,0,\"no_crisis\"],[0,0,\"no_crisis\"],[0,0,\"no_crisis\"],[0,0,\"no_crisis\"],[0,0,\"no_crisis\"]],\"geo\":\"geo\",\"hovertemplate\":\"<b>%{hovertext}</b><br><br>year=1962<br>country=%{location}<br>currency_crises=%{customdata[0]}<br>inflation_crises=%{customdata[1]}<br>banking_crisis=%{customdata[2]}<br>systemic_crisis=%{z}<extra></extra>\",\"hovertext\":[\"Angola\",\"Central African Republic\",\"Ivory Coast\",\"Egypt\",\"Kenya\",\"Mauritius\",\"Morocco\",\"Nigeria\",\"South Africa\",\"Tunisia\",\"Zambia\",\"Zimbabwe\"],\"locationmode\":\"country names\",\"locations\":[\"Angola\",\"Central African Republic\",\"Ivory Coast\",\"Egypt\",\"Kenya\",\"Mauritius\",\"Morocco\",\"Nigeria\",\"South Africa\",\"Tunisia\",\"Zambia\",\"Zimbabwe\"],\"name\":\"\",\"type\":\"choropleth\",\"z\":[0,0,0,0,0,0,0,0,0,0,0,0]}],\"name\":\"1962\"},{\"data\":[{\"coloraxis\":\"coloraxis\",\"customdata\":[[0,0,\"no_crisis\"],[0,0,\"no_crisis\"],[0,0,\"no_crisis\"],[0,0,\"no_crisis\"],[0,0,\"no_crisis\"],[0,0,\"no_crisis\"],[0,0,\"no_crisis\"],[0,0,\"no_crisis\"],[0,0,\"no_crisis\"],[0,0,\"no_crisis\"],[0,0,\"no_crisis\"]],\"geo\":\"geo\",\"hovertemplate\":\"<b>%{hovertext}</b><br><br>year=1963<br>country=%{location}<br>currency_crises=%{customdata[0]}<br>inflation_crises=%{customdata[1]}<br>banking_crisis=%{customdata[2]}<br>systemic_crisis=%{z}<extra></extra>\",\"hovertext\":[\"Central African Republic\",\"Ivory Coast\",\"Egypt\",\"Kenya\",\"Mauritius\",\"Morocco\",\"Nigeria\",\"South Africa\",\"Tunisia\",\"Zambia\",\"Zimbabwe\"],\"locationmode\":\"country names\",\"locations\":[\"Central African Republic\",\"Ivory Coast\",\"Egypt\",\"Kenya\",\"Mauritius\",\"Morocco\",\"Nigeria\",\"South Africa\",\"Tunisia\",\"Zambia\",\"Zimbabwe\"],\"name\":\"\",\"type\":\"choropleth\",\"z\":[0,0,0,0,0,0,0,0,0,0,0]}],\"name\":\"1963\"},{\"data\":[{\"coloraxis\":\"coloraxis\",\"customdata\":[[0,0,\"no_crisis\"],[0,0,\"no_crisis\"],[0,0,\"no_crisis\"],[0,0,\"no_crisis\"],[0,0,\"no_crisis\"],[0,0,\"no_crisis\"],[0,0,\"no_crisis\"],[0,0,\"no_crisis\"],[0,0,\"no_crisis\"],[0,0,\"no_crisis\"],[0,0,\"no_crisis\"]],\"geo\":\"geo\",\"hovertemplate\":\"<b>%{hovertext}</b><br><br>year=1964<br>country=%{location}<br>currency_crises=%{customdata[0]}<br>inflation_crises=%{customdata[1]}<br>banking_crisis=%{customdata[2]}<br>systemic_crisis=%{z}<extra></extra>\",\"hovertext\":[\"Central African Republic\",\"Ivory Coast\",\"Egypt\",\"Kenya\",\"Mauritius\",\"Morocco\",\"Nigeria\",\"South Africa\",\"Tunisia\",\"Zambia\",\"Zimbabwe\"],\"locationmode\":\"country names\",\"locations\":[\"Central African Republic\",\"Ivory Coast\",\"Egypt\",\"Kenya\",\"Mauritius\",\"Morocco\",\"Nigeria\",\"South Africa\",\"Tunisia\",\"Zambia\",\"Zimbabwe\"],\"name\":\"\",\"type\":\"choropleth\",\"z\":[0,0,0,0,0,0,0,0,0,0,0]}],\"name\":\"1964\"},{\"data\":[{\"coloraxis\":\"coloraxis\",\"customdata\":[[0,0,\"no_crisis\"],[0,0,\"no_crisis\"],[0,0,\"no_crisis\"],[0,0,\"no_crisis\"],[0,0,\"no_crisis\"],[0,0,\"no_crisis\"],[0,0,\"no_crisis\"],[0,0,\"no_crisis\"],[1,0,\"no_crisis\"],[0,0,\"no_crisis\"],[0,0,\"no_crisis\"]],\"geo\":\"geo\",\"hovertemplate\":\"<b>%{hovertext}</b><br><br>year=1965<br>country=%{location}<br>currency_crises=%{customdata[0]}<br>inflation_crises=%{customdata[1]}<br>banking_crisis=%{customdata[2]}<br>systemic_crisis=%{z}<extra></extra>\",\"hovertext\":[\"Central African Republic\",\"Ivory Coast\",\"Egypt\",\"Kenya\",\"Mauritius\",\"Morocco\",\"Nigeria\",\"South Africa\",\"Tunisia\",\"Zambia\",\"Zimbabwe\"],\"locationmode\":\"country names\",\"locations\":[\"Central African Republic\",\"Ivory Coast\",\"Egypt\",\"Kenya\",\"Mauritius\",\"Morocco\",\"Nigeria\",\"South Africa\",\"Tunisia\",\"Zambia\",\"Zimbabwe\"],\"name\":\"\",\"type\":\"choropleth\",\"z\":[0,0,0,0,0,0,0,0,0,0,0]}],\"name\":\"1965\"},{\"data\":[{\"coloraxis\":\"coloraxis\",\"customdata\":[[0,0,\"no_crisis\"],[0,0,\"no_crisis\"],[0,0,\"no_crisis\"],[0,0,\"no_crisis\"],[0,0,\"no_crisis\"],[0,0,\"no_crisis\"],[0,0,\"no_crisis\"],[0,0,\"no_crisis\"],[0,0,\"no_crisis\"],[0,0,\"no_crisis\"],[0,0,\"no_crisis\"]],\"geo\":\"geo\",\"hovertemplate\":\"<b>%{hovertext}</b><br><br>year=1966<br>country=%{location}<br>currency_crises=%{customdata[0]}<br>inflation_crises=%{customdata[1]}<br>banking_crisis=%{customdata[2]}<br>systemic_crisis=%{z}<extra></extra>\",\"hovertext\":[\"Central African Republic\",\"Ivory Coast\",\"Egypt\",\"Kenya\",\"Mauritius\",\"Morocco\",\"Nigeria\",\"South Africa\",\"Tunisia\",\"Zambia\",\"Zimbabwe\"],\"locationmode\":\"country names\",\"locations\":[\"Central African Republic\",\"Ivory Coast\",\"Egypt\",\"Kenya\",\"Mauritius\",\"Morocco\",\"Nigeria\",\"South Africa\",\"Tunisia\",\"Zambia\",\"Zimbabwe\"],\"name\":\"\",\"type\":\"choropleth\",\"z\":[0,0,0,0,0,0,0,0,0,0,0]}],\"name\":\"1966\"},{\"data\":[{\"coloraxis\":\"coloraxis\",\"customdata\":[[0,0,\"no_crisis\"],[0,0,\"no_crisis\"],[0,0,\"no_crisis\"],[0,0,\"no_crisis\"],[0,0,\"no_crisis\"],[0,0,\"no_crisis\"],[0,0,\"no_crisis\"],[1,0,\"no_crisis\"],[0,0,\"no_crisis\"],[0,0,\"no_crisis\"],[0,0,\"no_crisis\"]],\"geo\":\"geo\",\"hovertemplate\":\"<b>%{hovertext}</b><br><br>year=1967<br>country=%{location}<br>currency_crises=%{customdata[0]}<br>inflation_crises=%{customdata[1]}<br>banking_crisis=%{customdata[2]}<br>systemic_crisis=%{z}<extra></extra>\",\"hovertext\":[\"Central African Republic\",\"Ivory Coast\",\"Egypt\",\"Kenya\",\"Mauritius\",\"Morocco\",\"Nigeria\",\"South Africa\",\"Tunisia\",\"Zambia\",\"Zimbabwe\"],\"locationmode\":\"country names\",\"locations\":[\"Central African Republic\",\"Ivory Coast\",\"Egypt\",\"Kenya\",\"Mauritius\",\"Morocco\",\"Nigeria\",\"South Africa\",\"Tunisia\",\"Zambia\",\"Zimbabwe\"],\"name\":\"\",\"type\":\"choropleth\",\"z\":[0,0,0,0,0,0,0,0,0,0,0]}],\"name\":\"1967\"},{\"data\":[{\"coloraxis\":\"coloraxis\",\"customdata\":[[0,0,\"no_crisis\"]],\"geo\":\"geo\",\"hovertemplate\":\"<b>%{hovertext}</b><br><br>year=1860<br>country=%{location}<br>currency_crises=%{customdata[0]}<br>inflation_crises=%{customdata[1]}<br>banking_crisis=%{customdata[2]}<br>systemic_crisis=%{z}<extra></extra>\",\"hovertext\":[\"Egypt\"],\"locationmode\":\"country names\",\"locations\":[\"Egypt\"],\"name\":\"\",\"type\":\"choropleth\",\"z\":[0]}],\"name\":\"1860\"},{\"data\":[{\"coloraxis\":\"coloraxis\",\"customdata\":[[0,0,\"no_crisis\"]],\"geo\":\"geo\",\"hovertemplate\":\"<b>%{hovertext}</b><br><br>year=1861<br>country=%{location}<br>currency_crises=%{customdata[0]}<br>inflation_crises=%{customdata[1]}<br>banking_crisis=%{customdata[2]}<br>systemic_crisis=%{z}<extra></extra>\",\"hovertext\":[\"Egypt\"],\"locationmode\":\"country names\",\"locations\":[\"Egypt\"],\"name\":\"\",\"type\":\"choropleth\",\"z\":[0]}],\"name\":\"1861\"},{\"data\":[{\"coloraxis\":\"coloraxis\",\"customdata\":[[0,0,\"no_crisis\"]],\"geo\":\"geo\",\"hovertemplate\":\"<b>%{hovertext}</b><br><br>year=1862<br>country=%{location}<br>currency_crises=%{customdata[0]}<br>inflation_crises=%{customdata[1]}<br>banking_crisis=%{customdata[2]}<br>systemic_crisis=%{z}<extra></extra>\",\"hovertext\":[\"Egypt\"],\"locationmode\":\"country names\",\"locations\":[\"Egypt\"],\"name\":\"\",\"type\":\"choropleth\",\"z\":[0]}],\"name\":\"1862\"},{\"data\":[{\"coloraxis\":\"coloraxis\",\"customdata\":[[0,0,\"no_crisis\"]],\"geo\":\"geo\",\"hovertemplate\":\"<b>%{hovertext}</b><br><br>year=1863<br>country=%{location}<br>currency_crises=%{customdata[0]}<br>inflation_crises=%{customdata[1]}<br>banking_crisis=%{customdata[2]}<br>systemic_crisis=%{z}<extra></extra>\",\"hovertext\":[\"Egypt\"],\"locationmode\":\"country names\",\"locations\":[\"Egypt\"],\"name\":\"\",\"type\":\"choropleth\",\"z\":[0]}],\"name\":\"1863\"},{\"data\":[{\"coloraxis\":\"coloraxis\",\"customdata\":[[0,0,\"no_crisis\"]],\"geo\":\"geo\",\"hovertemplate\":\"<b>%{hovertext}</b><br><br>year=1864<br>country=%{location}<br>currency_crises=%{customdata[0]}<br>inflation_crises=%{customdata[1]}<br>banking_crisis=%{customdata[2]}<br>systemic_crisis=%{z}<extra></extra>\",\"hovertext\":[\"Egypt\"],\"locationmode\":\"country names\",\"locations\":[\"Egypt\"],\"name\":\"\",\"type\":\"choropleth\",\"z\":[0]}],\"name\":\"1864\"},{\"data\":[{\"coloraxis\":\"coloraxis\",\"customdata\":[[0,0,\"no_crisis\"]],\"geo\":\"geo\",\"hovertemplate\":\"<b>%{hovertext}</b><br><br>year=1865<br>country=%{location}<br>currency_crises=%{customdata[0]}<br>inflation_crises=%{customdata[1]}<br>banking_crisis=%{customdata[2]}<br>systemic_crisis=%{z}<extra></extra>\",\"hovertext\":[\"Egypt\"],\"locationmode\":\"country names\",\"locations\":[\"Egypt\"],\"name\":\"\",\"type\":\"choropleth\",\"z\":[0]}],\"name\":\"1865\"},{\"data\":[{\"coloraxis\":\"coloraxis\",\"customdata\":[[0,0,\"no_crisis\"]],\"geo\":\"geo\",\"hovertemplate\":\"<b>%{hovertext}</b><br><br>year=1866<br>country=%{location}<br>currency_crises=%{customdata[0]}<br>inflation_crises=%{customdata[1]}<br>banking_crisis=%{customdata[2]}<br>systemic_crisis=%{z}<extra></extra>\",\"hovertext\":[\"Egypt\"],\"locationmode\":\"country names\",\"locations\":[\"Egypt\"],\"name\":\"\",\"type\":\"choropleth\",\"z\":[0]}],\"name\":\"1866\"},{\"data\":[{\"coloraxis\":\"coloraxis\",\"customdata\":[[0,0,\"no_crisis\"]],\"geo\":\"geo\",\"hovertemplate\":\"<b>%{hovertext}</b><br><br>year=1867<br>country=%{location}<br>currency_crises=%{customdata[0]}<br>inflation_crises=%{customdata[1]}<br>banking_crisis=%{customdata[2]}<br>systemic_crisis=%{z}<extra></extra>\",\"hovertext\":[\"Egypt\"],\"locationmode\":\"country names\",\"locations\":[\"Egypt\"],\"name\":\"\",\"type\":\"choropleth\",\"z\":[0]}],\"name\":\"1867\"},{\"data\":[{\"coloraxis\":\"coloraxis\",\"customdata\":[[0,0,\"no_crisis\"]],\"geo\":\"geo\",\"hovertemplate\":\"<b>%{hovertext}</b><br><br>year=1868<br>country=%{location}<br>currency_crises=%{customdata[0]}<br>inflation_crises=%{customdata[1]}<br>banking_crisis=%{customdata[2]}<br>systemic_crisis=%{z}<extra></extra>\",\"hovertext\":[\"Egypt\"],\"locationmode\":\"country names\",\"locations\":[\"Egypt\"],\"name\":\"\",\"type\":\"choropleth\",\"z\":[0]}],\"name\":\"1868\"},{\"data\":[{\"coloraxis\":\"coloraxis\",\"customdata\":[[0,0,\"no_crisis\"]],\"geo\":\"geo\",\"hovertemplate\":\"<b>%{hovertext}</b><br><br>year=1869<br>country=%{location}<br>currency_crises=%{customdata[0]}<br>inflation_crises=%{customdata[1]}<br>banking_crisis=%{customdata[2]}<br>systemic_crisis=%{z}<extra></extra>\",\"hovertext\":[\"Egypt\"],\"locationmode\":\"country names\",\"locations\":[\"Egypt\"],\"name\":\"\",\"type\":\"choropleth\",\"z\":[0]}],\"name\":\"1869\"},{\"data\":[{\"coloraxis\":\"coloraxis\",\"customdata\":[[0,0,\"no_crisis\"]],\"geo\":\"geo\",\"hovertemplate\":\"<b>%{hovertext}</b><br><br>year=1885<br>country=%{location}<br>currency_crises=%{customdata[0]}<br>inflation_crises=%{customdata[1]}<br>banking_crisis=%{customdata[2]}<br>systemic_crisis=%{z}<extra></extra>\",\"hovertext\":[\"Egypt\"],\"locationmode\":\"country names\",\"locations\":[\"Egypt\"],\"name\":\"\",\"type\":\"choropleth\",\"z\":[0]}],\"name\":\"1885\"},{\"data\":[{\"coloraxis\":\"coloraxis\",\"customdata\":[[0,0,\"no_crisis\"]],\"geo\":\"geo\",\"hovertemplate\":\"<b>%{hovertext}</b><br><br>year=1886<br>country=%{location}<br>currency_crises=%{customdata[0]}<br>inflation_crises=%{customdata[1]}<br>banking_crisis=%{customdata[2]}<br>systemic_crisis=%{z}<extra></extra>\",\"hovertext\":[\"Egypt\"],\"locationmode\":\"country names\",\"locations\":[\"Egypt\"],\"name\":\"\",\"type\":\"choropleth\",\"z\":[0]}],\"name\":\"1886\"},{\"data\":[{\"coloraxis\":\"coloraxis\",\"customdata\":[[0,0,\"no_crisis\"]],\"geo\":\"geo\",\"hovertemplate\":\"<b>%{hovertext}</b><br><br>year=1887<br>country=%{location}<br>currency_crises=%{customdata[0]}<br>inflation_crises=%{customdata[1]}<br>banking_crisis=%{customdata[2]}<br>systemic_crisis=%{z}<extra></extra>\",\"hovertext\":[\"Egypt\"],\"locationmode\":\"country names\",\"locations\":[\"Egypt\"],\"name\":\"\",\"type\":\"choropleth\",\"z\":[0]}],\"name\":\"1887\"},{\"data\":[{\"coloraxis\":\"coloraxis\",\"customdata\":[[0,0,\"no_crisis\"]],\"geo\":\"geo\",\"hovertemplate\":\"<b>%{hovertext}</b><br><br>year=1888<br>country=%{location}<br>currency_crises=%{customdata[0]}<br>inflation_crises=%{customdata[1]}<br>banking_crisis=%{customdata[2]}<br>systemic_crisis=%{z}<extra></extra>\",\"hovertext\":[\"Egypt\"],\"locationmode\":\"country names\",\"locations\":[\"Egypt\"],\"name\":\"\",\"type\":\"choropleth\",\"z\":[0]}],\"name\":\"1888\"},{\"data\":[{\"coloraxis\":\"coloraxis\",\"customdata\":[[0,0,\"no_crisis\"]],\"geo\":\"geo\",\"hovertemplate\":\"<b>%{hovertext}</b><br><br>year=1889<br>country=%{location}<br>currency_crises=%{customdata[0]}<br>inflation_crises=%{customdata[1]}<br>banking_crisis=%{customdata[2]}<br>systemic_crisis=%{z}<extra></extra>\",\"hovertext\":[\"Egypt\"],\"locationmode\":\"country names\",\"locations\":[\"Egypt\"],\"name\":\"\",\"type\":\"choropleth\",\"z\":[0]}],\"name\":\"1889\"},{\"data\":[{\"coloraxis\":\"coloraxis\",\"customdata\":[[0,0,\"no_crisis\"]],\"geo\":\"geo\",\"hovertemplate\":\"<b>%{hovertext}</b><br><br>year=1890<br>country=%{location}<br>currency_crises=%{customdata[0]}<br>inflation_crises=%{customdata[1]}<br>banking_crisis=%{customdata[2]}<br>systemic_crisis=%{z}<extra></extra>\",\"hovertext\":[\"Egypt\"],\"locationmode\":\"country names\",\"locations\":[\"Egypt\"],\"name\":\"\",\"type\":\"choropleth\",\"z\":[0]}],\"name\":\"1890\"},{\"data\":[{\"coloraxis\":\"coloraxis\",\"customdata\":[[0,0,\"no_crisis\"]],\"geo\":\"geo\",\"hovertemplate\":\"<b>%{hovertext}</b><br><br>year=1891<br>country=%{location}<br>currency_crises=%{customdata[0]}<br>inflation_crises=%{customdata[1]}<br>banking_crisis=%{customdata[2]}<br>systemic_crisis=%{z}<extra></extra>\",\"hovertext\":[\"Egypt\"],\"locationmode\":\"country names\",\"locations\":[\"Egypt\"],\"name\":\"\",\"type\":\"choropleth\",\"z\":[0]}],\"name\":\"1891\"},{\"data\":[{\"coloraxis\":\"coloraxis\",\"customdata\":[[0,0,\"no_crisis\"]],\"geo\":\"geo\",\"hovertemplate\":\"<b>%{hovertext}</b><br><br>year=1892<br>country=%{location}<br>currency_crises=%{customdata[0]}<br>inflation_crises=%{customdata[1]}<br>banking_crisis=%{customdata[2]}<br>systemic_crisis=%{z}<extra></extra>\",\"hovertext\":[\"Egypt\"],\"locationmode\":\"country names\",\"locations\":[\"Egypt\"],\"name\":\"\",\"type\":\"choropleth\",\"z\":[0]}],\"name\":\"1892\"},{\"data\":[{\"coloraxis\":\"coloraxis\",\"customdata\":[[0,0,\"no_crisis\"]],\"geo\":\"geo\",\"hovertemplate\":\"<b>%{hovertext}</b><br><br>year=1893<br>country=%{location}<br>currency_crises=%{customdata[0]}<br>inflation_crises=%{customdata[1]}<br>banking_crisis=%{customdata[2]}<br>systemic_crisis=%{z}<extra></extra>\",\"hovertext\":[\"Egypt\"],\"locationmode\":\"country names\",\"locations\":[\"Egypt\"],\"name\":\"\",\"type\":\"choropleth\",\"z\":[0]}],\"name\":\"1893\"},{\"data\":[{\"coloraxis\":\"coloraxis\",\"customdata\":[[0,0,\"no_crisis\"]],\"geo\":\"geo\",\"hovertemplate\":\"<b>%{hovertext}</b><br><br>year=1894<br>country=%{location}<br>currency_crises=%{customdata[0]}<br>inflation_crises=%{customdata[1]}<br>banking_crisis=%{customdata[2]}<br>systemic_crisis=%{z}<extra></extra>\",\"hovertext\":[\"Egypt\"],\"locationmode\":\"country names\",\"locations\":[\"Egypt\"],\"name\":\"\",\"type\":\"choropleth\",\"z\":[0]}],\"name\":\"1894\"},{\"data\":[{\"coloraxis\":\"coloraxis\",\"customdata\":[[0,0,\"no_crisis\"]],\"geo\":\"geo\",\"hovertemplate\":\"<b>%{hovertext}</b><br><br>year=1895<br>country=%{location}<br>currency_crises=%{customdata[0]}<br>inflation_crises=%{customdata[1]}<br>banking_crisis=%{customdata[2]}<br>systemic_crisis=%{z}<extra></extra>\",\"hovertext\":[\"Egypt\"],\"locationmode\":\"country names\",\"locations\":[\"Egypt\"],\"name\":\"\",\"type\":\"choropleth\",\"z\":[0]}],\"name\":\"1895\"},{\"data\":[{\"coloraxis\":\"coloraxis\",\"customdata\":[[0,0,\"no_crisis\"]],\"geo\":\"geo\",\"hovertemplate\":\"<b>%{hovertext}</b><br><br>year=1896<br>country=%{location}<br>currency_crises=%{customdata[0]}<br>inflation_crises=%{customdata[1]}<br>banking_crisis=%{customdata[2]}<br>systemic_crisis=%{z}<extra></extra>\",\"hovertext\":[\"Egypt\"],\"locationmode\":\"country names\",\"locations\":[\"Egypt\"],\"name\":\"\",\"type\":\"choropleth\",\"z\":[0]}],\"name\":\"1896\"},{\"data\":[{\"coloraxis\":\"coloraxis\",\"customdata\":[[0,0,\"no_crisis\"]],\"geo\":\"geo\",\"hovertemplate\":\"<b>%{hovertext}</b><br><br>year=1897<br>country=%{location}<br>currency_crises=%{customdata[0]}<br>inflation_crises=%{customdata[1]}<br>banking_crisis=%{customdata[2]}<br>systemic_crisis=%{z}<extra></extra>\",\"hovertext\":[\"Egypt\"],\"locationmode\":\"country names\",\"locations\":[\"Egypt\"],\"name\":\"\",\"type\":\"choropleth\",\"z\":[0]}],\"name\":\"1897\"},{\"data\":[{\"coloraxis\":\"coloraxis\",\"customdata\":[[0,0,\"no_crisis\"]],\"geo\":\"geo\",\"hovertemplate\":\"<b>%{hovertext}</b><br><br>year=1898<br>country=%{location}<br>currency_crises=%{customdata[0]}<br>inflation_crises=%{customdata[1]}<br>banking_crisis=%{customdata[2]}<br>systemic_crisis=%{z}<extra></extra>\",\"hovertext\":[\"Egypt\"],\"locationmode\":\"country names\",\"locations\":[\"Egypt\"],\"name\":\"\",\"type\":\"choropleth\",\"z\":[0]}],\"name\":\"1898\"},{\"data\":[{\"coloraxis\":\"coloraxis\",\"customdata\":[[0,0,\"no_crisis\"]],\"geo\":\"geo\",\"hovertemplate\":\"<b>%{hovertext}</b><br><br>year=1899<br>country=%{location}<br>currency_crises=%{customdata[0]}<br>inflation_crises=%{customdata[1]}<br>banking_crisis=%{customdata[2]}<br>systemic_crisis=%{z}<extra></extra>\",\"hovertext\":[\"Egypt\"],\"locationmode\":\"country names\",\"locations\":[\"Egypt\"],\"name\":\"\",\"type\":\"choropleth\",\"z\":[0]}],\"name\":\"1899\"},{\"data\":[{\"coloraxis\":\"coloraxis\",\"customdata\":[[0,0,\"no_crisis\"],[0,0,\"no_crisis\"]],\"geo\":\"geo\",\"hovertemplate\":\"<b>%{hovertext}</b><br><br>year=1900<br>country=%{location}<br>currency_crises=%{customdata[0]}<br>inflation_crises=%{customdata[1]}<br>banking_crisis=%{customdata[2]}<br>systemic_crisis=%{z}<extra></extra>\",\"hovertext\":[\"Egypt\",\"South Africa\"],\"locationmode\":\"country names\",\"locations\":[\"Egypt\",\"South Africa\"],\"name\":\"\",\"type\":\"choropleth\",\"z\":[0,0]}],\"name\":\"1900\"},{\"data\":[{\"coloraxis\":\"coloraxis\",\"customdata\":[[0,0,\"no_crisis\"],[0,0,\"no_crisis\"]],\"geo\":\"geo\",\"hovertemplate\":\"<b>%{hovertext}</b><br><br>year=1901<br>country=%{location}<br>currency_crises=%{customdata[0]}<br>inflation_crises=%{customdata[1]}<br>banking_crisis=%{customdata[2]}<br>systemic_crisis=%{z}<extra></extra>\",\"hovertext\":[\"Egypt\",\"South Africa\"],\"locationmode\":\"country names\",\"locations\":[\"Egypt\",\"South Africa\"],\"name\":\"\",\"type\":\"choropleth\",\"z\":[0,0]}],\"name\":\"1901\"},{\"data\":[{\"coloraxis\":\"coloraxis\",\"customdata\":[[0,0,\"no_crisis\"],[0,0,\"no_crisis\"]],\"geo\":\"geo\",\"hovertemplate\":\"<b>%{hovertext}</b><br><br>year=1902<br>country=%{location}<br>currency_crises=%{customdata[0]}<br>inflation_crises=%{customdata[1]}<br>banking_crisis=%{customdata[2]}<br>systemic_crisis=%{z}<extra></extra>\",\"hovertext\":[\"Egypt\",\"South Africa\"],\"locationmode\":\"country names\",\"locations\":[\"Egypt\",\"South Africa\"],\"name\":\"\",\"type\":\"choropleth\",\"z\":[0,0]}],\"name\":\"1902\"},{\"data\":[{\"coloraxis\":\"coloraxis\",\"customdata\":[[0,0,\"no_crisis\"],[0,0,\"no_crisis\"]],\"geo\":\"geo\",\"hovertemplate\":\"<b>%{hovertext}</b><br><br>year=1903<br>country=%{location}<br>currency_crises=%{customdata[0]}<br>inflation_crises=%{customdata[1]}<br>banking_crisis=%{customdata[2]}<br>systemic_crisis=%{z}<extra></extra>\",\"hovertext\":[\"Egypt\",\"South Africa\"],\"locationmode\":\"country names\",\"locations\":[\"Egypt\",\"South Africa\"],\"name\":\"\",\"type\":\"choropleth\",\"z\":[0,0]}],\"name\":\"1903\"},{\"data\":[{\"coloraxis\":\"coloraxis\",\"customdata\":[[0,0,\"no_crisis\"],[0,0,\"no_crisis\"]],\"geo\":\"geo\",\"hovertemplate\":\"<b>%{hovertext}</b><br><br>year=1904<br>country=%{location}<br>currency_crises=%{customdata[0]}<br>inflation_crises=%{customdata[1]}<br>banking_crisis=%{customdata[2]}<br>systemic_crisis=%{z}<extra></extra>\",\"hovertext\":[\"Egypt\",\"South Africa\"],\"locationmode\":\"country names\",\"locations\":[\"Egypt\",\"South Africa\"],\"name\":\"\",\"type\":\"choropleth\",\"z\":[0,0]}],\"name\":\"1904\"},{\"data\":[{\"coloraxis\":\"coloraxis\",\"customdata\":[[0,0,\"no_crisis\"],[0,0,\"no_crisis\"]],\"geo\":\"geo\",\"hovertemplate\":\"<b>%{hovertext}</b><br><br>year=1905<br>country=%{location}<br>currency_crises=%{customdata[0]}<br>inflation_crises=%{customdata[1]}<br>banking_crisis=%{customdata[2]}<br>systemic_crisis=%{z}<extra></extra>\",\"hovertext\":[\"Egypt\",\"South Africa\"],\"locationmode\":\"country names\",\"locations\":[\"Egypt\",\"South Africa\"],\"name\":\"\",\"type\":\"choropleth\",\"z\":[0,0]}],\"name\":\"1905\"},{\"data\":[{\"coloraxis\":\"coloraxis\",\"customdata\":[[0,0,\"no_crisis\"],[0,0,\"no_crisis\"]],\"geo\":\"geo\",\"hovertemplate\":\"<b>%{hovertext}</b><br><br>year=1906<br>country=%{location}<br>currency_crises=%{customdata[0]}<br>inflation_crises=%{customdata[1]}<br>banking_crisis=%{customdata[2]}<br>systemic_crisis=%{z}<extra></extra>\",\"hovertext\":[\"Egypt\",\"South Africa\"],\"locationmode\":\"country names\",\"locations\":[\"Egypt\",\"South Africa\"],\"name\":\"\",\"type\":\"choropleth\",\"z\":[0,0]}],\"name\":\"1906\"},{\"data\":[{\"coloraxis\":\"coloraxis\",\"customdata\":[[0,0,\"crisis\"],[0,0,\"no_crisis\"]],\"geo\":\"geo\",\"hovertemplate\":\"<b>%{hovertext}</b><br><br>year=1907<br>country=%{location}<br>currency_crises=%{customdata[0]}<br>inflation_crises=%{customdata[1]}<br>banking_crisis=%{customdata[2]}<br>systemic_crisis=%{z}<extra></extra>\",\"hovertext\":[\"Egypt\",\"South Africa\"],\"locationmode\":\"country names\",\"locations\":[\"Egypt\",\"South Africa\"],\"name\":\"\",\"type\":\"choropleth\",\"z\":[1,0]}],\"name\":\"1907\"},{\"data\":[{\"coloraxis\":\"coloraxis\",\"customdata\":[[0,0,\"no_crisis\"],[0,0,\"no_crisis\"]],\"geo\":\"geo\",\"hovertemplate\":\"<b>%{hovertext}</b><br><br>year=1908<br>country=%{location}<br>currency_crises=%{customdata[0]}<br>inflation_crises=%{customdata[1]}<br>banking_crisis=%{customdata[2]}<br>systemic_crisis=%{z}<extra></extra>\",\"hovertext\":[\"Egypt\",\"South Africa\"],\"locationmode\":\"country names\",\"locations\":[\"Egypt\",\"South Africa\"],\"name\":\"\",\"type\":\"choropleth\",\"z\":[0,0]}],\"name\":\"1908\"},{\"data\":[{\"coloraxis\":\"coloraxis\",\"customdata\":[[0,0,\"no_crisis\"],[0,0,\"no_crisis\"]],\"geo\":\"geo\",\"hovertemplate\":\"<b>%{hovertext}</b><br><br>year=1909<br>country=%{location}<br>currency_crises=%{customdata[0]}<br>inflation_crises=%{customdata[1]}<br>banking_crisis=%{customdata[2]}<br>systemic_crisis=%{z}<extra></extra>\",\"hovertext\":[\"Egypt\",\"South Africa\"],\"locationmode\":\"country names\",\"locations\":[\"Egypt\",\"South Africa\"],\"name\":\"\",\"type\":\"choropleth\",\"z\":[0,0]}],\"name\":\"1909\"},{\"data\":[{\"coloraxis\":\"coloraxis\",\"customdata\":[[0,0,\"no_crisis\"],[0,0,\"no_crisis\"]],\"geo\":\"geo\",\"hovertemplate\":\"<b>%{hovertext}</b><br><br>year=1910<br>country=%{location}<br>currency_crises=%{customdata[0]}<br>inflation_crises=%{customdata[1]}<br>banking_crisis=%{customdata[2]}<br>systemic_crisis=%{z}<extra></extra>\",\"hovertext\":[\"Egypt\",\"South Africa\"],\"locationmode\":\"country names\",\"locations\":[\"Egypt\",\"South Africa\"],\"name\":\"\",\"type\":\"choropleth\",\"z\":[0,0]}],\"name\":\"1910\"},{\"data\":[{\"coloraxis\":\"coloraxis\",\"customdata\":[[0,0,\"no_crisis\"],[0,0,\"no_crisis\"]],\"geo\":\"geo\",\"hovertemplate\":\"<b>%{hovertext}</b><br><br>year=1911<br>country=%{location}<br>currency_crises=%{customdata[0]}<br>inflation_crises=%{customdata[1]}<br>banking_crisis=%{customdata[2]}<br>systemic_crisis=%{z}<extra></extra>\",\"hovertext\":[\"Egypt\",\"South Africa\"],\"locationmode\":\"country names\",\"locations\":[\"Egypt\",\"South Africa\"],\"name\":\"\",\"type\":\"choropleth\",\"z\":[0,0]}],\"name\":\"1911\"},{\"data\":[{\"coloraxis\":\"coloraxis\",\"customdata\":[[0,0,\"no_crisis\"],[0,0,\"no_crisis\"]],\"geo\":\"geo\",\"hovertemplate\":\"<b>%{hovertext}</b><br><br>year=1912<br>country=%{location}<br>currency_crises=%{customdata[0]}<br>inflation_crises=%{customdata[1]}<br>banking_crisis=%{customdata[2]}<br>systemic_crisis=%{z}<extra></extra>\",\"hovertext\":[\"Egypt\",\"South Africa\"],\"locationmode\":\"country names\",\"locations\":[\"Egypt\",\"South Africa\"],\"name\":\"\",\"type\":\"choropleth\",\"z\":[0,0]}],\"name\":\"1912\"},{\"data\":[{\"coloraxis\":\"coloraxis\",\"customdata\":[[0,0,\"no_crisis\"],[0,0,\"no_crisis\"]],\"geo\":\"geo\",\"hovertemplate\":\"<b>%{hovertext}</b><br><br>year=1913<br>country=%{location}<br>currency_crises=%{customdata[0]}<br>inflation_crises=%{customdata[1]}<br>banking_crisis=%{customdata[2]}<br>systemic_crisis=%{z}<extra></extra>\",\"hovertext\":[\"Egypt\",\"South Africa\"],\"locationmode\":\"country names\",\"locations\":[\"Egypt\",\"South Africa\"],\"name\":\"\",\"type\":\"choropleth\",\"z\":[0,0]}],\"name\":\"1913\"},{\"data\":[{\"coloraxis\":\"coloraxis\",\"customdata\":[[0,0,\"no_crisis\"],[0,0,\"no_crisis\"]],\"geo\":\"geo\",\"hovertemplate\":\"<b>%{hovertext}</b><br><br>year=1914<br>country=%{location}<br>currency_crises=%{customdata[0]}<br>inflation_crises=%{customdata[1]}<br>banking_crisis=%{customdata[2]}<br>systemic_crisis=%{z}<extra></extra>\",\"hovertext\":[\"Egypt\",\"South Africa\"],\"locationmode\":\"country names\",\"locations\":[\"Egypt\",\"South Africa\"],\"name\":\"\",\"type\":\"choropleth\",\"z\":[0,0]}],\"name\":\"1914\"},{\"data\":[{\"coloraxis\":\"coloraxis\",\"customdata\":[[0,0,\"no_crisis\"],[0,0,\"no_crisis\"]],\"geo\":\"geo\",\"hovertemplate\":\"<b>%{hovertext}</b><br><br>year=1915<br>country=%{location}<br>currency_crises=%{customdata[0]}<br>inflation_crises=%{customdata[1]}<br>banking_crisis=%{customdata[2]}<br>systemic_crisis=%{z}<extra></extra>\",\"hovertext\":[\"Egypt\",\"South Africa\"],\"locationmode\":\"country names\",\"locations\":[\"Egypt\",\"South Africa\"],\"name\":\"\",\"type\":\"choropleth\",\"z\":[0,0]}],\"name\":\"1915\"},{\"data\":[{\"coloraxis\":\"coloraxis\",\"customdata\":[[0,0,\"no_crisis\"],[0,0,\"no_crisis\"]],\"geo\":\"geo\",\"hovertemplate\":\"<b>%{hovertext}</b><br><br>year=1916<br>country=%{location}<br>currency_crises=%{customdata[0]}<br>inflation_crises=%{customdata[1]}<br>banking_crisis=%{customdata[2]}<br>systemic_crisis=%{z}<extra></extra>\",\"hovertext\":[\"Egypt\",\"South Africa\"],\"locationmode\":\"country names\",\"locations\":[\"Egypt\",\"South Africa\"],\"name\":\"\",\"type\":\"choropleth\",\"z\":[0,0]}],\"name\":\"1916\"},{\"data\":[{\"coloraxis\":\"coloraxis\",\"customdata\":[[0,1,\"no_crisis\"],[0,0,\"no_crisis\"]],\"geo\":\"geo\",\"hovertemplate\":\"<b>%{hovertext}</b><br><br>year=1917<br>country=%{location}<br>currency_crises=%{customdata[0]}<br>inflation_crises=%{customdata[1]}<br>banking_crisis=%{customdata[2]}<br>systemic_crisis=%{z}<extra></extra>\",\"hovertext\":[\"Egypt\",\"South Africa\"],\"locationmode\":\"country names\",\"locations\":[\"Egypt\",\"South Africa\"],\"name\":\"\",\"type\":\"choropleth\",\"z\":[0,0]}],\"name\":\"1917\"},{\"data\":[{\"coloraxis\":\"coloraxis\",\"customdata\":[[0,0,\"no_crisis\"],[0,0,\"no_crisis\"]],\"geo\":\"geo\",\"hovertemplate\":\"<b>%{hovertext}</b><br><br>year=1918<br>country=%{location}<br>currency_crises=%{customdata[0]}<br>inflation_crises=%{customdata[1]}<br>banking_crisis=%{customdata[2]}<br>systemic_crisis=%{z}<extra></extra>\",\"hovertext\":[\"Egypt\",\"South Africa\"],\"locationmode\":\"country names\",\"locations\":[\"Egypt\",\"South Africa\"],\"name\":\"\",\"type\":\"choropleth\",\"z\":[0,0]}],\"name\":\"1918\"},{\"data\":[{\"coloraxis\":\"coloraxis\",\"customdata\":[[0,0,\"no_crisis\"],[0,0,\"no_crisis\"]],\"geo\":\"geo\",\"hovertemplate\":\"<b>%{hovertext}</b><br><br>year=1919<br>country=%{location}<br>currency_crises=%{customdata[0]}<br>inflation_crises=%{customdata[1]}<br>banking_crisis=%{customdata[2]}<br>systemic_crisis=%{z}<extra></extra>\",\"hovertext\":[\"Egypt\",\"South Africa\"],\"locationmode\":\"country names\",\"locations\":[\"Egypt\",\"South Africa\"],\"name\":\"\",\"type\":\"choropleth\",\"z\":[0,0]}],\"name\":\"1919\"},{\"data\":[{\"coloraxis\":\"coloraxis\",\"customdata\":[[0,1,\"no_crisis\"],[0,1,\"no_crisis\"]],\"geo\":\"geo\",\"hovertemplate\":\"<b>%{hovertext}</b><br><br>year=1920<br>country=%{location}<br>currency_crises=%{customdata[0]}<br>inflation_crises=%{customdata[1]}<br>banking_crisis=%{customdata[2]}<br>systemic_crisis=%{z}<extra></extra>\",\"hovertext\":[\"Egypt\",\"South Africa\"],\"locationmode\":\"country names\",\"locations\":[\"Egypt\",\"South Africa\"],\"name\":\"\",\"type\":\"choropleth\",\"z\":[0,0]}],\"name\":\"1920\"}]);\n",
       "                        }).then(function(){\n",
       "                            \n",
       "var gd = document.getElementById('c1d687aa-244e-434d-8251-a6312f2f946b');\n",
       "var x = new MutationObserver(function (mutations, observer) {{\n",
       "        var display = window.getComputedStyle(gd).display;\n",
       "        if (!display || display === 'none') {{\n",
       "            console.log([gd, 'removed!']);\n",
       "            Plotly.purge(gd);\n",
       "            observer.disconnect();\n",
       "        }}\n",
       "}});\n",
       "\n",
       "// Listen for the removal of the full notebook cells\n",
       "var notebookContainer = gd.closest('#notebook-container');\n",
       "if (notebookContainer) {{\n",
       "    x.observe(notebookContainer, {childList: true});\n",
       "}}\n",
       "\n",
       "// Listen for the clearing of the current output cell\n",
       "var outputEl = gd.closest('.output');\n",
       "if (outputEl) {{\n",
       "    x.observe(outputEl, {childList: true});\n",
       "}}\n",
       "\n",
       "                        })                };                });            </script>        </div>"
      ]
     },
     "metadata": {},
     "output_type": "display_data"
    }
   ],
   "source": [
    "fig = px.choropleth(dat1,locations='country',locationmode='country names',color='systemic_crisis',\n",
    "                   color_continuous_scale='viridis',hover_name='country',\n",
    "                    hover_data=['currency_crises','inflation_crises','banking_crisis'],\n",
    "                   scope='africa',projection='natural earth',animation_frame='year',range_color=[0,1])\n",
    "\n",
    "fig.update_layout(title='Systemic Crisis by year',coloraxis_colorbar=dict(ticks='outside',tickvals=[0,1],\n",
    "                                                                 title='systemic_crisis',ticktext=['no','yes']))\n",
    "fig.show()"
   ]
  },
  {
   "cell_type": "code",
   "execution_count": null,
   "metadata": {},
   "outputs": [],
   "source": []
  },
  {
   "cell_type": "code",
   "execution_count": null,
   "metadata": {},
   "outputs": [],
   "source": []
  }
 ],
 "metadata": {
  "kernelspec": {
   "display_name": "Python 3",
   "language": "python",
   "name": "python3"
  },
  "language_info": {
   "codemirror_mode": {
    "name": "ipython",
    "version": 3
   },
   "file_extension": ".py",
   "mimetype": "text/x-python",
   "name": "python",
   "nbconvert_exporter": "python",
   "pygments_lexer": "ipython3",
   "version": "3.8.5"
  }
 },
 "nbformat": 4,
 "nbformat_minor": 4
}
