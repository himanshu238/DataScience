{
 "cells": [
  {
   "cell_type": "markdown",
   "metadata": {},
   "source": [
    "# Feature Selection Techniques "
   ]
  },
  {
   "cell_type": "markdown",
   "metadata": {},
   "source": [
    "### 1. Filtering Methods.\n",
    "### 2. Wrapper Methods.\n",
    "### 3. Embedded Method.\n",
    "### 4. Hybrid Methods."
   ]
  },
  {
   "cell_type": "markdown",
   "metadata": {},
   "source": [
    "*Now lets explore the different technique under the three methods mentioned above.* "
   ]
  },
  {
   "cell_type": "markdown",
   "metadata": {},
   "source": [
    "### 1.Filtering Methods\n",
    "    * Chi squared.\n",
    "    * Corelation Heatmap.\n",
    "    * Information Gain.\n",
    "    * Fisher's Score.\n",
    "    * Variance Threshold.\n",
    "    * Mean Absolute Difference.\n",
    "    * Dispersion Ratio."
   ]
  },
  {
   "cell_type": "markdown",
   "metadata": {},
   "source": [
    "### 2.Wrapper Methods\n",
    "    * Forward Selection.\n",
    "    * Backward Selection.\n",
    "    * Recursive Feature Elemination.\n",
    "    * Exastive Feature Selection."
   ]
  },
  {
   "cell_type": "markdown",
   "metadata": {},
   "source": [
    "### 3. Embedded Method.\n",
    "    * LASSO regularization(L1)\n",
    "    * Random Forest Importance\n",
    "    \n",
    "    \n",
    "    #In this method subset of features are created and mutiple models are created on the basis of those subsets and then \n",
    "    the model with bect accuracy is selected."
   ]
  },
  {
   "cell_type": "code",
   "execution_count": null,
   "metadata": {},
   "outputs": [],
   "source": []
  }
 ],
 "metadata": {
  "kernelspec": {
   "display_name": "Python 3",
   "language": "python",
   "name": "python3"
  },
  "language_info": {
   "codemirror_mode": {
    "name": "ipython",
    "version": 3
   },
   "file_extension": ".py",
   "mimetype": "text/x-python",
   "name": "python",
   "nbconvert_exporter": "python",
   "pygments_lexer": "ipython3",
   "version": "3.8.5"
  }
 },
 "nbformat": 4,
 "nbformat_minor": 4
}
